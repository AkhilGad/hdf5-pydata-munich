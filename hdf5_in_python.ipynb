{
 "cells": [
  {
   "cell_type": "markdown",
   "metadata": {},
   "source": [
    "# HDF5 in Python"
   ]
  },
  {
   "cell_type": "code",
   "execution_count": 35,
   "metadata": {},
   "outputs": [
    {
     "data": {
      "application/json": {
       "cell": {
        "!": "OSMagics",
        "HTML": "Other",
        "SVG": "Other",
        "bash": "Other",
        "capture": "ExecutionMagics",
        "debug": "ExecutionMagics",
        "file": "Other",
        "html": "DisplayMagics",
        "javascript": "DisplayMagics",
        "js": "DisplayMagics",
        "latex": "DisplayMagics",
        "markdown": "DisplayMagics",
        "perl": "Other",
        "prun": "ExecutionMagics",
        "pypy": "Other",
        "python": "Other",
        "python2": "Other",
        "python3": "Other",
        "ruby": "Other",
        "script": "ScriptMagics",
        "sh": "Other",
        "svg": "DisplayMagics",
        "sx": "OSMagics",
        "system": "OSMagics",
        "time": "ExecutionMagics",
        "timeit": "ExecutionMagics",
        "writefile": "OSMagics"
       },
       "line": {
        "alias": "OSMagics",
        "alias_magic": "BasicMagics",
        "autocall": "AutoMagics",
        "automagic": "AutoMagics",
        "autosave": "KernelMagics",
        "bookmark": "OSMagics",
        "cat": "Other",
        "cd": "OSMagics",
        "clear": "KernelMagics",
        "colors": "BasicMagics",
        "config": "ConfigMagics",
        "connect_info": "KernelMagics",
        "cp": "Other",
        "debug": "ExecutionMagics",
        "dhist": "OSMagics",
        "dirs": "OSMagics",
        "doctest_mode": "BasicMagics",
        "ed": "Other",
        "edit": "KernelMagics",
        "env": "OSMagics",
        "gui": "BasicMagics",
        "hist": "Other",
        "history": "HistoryMagics",
        "killbgscripts": "ScriptMagics",
        "ldir": "Other",
        "less": "KernelMagics",
        "lf": "Other",
        "lk": "Other",
        "ll": "Other",
        "load": "CodeMagics",
        "load_ext": "ExtensionMagics",
        "loadpy": "CodeMagics",
        "logoff": "LoggingMagics",
        "logon": "LoggingMagics",
        "logstart": "LoggingMagics",
        "logstate": "LoggingMagics",
        "logstop": "LoggingMagics",
        "ls": "Other",
        "lsmagic": "BasicMagics",
        "lx": "Other",
        "macro": "ExecutionMagics",
        "magic": "BasicMagics",
        "man": "KernelMagics",
        "matplotlib": "PylabMagics",
        "mkdir": "Other",
        "more": "KernelMagics",
        "mv": "Other",
        "notebook": "BasicMagics",
        "page": "BasicMagics",
        "pastebin": "CodeMagics",
        "pdb": "ExecutionMagics",
        "pdef": "NamespaceMagics",
        "pdoc": "NamespaceMagics",
        "pfile": "NamespaceMagics",
        "pinfo": "NamespaceMagics",
        "pinfo2": "NamespaceMagics",
        "pip": "BasicMagics",
        "popd": "OSMagics",
        "pprint": "BasicMagics",
        "precision": "BasicMagics",
        "profile": "BasicMagics",
        "prun": "ExecutionMagics",
        "psearch": "NamespaceMagics",
        "psource": "NamespaceMagics",
        "pushd": "OSMagics",
        "pwd": "OSMagics",
        "pycat": "OSMagics",
        "pylab": "PylabMagics",
        "qtconsole": "KernelMagics",
        "quickref": "BasicMagics",
        "recall": "HistoryMagics",
        "rehashx": "OSMagics",
        "reload_ext": "ExtensionMagics",
        "rep": "Other",
        "rerun": "HistoryMagics",
        "reset": "NamespaceMagics",
        "reset_selective": "NamespaceMagics",
        "rm": "Other",
        "rmdir": "Other",
        "run": "ExecutionMagics",
        "save": "CodeMagics",
        "sc": "OSMagics",
        "set_env": "OSMagics",
        "store": "StoreMagics",
        "sx": "OSMagics",
        "system": "OSMagics",
        "tb": "ExecutionMagics",
        "time": "ExecutionMagics",
        "timeit": "ExecutionMagics",
        "unalias": "OSMagics",
        "unload_ext": "ExtensionMagics",
        "who": "NamespaceMagics",
        "who_ls": "NamespaceMagics",
        "whos": "NamespaceMagics",
        "xdel": "NamespaceMagics",
        "xmode": "BasicMagics"
       }
      },
      "text/plain": [
       "Available line magics:\n",
       "%alias  %alias_magic  %autocall  %automagic  %autosave  %bookmark  %cat  %cd  %clear  %colors  %config  %connect_info  %cp  %debug  %dhist  %dirs  %doctest_mode  %ed  %edit  %env  %gui  %hist  %history  %killbgscripts  %ldir  %less  %lf  %lk  %ll  %load  %load_ext  %loadpy  %logoff  %logon  %logstart  %logstate  %logstop  %ls  %lsmagic  %lx  %macro  %magic  %man  %matplotlib  %mkdir  %more  %mv  %notebook  %page  %pastebin  %pdb  %pdef  %pdoc  %pfile  %pinfo  %pinfo2  %popd  %pprint  %precision  %profile  %prun  %psearch  %psource  %pushd  %pwd  %pycat  %pylab  %qtconsole  %quickref  %recall  %rehashx  %reload_ext  %rep  %rerun  %reset  %reset_selective  %rm  %rmdir  %run  %save  %sc  %set_env  %store  %sx  %system  %tb  %time  %timeit  %unalias  %unload_ext  %who  %who_ls  %whos  %xdel  %xmode\n",
       "\n",
       "Available cell magics:\n",
       "%%!  %%HTML  %%SVG  %%bash  %%capture  %%debug  %%file  %%html  %%javascript  %%js  %%latex  %%markdown  %%perl  %%prun  %%pypy  %%python  %%python2  %%python3  %%ruby  %%script  %%sh  %%svg  %%sx  %%system  %%time  %%timeit  %%writefile\n",
       "\n",
       "Automagic is ON, % prefix IS NOT needed for line magics."
      ]
     },
     "execution_count": 35,
     "metadata": {},
     "output_type": "execute_result"
    }
   ],
   "source": [
    "%lsmagic"
   ]
  },
  {
   "cell_type": "code",
   "execution_count": 36,
   "metadata": {},
   "outputs": [],
   "source": [
    "%matplotlib inline"
   ]
  },
  {
   "cell_type": "code",
   "execution_count": 71,
   "metadata": {},
   "outputs": [],
   "source": [
    "import os\n",
    "import time\n",
    "import datetime\n",
    "import numpy as np\n",
    "import pandas as pd\n",
    "import h5py\n",
    "import tables as tb\n",
    "import matplotlib.pyplot as plt"
   ]
  },
  {
   "cell_type": "code",
   "execution_count": 38,
   "metadata": {},
   "outputs": [],
   "source": [
    "# tab-completion for groups and attributes\n",
    "?h5py.enable_ipython_completer\n",
    "h5py.enable_ipython_completer()"
   ]
  },
  {
   "cell_type": "markdown",
   "metadata": {},
   "source": [
    "# Data"
   ]
  },
  {
   "cell_type": "code",
   "execution_count": 39,
   "metadata": {},
   "outputs": [
    {
     "name": "stdout",
     "output_type": "stream",
     "text": [
      "/home/jack/Repos/hdf5-pydata-munich/data\n"
     ]
    }
   ],
   "source": [
    "data_dir = os.path.join(os.getcwd(), 'data')\n",
    "print(data_dir)"
   ]
  },
  {
   "cell_type": "code",
   "execution_count": 40,
   "metadata": {},
   "outputs": [
    {
     "name": "stdout",
     "output_type": "stream",
     "text": [
      "arr: (200,) - float64\n",
      "matrix: (100, 50) - float32\n"
     ]
    }
   ],
   "source": [
    "arr = np.random.normal(loc=0, scale=1, size=200)\n",
    "matrix = np.random.random((100, 50)).astype('float32')\n",
    "print('arr: {} - {}'.format(arr.shape, arr.dtype))\n",
    "print('matrix: {} - {}'.format(matrix.shape, matrix.dtype))"
   ]
  },
  {
   "cell_type": "markdown",
   "metadata": {},
   "source": [
    "# h5py"
   ]
  },
  {
   "cell_type": "markdown",
   "metadata": {},
   "source": [
    "The h5py library is a thin, pythonic wrapper around the HDF5 C API.\n",
    "\n",
    "It tries to expose most of the functionality that the HDF5 library provides."
   ]
  },
  {
   "cell_type": "markdown",
   "metadata": {},
   "source": [
    "### Write"
   ]
  },
  {
   "cell_type": "code",
   "execution_count": 41,
   "metadata": {},
   "outputs": [],
   "source": [
    "file_path = os.path.join(data_dir, 'h5py-file.h5')\n",
    "\n",
    "f = h5py.File(file_path, 'w')\n",
    "f.create_dataset(name='MyDataset', shape=matrix.shape, dtype=matrix.dtype, data=matrix)\n",
    "f.close()"
   ]
  },
  {
   "cell_type": "markdown",
   "metadata": {},
   "source": [
    "### More pythonic approaches"
   ]
  },
  {
   "cell_type": "code",
   "execution_count": 42,
   "metadata": {},
   "outputs": [],
   "source": [
    "file_path = os.path.join(data_dir, 'h5py-context-manager0.h5')\n",
    "\n",
    "with h5py.File(file_path, 'w') as f:\n",
    "    f.create_dataset('MyDataset', matrix.shape, matrix.dtype, matrix)"
   ]
  },
  {
   "cell_type": "code",
   "execution_count": 43,
   "metadata": {},
   "outputs": [],
   "source": [
    "file_path = os.path.join(data_dir, 'h5py-context-manager1.h5')\n",
    "\n",
    "with h5py.File(file_path, 'w') as f:\n",
    "    # create the datasets first\n",
    "    ds0 = f.create_dataset('Dataset0', matrix.shape, matrix.dtype)\n",
    "    ds1 = f.create_dataset('Dataset1', matrix.shape, matrix.dtype)\n",
    "    # fill them up later. There are 2 syntaxes.\n",
    "    ds0[:] = matrix\n",
    "    ds1[...] = matrix"
   ]
  },
  {
   "cell_type": "markdown",
   "metadata": {},
   "source": [
    "### Pick the correct HDF5 datatype"
   ]
  },
  {
   "cell_type": "code",
   "execution_count": 44,
   "metadata": {},
   "outputs": [
    {
     "name": "stdout",
     "output_type": "stream",
     "text": [
      "Original data\n",
      "[-1.04690476  0.73587548  0.21870727 -1.50256606 -1.71840165  1.23931656\n",
      " -1.0081429  -0.0792392   0.13638688  1.9671283 ]\n",
      "Saved as...\n",
      "[0 0 0 0 0 1 0 0 0 1]\n"
     ]
    }
   ],
   "source": [
    "file_path = os.path.join(data_dir, 'h5py-different-datatypes.h5')\n",
    "\n",
    "with h5py.File(file_path, 'w') as f:\n",
    "    f.create_dataset('numpy_dtype', arr.shape, arr.dtype, arr)\n",
    "    f.create_dataset('IEEE_F64_Big_Endian', arr.shape, h5py.h5t.IEEE_F64BE, arr)\n",
    "    # if we store floats as unsigned integers (8 bit) we end up with invalid data\n",
    "    f.create_dataset('Unsigned_8Bit_Big_Endian', arr.shape, h5py.h5t.STD_U8BE, arr)\n",
    "    \n",
    "with h5py.File(file_path, 'r') as f:\n",
    "    print('Original data')\n",
    "    print(arr[:10])\n",
    "    print('Saved as...')\n",
    "    print(f['Unsigned_8Bit_Big_Endian'][:10])"
   ]
  },
  {
   "cell_type": "markdown",
   "metadata": {},
   "source": [
    "### Groups, Datasets, Attributes"
   ]
  },
  {
   "cell_type": "code",
   "execution_count": 45,
   "metadata": {
    "scrolled": true
   },
   "outputs": [],
   "source": [
    "file_path = os.path.join(data_dir, 'h5py-groups-datasets-attributes.h5')\n",
    "\n",
    "with h5py.File(file_path, 'w') as f:\n",
    "    ds0 = f.create_dataset('MyDatasetInRoot', arr.shape, arr.dtype)\n",
    "    ds0[:] = arr\n",
    "    ds0.attrs['Unit'] = 'm/s'\n",
    "    # attributes can be numpy array too!\n",
    "    attr_data = np.zeros((2,), dtype='int32')\n",
    "    attr_data[0] = 100\n",
    "    attr_data[1] = 200\n",
    "    ds0.attrs.create(name='Speed', data=attr_data)\n",
    "    \n",
    "    # create a group by using an absolute path.\n",
    "    # Missing groups along the path will be created automatically.\n",
    "    path_to_group = '/SomeMissingGroup/MyGroup'\n",
    "    gr0 = f.create_group(path_to_group)\n",
    "    \n",
    "    # create a group by using a relative path\n",
    "    gr1 = gr0.create_group('MyOtherGroup')\n",
    "    \n",
    "    # access a group with an absolute path\n",
    "    my_group = f['/SomeMissingGroup/MyGroup']\n",
    "    \n",
    "    # access a group with a relative path\n",
    "    root_group = my_group.parent.parent\n",
    "\n",
    "    # set some attributes to the groups\n",
    "    gr0.attrs['Experiment ID'] = 123\n",
    "    gr1.attrs['Experiment ID'] = 456\n",
    "    \n",
    "    # create a dataset inside a group\n",
    "    ds_in_group = gr1.create_dataset('MyOtherDataset', matrix.shape, matrix.dtype)\n",
    "    # if you have a reference to the dataset, you can set the data with this syntax: \n",
    "    # ds_in_group[:] = matrix\n",
    "    # otherwise you have to know the absolute path to your dataset\n",
    "    path_to_dataset = '/SomeMissingGroup/MyGroup/MyOtherGroup/MyOtherDataset'\n",
    "    f[path_to_dataset][:] = matrix\n",
    "    \n",
    "    # set some attributes to this other dataset\n",
    "    ds_in_group.attrs['Unit'] = '°C'\n",
    "    ds_in_group.attrs['Recorded on'] = '25th November 2017'"
   ]
  },
  {
   "cell_type": "markdown",
   "metadata": {},
   "source": [
    "### Traverse a HDF5 file with h5py"
   ]
  },
  {
   "cell_type": "markdown",
   "metadata": {},
   "source": [
    "The last file we created has several datasets and groups.\n",
    "\n",
    "Let's see how we can traverse a HDF5 file and display its structure."
   ]
  },
  {
   "cell_type": "code",
   "execution_count": 46,
   "metadata": {},
   "outputs": [
    {
     "name": "stdout",
     "output_type": "stream",
     "text": [
      "Help on method visit in module h5py._hl.group:\n",
      "\n",
      "visit(func) method of h5py._hl.files.File instance\n",
      "    Recursively visit all names in this group and subgroups (HDF5 1.8).\n",
      "    \n",
      "    You supply a callable (function, method or callable object); it\n",
      "    will be called exactly once for each link in this group and every\n",
      "    group below it. Your callable must conform to the signature:\n",
      "    \n",
      "        func(<member name>) => <None or return value>\n",
      "    \n",
      "    Returning None continues iteration, returning anything else stops\n",
      "    and immediately returns that value from the visit method.  No\n",
      "    particular order of iteration within groups is guranteed.\n",
      "    \n",
      "    Example:\n",
      "    \n",
      "    >>> # List the entire contents of the file\n",
      "    >>> f = File(\"foo.hdf5\")\n",
      "    >>> list_of_names = []\n",
      "    >>> f.visit(list_of_names.append)\n",
      "\n"
     ]
    }
   ],
   "source": [
    "help(f.visit)"
   ]
  },
  {
   "cell_type": "code",
   "execution_count": 47,
   "metadata": {},
   "outputs": [
    {
     "name": "stdout",
     "output_type": "stream",
     "text": [
      "MyDatasetInRoot\n",
      "SomeMissingGroup\n",
      "SomeMissingGroup/MyGroup\n",
      "SomeMissingGroup/MyGroup/MyOtherGroup\n",
      "SomeMissingGroup/MyGroup/MyOtherGroup/MyOtherDataset\n"
     ]
    }
   ],
   "source": [
    "def print_name(name):\n",
    "    print(name)\n",
    "\n",
    "file_path = os.path.join(data_dir, 'h5py-groups-datasets-attributes.h5')\n",
    "\n",
    "with h5py.File(file_path, 'r') as f:\n",
    "    # the callable to supply to visit has <member name>\n",
    "    f.visit(print_name)"
   ]
  },
  {
   "cell_type": "code",
   "execution_count": 48,
   "metadata": {},
   "outputs": [
    {
     "name": "stdout",
     "output_type": "stream",
     "text": [
      "Help on method visititems in module h5py._hl.group:\n",
      "\n",
      "visititems(func) method of h5py._hl.files.File instance\n",
      "    Recursively visit names and objects in this group (HDF5 1.8).\n",
      "    \n",
      "    You supply a callable (function, method or callable object); it\n",
      "    will be called exactly once for each link in this group and every\n",
      "    group below it. Your callable must conform to the signature:\n",
      "    \n",
      "        func(<member name>, <object>) => <None or return value>\n",
      "    \n",
      "    Returning None continues iteration, returning anything else stops\n",
      "    and immediately returns that value from the visit method.  No\n",
      "    particular order of iteration within groups is guranteed.\n",
      "    \n",
      "    Example:\n",
      "    \n",
      "    # Get a list of all datasets in the file\n",
      "    >>> mylist = []\n",
      "    >>> def func(name, obj):\n",
      "    ...     if isinstance(obj, Dataset):\n",
      "    ...         mylist.append(name)\n",
      "    ...\n",
      "    >>> f = File('foo.hdf5')\n",
      "    >>> f.visititems(func)\n",
      "\n"
     ]
    }
   ],
   "source": [
    "help(f.visititems)"
   ]
  },
  {
   "cell_type": "code",
   "execution_count": 49,
   "metadata": {},
   "outputs": [
    {
     "name": "stdout",
     "output_type": "stream",
     "text": [
      "MyDatasetInRoot is a Dataset\n",
      "MyDatasetInRoot has these attributes: [('Unit', 'm/s'), ('Speed', array([100, 200], dtype=int32))]\n",
      "\n",
      "SomeMissingGroup is a Group\n",
      "SomeMissingGroup has these attributes: []\n",
      "\n",
      "SomeMissingGroup/MyGroup is a Group\n",
      "SomeMissingGroup/MyGroup has these attributes: [('Experiment ID', 123)]\n",
      "\n",
      "SomeMissingGroup/MyGroup/MyOtherGroup is a Group\n",
      "SomeMissingGroup/MyGroup/MyOtherGroup has these attributes: [('Experiment ID', 456)]\n",
      "\n",
      "SomeMissingGroup/MyGroup/MyOtherGroup/MyOtherDataset is a Dataset\n",
      "SomeMissingGroup/MyGroup/MyOtherGroup/MyOtherDataset has these attributes: [('Unit', '°C'), ('Recorded on', '25th November 2017')]\n",
      "\n"
     ]
    }
   ],
   "source": [
    "def print_name_and_type(name, obj):\n",
    "    class_name = obj.__class__.__name__\n",
    "    print('{} is a {}'.format(name, class_name))\n",
    "    attributes =list(obj.attrs.items())\n",
    "    print('{} has these attributes: {}\\n'.format(name, attributes))\n",
    "\n",
    "file_path = os.path.join(data_dir, 'h5py-groups-datasets-attributes.h5')\n",
    "\n",
    "with h5py.File(file_path, 'r') as f:\n",
    "    # the callable to supply to visititems has <member name>, <object>\n",
    "    f.visititems(print_name_and_type)"
   ]
  },
  {
   "cell_type": "markdown",
   "metadata": {},
   "source": [
    "### Plot"
   ]
  },
  {
   "cell_type": "code",
   "execution_count": 50,
   "metadata": {},
   "outputs": [
    {
     "name": "stdout",
     "output_type": "stream",
     "text": [
      "<HDF5 dataset \"MyDatasetInRoot\": shape (200,), type \"<f8\">\n",
      "['Unit', 'Speed']\n",
      "['m/s', array([100, 200], dtype=int32)]\n",
      "[('Unit', 'm/s'), ('Speed', array([100, 200], dtype=int32))]\n"
     ]
    },
    {
     "data": {
      "image/png": "[encoded data removed]",
      "text/plain": [
       "<matplotlib.figure.Figure at 0x7f886d48cba8>"
      ]
     },
     "metadata": {},
     "output_type": "display_data"
    }
   ],
   "source": [
    "file_path = os.path.join(data_dir, 'h5py-groups-datasets-attributes.h5')\n",
    "\n",
    "with h5py.File(file_path, 'r') as f:\n",
    "    ds = f['MyDatasetInRoot']\n",
    "    print(ds)\n",
    "    print(list(ds.attrs.keys()))\n",
    "    print(list(ds.attrs.values()))\n",
    "    print(list(ds.attrs.items()))\n",
    "    fig = plt.figure(figsize=(14, 8), dpi= 80, facecolor='w', edgecolor='k')\n",
    "    ax = fig.add_subplot(1, 1, 1)\n",
    "    ax.set(title=ds.name, xlabel='samples', ylabel=ds.attrs['Unit'])\n",
    "    ax.plot(ds[:])\n",
    "    # plt.plot(ds[...])"
   ]
  },
  {
   "cell_type": "markdown",
   "metadata": {},
   "source": [
    "---"
   ]
  },
  {
   "cell_type": "markdown",
   "metadata": {},
   "source": [
    "# PyTables"
   ]
  },
  {
   "cell_type": "markdown",
   "metadata": {},
   "source": [
    "PyTables provides a higher abstraction over HDF5. This doesn't make it slower than h5py though.\n",
    "\n",
    "At the moment PyTables does **not** depend on h5py."
   ]
  },
  {
   "cell_type": "markdown",
   "metadata": {},
   "source": [
    "In PyTables the HDF5 **Dataset** object is implemented by the following higher level abstractions:\n",
    "\n",
    "- **Array**\n",
    "- **CArray**\n",
    "- **EArray**\n",
    "- **VLArray**\n",
    "- **Table**\n",
    "\n",
    "There is also the **Unimplemented** class, to indicate an HDF5 dataset not supported by PyTables."
   ]
  },
  {
   "cell_type": "markdown",
   "metadata": {},
   "source": [
    "### Array\n"
   ]
  },
  {
   "cell_type": "markdown",
   "metadata": {},
   "source": [
    "[Docs](http://www.pytables.org/usersguide/libref/homogenous_storage.html#the-array-class)\n",
    "\n",
    "- Fastest I/O speed\n",
    "- Homogeneous (i.e. data has same `dtype`)\n",
    "- Must fit in memory\n",
    "- Not compressible\n",
    "- Not enlargeable"
   ]
  },
  {
   "cell_type": "code",
   "execution_count": 51,
   "metadata": {},
   "outputs": [
    {
     "name": "stdout",
     "output_type": "stream",
     "text": [
      "4.77 ms ± 938 µs per loop (mean ± std. dev. of 7 runs, 100 loops each)\n"
     ]
    }
   ],
   "source": [
    "%%timeit\n",
    "\n",
    "file_path = os.path.join(data_dir, 'pytables-array.h5')\n",
    "\n",
    "# An Array contains homogeneous data. Every atomic object (i.e. every single element) has the same type and shape.\n",
    "atom = tb.Float32Atom()\n",
    "# we need to fill all the data in one go. The data must be consistent with the atomic element.\n",
    "data = np.random.random((200, 300)).astype('float32')\n",
    "\n",
    "with tb.open_file(file_path, 'w') as f:\n",
    "    f.create_array(where='/', name='Array0', obj=data, atom=atom, title='My Array')"
   ]
  },
  {
   "cell_type": "markdown",
   "metadata": {},
   "source": [
    "Before having a look at the other classes, let's see how to save attributes (i.e. metadata) and read the file."
   ]
  },
  {
   "cell_type": "markdown",
   "metadata": {},
   "source": [
    "### Attributes"
   ]
  },
  {
   "cell_type": "code",
   "execution_count": 52,
   "metadata": {},
   "outputs": [],
   "source": [
    "file_path = os.path.join(data_dir, 'pytables-attributes.h5')\n",
    "\n",
    "with tb.open_file(file_path, 'w') as f:\n",
    "    f.create_array(where=f.root, name='Array', obj=arr, title='My Title')\n",
    "    f.set_node_attr(where='/Array', attrname='SomeAttribute', attrvalue='SomeValue')\n",
    "    f.create_group('/', 'Group')\n",
    "    f.set_node_attr('/Group', attrname='MyAttribute', attrvalue='MyValue')"
   ]
  },
  {
   "cell_type": "markdown",
   "metadata": {},
   "source": [
    "### Read"
   ]
  },
  {
   "cell_type": "markdown",
   "metadata": {},
   "source": [
    "PyTables has a feature called \"Natural Naming\": nodes can be accessed with the dot notation."
   ]
  },
  {
   "cell_type": "code",
   "execution_count": 53,
   "metadata": {},
   "outputs": [
    {
     "name": "stdout",
     "output_type": "stream",
     "text": [
      "/Array0 (Array(200, 300)) 'My Array'\n",
      "[[ 0.01133447  0.60909122  0.42705017 ...,  0.65468401  0.16089492\n",
      "   0.22829519]\n",
      " [ 0.50785291  0.13076957  0.93006617 ...,  0.91468644  0.08999909\n",
      "   0.09824082]\n",
      " [ 0.88757646  0.90148318  0.29443556 ...,  0.18402809  0.94292456\n",
      "   0.99118316]\n",
      " ..., \n",
      " [ 0.65258354  0.81957799  0.24018395 ...,  0.721928    0.92454553\n",
      "   0.59015715]\n",
      " [ 0.6719507   0.5465858   0.20978284 ...,  0.56486154  0.68584967\n",
      "   0.44382867]\n",
      " [ 0.24316314  0.45845434  0.56171292 ...,  0.84718132  0.48485899\n",
      "   0.2692135 ]]\n"
     ]
    }
   ],
   "source": [
    "file_path = os.path.join(data_dir, 'pytables-array.h5')\n",
    "\n",
    "with tb.open_file(file_path, 'r') as f:\n",
    "    # the array is just a proxy object\n",
    "    print(f.root.Array0)\n",
    "    # the actual data can be accessed with these 2 syntaxes\n",
    "    print(f.root.Array0[:])\n",
    "    # print(f.root.Array0[...])"
   ]
  },
  {
   "cell_type": "markdown",
   "metadata": {},
   "source": [
    "### In-memory Read/Write"
   ]
  },
  {
   "cell_type": "markdown",
   "metadata": {},
   "source": [
    "See also the PyTables documentation on [in-memory HDF5 files](http://www.pytables.org/cookbook/inmemory_hdf5_files.html)."
   ]
  },
  {
   "cell_type": "code",
   "execution_count": 54,
   "metadata": {},
   "outputs": [],
   "source": [
    "file_path = os.path.join(data_dir, 'pytables-in-memory.h5')\n",
    "\n",
    "# open file in-memory, save to disk\n",
    "with tb.open_file(file_path, 'w', driver='H5FD_CORE') as f:\n",
    "    f.create_array(where='/', name='Array', obj=matrix)"
   ]
  },
  {
   "cell_type": "code",
   "execution_count": 55,
   "metadata": {},
   "outputs": [],
   "source": [
    "file_path = os.path.join(data_dir, 'pytables-in-memory.h5')\n",
    "\n",
    "# open file in-memory, DO NOT save to disk\n",
    "with tb.open_file(file_path, 'w', driver='H5FD_CORE', driver_core_backing_store=0) as f:\n",
    "    f.create_array(where='/', name='Array', obj=matrix)"
   ]
  },
  {
   "cell_type": "code",
   "execution_count": 56,
   "metadata": {},
   "outputs": [
    {
     "name": "stdout",
     "output_type": "stream",
     "text": [
      "[[ 0.21119529  0.70519483  0.72405046 ...,  0.89739949  0.77814257\n",
      "   0.53036422]\n",
      " [ 0.61674982  0.64092523  0.11259218 ...,  0.66766214  0.34296003\n",
      "   0.88584828]\n",
      " [ 0.46091729  0.18684904  0.02294507 ...,  0.47950375  0.060024\n",
      "   0.29620406]\n",
      " ..., \n",
      " [ 0.52382243  0.13480178  0.95764959 ...,  0.42669559  0.9983536\n",
      "   0.43995836]\n",
      " [ 0.45293158  0.89715445  0.71418244 ...,  0.78378505  0.83764338\n",
      "   0.67349273]\n",
      " [ 0.2677756   0.85081351  0.72595006 ...,  0.78089279  0.29811791\n",
      "   0.29387605]]\n"
     ]
    }
   ],
   "source": [
    "file_path = os.path.join(data_dir, 'pytables-in-memory.h5')\n",
    "\n",
    "with tb.open_file(file_path, 'r', driver='H5FD_CORE') as f:\n",
    "    print(f.root.Array[...])"
   ]
  },
  {
   "cell_type": "markdown",
   "metadata": {},
   "source": [
    "### CArray"
   ]
  },
  {
   "cell_type": "markdown",
   "metadata": {},
   "source": [
    "[Docs](http://www.pytables.org/usersguide/libref/homogenous_storage.html#carrayclassdescr)\n",
    "\n",
    "- Chunked storage\n",
    "- Data must be homogeneous\n",
    "- Good speed when reading/writing\n",
    "- Compressible\n",
    "- Not enlargeable"
   ]
  },
  {
   "cell_type": "code",
   "execution_count": 57,
   "metadata": {},
   "outputs": [
    {
     "name": "stdout",
     "output_type": "stream",
     "text": [
      "6.21 ms ± 1.23 ms per loop (mean ± std. dev. of 7 runs, 100 loops each)\n"
     ]
    }
   ],
   "source": [
    "%%timeit\n",
    "\n",
    "file_path = os.path.join(data_dir, 'pytables-carray.h5')\n",
    "\n",
    "# A CArray is not enlargeable: we define its shape here and we cannot enlarge the array later.\n",
    "shape = (200, 300)\n",
    "\n",
    "# A CArray contains homogeneous data. Every atomic object (i.e. every single element) has the same type and shape.\n",
    "atom = tb.Float32Atom()\n",
    "\n",
    "# A CArray supports compression\n",
    "filters = tb.Filters(complevel=5, complib='zlib')\n",
    "\n",
    "with tb.open_file(file_path, 'w') as f:\n",
    "    # create an empty CArray\n",
    "    carray = f.create_carray(where='/', name='Array0', atom=atom, shape=shape, title='My CArray', filters=filters)\n",
    "    \n",
    "    # define some data\n",
    "    n_rows = 50\n",
    "    n_cols = 20\n",
    "    data = np.ones((n_rows, n_cols))\n",
    "\n",
    "    # fill a hyperslab (i.e. a region in the array) with the data\n",
    "    i_row = 10\n",
    "    i_col = 5\n",
    "    carray[i_row:i_row + n_rows, i_col:i_col + n_cols] = data\n",
    "\n",
    "    # define some other data\n",
    "    n_rows = 100\n",
    "    n_cols = 100\n",
    "    data = 100 * np.random.random((n_rows, n_cols))\n",
    "\n",
    "    # fill another hyperslab\n",
    "    i_row = 50\n",
    "    i_col = 120\n",
    "    carray[i_row:i_row + n_rows, i_col:i_col + n_cols] = data"
   ]
  },
  {
   "cell_type": "markdown",
   "metadata": {},
   "source": [
    "> Open the file in HDF View and view it as an image.\n",
    "\n",
    "![CArray generated](img/CArray.png)"
   ]
  },
  {
   "cell_type": "markdown",
   "metadata": {},
   "source": [
    "### EArray"
   ]
  },
  {
   "cell_type": "markdown",
   "metadata": {},
   "source": [
    "[Docs](http://www.pytables.org/usersguide/libref/homogenous_storage.html#earrayclassdescr)\n",
    "\n",
    "- Enlargeable on **one** dimension (append)\n",
    "- Pretty fast at extending, very good at reading\n",
    "- Data must be homogeneous\n",
    "- Compressible"
   ]
  },
  {
   "cell_type": "code",
   "execution_count": 58,
   "metadata": {},
   "outputs": [
    {
     "name": "stdout",
     "output_type": "stream",
     "text": [
      "323 ms ± 58.2 ms per loop (mean ± std. dev. of 7 runs, 1 loop each)\n"
     ]
    }
   ],
   "source": [
    "%%timeit\n",
    "\n",
    "file_path = os.path.join(data_dir, 'pytables-earray.h5')\n",
    "\n",
    "# One (and only one) of the shape dimensions *must* be 0.\n",
    "# The dimension being 0 means that the resulting EArray object can be extended along it.\n",
    "# Multiple enlargeable dimensions are not supported right now.\n",
    "shape = (0, 300)\n",
    "\n",
    "# An EArray contains homogeneous data. Every atomic object (i.e. every single element) has the same type and shape.\n",
    "atom = tb.Float32Atom()\n",
    "# An EArray supports compression\n",
    "filters = tb.Filters(complevel=5, complib='zlib')\n",
    "\n",
    "with tb.open_file(file_path, 'w') as f:\n",
    "    # create an empty EArray\n",
    "    earray = f.create_earray(where='/', name='Array0', atom=atom, shape=shape, title='My EArray', filters=filters)\n",
    "\n",
    "    # number of times that we need to write some data\n",
    "    num = 100\n",
    "    for i in range(num):\n",
    "        rows = np.random.randint(low=10, high=100)\n",
    "        cols = shape[1]\n",
    "        # define some data\n",
    "        sequence = np.random.random((rows, cols)).astype('float32')\n",
    "        # append the data to the EArray\n",
    "        earray.append(sequence=sequence)"
   ]
  },
  {
   "cell_type": "markdown",
   "metadata": {},
   "source": [
    "### VLArray"
   ]
  },
  {
   "cell_type": "markdown",
   "metadata": {},
   "source": [
    "[Docs](http://www.pytables.org/usersguide/libref/homogenous_storage.html#the-vlarray-class)\n",
    "\n",
    "- Supports collections of homogeneous data with a variable number of entries\n",
    "- Compressible\n",
    "- Enlargeable (append)\n",
    "- I/O is not very fast\n",
    "- Like Table datasets, variable length arrays can have only one dimension, and the elements (atoms) of their rows can be fully multidimensional"
   ]
  },
  {
   "cell_type": "code",
   "execution_count": 59,
   "metadata": {},
   "outputs": [
    {
     "name": "stdout",
     "output_type": "stream",
     "text": [
      "6.47 ms ± 1.66 ms per loop (mean ± std. dev. of 7 runs, 100 loops each)\n"
     ]
    }
   ],
   "source": [
    "%%timeit\n",
    "\n",
    "file_path = os.path.join(data_dir, 'pytables-vlarray.h5')\n",
    "\n",
    "atom = tb.Float32Atom()\n",
    "filters = tb.Filters(complevel=5, complib='zlib')\n",
    "\n",
    "with tb.open_file(file_path, 'w') as f:\n",
    "    # Create a VLArray\n",
    "    vlarray = f.create_vlarray(where=f.root, name='Array0', atom=atom, title='My VLArray', filters=filters)\n",
    "    # Append some rows of variable length\n",
    "    for i in range(10):\n",
    "        length = np.random.randint(low=1, high=5)\n",
    "        data = np.ones(length).astype('float32')\n",
    "        vlarray.append(data)"
   ]
  },
  {
   "cell_type": "markdown",
   "metadata": {},
   "source": [
    "### Table"
   ]
  },
  {
   "cell_type": "markdown",
   "metadata": {},
   "source": [
    "[Docs](http://www.pytables.org/usersguide/libref/structured_storage.html?highlight=table#tableclassdescr)\n",
    "\n",
    "- Data can be heterogeneous (i.e. different shapes and different dtypes)\n",
    "- The structure of a table is declared by its description\n",
    "- It supports *in-kernel* searches with `Table.where`\n",
    "- It supports multi-column searches\n",
    "- Non-nested columns can be *indexed*"
   ]
  },
  {
   "cell_type": "markdown",
   "metadata": {},
   "source": [
    "In order to emulate in Python records mapped to HDF5 C structs PyTables implements a special class so as to easily define all its fields and other properties."
   ]
  },
  {
   "cell_type": "code",
   "execution_count": 60,
   "metadata": {},
   "outputs": [
    {
     "name": "stdout",
     "output_type": "stream",
     "text": [
      "5.1 ms ± 1.25 ms per loop (mean ± std. dev. of 7 runs, 100 loops each)\n"
     ]
    }
   ],
   "source": [
    "%%timeit\n",
    "\n",
    "class Particle(tb.IsDescription):\n",
    "    identity = tb.StringCol(itemsize=22, dflt=' ', pos=0)  # character String\n",
    "    idnumber = tb.Int16Col(dflt=1, pos=1)  # short integer\n",
    "    speed = tb.Float32Col(dflt=1, pos=2)  # single-precision\n",
    "\n",
    "file_path = os.path.join(data_dir, 'pytables-tables.h5')\n",
    "\n",
    "with tb.open_file(file_path, 'w') as f:\n",
    "    table =f.create_table(where='/', name='MyTable', description=Particle)\n",
    "    num_records = 100\n",
    "    # Get the record object associated with the table:\n",
    "    row = table.row\n",
    "    for i in range(num_records):\n",
    "        row['identity'] = 'This is particle: {}'.format(i)\n",
    "        row['idnumber'] = i\n",
    "        row['speed'] = i * 2.0\n",
    "        # inject the Record values into the table\n",
    "        row.append()\n",
    "    # Flush the table buffers\n",
    "    table.flush()\n",
    "    \n",
    "    # We can set some attributes for the table\n",
    "    f.set_node_attr('/MyTable', attrname='MyAttribute', attrvalue='MyValue')\n",
    "    f.set_node_attr('/MyTable', attrname='CreatedOn', attrvalue='2017-11-25')"
   ]
  },
  {
   "cell_type": "markdown",
   "metadata": {},
   "source": [
    "A description can be nested inside another description (this will look weird...)"
   ]
  },
  {
   "cell_type": "code",
   "execution_count": 61,
   "metadata": {},
   "outputs": [
    {
     "name": "stdout",
     "output_type": "stream",
     "text": [
      "10.6 ms ± 1.75 ms per loop (mean ± std. dev. of 7 runs, 100 loops each)\n"
     ]
    }
   ],
   "source": [
    "%%timeit\n",
    "\n",
    "class Particle(tb.IsDescription):\n",
    "    # 16-character String\n",
    "    name = tb.StringCol(16)\n",
    "    # signed 64-bit integer\n",
    "    idnumber = tb.Int64Col()\n",
    "    # unsigned short integer\n",
    "    ADCcount = tb.UInt16Col()\n",
    "    # unsigned byte\n",
    "    TDCcount = tb.UInt8Col()\n",
    "    # integer\n",
    "    grid_i = tb.Int32Col()\n",
    "    # integer\n",
    "    grid_j = tb.Int32Col()\n",
    "\n",
    "    # A sub-structure (nested data-type)\n",
    "    class Properties(tb.IsDescription):\n",
    "        # 2-D float array (single-precision)\n",
    "        pressure = tb.Float32Col(shape=(2, 3))\n",
    "        # 3-D float array (double-precision)\n",
    "        energy = tb.Float64Col(shape=(2, 3, 4))\n",
    "       \n",
    "    \n",
    "file_path = os.path.join(data_dir, 'pytables-tables-nested.h5')\n",
    "        \n",
    "with tb.open_file(file_path, 'w') as f:\n",
    "    table = f.create_table(where='/', name='MyTable', description=Particle)\n",
    "    num_records = 100\n",
    "    row = table.row\n",
    "    for i in range(num_records):\n",
    "        # First, assign the values to the Particle record\n",
    "        row['name'] = np.random.choice(['Superman', 'Spider-Man', 'Batman'])\n",
    "        row['idnumber'] = np.random.randint(0, 100, dtype='int64')\n",
    "        row['ADCcount'] = i * 2.0\n",
    "        row['TDCcount'] = np.random.randint(0, 255, dtype='uint8')\n",
    "        row['grid_i'] = np.random.randint(0, 100, dtype='int32')\n",
    "        row['grid_j'] = np.random.randint(0, 100, dtype='int32')\n",
    "\n",
    "        # Fill the nested data-type Properties\n",
    "        row['Properties/pressure'] = np.random.random((2, 3))\n",
    "        row['Properties/energy'] = np.random.random((2, 3, 4))\n",
    "\n",
    "        row.append()\n",
    "\n",
    "    table.flush()"
   ]
  },
  {
   "cell_type": "markdown",
   "metadata": {},
   "source": [
    "### The UnImplemented class"
   ]
  },
  {
   "cell_type": "markdown",
   "metadata": {},
   "source": [
    "When reading a HDF5 file that has not been created with PyTables, chances are that the specific combination of datatypes or dataspaces in some dataset might not be supported by PyTables yet. In such a case, this dataset will be mapped into an `UnImplemented` instance and the user will still be able to access the complete object tree of the generic HDF5 file.\n",
    "\n",
    "The user will also be able to read and write the attributes of the dataset, access some of its metadata, and perform certain hierarchy manipulation operations like deleting or moving (but not copying) the node. Of course, the user will not be able to read the actual data on it."
   ]
  },
  {
   "cell_type": "markdown",
   "metadata": {},
   "source": [
    "### PyTables utils (CLI)"
   ]
  },
  {
   "cell_type": "markdown",
   "metadata": {},
   "source": [
    "PyTables is shipped with some useful command line utilities. These CLI utils are in `tables/utils`.\n",
    "\n",
    "You can use them if you are working in a python environment where you installed PyTables (these CLI utils cause your python interpreter to execute a python script in `tables/scripts`)."
   ]
  },
  {
   "cell_type": "code",
   "execution_count": 62,
   "metadata": {},
   "outputs": [
    {
     "name": "stdout",
     "output_type": "stream",
     "text": [
      "/ (RootGroup) ''\r\n",
      "/Array0 (Array(200, 300)) 'My Array'\r\n",
      "  atom := Float32Atom(shape=(), dflt=0.0)\r\n",
      "  maindim := 0\r\n",
      "  flavor := 'numpy'\r\n",
      "  byteorder := 'little'\r\n",
      "  chunkshape := None\r\n"
     ]
    }
   ],
   "source": [
    "# -v stands for 'verbose'\n",
    "!ptdump -v 'data/pytables-array.h5'"
   ]
  },
  {
   "cell_type": "code",
   "execution_count": 63,
   "metadata": {},
   "outputs": [
    {
     "name": "stdout",
     "output_type": "stream",
     "text": [
      "\r\n",
      "------------------------------------------------------------\r\n",
      "\r\n",
      "/ (RootGroup)\r\n",
      "`--Array0 (Array)\r\n",
      "      mem=240.0kB, disk=240.0kB [100.0%]\r\n",
      "\r\n",
      "------------------------------------------------------------\r\n",
      "Total branch leaves:    1\r\n",
      "Total branch size:      240.0kB in memory, 240.0kB on disk\r\n",
      "Mean compression ratio: 1.00\r\n",
      "HDF5 file size:         242.1kB\r\n",
      "------------------------------------------------------------\r\n",
      "\r\n"
     ]
    }
   ],
   "source": [
    "!pttree --use-si-units --sort-by 'size' 'data/pytables-array.h5'"
   ]
  },
  {
   "cell_type": "markdown",
   "metadata": {},
   "source": [
    "### Traverse a HDF5 file with PyTables"
   ]
  },
  {
   "cell_type": "code",
   "execution_count": 64,
   "metadata": {},
   "outputs": [
    {
     "name": "stdout",
     "output_type": "stream",
     "text": [
      "walk_groups + iter_nodes\n",
      "/MyDatasetInRoot\n",
      "/SomeMissingGroup/MyGroup/MyOtherGroup/MyOtherDataset\n",
      "\n",
      "walk_nodes\n",
      "/MyDatasetInRoot\n",
      "/SomeMissingGroup/MyGroup/MyOtherGroup/MyOtherDataset\n"
     ]
    }
   ],
   "source": [
    "file_path = os.path.join(data_dir, 'h5py-groups-datasets-attributes.h5')\n",
    "\n",
    "print('walk_groups + iter_nodes')\n",
    "with tb.open_file(file_path, 'r') as f:\n",
    "    for group in f.walk_groups('/'):\n",
    "        # list_nodes or iter_nodes\n",
    "        for array in f.iter_nodes(group, classname='Array'):\n",
    "            print(array._v_pathname)\n",
    "\n",
    "print('\\nwalk_nodes')\n",
    "with tb.open_file(file_path, 'r') as f:\n",
    "    for node in f.walk_nodes('/', classname='Array'):\n",
    "        print('{}'.format(node._v_pathname))"
   ]
  },
  {
   "cell_type": "markdown",
   "metadata": {},
   "source": [
    "### Big Data!"
   ]
  },
  {
   "cell_type": "markdown",
   "metadata": {},
   "source": [
    "![Big data, big deal](https://marktortorici.files.wordpress.com/2013/10/ron-burgundy-big-deal.jpg)"
   ]
  },
  {
   "cell_type": "markdown",
   "metadata": {},
   "source": [
    "Let's create some \"big data\"."
   ]
  },
  {
   "cell_type": "code",
   "execution_count": 69,
   "metadata": {},
   "outputs": [
    {
     "name": "stdout",
     "output_type": "stream",
     "text": [
      "CPU times: user 912 ms, sys: 224 ms, total: 1.14 s\n",
      "Wall time: 1.14 s\n"
     ]
    }
   ],
   "source": [
    "%%time\n",
    "\n",
    "size = int(10e6)\n",
    "big_data = {\n",
    "    'uintegers': np.random.randint(0, 255, size, dtype='uint8'),\n",
    "    'integers': np.random.randint(low=-123, high=456, size=size, dtype='int32'),\n",
    "    'floats': np.random.normal(loc=0, scale=1, size=size).astype(np.float32),\n",
    "    'booleans': np.random.choice([True, False], size=size),\n",
    "}"
   ]
  },
  {
   "cell_type": "code",
   "execution_count": 72,
   "metadata": {},
   "outputs": [
    {
     "name": "stdout",
     "output_type": "stream",
     "text": [
      "Fill up the table with 10000000 records\n",
      "CPU times: user 13.6 s, sys: 320 ms, total: 13.9 s\n",
      "Wall time: 13.9 s\n"
     ]
    }
   ],
   "source": [
    "%%time\n",
    "\n",
    "class SyntheticDataDescription(tb.IsDescription):\n",
    "    unsigned_int_field = tb.UInt8Col(pos=0)\n",
    "    int_field = tb.Int32Col(pos=1)\n",
    "    float_field = tb.Float32Col(pos=2)\n",
    "    bool_field = tb.BoolCol(pos=3)\n",
    "\n",
    "\n",
    "def fill_table(table, data):\n",
    "    num_records = len(data['integers'])\n",
    "    print('Fill up the table with {} records'.format(num_records))\n",
    "    # Get the record object associated with the table:\n",
    "    row = table.row\n",
    "    for i in range(num_records):\n",
    "        row['unsigned_int_field'] = data['uintegers'][i]\n",
    "        row['int_field'] = data['integers'][i]\n",
    "        row['float_field'] = data['floats'][i]\n",
    "        row['bool_field'] = data['booleans'][i]\n",
    "        row.append()\n",
    "    # Flush the table buffers\n",
    "    table.flush()\n",
    "\n",
    "file_path = os.path.join(data_dir, 'pytables-synthetic-data.h5')\n",
    "filters = tb.Filters(complevel=5, complib='zlib')\n",
    "\n",
    "with tb.open_file(file_path, 'w') as f:\n",
    "    table = f.create_table(\n",
    "        where='/', name='data_table', description=SyntheticDataDescription,\n",
    "        title='Synthetic data', filters=filters)\n",
    "\n",
    "    fill_table(table, big_data)"
   ]
  },
  {
   "cell_type": "markdown",
   "metadata": {},
   "source": [
    "Querying with numpy is possible only it the table fits in memory. How big is this table?"
   ]
  },
  {
   "cell_type": "code",
   "execution_count": 73,
   "metadata": {},
   "outputs": [
    {
     "name": "stdout",
     "output_type": "stream",
     "text": [
      "\r\n",
      "------------------------------------------------------------\r\n",
      "\r\n",
      "/ (RootGroup)\r\n",
      "`--data_table (Table)\r\n",
      "      mem=100.0MB, disk=65.1MB [100.0%]\r\n",
      "\r\n",
      "------------------------------------------------------------\r\n",
      "Total branch leaves:    1\r\n",
      "Total branch size:      100.0MB in memory, 65.1MB on disk\r\n",
      "Mean compression ratio: 0.65\r\n",
      "HDF5 file size:         65.2MB\r\n",
      "------------------------------------------------------------\r\n",
      "\r\n"
     ]
    }
   ],
   "source": [
    "!pttree --use-si-units 'data/pytables-synthetic-data.h5'"
   ]
  },
  {
   "cell_type": "code",
   "execution_count": 74,
   "metadata": {},
   "outputs": [
    {
     "name": "stdout",
     "output_type": "stream",
     "text": [
      "Rows that match the condition: 1060367\n",
      "CPU times: user 1min 27s, sys: 804 ms, total: 1min 28s\n",
      "Wall time: 1min 28s\n"
     ]
    }
   ],
   "source": [
    "%%time\n",
    "\n",
    "file_path = os.path.join(data_dir, 'pytables-synthetic-data.h5')\n",
    "\n",
    "with tb.open_file(file_path, 'r') as f:\n",
    "    table = f.root.data_table\n",
    "    results = [x['bool_field'] for x in table.read() \n",
    "               if -100 < x['int_field'] < 100 and x['float_field'] > 0.5]\n",
    "    print('Rows that match the condition: {}'.format(len(results)))"
   ]
  },
  {
   "cell_type": "markdown",
   "metadata": {},
   "source": [
    "`table.iterrows()` returns an iterator that iterates over all rows.\n",
    "This allow us to avoid loading the entire table in memory."
   ]
  },
  {
   "cell_type": "code",
   "execution_count": 75,
   "metadata": {},
   "outputs": [
    {
     "name": "stdout",
     "output_type": "stream",
     "text": [
      "Rows that match the condition: 1060367\n",
      "CPU times: user 2.58 s, sys: 12 ms, total: 2.59 s\n",
      "Wall time: 2.59 s\n"
     ]
    }
   ],
   "source": [
    "%%time\n",
    "\n",
    "file_path = os.path.join(data_dir, 'pytables-synthetic-data.h5')\n",
    "\n",
    "with tb.open_file(file_path, 'r') as f:\n",
    "    table = f.root.data_table\n",
    "    results = [x['bool_field'] for x in table.iterrows()\n",
    "               if -100 < x['int_field'] < 100 and x['float_field'] > 0.5]\n",
    "    print('Rows that match the condition: {}'.format(len(results)))"
   ]
  },
  {
   "cell_type": "markdown",
   "metadata": {},
   "source": [
    "`table.where()` uses numepr to make a *in-kernel* query."
   ]
  },
  {
   "cell_type": "code",
   "execution_count": 76,
   "metadata": {},
   "outputs": [
    {
     "name": "stdout",
     "output_type": "stream",
     "text": [
      "Rows that match the condition: 1060367\n",
      "CPU times: user 832 ms, sys: 24 ms, total: 856 ms\n",
      "Wall time: 755 ms\n"
     ]
    }
   ],
   "source": [
    "%%time\n",
    "\n",
    "file_path = os.path.join(data_dir, 'pytables-synthetic-data.h5')\n",
    "\n",
    "with tb.open_file(file_path, 'r') as f:\n",
    "    table = f.root.data_table\n",
    "    results = [x['bool_field'] for x in table.where(\n",
    "            \"\"\"((-100 < int_field) & (int_field < 100)) & (float_field > 0.5)\"\"\")]\n",
    "    print('Rows that match the condition: {}'.format(len(results)))"
   ]
  },
  {
   "cell_type": "markdown",
   "metadata": {},
   "source": [
    "Have a look at the huge difference in the CPU time!\n",
    "\n",
    "[The starving CPU problem (Francesc Alted)](https://python.g-node.org/python-summerschool-2013/_media/starving_cpu/starvingcpus.pdf)"
   ]
  },
  {
   "cell_type": "markdown",
   "metadata": {},
   "source": [
    "Caveats with the condition in `table.where`!"
   ]
  },
  {
   "cell_type": "code",
   "execution_count": 77,
   "metadata": {},
   "outputs": [],
   "source": [
    "# This won't work: you can't use Python's standard boolean operators in NumExpr expressions\n",
    "condition = \"\"\"(-100 < int_field < 100) & (float_field > 0.5)\"\"\"\n",
    "\n",
    "# This one works\n",
    "condition = \"\"\"((-100 < int_field) & (int_field < 100)) & (float_field > 0.5)\"\"\"\n",
    "\n",
    "# Of course you can make it more readable\n",
    "cond0 = '((-100 < int_field) & (int_field < 100))'\n",
    "cond1 = '(float_field > 0.5)'\n",
    "condition = '{} & {}'.format(cond0, cond1)"
   ]
  },
  {
   "cell_type": "markdown",
   "metadata": {},
   "source": [
    "# NYC Yellow taxi dataset (2016)"
   ]
  },
  {
   "cell_type": "code",
   "execution_count": 78,
   "metadata": {},
   "outputs": [],
   "source": [
    "class TaxiTableDescription(tb.IsDescription):\n",
    "    vendor_id = tb.UInt8Col(pos=0)\n",
    "    pickup_timestamp_ms = tb.Int64Col(pos=1)\n",
    "    dropoff_timestamp_ms = tb.Int64Col(pos=2)\n",
    "    passenger_count = tb.UInt8Col(pos=3)\n",
    "    trip_distance = tb.Float32Col(pos=4)\n",
    "    pickup_longitude = tb.Float32Col(pos=5)\n",
    "    pickup_latitude = tb.Float32Col(pos=6)\n",
    "    dropoff_longitude = tb.Float32Col(pos=7)\n",
    "    dropoff_latitude = tb.Float32Col(pos=8)\n",
    "    fare_amount = tb.Float32Col(pos=9)\n",
    "    tip_amount = tb.Float32Col(pos=10)\n",
    "    total_amount = tb.Float32Col(pos=11)\n",
    "    # store_and_fwd_flag = tb.Float32Col(pos=12)\n",
    "\n",
    "\n",
    "def date_to_timestamp_ms(date_obj):\n",
    "    timestamp_in_nanoseconds = date_obj.astype('int64')\n",
    "    timestamp_in_ms = (timestamp_in_nanoseconds / 1000000).astype('int64')\n",
    "    return timestamp_in_ms\n",
    "\n",
    "\n",
    "def fill_table(table, df):\n",
    "    num_records = df.shape[0]  # it's equal to the chunksize used in read_csv\n",
    "    row = table.row\n",
    "    for i in range(num_records):\n",
    "        row['vendor_id'] = df['VendorID'].values[i]\n",
    "\n",
    "        pickup_ms = date_to_timestamp_ms(df['tpep_pickup_datetime'].values[i])\n",
    "        row['pickup_timestamp_ms'] = pickup_ms\n",
    "        dropoff_ms = date_to_timestamp_ms(df['tpep_dropoff_datetime'].values[i])\n",
    "        row['dropoff_timestamp_ms'] = dropoff_ms\n",
    "\n",
    "        row['passenger_count'] = df['passenger_count'].values[i]\n",
    "        row['trip_distance'] = df['trip_distance'].values[i]\n",
    "\n",
    "        row['pickup_longitude'] = df['pickup_longitude'].values[i]\n",
    "        row['pickup_latitude'] = df['pickup_latitude'].values[i]\n",
    "        row['dropoff_longitude'] = df['dropoff_longitude'].values[i]\n",
    "        row['dropoff_latitude'] = df['dropoff_latitude'].values[i]\n",
    "\n",
    "        row['fare_amount'] = df['fare_amount'].values[i]\n",
    "        row['tip_amount'] = df['tip_amount'].values[i]\n",
    "        row['total_amount'] = df['total_amount'].values[i]\n",
    "        \n",
    "        row.append()\n",
    "    table.flush()"
   ]
  },
  {
   "cell_type": "code",
   "execution_count": 80,
   "metadata": {},
   "outputs": [],
   "source": [
    "h5_file_path = os.path.join(data_dir, 'pytables-ny-taxis.h5')\n",
    "\n",
    "nyc_dir = os.path.join(data_dir, 'nyctaxi')\n",
    "# years = os.listdir(nyc_dir)\n",
    "years = ['2016']\n",
    "\n",
    "# data dictionary for NY yellow taxi CSV files\n",
    "# http://www.nyc.gov/html/tlc/downloads/pdf/data_dictionary_trip_records_yellow.pdf\n",
    "# ATTENTION: the data dictionary changes from year to year! This data dictionary is only valid for 2016 data\n",
    "dtype = {\n",
    "    'VendorID': 'uint8',\n",
    "    'store_and_fwd_flag': 'category',\n",
    "}\n",
    "\n",
    "filters = tb.Filters(complevel=5, complib='zlib')\n",
    "\n",
    "# create a table that we will fill later on\n",
    "with tb.open_file(h5_file_path, 'w') as f:\n",
    "    f.create_table(\n",
    "        where='/', name='TaxiTable', description=TaxiTableDescription,\n",
    "        title='NY Yellow Taxi data', filters=filters)"
   ]
  },
  {
   "cell_type": "code",
   "execution_count": 81,
   "metadata": {},
   "outputs": [
    {
     "name": "stdout",
     "output_type": "stream",
     "text": [
      "/ (RootGroup) ''\r\n",
      "/TaxiTable (Table(0,), shuffle, zlib(5)) 'NY Yellow Taxi data'\r\n",
      "  description := {\r\n",
      "  \"vendor_id\": UInt8Col(shape=(), dflt=0, pos=0),\r\n",
      "  \"pickup_timestamp_ms\": Int64Col(shape=(), dflt=0, pos=1),\r\n",
      "  \"dropoff_timestamp_ms\": Int64Col(shape=(), dflt=0, pos=2),\r\n",
      "  \"passenger_count\": UInt8Col(shape=(), dflt=0, pos=3),\r\n",
      "  \"trip_distance\": Float32Col(shape=(), dflt=0.0, pos=4),\r\n",
      "  \"pickup_longitude\": Float32Col(shape=(), dflt=0.0, pos=5),\r\n",
      "  \"pickup_latitude\": Float32Col(shape=(), dflt=0.0, pos=6),\r\n",
      "  \"dropoff_longitude\": Float32Col(shape=(), dflt=0.0, pos=7),\r\n",
      "  \"dropoff_latitude\": Float32Col(shape=(), dflt=0.0, pos=8),\r\n",
      "  \"fare_amount\": Float32Col(shape=(), dflt=0.0, pos=9),\r\n",
      "  \"tip_amount\": Float32Col(shape=(), dflt=0.0, pos=10),\r\n",
      "  \"total_amount\": Float32Col(shape=(), dflt=0.0, pos=11)}\r\n",
      "  byteorder := 'little'\r\n",
      "  chunkshape := (1310,)\r\n"
     ]
    }
   ],
   "source": [
    "!ptdump -v 'data/pytables-ny-taxis.h5'"
   ]
  },
  {
   "cell_type": "markdown",
   "metadata": {},
   "source": [
    "> Spoiler alert: reading 16.5 GB of CSV files (in chunks) will take some time..."
   ]
  },
  {
   "cell_type": "code",
   "execution_count": 11,
   "metadata": {},
   "outputs": [
    {
     "ename": "KeyboardInterrupt",
     "evalue": "",
     "output_type": "error",
     "traceback": [
      "\u001b[0;31m---------------------------------------------------------------------------\u001b[0m",
      "\u001b[0;31mKeyboardInterrupt\u001b[0m                         Traceback (most recent call last)",
      "\u001b[0;32m<timed exec>\u001b[0m in \u001b[0;36m<module>\u001b[0;34m()\u001b[0m\n",
      "\u001b[0;32m<ipython-input-6-c587b186ec54>\u001b[0m in \u001b[0;36mfill_table\u001b[0;34m(table, df)\u001b[0m\n\u001b[1;32m     29\u001b[0m         \u001b[0mpickup_ms\u001b[0m \u001b[0;34m=\u001b[0m \u001b[0mdate_to_timestamp_ms\u001b[0m\u001b[0;34m(\u001b[0m\u001b[0mdf\u001b[0m\u001b[0;34m[\u001b[0m\u001b[0;34m'tpep_pickup_datetime'\u001b[0m\u001b[0;34m]\u001b[0m\u001b[0;34m.\u001b[0m\u001b[0mvalues\u001b[0m\u001b[0;34m[\u001b[0m\u001b[0mi\u001b[0m\u001b[0;34m]\u001b[0m\u001b[0;34m)\u001b[0m\u001b[0;34m\u001b[0m\u001b[0m\n\u001b[1;32m     30\u001b[0m         \u001b[0mrow\u001b[0m\u001b[0;34m[\u001b[0m\u001b[0;34m'pickup_timestamp_ms'\u001b[0m\u001b[0;34m]\u001b[0m \u001b[0;34m=\u001b[0m \u001b[0mpickup_ms\u001b[0m\u001b[0;34m\u001b[0m\u001b[0m\n\u001b[0;32m---> 31\u001b[0;31m         \u001b[0mdropoff_ms\u001b[0m \u001b[0;34m=\u001b[0m \u001b[0mdate_to_timestamp_ms\u001b[0m\u001b[0;34m(\u001b[0m\u001b[0mdf\u001b[0m\u001b[0;34m[\u001b[0m\u001b[0;34m'tpep_dropoff_datetime'\u001b[0m\u001b[0;34m]\u001b[0m\u001b[0;34m.\u001b[0m\u001b[0mvalues\u001b[0m\u001b[0;34m[\u001b[0m\u001b[0mi\u001b[0m\u001b[0;34m]\u001b[0m\u001b[0;34m)\u001b[0m\u001b[0;34m\u001b[0m\u001b[0m\n\u001b[0m\u001b[1;32m     32\u001b[0m         \u001b[0mrow\u001b[0m\u001b[0;34m[\u001b[0m\u001b[0;34m'dropoff_timestamp_ms'\u001b[0m\u001b[0;34m]\u001b[0m \u001b[0;34m=\u001b[0m \u001b[0mdropoff_ms\u001b[0m\u001b[0;34m\u001b[0m\u001b[0m\n\u001b[1;32m     33\u001b[0m \u001b[0;34m\u001b[0m\u001b[0m\n",
      "\u001b[0;32m<ipython-input-6-c587b186ec54>\u001b[0m in \u001b[0;36mdate_to_timestamp_ms\u001b[0;34m(date_obj)\u001b[0m\n\u001b[1;32m     17\u001b[0m \u001b[0;32mdef\u001b[0m \u001b[0mdate_to_timestamp_ms\u001b[0m\u001b[0;34m(\u001b[0m\u001b[0mdate_obj\u001b[0m\u001b[0;34m)\u001b[0m\u001b[0;34m:\u001b[0m\u001b[0;34m\u001b[0m\u001b[0m\n\u001b[1;32m     18\u001b[0m     \u001b[0mtimestamp_in_nanoseconds\u001b[0m \u001b[0;34m=\u001b[0m \u001b[0mdate_obj\u001b[0m\u001b[0;34m.\u001b[0m\u001b[0mastype\u001b[0m\u001b[0;34m(\u001b[0m\u001b[0;34m'int64'\u001b[0m\u001b[0;34m)\u001b[0m\u001b[0;34m\u001b[0m\u001b[0m\n\u001b[0;32m---> 19\u001b[0;31m     \u001b[0mtimestamp_in_ms\u001b[0m \u001b[0;34m=\u001b[0m \u001b[0;34m(\u001b[0m\u001b[0mtimestamp_in_nanoseconds\u001b[0m \u001b[0;34m/\u001b[0m \u001b[0;36m1000000\u001b[0m\u001b[0;34m)\u001b[0m\u001b[0;34m.\u001b[0m\u001b[0mastype\u001b[0m\u001b[0;34m(\u001b[0m\u001b[0;34m'int64'\u001b[0m\u001b[0;34m)\u001b[0m\u001b[0;34m\u001b[0m\u001b[0m\n\u001b[0m\u001b[1;32m     20\u001b[0m     \u001b[0;32mreturn\u001b[0m \u001b[0mtimestamp_in_ms\u001b[0m\u001b[0;34m\u001b[0m\u001b[0m\n\u001b[1;32m     21\u001b[0m \u001b[0;34m\u001b[0m\u001b[0m\n",
      "\u001b[0;31mKeyboardInterrupt\u001b[0m: "
     ]
    }
   ],
   "source": [
    "%%time\n",
    "\n",
    "# populate the table with data from CSV files\n",
    "with tb.open_file(h5_file_path, 'a') as f:\n",
    "    table = f.root.TaxiTable\n",
    "    # or, in alternative\n",
    "    # table = list(f.walk_nodes('/', classname='Table'))[0]\n",
    "\n",
    "    for year in years:\n",
    "        year_dir = os.path.join(data_dir, 'nyctaxi', year)\n",
    "        csv_files = os.listdir(year_dir)\n",
    "\n",
    "        # read in chunks because these CSV files are too big\n",
    "        for csv_file in csv_files:\n",
    "            csv_file_path = os.path.join(year_dir, csv_file)\n",
    "            chunksize = 1000\n",
    "            for chunk in pd.read_csv(\n",
    "                csv_file_path, dtype=dtype, chunksize=chunksize, \n",
    "                parse_dates=['tpep_pickup_datetime', 'tpep_dropoff_datetime']):\n",
    "                \n",
    "                df = chunk.reset_index()\n",
    "                fill_table(table, df)"
   ]
  },
  {
   "cell_type": "markdown",
   "metadata": {},
   "source": [
    "![He Man I have the data](https://www.storegrowers.com/wp-content/uploads/2016/02/analytics-meme-sword-guy.png)"
   ]
  },
  {
   "cell_type": "markdown",
   "metadata": {},
   "source": [
    "### Critics to HDF5 and other formats"
   ]
  },
  {
   "cell_type": "markdown",
   "metadata": {},
   "source": [
    "Brief info on zarr, feather and others..."
   ]
  },
  {
   "cell_type": "markdown",
   "metadata": {},
   "source": [
    "![All your data are belong to us](http://i.memecaptain.com/gend_images/cB52MA.jpg)\n",
    "<!-- ![All your data are belong to us](img/all_your_data_are_belong_to_us.jpg) -->"
   ]
  },
  {
   "cell_type": "markdown",
   "metadata": {},
   "source": [
    "---"
   ]
  },
  {
   "cell_type": "markdown",
   "metadata": {},
   "source": [
    "# HDF5 command line tools"
   ]
  },
  {
   "cell_type": "markdown",
   "metadata": {},
   "source": [
    "[Here](https://support.hdfgroup.org/products/hdf5_tools/#h5dist) you can find the command line tools developed by the HDF Group. These are HDF5 tools, you don't need h5py or PyTables to use them."
   ]
  },
  {
   "cell_type": "markdown",
   "metadata": {},
   "source": [
    "If you are on Ubuntu, you can install them with `sudo apt install hdf5-tools`"
   ]
  },
  {
   "cell_type": "code",
   "execution_count": 185,
   "metadata": {},
   "outputs": [
    {
     "name": "stdout",
     "output_type": "stream",
     "text": [
      "/                        Group\r\n",
      "/MyDatasetInRoot         Dataset {200}\r\n",
      "/SomeMissingGroup        Group\r\n",
      "/SomeMissingGroup/MyGroup Group\r\n",
      "/SomeMissingGroup/MyGroup/MyOtherGroup Group\r\n",
      "/SomeMissingGroup/MyGroup/MyOtherGroup/MyOtherDataset Dataset {100, 50}\r\n"
     ]
    }
   ],
   "source": [
    "# -r stands for 'recursive'\n",
    "!h5ls -r 'data/h5py-groups-datasets-attributes.h5'"
   ]
  },
  {
   "cell_type": "code",
   "execution_count": 178,
   "metadata": {},
   "outputs": [
    {
     "name": "stdout",
     "output_type": "stream",
     "text": [
      "HDF5 \"data/h5py-groups-datasets-attributes.h5\" {\r\n",
      "GROUP \"/\" {\r\n",
      "   DATASET \"MyDatasetInRoot\" {\r\n",
      "      DATATYPE  H5T_IEEE_F64LE\r\n",
      "      DATASPACE  SIMPLE { ( 200 ) / ( 200 ) }\r\n",
      "      DATA {\r\n",
      "      (0): 1.32269, -2.05758, -2.38166, 0.276696, 0.252252, -0.434129,\r\n",
      "      (6): -0.234768, -0.648722, 0.701582, 1.69029, -0.993008, -1.30198,\r\n",
      "      (12): 0.764097, -0.928216, -1.3298, -0.0800895, 1.55615, -0.837752,\r\n",
      "      (18): -0.304995, -0.515327, -0.915071, 1.52877, -0.279807, -1.17273,\r\n",
      "      (24): 1.45964, 1.57284, -0.313747, 0.116747, -1.21757, 0.556175,\r\n",
      "      (30): -0.811289, 1.06579, -0.333809, 0.221574, -0.596002, 0.00267137,\r\n",
      "      (36): -2.42375, 1.73557, -0.383011, -0.0573518, -1.31964, -0.442481,\r\n",
      "      (42): -0.725716, 0.99682, 1.60147, 2.011, 1.29766, 1.10465, 1.08013,\r\n",
      "      (49): -0.0223783, -1.42579, -1.13813, -1.43853, 1.79954, 1.79989,\r\n",
      "      (55): -1.22096, -0.172575, 1.7007, 2.09569, -0.811794, -0.984851,\r\n",
      "      (61): 0.573586, -0.875642, 1.81687, -0.679375, 0.718014, -0.579112,\r\n",
      "      (67): 1.06711, -0.346193, -1.48446, -0.815052, -1.09394, -0.654873,\r\n",
      "      (73): -0.770966, 0.11174, -1.42285, 0.332614, 0.878231, 1.39274,\r\n",
      "      (79): -0.237734, 0.000774816, 2.22305, -0.748097, -0.205093, -0.580371,\r\n",
      "      (85): 0.533373, -0.412805, 0.761218, 0.618526, 0.507186, 0.113481,\r\n",
      "      (91): 2.03365, -0.9338, 0.58492, 1.44759, -0.0765656, 0.676372,\r\n",
      "      (97): 0.570062, -0.361056, -0.752191, -1.14683, -0.0573812, -0.288305,\r\n",
      "      (103): 0.29561, 0.560562, -0.348005, 0.12868, -0.619155, -0.441933,\r\n",
      "      (109): 0.0821877, -0.3183, -0.795952, -0.0412737, 0.279331, -0.333733,\r\n",
      "      (115): 0.345178, -0.913486, -0.149255, 0.527447, -1.55544, -0.0218403,\r\n",
      "      (121): -0.79147, -0.0242417, -0.433522, 0.0735694, -0.105131, 1.24937,\r\n",
      "      (127): -0.269689, -0.825169, -0.806569, 0.581744, 0.284086, -0.623624,\r\n",
      "      (133): -1.09673, -0.10848, -0.864612, 0.473971, 1.15846, 0.463882,\r\n",
      "      (139): 0.452918, 0.0957043, -2.14089, 1.45358, 0.437792, -1.24698,\r\n",
      "      (145): -1.00572, 0.737261, -1.52285, -0.500951, -1.12701, 0.452456,\r\n",
      "      (151): 1.34621, -0.804352, -1.04074, -0.210716, 0.108347, 1.44174,\r\n",
      "      (157): -0.731863, 0.0539795, -0.534669, -0.286166, 0.24378, 2.07774,\r\n",
      "      (163): 0.926735, 2.42943, 0.225375, -0.177617, 0.0965453, -0.692188,\r\n",
      "      (169): 0.98888, 1.07941, -1.37951, 0.698198, 1.96246, -0.0558796,\r\n",
      "      (175): 0.10834, -0.257903, 0.575815, -1.28968, -0.386407, 0.0141918,\r\n",
      "      (181): -1.3277, -1.15756, 0.35617, -0.00223569, -0.13063, -0.436685,\r\n",
      "      (187): 0.605409, 1.62504, 2.06022, -0.235511, -0.120796, -2.81404,\r\n",
      "      (193): -0.396792, -0.201355, -0.252962, -0.41548, 0.455256, 0.925961,\r\n",
      "      (199): -0.0993184\r\n",
      "      }\r\n",
      "      ATTRIBUTE \"Speed\" {\r\n",
      "         DATATYPE  H5T_STD_I32LE\r\n",
      "         DATASPACE  SIMPLE { ( 2 ) / ( 2 ) }\r\n",
      "         DATA {\r\n",
      "         (0): 100, 200\r\n",
      "         }\r\n",
      "      }\r\n",
      "      ATTRIBUTE \"Unit\" {\r\n",
      "         DATATYPE  H5T_STRING {\r\n",
      "            STRSIZE H5T_VARIABLE;\r\n",
      "            STRPAD H5T_STR_NULLTERM;\r\n",
      "            CSET H5T_CSET_UTF8;\r\n",
      "            CTYPE H5T_C_S1;\r\n",
      "         }\r\n",
      "         DATASPACE  SCALAR\r\n",
      "         DATA {\r\n",
      "         (0): \"m/s\"\r\n",
      "         }\r\n",
      "      }\r\n",
      "   }\r\n",
      "   GROUP \"SomeMissingGroup\" {\r\n",
      "      GROUP \"MyGroup\" {\r\n",
      "         ATTRIBUTE \"Experiment ID\" {\r\n",
      "            DATATYPE  H5T_STD_I64LE\r\n",
      "            DATASPACE  SCALAR\r\n",
      "            DATA {\r\n",
      "            (0): 123\r\n",
      "            }\r\n",
      "         }\r\n",
      "         GROUP \"MyOtherGroup\" {\r\n",
      "            ATTRIBUTE \"Experiment ID\" {\r\n",
      "               DATATYPE  H5T_STD_I64LE\r\n",
      "               DATASPACE  SCALAR\r\n",
      "               DATA {\r\n",
      "               (0): 456\r\n",
      "               }\r\n",
      "            }\r\n",
      "            DATASET \"MyOtherDataset\" {\r\n",
      "               DATATYPE  H5T_IEEE_F32LE\r\n",
      "               DATASPACE  SIMPLE { ( 100, 50 ) / ( 100, 50 ) }\r\n",
      "               DATA {\r\n",
      "               (0,0): 0.271962, 0.532131, 0.669128, 0.314479, 0.697652,\r\n",
      "               (0,5): 0.341635, 0.191109, 0.727392, 0.092823, 0.328672,\r\n",
      "               (0,10): 0.930551, 0.245991, 0.774521, 0.747825, 0.403165,\r\n",
      "               (0,15): 0.179814, 0.065468, 0.701391, 0.641522, 0.0120703,\r\n",
      "               (0,20): 0.702391, 0.872346, 0.288681, 0.596018, 0.855787,\r\n",
      "               (0,25): 0.410975, 0.733751, 0.939322, 0.70834, 0.162063,\r\n",
      "               (0,30): 0.598369, 0.00565631, 0.51052, 0.516558, 0.951106,\r\n",
      "               (0,35): 0.931415, 0.579152, 0.403633, 0.341583, 0.0932211,\r\n",
      "               (0,40): 0.606093, 0.0621045, 0.132975, 0.477952, 0.967302,\r\n",
      "               (0,45): 0.939947, 0.403123, 0.351263, 0.425463, 0.453577,\r\n",
      "               (1,0): 0.753309, 0.323148, 0.786636, 0.940208, 0.396475,\r\n",
      "               (1,5): 0.567382, 0.48205, 0.677468, 0.57335, 0.947425,\r\n",
      "               (1,10): 0.23047, 0.713959, 0.696715, 0.82091, 0.8399, 0.52077,\r\n",
      "               (1,16): 0.296996, 0.0102042, 0.328363, 0.0322926, 0.283314,\r\n",
      "               (1,21): 0.491049, 0.810885, 0.703909, 0.528683, 0.247456,\r\n",
      "               (1,26): 0.597125, 0.668026, 0.488517, 0.904635, 0.274743,\r\n",
      "               (1,31): 0.378087, 0.675623, 0.131737, 0.625287, 0.943538,\r\n",
      "               (1,36): 0.252238, 0.768074, 0.0726956, 0.612059, 0.434039,\r\n",
      "               (1,41): 0.755168, 0.277241, 0.829573, 0.120835, 0.337251,\r\n",
      "               (1,46): 0.266896, 0.425876, 0.268268, 0.993734,\r\n",
      "               (2,0): 0.211657, 0.337104, 0.455575, 0.599193, 0.801844,\r\n",
      "               (2,5): 0.597052, 0.685476, 0.383194, 0.660666, 0.702499,\r\n",
      "               (2,10): 0.223528, 0.484483, 0.207437, 0.312451, 0.416825,\r\n",
      "               (2,15): 0.972242, 0.0150161, 0.10309, 0.307016, 0.925375,\r\n",
      "               (2,20): 0.494383, 0.637649, 0.30043, 0.346807, 0.014908,\r\n",
      "               (2,25): 0.811042, 0.822653, 0.199231, 0.508096, 0.255641,\r\n",
      "               (2,30): 0.701192, 0.893681, 0.843872, 0.0269876, 0.0530137,\r\n",
      "               (2,35): 0.0149212, 0.935432, 0.879397, 0.402206, 0.294477,\r\n",
      "               (2,40): 0.132223, 0.613102, 0.372844, 0.574633, 0.495496,\r\n",
      "               (2,45): 0.492008, 0.202357, 0.0812776, 0.960713, 0.826231,\r\n",
      "               (3,0): 0.979531, 0.995955, 0.990143, 0.923527, 0.66162,\r\n",
      "               (3,5): 0.140535, 0.505628, 0.592456, 0.190943, 0.649223,\r\n",
      "               (3,10): 0.436043, 0.690722, 0.0497302, 0.723703, 0.373655,\r\n",
      "               (3,15): 0.186072, 0.203533, 0.9997, 0.963083, 0.52708,\r\n",
      "               (3,20): 0.0610564, 0.000884281, 0.828897, 0.539787, 0.50965,\r\n",
      "               (3,25): 0.960805, 0.716828, 0.661294, 0.468652, 0.167985,\r\n",
      "               (3,30): 0.727216, 0.180379, 0.766333, 0.892594, 0.667774,\r\n",
      "               (3,35): 0.0410828, 0.159732, 0.279748, 0.454379, 0.243538,\r\n",
      "               (3,40): 0.933562, 0.793898, 0.474425, 0.885311, 0.823645,\r\n",
      "               (3,45): 0.943645, 0.714553, 0.74212, 0.843207, 0.317697,\r\n",
      "               (4,0): 0.25818, 0.217297, 0.702155, 0.322954, 0.739505,\r\n",
      "               (4,5): 0.892363, 0.57007, 0.549766, 0.90153, 0.86651,\r\n",
      "               (4,10): 0.930656, 0.841545, 0.534058, 0.484447, 0.726431,\r\n",
      "               (4,15): 0.504334, 0.696952, 0.339307, 0.460165, 0.061121,\r\n",
      "               (4,20): 0.237457, 0.772933, 0.371301, 0.401451, 0.280839,\r\n",
      "               (4,25): 0.995154, 0.350583, 0.850904, 0.563011, 0.147253,\r\n",
      "               (4,30): 0.375971, 0.323412, 0.387992, 0.252398, 0.267471,\r\n",
      "               (4,35): 0.714342, 0.675091, 0.566965, 0.685065, 0.297168,\r\n",
      "               (4,40): 0.976474, 0.819476, 0.830856, 0.624222, 0.931495,\r\n",
      "               (4,45): 0.880546, 0.419536, 0.695247, 0.147143, 0.314077,\r\n",
      "               (5,0): 0.0786789, 0.510432, 0.969085, 0.6719, 0.552427,\r\n",
      "               (5,5): 0.41897, 0.714353, 0.595057, 0.973438, 0.146367,\r\n",
      "               (5,10): 0.637957, 0.289115, 0.752501, 0.941588, 0.67079,\r\n",
      "               (5,15): 0.0416107, 0.785499, 0.644513, 0.91611, 0.429649,\r\n",
      "               (5,20): 0.0650255, 0.912102, 0.776294, 0.185262, 0.722717,\r\n",
      "               (5,25): 0.362723, 0.34152, 0.683924, 0.565613, 0.903505,\r\n",
      "               (5,30): 0.974161, 0.450875, 0.521368, 0.20302, 0.899925,\r\n",
      "               (5,35): 0.264543, 0.658675, 0.475764, 0.0550979, 0.359397,\r\n",
      "               (5,40): 0.654678, 0.160353, 0.0856185, 0.217866, 0.401352,\r\n",
      "               (5,45): 0.10834, 0.0175945, 0.356153, 0.207779, 0.907706,\r\n",
      "               (6,0): 0.0991891, 0.251919, 0.656262, 0.375312, 0.305665,\r\n",
      "               (6,5): 0.804371, 0.76465, 0.741317, 0.224789, 0.926408,\r\n",
      "               (6,10): 0.892376, 0.235697, 0.938277, 0.363101, 0.767836,\r\n",
      "               (6,15): 0.91699, 0.827154, 0.518928, 0.0706016, 0.625177,\r\n",
      "               (6,20): 0.120603, 0.573059, 0.113938, 0.752187, 0.277102,\r\n",
      "               (6,25): 0.568838, 0.687212, 0.657588, 0.960021, 0.169459,\r\n",
      "               (6,30): 0.0765995, 0.775886, 0.745434, 0.122344, 0.981886,\r\n",
      "               (6,35): 0.655845, 0.0565056, 0.373945, 0.51163, 0.101623,\r\n",
      "               (6,40): 0.843469, 0.160859, 0.795128, 0.863798, 0.137119,\r\n",
      "               (6,45): 0.879424, 0.419983, 0.494294, 0.367468, 0.193051,\r\n",
      "               (7,0): 0.214527, 0.925247, 0.64221, 0.69217, 0.187072,\r\n",
      "               (7,5): 0.321898, 0.555817, 0.141337, 0.323124, 0.722431,\r\n",
      "               (7,10): 0.404173, 0.764751, 0.493193, 0.527346, 0.648422,\r\n",
      "               (7,15): 0.319943, 0.855613, 0.684259, 0.803151, 0.673921,\r\n",
      "               (7,20): 0.00854656, 0.978406, 0.469598, 0.970098, 0.908687,\r\n",
      "               (7,25): 0.285252, 0.177177, 0.835468, 0.253682, 0.798125,\r\n",
      "               (7,30): 0.296385, 0.473305, 0.439794, 0.935643, 0.493246,\r\n",
      "               (7,35): 0.678193, 0.55171, 0.56586, 0.82616, 0.834268,\r\n",
      "               (7,40): 0.601695, 0.392749, 0.386756, 0.825664, 0.681392,\r\n",
      "               (7,45): 0.775925, 0.806292, 0.918735, 0.26434, 0.969558,\r\n",
      "               (8,0): 0.671344, 0.981415, 0.403497, 0.480929, 0.0462317,\r\n",
      "               (8,5): 0.187865, 0.197049, 0.57048, 0.899022, 0.169558,\r\n",
      "               (8,10): 0.154681, 0.870304, 0.788355, 0.234964, 0.134649,\r\n",
      "               (8,15): 0.988616, 0.863648, 0.082944, 0.774409, 0.774974,\r\n",
      "               (8,20): 0.698463, 0.509035, 0.949029, 0.147541, 0.108309,\r\n",
      "               (8,25): 0.362805, 0.331056, 0.945837, 0.882963, 0.235502,\r\n",
      "               (8,30): 0.287528, 0.924971, 0.901266, 0.288853, 0.922942,\r\n",
      "               (8,35): 0.622384, 0.722488, 0.554856, 0.931103, 0.884368,\r\n",
      "               (8,40): 0.366442, 0.708325, 0.359302, 0.790251, 0.521309,\r\n",
      "               (8,45): 0.150913, 0.767524, 0.517998, 0.884769, 0.154155,\r\n",
      "               (9,0): 0.438948, 0.744204, 0.857238, 0.830893, 0.377824,\r\n",
      "               (9,5): 0.610017, 0.990206, 0.407681, 0.0877568, 0.462046,\r\n",
      "               (9,10): 0.514141, 0.582274, 0.844132, 0.824915, 0.227107,\r\n",
      "               (9,15): 0.377776, 0.770509, 0.522299, 0.536176, 0.223889,\r\n",
      "               (9,20): 0.359475, 0.0461074, 0.645313, 0.267591, 0.167498,\r\n",
      "               (9,25): 0.224008, 0.309283, 0.580923, 0.693767, 0.958345,\r\n",
      "               (9,30): 0.622566, 0.285631, 0.18242, 0.255996, 0.484131,\r\n",
      "               (9,35): 0.878187, 0.276725, 0.886714, 0.404933, 0.830164,\r\n",
      "               (9,40): 0.604979, 0.14568, 0.595403, 0.39911, 0.277774,\r\n",
      "               (9,45): 0.0192776, 0.200819, 0.441706, 0.25292, 0.0161657,\r\n",
      "               (10,0): 0.324541, 0.537662, 0.504952, 0.393306, 0.775417,\r\n",
      "               (10,5): 0.613931, 0.0834786, 0.861029, 0.228056, 0.23537,\r\n",
      "               (10,10): 0.00500582, 0.871256, 0.111722, 0.418418, 0.78063,\r\n",
      "               (10,15): 0.82911, 0.297386, 0.430719, 0.325602, 0.629173,\r\n",
      "               (10,20): 0.354182, 0.569091, 0.854544, 0.191632, 0.856896,\r\n",
      "               (10,25): 0.706594, 0.614106, 0.208359, 0.642336, 0.493258,\r\n",
      "               (10,30): 0.910585, 0.347898, 0.478838, 0.943727, 0.0902344,\r\n",
      "               (10,35): 0.665087, 0.0276852, 0.195816, 0.884304, 0.491108,\r\n",
      "               (10,40): 0.894992, 0.152998, 0.105164, 0.128822, 0.491417,\r\n",
      "               (10,45): 0.324225, 0.0670267, 0.147535, 0.404004, 0.635698,\r\n",
      "               (11,0): 0.492197, 0.724205, 0.641098, 0.567462, 0.347409,\r\n",
      "               (11,5): 0.621025, 0.396959, 0.45354, 0.969157, 0.463078,\r\n",
      "               (11,10): 0.598502, 0.364574, 0.445965, 0.0941534, 0.0540089,\r\n",
      "               (11,15): 0.596387, 0.589253, 0.511576, 0.238837, 0.374139,\r\n",
      "               (11,20): 0.138114, 0.324446, 0.578812, 0.286103, 0.46093,\r\n",
      "               (11,25): 0.00125919, 0.879474, 0.568745, 0.934784, 0.62387,\r\n",
      "               (11,30): 0.242815, 0.933837, 0.179887, 0.00724898, 0.14006,\r\n",
      "               (11,35): 0.356684, 0.0817229, 0.418304, 0.29378, 0.882219,\r\n",
      "               (11,40): 0.311012, 0.0106695, 0.770297, 0.398491, 0.41708,\r\n",
      "               (11,45): 0.854727, 0.265909, 0.151988, 0.536038, 0.485106,\r\n",
      "               (12,0): 0.850951, 0.886993, 0.112778, 0.376392, 0.154863,\r\n",
      "               (12,5): 0.766552, 0.249581, 0.265739, 0.383888, 0.0848893,\r\n",
      "               (12,10): 0.601488, 0.608904, 0.46157, 0.122881, 0.468771,\r\n",
      "               (12,15): 0.673654, 0.957671, 0.329379, 0.21561, 0.500224,\r\n",
      "               (12,20): 0.236153, 0.548241, 0.476592, 0.730647, 0.758505,\r\n",
      "               (12,25): 0.992383, 0.495951, 0.082806, 0.0919831, 0.206049,\r\n",
      "               (12,30): 0.674958, 0.771538, 0.182779, 0.685465, 0.96085,\r\n",
      "               (12,35): 0.700692, 0.106871, 0.173603, 0.270636, 0.920715,\r\n",
      "               (12,40): 0.257077, 0.125148, 0.0673832, 0.261483, 0.651679,\r\n",
      "               (12,45): 0.00187444, 0.0210793, 0.647077, 0.0294996, 0.837037,\r\n",
      "               (13,0): 0.274709, 0.157355, 0.31462, 0.829241, 0.385458,\r\n",
      "               (13,5): 0.0114436, 0.898703, 0.645485, 0.569518, 0.782368,\r\n",
      "               (13,10): 0.661317, 0.644391, 0.679127, 0.362666, 0.533884,\r\n",
      "               (13,15): 0.655557, 0.352175, 0.692081, 0.747406, 0.11536,\r\n",
      "               (13,20): 0.267519, 0.778329, 0.376321, 0.237469, 0.73102,\r\n",
      "               (13,25): 0.500649, 0.209491, 0.0933456, 0.68625, 0.883154,\r\n",
      "               (13,30): 0.771642, 0.732012, 0.398569, 0.945793, 0.684727,\r\n",
      "               (13,35): 0.442014, 0.543768, 0.156397, 0.901114, 0.52507,\r\n",
      "               (13,40): 0.363692, 0.791209, 0.301849, 0.980889, 0.191461,\r\n",
      "               (13,45): 0.12776, 0.0571442, 0.204841, 0.44586, 0.977729,\r\n",
      "               (14,0): 0.763513, 0.466841, 0.73114, 0.805283, 0.931551,\r\n",
      "               (14,5): 0.982716, 0.036902, 0.443424, 0.0566628, 0.981858,\r\n",
      "               (14,10): 0.437372, 0.193937, 0.468183, 0.264162, 0.191305,\r\n",
      "               (14,15): 0.187464, 0.22258, 0.771503, 0.590404, 0.207995,\r\n",
      "               (14,20): 0.620813, 0.762452, 0.0568037, 0.267418, 0.536626,\r\n",
      "               (14,25): 0.452198, 0.293394, 0.784668, 0.636051, 0.505666,\r\n",
      "               (14,30): 0.90794, 0.785174, 0.780773, 0.773929, 0.421265,\r\n",
      "               (14,35): 0.715064, 0.513156, 0.503226, 0.68966, 0.127104,\r\n",
      "               (14,40): 0.261283, 0.564253, 0.26206, 0.0816818, 0.890761,\r\n",
      "               (14,45): 0.994198, 0.874617, 0.48682, 0.628054, 0.639061,\r\n",
      "               (15,0): 0.710843, 0.345953, 0.261364, 0.204917, 0.0883887,\r\n",
      "               (15,5): 0.830465, 0.943156, 0.147529, 0.787347, 0.338677,\r\n",
      "               (15,10): 0.90094, 0.91792, 0.920948, 0.690431, 0.705154,\r\n",
      "               (15,15): 0.920878, 0.807429, 0.941608, 0.732611, 0.0506972,\r\n",
      "               (15,20): 0.699667, 0.915503, 0.411512, 0.65026, 0.066401,\r\n",
      "               (15,25): 0.836254, 0.540035, 0.648445, 0.404891, 0.891846,\r\n",
      "               (15,30): 0.838874, 0.717779, 0.0776268, 0.682402, 0.273155,\r\n",
      "               (15,35): 0.414967, 0.2423, 0.649602, 0.076087, 0.824467,\r\n",
      "               (15,40): 0.626443, 0.620804, 0.909731, 0.580041, 0.200129,\r\n",
      "               (15,45): 0.0493752, 0.186047, 0.606596, 0.80867, 0.124145,\r\n",
      "               (16,0): 0.466285, 0.194508, 0.56705, 0.532761, 0.168278,\r\n",
      "               (16,5): 0.855061, 0.633144, 0.0719406, 0.383621, 0.308877,\r\n",
      "               (16,10): 0.79223, 0.962067, 0.573852, 0.369823, 0.797301,\r\n",
      "               (16,15): 0.0647479, 0.70136, 0.741063, 0.459669, 0.521561,\r\n",
      "               (16,20): 0.742879, 0.898917, 0.876765, 0.865912, 0.518058,\r\n",
      "               (16,25): 0.622639, 0.353672, 0.0770153, 0.135767, 0.951332,\r\n",
      "               (16,30): 0.986962, 0.835423, 0.106616, 0.611151, 0.28352,\r\n",
      "               (16,35): 0.586627, 0.0919836, 0.0347997, 0.169515, 0.546991,\r\n",
      "               (16,40): 0.269228, 0.481868, 0.1791, 0.169102, 0.363411,\r\n",
      "               (16,45): 0.0366564, 0.463751, 0.309903, 0.213656, 0.991733,\r\n",
      "               (17,0): 0.877728, 0.347506, 0.294359, 0.81779, 0.417718,\r\n",
      "               (17,5): 0.561203, 0.69025, 0.437229, 0.726794, 0.00543806,\r\n",
      "               (17,10): 0.866031, 0.20629, 0.428146, 0.832025, 0.356832,\r\n",
      "               (17,15): 0.577779, 0.643763, 0.625311, 0.0571577, 0.511106,\r\n",
      "               (17,20): 0.279319, 0.345079, 0.525347, 0.0574975, 0.143277,\r\n",
      "               (17,25): 0.681222, 0.906824, 0.231498, 0.127545, 0.702613,\r\n",
      "               (17,30): 0.18551, 0.170022, 0.834912, 0.661521, 0.517458,\r\n",
      "               (17,35): 0.0918567, 0.973919, 0.526878, 0.125395, 0.874314,\r\n",
      "               (17,40): 0.00467767, 0.649465, 0.677193, 0.605642, 0.342185,\r\n",
      "               (17,45): 0.390761, 0.292945, 0.421261, 0.767216, 0.49813,\r\n",
      "               (18,0): 0.19888, 0.330364, 0.396854, 0.749744, 0.059675,\r\n",
      "               (18,5): 0.408309, 0.239569, 0.505675, 0.125906, 0.210702,\r\n",
      "               (18,10): 0.98713, 0.126342, 0.1451, 0.123539, 0.506101,\r\n",
      "               (18,15): 0.325745, 0.288613, 0.0962095, 0.900775, 0.00146024,\r\n",
      "               (18,20): 0.750678, 0.990809, 0.891354, 0.266564, 0.36339,\r\n",
      "               (18,25): 0.000953873, 0.993438, 0.089145, 0.723134, 0.183271,\r\n",
      "               (18,30): 0.708677, 0.100119, 0.923024, 0.936637, 0.253382,\r\n",
      "               (18,35): 0.611098, 0.764744, 0.411031, 0.709465, 0.373726,\r\n",
      "               (18,40): 0.482833, 0.940223, 0.2772, 0.0888724, 0.289981,\r\n",
      "               (18,45): 0.727787, 0.164641, 0.699176, 0.843895, 0.921648,\r\n",
      "               (19,0): 0.743136, 0.247017, 0.0101417, 0.703358, 0.118861,\r\n",
      "               (19,5): 0.580618, 0.390062, 0.252194, 0.307511, 0.592789,\r\n",
      "               (19,10): 0.924226, 0.554583, 0.692472, 0.320209, 0.500014,\r\n",
      "               (19,15): 0.929083, 0.796292, 0.936258, 0.094127, 0.813526,\r\n",
      "               (19,20): 0.80965, 0.0885785, 0.814012, 0.0905308, 0.86323,\r\n",
      "               (19,25): 0.909837, 0.515819, 0.349512, 0.698808, 0.45628,\r\n",
      "               (19,30): 0.458085, 0.152362, 0.154416, 0.0234831, 0.397484,\r\n",
      "               (19,35): 0.326352, 0.698668, 0.281793, 0.277356, 0.607967,\r\n",
      "               (19,40): 0.762488, 0.616138, 0.25967, 0.814002, 0.0552452,\r\n",
      "               (19,45): 0.551694, 0.891092, 0.494956, 0.388741, 0.0332764,\r\n",
      "               (20,0): 0.104237, 0.503834, 0.146483, 0.894575, 0.340611,\r\n",
      "               (20,5): 0.310068, 0.685991, 0.538319, 0.50631, 0.756128,\r\n",
      "               (20,10): 0.613209, 0.360706, 0.909597, 0.373651, 0.00926489,\r\n",
      "               (20,15): 0.355795, 0.15125, 0.0550592, 0.726235, 0.629233,\r\n",
      "               (20,20): 0.0294556, 0.161775, 0.000163151, 0.0650144, 0.39258,\r\n",
      "               (20,25): 0.341399, 0.84989, 0.992896, 0.538098, 0.683671,\r\n",
      "               (20,30): 0.860539, 0.960739, 0.461436, 0.663059, 0.0675802,\r\n",
      "               (20,35): 0.368168, 0.50771, 0.299243, 0.903621, 0.229336,\r\n",
      "               (20,40): 0.0544244, 0.504442, 0.450931, 0.123771, 0.797178,\r\n",
      "               (20,45): 0.193682, 0.129867, 0.954918, 0.571657, 0.233933,\r\n",
      "               (21,0): 0.866076, 0.617063, 0.239179, 0.199088, 0.0768126,\r\n",
      "               (21,5): 0.564698, 0.732707, 0.55012, 0.411191, 0.670363,\r\n",
      "               (21,10): 0.690654, 0.802476, 0.258231, 0.610131, 0.82738,\r\n",
      "               (21,15): 0.818225, 0.0741289, 0.230268, 0.59067, 0.432438,\r\n",
      "               (21,20): 0.57843, 0.779299, 0.436919, 0.241586, 0.390092,\r\n",
      "               (21,25): 0.507614, 0.714714, 0.772702, 0.0908568, 0.721261,\r\n",
      "               (21,30): 0.957108, 0.223253, 0.491533, 0.569097, 0.0534004,\r\n",
      "               (21,35): 0.828582, 0.609745, 0.646348, 0.275304, 0.143642,\r\n",
      "               (21,40): 0.00276861, 0.166926, 0.314936, 0.338957, 0.112971,\r\n",
      "               (21,45): 0.729393, 0.0158814, 0.592278, 0.284815, 0.618686,\r\n",
      "               (22,0): 0.859834, 0.320788, 0.97508, 0.417659, 0.759591,\r\n",
      "               (22,5): 0.384123, 0.123171, 0.356492, 0.071788, 0.570172,\r\n",
      "               (22,10): 0.370761, 0.518746, 0.455633, 0.266643, 0.97082,\r\n",
      "               (22,15): 0.0937377, 0.81687, 0.517478, 0.990182, 0.703441,\r\n",
      "               (22,20): 0.498044, 0.661248, 0.870889, 0.135406, 0.771018,\r\n",
      "               (22,25): 0.473622, 0.270738, 0.513317, 0.517882, 0.635666,\r\n",
      "               (22,30): 0.361069, 0.79773, 0.695015, 0.663522, 0.405523,\r\n",
      "               (22,35): 0.449702, 0.77788, 0.428038, 0.441713, 0.144216,\r\n",
      "               (22,40): 0.955784, 0.797221, 0.277135, 0.712702, 0.956019,\r\n",
      "               (22,45): 0.980541, 0.28785, 0.43592, 0.170841, 0.2265,\r\n",
      "               (23,0): 0.822312, 0.643668, 0.146158, 0.833862, 0.0957086,\r\n",
      "               (23,5): 0.499518, 0.752024, 0.0984053, 0.0767584, 0.95015,\r\n",
      "               (23,10): 0.144281, 0.791809, 0.478115, 0.630716, 0.569212,\r\n",
      "               (23,15): 0.158408, 0.358324, 0.954589, 0.348741, 0.553795,\r\n",
      "               (23,20): 0.291675, 0.504309, 0.482489, 0.330757, 0.430006,\r\n",
      "               (23,25): 0.304684, 0.967398, 0.892793, 0.228411, 0.13055,\r\n",
      "               (23,30): 0.339272, 0.460194, 0.694112, 0.698141, 0.632917,\r\n",
      "               (23,35): 0.634621, 0.933871, 0.466364, 0.727518, 0.553082,\r\n",
      "               (23,40): 0.624671, 0.950156, 0.573405, 0.928404, 0.347185,\r\n",
      "               (23,45): 0.686827, 0.654474, 0.435876, 0.565976, 0.31171,\r\n",
      "               (24,0): 0.0812395, 0.558668, 0.794014, 0.958904, 0.451578,\r\n",
      "               (24,5): 0.523747, 0.963575, 0.244375, 0.596602, 0.182867,\r\n",
      "               (24,10): 0.736831, 0.837611, 0.441297, 0.611881, 0.112373,\r\n",
      "               (24,15): 0.220559, 0.320034, 0.483306, 0.597083, 0.323508,\r\n",
      "               (24,20): 0.791642, 0.38718, 0.352262, 0.71239, 0.482529,\r\n",
      "               (24,25): 0.390305, 0.309835, 0.374898, 0.554851, 0.871959,\r\n",
      "               (24,30): 0.0639677, 0.251518, 0.501852, 0.208659, 0.945696,\r\n",
      "               (24,35): 0.490616, 0.370699, 0.459719, 0.846881, 0.530734,\r\n",
      "               (24,40): 0.131281, 0.691408, 0.715538, 0.236137, 0.7889,\r\n",
      "               (24,45): 0.0970206, 0.0618769, 0.157175, 0.346499, 0.517458,\r\n",
      "               (25,0): 0.248011, 0.379057, 0.629828, 0.46755, 0.113362,\r\n",
      "               (25,5): 0.207529, 0.686369, 0.984323, 0.658974, 0.696502,\r\n",
      "               (25,10): 0.342645, 0.795812, 0.972541, 0.848846, 0.03872,\r\n",
      "               (25,15): 0.389504, 0.859159, 0.127683, 0.237763, 0.0617202,\r\n",
      "               (25,20): 0.842933, 0.0881041, 0.718552, 0.955465, 0.901032,\r\n",
      "               (25,25): 0.0716906, 0.636573, 0.504214, 0.40717, 0.0513052,\r\n",
      "               (25,30): 0.0854909, 0.834056, 0.726136, 0.206322, 0.97675,\r\n",
      "               (25,35): 0.417248, 0.20814, 0.24013, 0.654409, 0.444716,\r\n",
      "               (25,40): 0.297878, 0.250852, 0.771258, 0.475202, 0.263895,\r\n",
      "               (25,45): 0.143098, 0.809289, 0.428079, 0.968347, 0.721287,\r\n",
      "               (26,0): 0.24701, 0.977786, 0.155285, 0.336842, 0.923425,\r\n",
      "               (26,5): 0.75807, 0.202762, 0.165255, 0.0705128, 0.397961,\r\n",
      "               (26,10): 0.541298, 0.662038, 0.404715, 0.297301, 0.353261,\r\n",
      "               (26,15): 0.942266, 0.130296, 0.342424, 0.113354, 0.289608,\r\n",
      "               (26,20): 0.368171, 0.0525602, 0.843793, 0.430735, 0.840492,\r\n",
      "               (26,25): 0.348951, 0.560174, 0.156898, 0.00392857, 0.743054,\r\n",
      "               (26,30): 0.550622, 0.791547, 0.819003, 0.107274, 0.197344,\r\n",
      "               (26,35): 0.954853, 0.619221, 0.00365288, 0.867251, 0.0107225,\r\n",
      "               (26,40): 0.125162, 0.503214, 0.538571, 0.985087, 0.969932,\r\n",
      "               (26,45): 0.517311, 0.627251, 0.6299, 0.0196519, 0.424256,\r\n",
      "               (27,0): 0.0821021, 0.482557, 0.234776, 0.817777, 0.430579,\r\n",
      "               (27,5): 0.0351895, 0.594444, 0.637375, 0.187971, 0.54345,\r\n",
      "               (27,10): 0.812544, 0.669349, 0.109788, 0.305916, 0.63238,\r\n",
      "               (27,15): 0.590618, 0.720084, 0.788588, 0.509114, 0.232016,\r\n",
      "               (27,20): 0.921815, 0.301205, 0.45717, 0.438819, 0.372416,\r\n",
      "               (27,25): 0.704134, 0.163734, 0.829242, 0.507078, 0.224785,\r\n",
      "               (27,30): 0.451874, 0.137126, 0.806842, 0.890026, 0.198657,\r\n",
      "               (27,35): 0.587366, 0.147154, 0.0644329, 0.840185, 0.000758473,\r\n",
      "               (27,40): 0.137336, 0.761379, 0.785817, 0.960333, 0.631953,\r\n",
      "               (27,45): 0.925255, 0.386241, 0.885204, 0.408382, 0.90019,\r\n",
      "               (28,0): 0.967612, 0.774207, 0.430227, 0.0300172, 0.565675,\r\n",
      "               (28,5): 0.846456, 0.944732, 0.479031, 0.617862, 0.133414,\r\n",
      "               (28,10): 0.34292, 0.709005, 0.419112, 0.63069, 0.343293,\r\n",
      "               (28,15): 0.935659, 0.535064, 0.887216, 0.860573, 0.47819,\r\n",
      "               (28,20): 0.982439, 0.324953, 0.689123, 0.198212, 0.441289,\r\n",
      "               (28,25): 0.549802, 0.871145, 0.388048, 0.540189, 0.948896,\r\n",
      "               (28,30): 0.22808, 0.41096, 0.818176, 0.604791, 0.380992,\r\n",
      "               (28,35): 0.473536, 0.884013, 0.626939, 0.18308, 0.393616,\r\n",
      "               (28,40): 0.913901, 0.2677, 0.703731, 0.452966, 0.0775096,\r\n",
      "               (28,45): 0.831872, 0.525152, 0.26443, 0.177467, 0.448094,\r\n",
      "               (29,0): 0.927955, 0.455776, 0.558315, 0.481173, 0.904907,\r\n",
      "               (29,5): 0.608134, 0.314611, 0.17228, 0.665952, 0.253387,\r\n",
      "               (29,10): 0.37953, 0.588897, 0.77119, 0.316222, 0.229775,\r\n",
      "               (29,15): 0.357706, 0.0904514, 0.261061, 0.663358, 0.71376,\r\n",
      "               (29,20): 0.126215, 0.975675, 0.773196, 0.238783, 0.869936,\r\n",
      "               (29,25): 0.0496197, 0.56477, 0.326035, 0.842832, 0.650424,\r\n",
      "               (29,30): 0.128029, 0.985164, 0.229737, 0.529834, 0.601792,\r\n",
      "               (29,35): 0.920937, 0.501096, 0.44711, 0.830095, 0.386087,\r\n",
      "               (29,40): 0.339921, 0.935613, 0.899339, 0.444397, 0.62189,\r\n",
      "               (29,45): 0.624866, 0.155247, 0.818715, 0.212247, 0.345494,\r\n",
      "               (30,0): 0.0995482, 0.332975, 0.990169, 0.0335487, 0.375709,\r\n",
      "               (30,5): 0.282603, 0.105714, 0.897016, 0.682111, 0.167757,\r\n",
      "               (30,10): 0.384251, 0.500571, 0.375229, 0.726424, 0.180351,\r\n",
      "               (30,15): 0.0716422, 0.966646, 0.294635, 0.629632, 0.397244,\r\n",
      "               (30,20): 0.156527, 0.980382, 0.116876, 0.91053, 0.0400191,\r\n",
      "               (30,25): 0.374537, 0.836145, 0.987283, 0.652757, 0.991865,\r\n",
      "               (30,30): 0.0324005, 0.198806, 0.207176, 0.246243, 0.673804,\r\n",
      "               (30,35): 0.0263356, 0.755973, 0.591328, 0.107212, 0.592257,\r\n",
      "               (30,40): 0.328311, 0.807533, 0.112398, 0.71973, 0.878285,\r\n",
      "               (30,45): 0.924157, 0.360918, 0.991422, 0.0600542, 0.755529,\r\n",
      "               (31,0): 0.910817, 0.670996, 0.142078, 0.690581, 0.4643,\r\n",
      "               (31,5): 0.559114, 0.642042, 0.416277, 0.0333596, 0.445485,\r\n",
      "               (31,10): 0.467534, 0.132158, 0.0445706, 0.594519, 0.810665,\r\n",
      "               (31,15): 0.541222, 0.00723215, 0.817132, 0.251109, 0.218534,\r\n",
      "               (31,20): 0.914428, 0.988969, 0.794573, 0.641314, 0.489974,\r\n",
      "               (31,25): 0.00840398, 0.822626, 0.308048, 0.584796, 0.0653742,\r\n",
      "               (31,30): 0.031132, 0.409441, 0.927764, 0.591857, 0.804053,\r\n",
      "               (31,35): 0.155023, 0.722531, 0.276941, 0.258091, 0.334967,\r\n",
      "               (31,40): 0.485907, 0.762372, 0.007107, 0.727348, 0.516014,\r\n",
      "               (31,45): 0.973222, 0.163276, 0.354828, 0.527785, 0.842294,\r\n",
      "               (32,0): 0.545634, 0.713811, 0.503775, 0.203757, 0.929305,\r\n",
      "               (32,5): 0.647737, 0.0700957, 0.98702, 0.395368, 0.883341,\r\n",
      "               (32,10): 0.731149, 0.139576, 0.781906, 0.900456, 0.908425,\r\n",
      "               (32,15): 0.714695, 0.987488, 0.243977, 0.57054, 0.120599,\r\n",
      "               (32,20): 0.779007, 0.305224, 0.874481, 0.482799, 0.361371,\r\n",
      "               (32,25): 0.374794, 0.56953, 0.0100868, 0.178747, 0.00406311,\r\n",
      "               (32,30): 0.478495, 0.516093, 0.178133, 0.759203, 0.121319,\r\n",
      "               (32,35): 0.368032, 0.550758, 0.47783, 0.208499, 0.475871,\r\n",
      "               (32,40): 0.80198, 0.449134, 0.58803, 0.0443703, 0.917084,\r\n",
      "               (32,45): 0.97238, 0.752253, 0.950374, 0.0766418, 0.642212,\r\n",
      "               (33,0): 0.0885345, 0.176811, 0.721699, 0.237911, 0.361154,\r\n",
      "               (33,5): 0.40159, 0.902298, 0.782366, 0.897488, 0.629784,\r\n",
      "               (33,10): 0.118468, 0.774238, 0.863891, 0.481437, 0.00955581,\r\n",
      "               (33,15): 0.103092, 0.721584, 0.657655, 0.375331, 0.669107,\r\n",
      "               (33,20): 0.318065, 0.711698, 0.147098, 0.998158, 0.624598,\r\n",
      "               (33,25): 0.165022, 0.41298, 0.0464004, 0.336116, 0.832235,\r\n",
      "               (33,30): 0.582957, 0.544465, 0.599411, 0.951112, 0.494108,\r\n",
      "               (33,35): 0.636869, 0.946688, 0.420377, 0.903037, 0.00461642,\r\n",
      "               (33,40): 0.571936, 0.0309427, 0.976692, 0.871919, 0.74241,\r\n",
      "               (33,45): 0.568302, 0.96016, 0.175534, 0.758192, 0.59601,\r\n",
      "               (34,0): 0.569619, 0.492094, 0.190839, 0.739229, 0.145653,\r\n",
      "               (34,5): 0.385508, 0.032026, 0.113553, 0.383341, 0.593344,\r\n",
      "               (34,10): 0.95145, 0.0930854, 0.0153131, 0.0137819, 0.680622,\r\n",
      "               (34,15): 0.392155, 0.419554, 0.9969, 0.0456561, 0.358633,\r\n",
      "               (34,20): 0.373005, 0.18494, 0.456543, 0.056877, 0.00139087,\r\n",
      "               (34,25): 0.220001, 0.668945, 0.448407, 0.398681, 0.942606,\r\n",
      "               (34,30): 0.955269, 0.903435, 0.23224, 0.68358, 0.553114,\r\n",
      "               (34,35): 0.913785, 0.729398, 0.0498038, 0.0594154, 0.779402,\r\n",
      "               (34,40): 0.612284, 0.635402, 0.928081, 0.754405, 0.510481,\r\n",
      "               (34,45): 0.490609, 0.146526, 0.864598, 0.847261, 0.0849275,\r\n",
      "               (35,0): 0.791809, 0.655928, 0.440003, 0.458183, 0.700326,\r\n",
      "               (35,5): 0.43902, 0.588516, 0.791752, 0.457467, 0.506097,\r\n",
      "               (35,10): 0.520154, 0.984541, 0.341315, 0.3943, 0.756954,\r\n",
      "               (35,15): 0.578702, 0.250644, 0.46481, 0.13555, 0.177859,\r\n",
      "               (35,20): 0.770599, 0.319004, 0.989959, 0.700952, 0.941956,\r\n",
      "               (35,25): 0.172093, 0.359846, 0.856488, 0.792807, 0.741855,\r\n",
      "               (35,30): 0.529929, 0.329069, 0.737722, 0.453675, 0.38349,\r\n",
      "               (35,35): 0.906507, 0.240753, 0.89205, 0.966824, 0.00970815,\r\n",
      "               (35,40): 0.0322478, 0.838708, 0.306741, 0.332443, 0.120875,\r\n",
      "               (35,45): 0.193835, 0.793202, 0.127281, 0.0774817, 0.861163,\r\n",
      "               (36,0): 0.204907, 0.00164789, 0.921929, 0.777745, 0.154546,\r\n",
      "               (36,5): 0.995112, 0.58654, 0.899996, 0.21769, 0.914317,\r\n",
      "               (36,10): 0.803864, 0.546583, 0.0950082, 0.85383, 0.350263,\r\n",
      "               (36,15): 0.913636, 0.181736, 0.58003, 0.12639, 0.756558,\r\n",
      "               (36,20): 0.926813, 0.0243027, 0.702561, 0.308703, 0.257475,\r\n",
      "               (36,25): 0.871702, 0.124212, 0.30252, 0.550321, 0.00992421,\r\n",
      "               (36,30): 0.157381, 0.531145, 0.897588, 0.124477, 0.412599,\r\n",
      "               (36,35): 0.274421, 0.321422, 0.874125, 0.899529, 0.777284,\r\n",
      "               (36,40): 0.877814, 0.355148, 0.155679, 0.61282, 0.439217,\r\n",
      "               (36,45): 0.191135, 0.88948, 0.0301973, 0.76663, 0.328232,\r\n",
      "               (37,0): 0.435394, 0.585431, 0.547734, 0.776919, 0.727564,\r\n",
      "               (37,5): 0.429407, 0.254745, 0.632626, 0.620962, 0.744494,\r\n",
      "               (37,10): 0.762434, 0.884135, 0.437466, 0.592168, 0.0154357,\r\n",
      "               (37,15): 0.563417, 0.545526, 0.810116, 0.640905, 0.580296,\r\n",
      "               (37,20): 0.890088, 0.496196, 0.0522508, 0.953675, 0.380366,\r\n",
      "               (37,25): 0.698901, 0.027799, 0.23181, 0.537998, 0.175637,\r\n",
      "               (37,30): 0.929171, 0.145421, 0.751775, 0.0991798, 0.749713,\r\n",
      "               (37,35): 0.0673286, 0.718924, 0.435406, 0.59554, 0.428909,\r\n",
      "               (37,40): 0.191316, 0.0138798, 0.540532, 0.902434, 0.182104,\r\n",
      "               (37,45): 0.219492, 0.0753097, 0.817326, 0.0312789, 0.772827,\r\n",
      "               (38,0): 0.362873, 0.465001, 0.220563, 0.664509, 0.517951,\r\n",
      "               (38,5): 0.159847, 0.440213, 0.852402, 0.623474, 0.859103,\r\n",
      "               (38,10): 0.110153, 0.8679, 0.59489, 0.481143, 0.152941,\r\n",
      "               (38,15): 0.174616, 0.500852, 0.0385613, 0.973697, 0.800415,\r\n",
      "               (38,20): 0.686081, 0.149427, 0.888748, 0.0567417, 0.23032,\r\n",
      "               (38,25): 0.684827, 0.412565, 0.716486, 0.735167, 0.867957,\r\n",
      "               (38,30): 0.822228, 0.526431, 0.586928, 0.0960012, 0.780734,\r\n",
      "               (38,35): 0.0607295, 0.485625, 0.714222, 0.485743, 0.955378,\r\n",
      "               (38,40): 0.318019, 0.146985, 0.569559, 0.235516, 0.102841,\r\n",
      "               (38,45): 0.0119166, 0.44797, 0.358159, 0.330284, 0.0822128,\r\n",
      "               (39,0): 0.990696, 0.877233, 0.0663116, 0.921974, 0.268569,\r\n",
      "               (39,5): 0.385756, 0.0791481, 0.238029, 0.317769, 0.281613,\r\n",
      "               (39,10): 0.0132338, 0.498879, 0.509655, 0.345891, 0.526922,\r\n",
      "               (39,15): 0.241027, 0.190859, 0.694156, 0.00211096, 0.187856,\r\n",
      "               (39,20): 0.202127, 0.192106, 0.413182, 0.76572, 0.964247,\r\n",
      "               (39,25): 0.194567, 0.574468, 0.76545, 0.0452739, 0.482231,\r\n",
      "               (39,30): 0.369317, 0.626419, 0.432121, 0.833544, 0.137465,\r\n",
      "               (39,35): 0.217729, 0.805594, 0.898817, 0.943318, 0.435694,\r\n",
      "               (39,40): 0.480064, 0.473474, 0.790127, 0.100822, 0.361362,\r\n",
      "               (39,45): 0.153845, 0.0350832, 0.840073, 0.140982, 0.960049,\r\n",
      "               (40,0): 0.356689, 0.876486, 0.976501, 0.653646, 0.993059,\r\n",
      "               (40,5): 0.786933, 0.445895, 0.889614, 0.342675, 0.826128,\r\n",
      "               (40,10): 0.565148, 0.466951, 0.305645, 0.766687, 0.96712,\r\n",
      "               (40,15): 0.430565, 0.0330499, 0.419404, 0.698828, 0.250552,\r\n",
      "               (40,20): 0.434492, 0.883708, 0.291414, 0.839505, 0.796625,\r\n",
      "               (40,25): 0.696402, 0.0466975, 0.838646, 0.916898, 0.938621,\r\n",
      "               (40,30): 0.949936, 0.55585, 0.58879, 0.610214, 0.45117,\r\n",
      "               (40,35): 0.13246, 0.621209, 0.733552, 0.683859, 0.51126,\r\n",
      "               (40,40): 0.812923, 0.529595, 0.884021, 0.0738949, 0.189265,\r\n",
      "               (40,45): 0.94503, 0.485361, 0.182932, 0.62279, 0.850797,\r\n",
      "               (41,0): 0.0385204, 0.789798, 0.098574, 0.373478, 0.414598,\r\n",
      "               (41,5): 0.0854471, 0.902453, 0.814979, 0.348016, 0.333868,\r\n",
      "               (41,10): 0.734513, 0.232304, 0.446211, 0.940328, 0.83632,\r\n",
      "               (41,15): 0.463151, 0.447888, 0.0519555, 0.257123, 0.740455,\r\n",
      "               (41,20): 0.984073, 0.339993, 0.931714, 0.00640951, 0.918889,\r\n",
      "               (41,25): 0.732295, 0.536331, 0.604064, 0.404733, 0.434001,\r\n",
      "               (41,30): 0.223662, 0.892622, 0.648365, 0.230722, 0.998714,\r\n",
      "               (41,35): 0.577193, 0.92523, 0.559754, 0.55877, 0.846669,\r\n",
      "               (41,40): 0.648207, 0.958642, 0.454808, 0.10771, 0.383833,\r\n",
      "               (41,45): 0.12734, 0.475224, 0.484934, 0.730186, 0.241389,\r\n",
      "               (42,0): 0.360297, 0.654697, 0.947718, 0.42276, 0.527236,\r\n",
      "               (42,5): 0.280519, 0.680031, 0.650522, 0.689069, 0.626941,\r\n",
      "               (42,10): 0.0934709, 0.547912, 0.693077, 0.604233, 0.090592,\r\n",
      "               (42,15): 0.492336, 0.424234, 0.223854, 0.0482702, 0.580251,\r\n",
      "               (42,20): 0.540886, 0.393404, 0.619904, 0.31357, 0.138566,\r\n",
      "               (42,25): 0.0226573, 0.269819, 0.766232, 0.18851, 0.300634,\r\n",
      "               (42,30): 0.382103, 0.230738, 0.274436, 0.651118, 0.758006,\r\n",
      "               (42,35): 0.72238, 0.389811, 0.856645, 0.682674, 0.098084,\r\n",
      "               (42,40): 0.343975, 0.159771, 0.245281, 0.824253, 0.72371,\r\n",
      "               (42,45): 0.358408, 0.467484, 0.830476, 0.680456, 0.167731,\r\n",
      "               (43,0): 0.77101, 0.918483, 0.858412, 0.811461, 0.556226,\r\n",
      "               (43,5): 0.188371, 0.859113, 0.970597, 0.578656, 0.544378,\r\n",
      "               (43,10): 0.377569, 0.216577, 0.165058, 0.00115572, 0.518855,\r\n",
      "               (43,15): 0.93192, 0.346116, 0.665093, 0.695711, 0.858236,\r\n",
      "               (43,20): 0.165305, 0.463931, 0.695058, 0.816845, 0.467087,\r\n",
      "               (43,25): 0.0509848, 0.0124719, 0.992891, 0.254767, 0.779942,\r\n",
      "               (43,30): 0.830661, 0.47895, 0.641003, 0.996664, 0.743108,\r\n",
      "               (43,35): 0.482117, 0.921859, 0.795667, 0.573866, 0.720216,\r\n",
      "               (43,40): 0.241885, 0.76716, 0.0111619, 0.0820585, 0.244427,\r\n",
      "               (43,45): 0.414896, 0.14747, 0.867124, 0.886363, 0.870703,\r\n",
      "               (44,0): 0.52252, 0.501715, 0.742093, 0.466304, 0.802191,\r\n",
      "               (44,5): 0.291679, 0.827825, 0.522273, 0.125605, 0.0562062,\r\n",
      "               (44,10): 0.467802, 0.952523, 0.614299, 0.674849, 0.470371,\r\n",
      "               (44,15): 0.779082, 0.320922, 0.774281, 0.67551, 0.426067,\r\n",
      "               (44,20): 0.591088, 0.879263, 0.365021, 0.294289, 0.129828,\r\n",
      "               (44,25): 0.379836, 0.766978, 0.683905, 0.815741, 0.902432,\r\n",
      "               (44,30): 0.229407, 0.723837, 0.19865, 0.182854, 0.851439,\r\n",
      "               (44,35): 0.141909, 0.741046, 0.769361, 0.928842, 0.288102,\r\n",
      "               (44,40): 0.504368, 0.412791, 0.119491, 0.219617, 0.524097,\r\n",
      "               (44,45): 0.634488, 0.422543, 0.791779, 0.78103, 0.707032,\r\n",
      "               (45,0): 0.715448, 0.519232, 0.432039, 0.169104, 0.263462,\r\n",
      "               (45,5): 0.091166, 0.754988, 0.420364, 0.0927064, 0.0643089,\r\n",
      "               (45,10): 0.531053, 0.37496, 0.988369, 0.999579, 0.0988844,\r\n",
      "               (45,15): 0.242545, 0.953649, 0.811031, 0.558013, 0.511755,\r\n",
      "               (45,20): 0.109393, 0.234499, 0.929768, 0.719813, 0.616354,\r\n",
      "               (45,25): 0.944415, 0.345143, 0.46108, 0.404251, 0.6236,\r\n",
      "               (45,30): 0.330235, 0.573899, 0.865127, 0.369434, 0.38939,\r\n",
      "               (45,35): 0.282131, 0.957629, 0.530741, 0.797622, 0.550746,\r\n",
      "               (45,40): 0.98435, 0.493566, 0.583149, 0.10775, 0.63538,\r\n",
      "               (45,45): 0.204331, 0.327714, 0.683232, 0.882671, 0.17123,\r\n",
      "               (46,0): 0.42855, 0.209191, 0.52845, 0.621681, 0.135221,\r\n",
      "               (46,5): 0.178387, 0.435263, 0.0308419, 0.714653, 0.737189,\r\n",
      "               (46,10): 0.0440202, 0.92765, 0.186801, 0.00854319, 0.811553,\r\n",
      "               (46,15): 0.802207, 0.770196, 0.897134, 0.602864, 0.708953,\r\n",
      "               (46,20): 0.0358723, 0.92426, 0.395931, 0.139124, 0.370423,\r\n",
      "               (46,25): 0.19739, 0.478844, 0.350167, 0.011962, 0.954919,\r\n",
      "               (46,30): 0.583608, 0.700235, 0.172602, 0.674067, 0.855384,\r\n",
      "               (46,35): 0.650126, 0.231583, 0.0553766, 0.657004, 0.807317,\r\n",
      "               (46,40): 0.246529, 0.544966, 0.12543, 0.175759, 0.217352,\r\n",
      "               (46,45): 0.845757, 0.400455, 0.79724, 0.442621, 0.141567,\r\n",
      "               (47,0): 0.381743, 0.365984, 0.0333973, 0.448283, 0.49573,\r\n",
      "               (47,5): 0.49953, 0.569694, 0.800497, 0.62218, 0.785281,\r\n",
      "               (47,10): 0.328724, 0.911514, 0.492362, 0.393682, 0.309477,\r\n",
      "               (47,15): 0.414947, 0.220083, 0.305676, 0.309962, 0.170378,\r\n",
      "               (47,20): 0.62766, 0.773416, 0.510623, 0.135858, 0.386796,\r\n",
      "               (47,25): 0.127726, 0.259151, 0.0764832, 0.214088, 0.282319,\r\n",
      "               (47,30): 0.759887, 0.618983, 0.168139, 0.622623, 0.477089,\r\n",
      "               (47,35): 0.564504, 0.960435, 0.443103, 0.764952, 0.413741,\r\n",
      "               (47,40): 0.11441, 0.0349748, 0.0499288, 0.0850098, 0.0600918,\r\n",
      "               (47,45): 0.656691, 0.438862, 0.848694, 0.5184, 0.275109,\r\n",
      "               (48,0): 0.20696, 0.75188, 0.440155, 0.381155, 0.571105,\r\n",
      "               (48,5): 0.28173, 0.546472, 0.181802, 0.18139, 0.124856,\r\n",
      "               (48,10): 0.734805, 0.410176, 0.13029, 0.523952, 0.254103,\r\n",
      "               (48,15): 0.947859, 0.482019, 0.797389, 0.407831, 0.874583,\r\n",
      "               (48,20): 0.897297, 0.119887, 0.175621, 0.821167, 0.0399704,\r\n",
      "               (48,25): 0.337196, 0.17113, 0.275198, 0.132937, 0.500989,\r\n",
      "               (48,30): 0.909639, 0.23887, 0.385442, 0.147628, 0.5882,\r\n",
      "               (48,35): 0.948923, 0.131682, 0.228311, 0.347629, 0.643679,\r\n",
      "               (48,40): 0.786835, 0.480429, 0.607086, 0.0512861, 0.55728,\r\n",
      "               (48,45): 0.754562, 0.526501, 0.735548, 0.639959, 0.20712,\r\n",
      "               (49,0): 0.616528, 0.727687, 0.541173, 0.153406, 0.897463,\r\n",
      "               (49,5): 0.619082, 0.202359, 0.320777, 0.496191, 0.785182,\r\n",
      "               (49,10): 0.739278, 0.0203736, 0.283714, 0.657462, 0.853613,\r\n",
      "               (49,15): 0.426515, 0.790742, 0.506872, 0.606901, 0.814265,\r\n",
      "               (49,20): 0.338997, 0.710637, 0.465507, 0.422778, 0.666965,\r\n",
      "               (49,25): 0.80722, 0.28081, 0.189801, 0.02723, 0.481868, 0.539,\r\n",
      "               (49,31): 0.224642, 0.762287, 0.00749564, 0.0721216, 0.431906,\r\n",
      "               (49,36): 0.823551, 0.270944, 0.322361, 0.735475, 0.80628,\r\n",
      "               (49,41): 0.131111, 0.800707, 0.911375, 0.313236, 0.300141,\r\n",
      "               (49,46): 0.0251727, 0.0366182, 0.241692, 0.813446,\r\n",
      "               (50,0): 0.381946, 0.852167, 0.939424, 0.471344, 0.474739,\r\n",
      "               (50,5): 0.0480038, 0.87538, 0.251382, 0.882428, 0.101304,\r\n",
      "               (50,10): 0.0324067, 0.601442, 0.119756, 0.760719, 0.0286117,\r\n",
      "               (50,15): 0.833675, 0.323141, 0.360094, 0.632612, 0.619504,\r\n",
      "               (50,20): 0.205638, 0.0153564, 0.0665218, 0.517108, 0.426677,\r\n",
      "               (50,25): 0.324888, 0.0170822, 0.998887, 0.195567, 0.806161,\r\n",
      "               (50,30): 0.098253, 0.957868, 0.752898, 0.940189, 0.326286,\r\n",
      "               (50,35): 0.181754, 0.771915, 0.374424, 0.762028, 0.356205,\r\n",
      "               (50,40): 0.67946, 0.672301, 0.184416, 0.204019, 0.645922,\r\n",
      "               (50,45): 0.430405, 0.289207, 0.684071, 0.882205, 0.913836,\r\n",
      "               (51,0): 0.796828, 0.670606, 0.308406, 0.295251, 0.642955,\r\n",
      "               (51,5): 0.0757006, 0.761675, 0.837416, 0.895575, 0.586537,\r\n",
      "               (51,10): 0.701813, 0.535665, 0.0992841, 0.0523413, 0.455266,\r\n",
      "               (51,15): 0.314986, 0.667335, 0.0226233, 0.563317, 0.691407,\r\n",
      "               (51,20): 0.197484, 0.897026, 0.324147, 0.596719, 0.995303,\r\n",
      "               (51,25): 0.789522, 0.260329, 0.979716, 0.515541, 0.405544,\r\n",
      "               (51,30): 0.152259, 0.899816, 0.157311, 0.53144, 0.353956,\r\n",
      "               (51,35): 0.158304, 0.637561, 0.444929, 0.605136, 0.786878,\r\n",
      "               (51,40): 0.0716038, 0.602309, 0.913579, 0.0572561, 0.811429,\r\n",
      "               (51,45): 0.261195, 0.319364, 0.374231, 0.307482, 0.958774,\r\n",
      "               (52,0): 0.843286, 0.265232, 0.530861, 0.040619, 0.673309,\r\n",
      "               (52,5): 0.549469, 0.564749, 0.681694, 0.652247, 0.193736,\r\n",
      "               (52,10): 0.629071, 0.268163, 0.589117, 0.133932, 0.158403,\r\n",
      "               (52,15): 0.291532, 0.0887399, 0.895357, 0.711256, 0.0422207,\r\n",
      "               (52,20): 0.720102, 0.314955, 0.191702, 0.850183, 0.873902,\r\n",
      "               (52,25): 0.680079, 0.136074, 0.291489, 0.0552029, 0.366402,\r\n",
      "               (52,30): 0.41334, 0.00220033, 0.340838, 0.0426602, 0.692107,\r\n",
      "               (52,35): 0.481597, 0.563661, 0.950119, 0.0200568, 0.784897,\r\n",
      "               (52,40): 0.63906, 0.330819, 0.909591, 0.40343, 0.681569,\r\n",
      "               (52,45): 0.61245, 0.199032, 0.137099, 0.259128, 0.383016,\r\n",
      "               (53,0): 0.554319, 0.626306, 0.0171007, 0.146692, 0.111841,\r\n",
      "               (53,5): 0.844194, 0.176074, 0.839293, 0.464053, 0.805655,\r\n",
      "               (53,10): 0.611913, 0.479277, 0.190107, 0.134175, 0.213031,\r\n",
      "               (53,15): 0.175403, 0.626466, 0.990512, 0.815766, 0.74733,\r\n",
      "               (53,20): 0.0816913, 0.46274, 0.0439171, 0.33269, 0.114804,\r\n",
      "               (53,25): 0.0800547, 0.849917, 0.472357, 0.855638, 0.00305152,\r\n",
      "               (53,30): 0.147103, 0.439547, 0.613203, 0.140474, 0.456263,\r\n",
      "               (53,35): 0.464944, 0.473389, 0.873116, 0.477828, 0.268239,\r\n",
      "               (53,40): 0.540048, 0.0376528, 0.52278, 0.779932, 0.350012,\r\n",
      "               (53,45): 0.757124, 0.65328, 0.20046, 0.606166, 0.228478,\r\n",
      "               (54,0): 0.983202, 0.544015, 0.675598, 0.338316, 0.374434,\r\n",
      "               (54,5): 0.743094, 0.199476, 0.304397, 0.81118, 0.583975,\r\n",
      "               (54,10): 0.615599, 0.525849, 0.668779, 0.220103, 0.957623,\r\n",
      "               (54,15): 0.9781, 0.512008, 0.0776408, 0.967832, 0.482517,\r\n",
      "               (54,20): 0.995015, 0.658623, 0.00826174, 0.926293, 0.0770845,\r\n",
      "               (54,25): 0.634228, 0.298799, 0.487245, 0.886659, 0.116533,\r\n",
      "               (54,30): 0.0733369, 0.110346, 0.786945, 0.765615, 0.813828,\r\n",
      "               (54,35): 0.765134, 0.252427, 0.839605, 0.626721, 0.768636,\r\n",
      "               (54,40): 0.577828, 0.254777, 0.68191, 0.695226, 0.824723,\r\n",
      "               (54,45): 0.888956, 0.899148, 0.669969, 0.907553, 0.00557192,\r\n",
      "               (55,0): 0.32967, 0.230658, 0.126661, 0.137765, 0.132092,\r\n",
      "               (55,5): 0.468833, 0.335468, 0.48017, 0.60488, 0.763894,\r\n",
      "               (55,10): 0.876415, 0.115376, 0.0149405, 0.253806, 0.108437,\r\n",
      "               (55,15): 0.141328, 0.156724, 0.123126, 0.98034, 0.877266,\r\n",
      "               (55,20): 0.312944, 0.0720151, 0.59714, 0.631792, 0.573036,\r\n",
      "               (55,25): 0.977654, 0.88731, 0.936941, 0.295233, 0.736315,\r\n",
      "               (55,30): 0.999122, 0.412811, 0.796154, 0.996486, 0.163212,\r\n",
      "               (55,35): 0.819743, 0.926071, 0.021079, 0.563623, 0.060081,\r\n",
      "               (55,40): 0.817039, 0.0793921, 0.0722949, 0.965605, 0.2181,\r\n",
      "               (55,45): 0.246471, 0.0821393, 0.823681, 0.92035, 0.582923,\r\n",
      "               (56,0): 0.0733742, 0.576084, 0.197012, 0.767613, 0.359291,\r\n",
      "               (56,5): 0.964936, 0.649067, 0.311294, 0.853325, 0.162973,\r\n",
      "               (56,10): 0.955331, 0.0299171, 0.655381, 0.918261, 0.559367,\r\n",
      "               (56,15): 0.568299, 0.911578, 0.328337, 0.563264, 0.778872,\r\n",
      "               (56,20): 0.359119, 0.0544257, 0.299017, 0.401943, 0.783332,\r\n",
      "               (56,25): 0.665073, 0.361797, 0.735173, 0.896137, 0.60963,\r\n",
      "               (56,30): 0.502367, 0.00172281, 0.63259, 0.100851, 0.805556,\r\n",
      "               (56,35): 0.216703, 0.681022, 0.186744, 0.575791, 0.284327,\r\n",
      "               (56,40): 0.762749, 0.380499, 0.965878, 0.29006, 0.100888,\r\n",
      "               (56,45): 0.850143, 0.0485197, 0.362944, 0.360948, 0.683314,\r\n",
      "               (57,0): 0.299201, 0.501214, 0.540173, 0.381403, 0.392834,\r\n",
      "               (57,5): 0.172239, 0.469646, 0.894713, 0.512842, 0.870126,\r\n",
      "               (57,10): 0.644947, 0.141955, 0.355567, 0.178096, 0.326705,\r\n",
      "               (57,15): 0.264218, 0.368538, 0.34081, 0.630586, 0.974321,\r\n",
      "               (57,20): 0.519189, 0.747825, 0.242545, 0.184911, 0.582432,\r\n",
      "               (57,25): 0.273585, 0.995619, 0.601769, 0.777812, 0.220143,\r\n",
      "               (57,30): 0.13407, 0.161201, 0.706212, 0.688577, 0.566714,\r\n",
      "               (57,35): 0.726252, 0.415756, 0.772301, 0.709753, 0.936115,\r\n",
      "               (57,40): 0.313835, 0.0655724, 0.500733, 0.770596, 0.606536,\r\n",
      "               (57,45): 0.75597, 0.513616, 0.238562, 0.867023, 0.977407,\r\n",
      "               (58,0): 0.224269, 0.660996, 0.105117, 0.989128, 0.851186,\r\n",
      "               (58,5): 0.233552, 0.663842, 0.0503965, 0.459127, 0.0451555,\r\n",
      "               (58,10): 0.0469701, 0.0636376, 0.928025, 0.616763, 0.352306,\r\n",
      "               (58,15): 0.361098, 0.658069, 0.383445, 0.897509, 0.923934,\r\n",
      "               (58,20): 0.0843653, 0.0401774, 0.539872, 0.374497, 0.492164,\r\n",
      "               (58,25): 0.877757, 0.0339802, 0.76455, 0.961078, 0.36923,\r\n",
      "               (58,30): 0.337716, 0.296557, 0.399293, 0.0086208, 0.0850289,\r\n",
      "               (58,35): 0.175671, 0.505175, 0.869482, 0.649827, 0.407697,\r\n",
      "               (58,40): 0.0473715, 0.574785, 0.12901, 0.357058, 0.854666,\r\n",
      "               (58,45): 0.86692, 0.77054, 0.505407, 0.896848, 0.626992,\r\n",
      "               (59,0): 0.0126511, 0.673371, 0.713007, 0.493157, 0.0223526,\r\n",
      "               (59,5): 0.367498, 0.809123, 0.32183, 0.554843, 0.0765867,\r\n",
      "               (59,10): 0.91408, 0.959099, 0.964279, 0.375072, 0.846845,\r\n",
      "               (59,15): 0.504007, 0.1951, 0.962663, 0.588167, 0.26645,\r\n",
      "               (59,20): 0.991717, 0.157236, 0.788881, 0.484041, 0.238467,\r\n",
      "               (59,25): 0.298823, 0.4438, 0.412723, 0.772614, 0.0161189,\r\n",
      "               (59,30): 0.474407, 0.530085, 0.59635, 0.684389, 0.948301,\r\n",
      "               (59,35): 0.159867, 0.596781, 0.697156, 0.339961, 0.492061,\r\n",
      "               (59,40): 0.672984, 0.526132, 0.263591, 0.647312, 0.668976,\r\n",
      "               (59,45): 0.0604308, 0.958696, 0.405, 0.573022, 0.380599,\r\n",
      "               (60,0): 0.322655, 0.69401, 0.403198, 0.0260249, 0.978325,\r\n",
      "               (60,5): 0.458747, 0.581652, 0.794217, 0.823109, 0.879667,\r\n",
      "               (60,10): 0.163151, 0.314921, 0.197982, 0.606295, 0.782578,\r\n",
      "               (60,15): 0.390181, 0.827088, 0.480924, 0.0665876, 0.189441,\r\n",
      "               (60,20): 0.70243, 0.976661, 0.123395, 0.790755, 0.127294,\r\n",
      "               (60,25): 0.55763, 0.536075, 0.71654, 0.886542, 0.377644,\r\n",
      "               (60,30): 0.581961, 0.415163, 0.484303, 0.686624, 0.0755229,\r\n",
      "               (60,35): 0.795918, 0.779819, 0.606529, 0.0498737, 0.859897,\r\n",
      "               (60,40): 0.23902, 0.373217, 0.941695, 0.580349, 0.974096,\r\n",
      "               (60,45): 0.334092, 0.639876, 0.566887, 0.18475, 0.868009,\r\n",
      "               (61,0): 0.180465, 0.579722, 0.13954, 0.534333, 0.464158,\r\n",
      "               (61,5): 0.8464, 0.879746, 0.869187, 0.028042, 0.184497,\r\n",
      "               (61,10): 0.456018, 0.0315451, 0.717981, 0.910151, 0.147658,\r\n",
      "               (61,15): 0.273605, 0.207861, 0.369519, 0.358302, 0.00787439,\r\n",
      "               (61,20): 0.107234, 0.176488, 0.975038, 0.685624, 0.219048,\r\n",
      "               (61,25): 0.863319, 0.962621, 0.569658, 0.255539, 0.756564,\r\n",
      "               (61,30): 0.837592, 0.757941, 0.622436, 0.330565, 0.799678,\r\n",
      "               (61,35): 0.967492, 0.793237, 0.446079, 0.879486, 0.259204,\r\n",
      "               (61,40): 0.996962, 0.251669, 0.279789, 0.523131, 0.344547,\r\n",
      "               (61,45): 0.8052, 0.59514, 0.714757, 0.368649, 0.385417,\r\n",
      "               (62,0): 0.232101, 0.0489736, 0.545908, 0.892931, 0.696874,\r\n",
      "               (62,5): 0.371705, 0.38682, 0.741825, 0.131545, 0.0679728,\r\n",
      "               (62,10): 0.732757, 0.0500305, 0.674254, 0.536264, 0.264705,\r\n",
      "               (62,15): 0.566773, 0.388723, 0.266543, 0.989996, 0.553232,\r\n",
      "               (62,20): 0.83018, 0.31032, 0.827727, 0.416282, 0.942062,\r\n",
      "               (62,25): 0.28066, 0.738, 0.817081, 0.356389, 0.520052,\r\n",
      "               (62,30): 0.232902, 0.294422, 0.150766, 0.445848, 0.6375,\r\n",
      "               (62,35): 0.700786, 0.299504, 0.237986, 0.607201, 0.125208,\r\n",
      "               (62,40): 0.187215, 0.501342, 0.62622, 0.387061, 0.0802069,\r\n",
      "               (62,45): 0.66988, 0.467591, 0.74301, 0.638592, 0.929486,\r\n",
      "               (63,0): 0.419157, 0.56834, 0.0415938, 0.442557, 0.21066,\r\n",
      "               (63,5): 0.305172, 0.833101, 0.890601, 0.481422, 0.1154,\r\n",
      "               (63,10): 0.102584, 0.0167105, 0.593291, 0.185878, 0.101782,\r\n",
      "               (63,15): 0.249905, 0.466624, 0.120477, 0.792531, 0.879459,\r\n",
      "               (63,20): 0.574265, 0.394128, 0.938704, 0.56699, 0.323076,\r\n",
      "               (63,25): 0.220388, 0.0388569, 0.0816303, 0.629369, 0.152452,\r\n",
      "               (63,30): 0.97442, 0.475875, 0.644091, 0.212002, 0.998406,\r\n",
      "               (63,35): 0.401309, 0.425825, 0.421828, 0.0933817, 0.0241649,\r\n",
      "               (63,40): 0.431554, 0.892943, 0.558607, 0.410035, 0.368451,\r\n",
      "               (63,45): 0.0253816, 0.139637, 0.316145, 0.359395, 0.347988,\r\n",
      "               (64,0): 0.427131, 0.465617, 0.975165, 0.909999, 0.459562,\r\n",
      "               (64,5): 0.638039, 0.348492, 0.927559, 0.657056, 0.960061,\r\n",
      "               (64,10): 0.627396, 0.891823, 0.814927, 0.677431, 0.216124,\r\n",
      "               (64,15): 0.834763, 0.486136, 0.637608, 0.0557078, 0.724799,\r\n",
      "               (64,20): 0.81929, 0.654246, 0.829, 0.902966, 0.553626,\r\n",
      "               (64,25): 0.0161128, 0.745995, 0.430926, 0.202272, 0.333484,\r\n",
      "               (64,30): 0.545431, 0.288745, 0.907565, 0.479651, 0.00804409,\r\n",
      "               (64,35): 0.796448, 0.113041, 0.361092, 0.0348946, 0.788933,\r\n",
      "               (64,40): 0.569815, 0.267067, 0.309972, 0.604916, 0.24704,\r\n",
      "               (64,45): 0.762151, 0.967746, 0.832911, 0.0656467, 0.683777,\r\n",
      "               (65,0): 0.576591, 0.00225346, 0.673525, 0.988901, 0.831581,\r\n",
      "               (65,5): 0.54449, 0.57528, 0.985321, 0.0820962, 0.0378771,\r\n",
      "               (65,10): 0.225034, 0.577404, 0.404714, 0.26886, 0.114474,\r\n",
      "               (65,15): 0.873472, 0.0618836, 0.647763, 0.622561, 0.189025,\r\n",
      "               (65,20): 0.674099, 0.705146, 0.51057, 0.469665, 0.694478,\r\n",
      "               (65,25): 0.024313, 0.764137, 0.641665, 0.841056, 0.249907,\r\n",
      "               (65,30): 0.452959, 0.49785, 0.172871, 0.93783, 0.187406,\r\n",
      "               (65,35): 0.759114, 0.458935, 0.400942, 0.189381, 0.4583,\r\n",
      "               (65,40): 0.0121205, 0.391124, 0.512657, 0.978743, 0.285669,\r\n",
      "               (65,45): 0.654897, 0.544807, 0.324404, 0.999034, 0.0807444,\r\n",
      "               (66,0): 0.352472, 0.00508273, 0.289287, 0.192223, 0.690935,\r\n",
      "               (66,5): 0.793743, 0.457296, 0.65936, 0.186198, 0.577101,\r\n",
      "               (66,10): 0.307782, 0.931855, 0.369457, 0.0290507, 0.172963,\r\n",
      "               (66,15): 0.93397, 0.00868697, 0.423682, 0.26726, 0.962167,\r\n",
      "               (66,20): 0.181248, 0.896051, 0.734855, 0.948011, 0.0653851,\r\n",
      "               (66,25): 0.731625, 0.428204, 0.664256, 0.348988, 0.66784,\r\n",
      "               (66,30): 0.902601, 0.926544, 0.0252652, 0.746087, 0.538691,\r\n",
      "               (66,35): 0.000388295, 0.0882196, 0.400158, 0.334167,\r\n",
      "               (66,39): 0.0685416, 0.0662899, 0.43839, 0.304682, 0.550957,\r\n",
      "               (66,44): 0.0408185, 0.152024, 0.194907, 0.32347, 0.221215,\r\n",
      "               (66,49): 0.775413,\r\n",
      "               (67,0): 0.892941, 0.747119, 0.317796, 0.201658, 0.460617,\r\n",
      "               (67,5): 0.991588, 0.25588, 0.127678, 0.395179, 0.783293,\r\n",
      "               (67,10): 0.773513, 0.933354, 0.275426, 0.922868, 0.501336,\r\n",
      "               (67,15): 0.558749, 0.222354, 0.822731, 0.972901, 0.164119,\r\n",
      "               (67,20): 0.130558, 0.98071, 0.712926, 0.116272, 0.378304,\r\n",
      "               (67,25): 0.0472199, 0.452924, 0.553006, 0.689044, 0.239779,\r\n",
      "               (67,30): 0.20631, 0.169728, 0.118464, 0.198642, 0.627219,\r\n",
      "               (67,35): 0.838941, 0.583751, 0.744803, 0.749581, 0.371679,\r\n",
      "               (67,40): 0.603802, 0.0186617, 0.246257, 0.625355, 0.848428,\r\n",
      "               (67,45): 0.581041, 0.631213, 0.447402, 0.0920783, 0.606065,\r\n",
      "               (68,0): 0.544927, 0.24667, 0.410142, 0.870638, 0.616836,\r\n",
      "               (68,5): 0.931346, 0.661818, 0.117843, 0.487229, 0.481063,\r\n",
      "               (68,10): 0.675729, 0.752972, 0.415279, 0.0173486, 0.109744,\r\n",
      "               (68,15): 0.616593, 0.0761312, 0.170129, 0.843446, 0.175902,\r\n",
      "               (68,20): 0.885312, 0.912264, 0.423958, 0.646414, 0.56232,\r\n",
      "               (68,25): 0.885913, 0.530938, 0.52016, 0.764394, 0.819438,\r\n",
      "               (68,30): 0.828743, 0.211554, 0.609674, 0.326914, 0.898014,\r\n",
      "               (68,35): 0.607969, 0.955426, 0.651186, 0.237788, 0.484692,\r\n",
      "               (68,40): 0.139548, 0.263611, 0.853668, 0.0910171, 0.42305,\r\n",
      "               (68,45): 0.387093, 0.676075, 0.0533705, 0.585169, 0.380669,\r\n",
      "               (69,0): 0.685154, 0.723282, 0.506786, 0.951184, 0.965076,\r\n",
      "               (69,5): 0.0538607, 0.243277, 0.0854192, 0.833533, 0.741446,\r\n",
      "               (69,10): 0.745472, 0.361155, 0.362367, 0.590866, 0.0102135,\r\n",
      "               (69,15): 0.455654, 0.157167, 0.339194, 0.134128, 0.458061,\r\n",
      "               (69,20): 0.97897, 7.56707e-05, 0.591872, 0.28103, 0.638501,\r\n",
      "               (69,25): 0.552077, 0.806975, 0.153937, 0.649081, 0.763197,\r\n",
      "               (69,30): 0.821014, 0.852017, 0.435061, 0.713792, 0.0184896,\r\n",
      "               (69,35): 0.830223, 0.564827, 0.1819, 0.446733, 0.768428,\r\n",
      "               (69,40): 0.810115, 0.972528, 0.107033, 0.518272, 0.664891,\r\n",
      "               (69,45): 0.241697, 0.836762, 0.290415, 0.162956, 0.314956,\r\n",
      "               (70,0): 0.504954, 0.597915, 0.792917, 0.77216, 0.953441,\r\n",
      "               (70,5): 0.476621, 0.90468, 0.149796, 0.560753, 0.586037,\r\n",
      "               (70,10): 0.331849, 0.754283, 0.76426, 0.59934, 0.289399,\r\n",
      "               (70,15): 0.682711, 0.700641, 0.98216, 0.23088, 0.053789,\r\n",
      "               (70,20): 0.221552, 0.849708, 0.481066, 0.996132, 0.904135,\r\n",
      "               (70,25): 0.311621, 0.396393, 0.552132, 0.787245, 0.427171,\r\n",
      "               (70,30): 0.241439, 0.731983, 0.574427, 0.423452, 0.294175,\r\n",
      "               (70,35): 0.616205, 0.977545, 0.731626, 0.133229, 0.802797,\r\n",
      "               (70,40): 0.448013, 0.339036, 0.349124, 0.524369, 0.818426,\r\n",
      "               (70,45): 0.336489, 0.944321, 0.522059, 0.956824, 0.815942,\r\n",
      "               (71,0): 0.337175, 0.931477, 0.666164, 0.997472, 0.967192,\r\n",
      "               (71,5): 0.788191, 0.900889, 0.427418, 0.459443, 0.259713,\r\n",
      "               (71,10): 0.784021, 0.994926, 0.59667, 0.0824884, 0.627366,\r\n",
      "               (71,15): 0.308183, 0.238611, 0.459749, 0.207902, 0.208132,\r\n",
      "               (71,20): 0.0972586, 0.709276, 0.167713, 0.696031, 0.084296,\r\n",
      "               (71,25): 0.60481, 0.568167, 0.0707745, 0.6174, 0.773304,\r\n",
      "               (71,30): 0.635083, 0.0951304, 0.166848, 0.869663, 0.326483,\r\n",
      "               (71,35): 0.719461, 0.692121, 0.821394, 0.764224, 0.637058,\r\n",
      "               (71,40): 0.190581, 0.711367, 0.385568, 0.258517, 0.995548,\r\n",
      "               (71,45): 0.699785, 0.193443, 0.99617, 0.111016, 0.703596,\r\n",
      "               (72,0): 0.122906, 0.599686, 0.542429, 0.719147, 0.928553,\r\n",
      "               (72,5): 0.820506, 0.0733712, 0.80109, 0.985862, 0.043791,\r\n",
      "               (72,10): 0.584685, 0.159294, 0.774321, 0.187561, 0.492716,\r\n",
      "               (72,15): 0.788749, 0.346525, 0.648692, 0.570434, 0.839108,\r\n",
      "               (72,20): 0.0447483, 0.217369, 0.613677, 0.695161, 0.727675,\r\n",
      "               (72,25): 0.163992, 0.72921, 0.0496477, 0.521221, 0.81312,\r\n",
      "               (72,30): 0.0301691, 0.56477, 0.120528, 0.98871, 0.092148,\r\n",
      "               (72,35): 0.496307, 0.165603, 0.227851, 0.934179, 0.989915,\r\n",
      "               (72,40): 0.601997, 0.243513, 0.948614, 0.100843, 0.354451,\r\n",
      "               (72,45): 0.527869, 0.0197803, 0.303836, 0.794049, 0.736417,\r\n",
      "               (73,0): 0.803656, 0.977702, 0.861377, 0.560865, 0.768508,\r\n",
      "               (73,5): 0.897867, 0.0122059, 0.774548, 0.20761, 0.373378,\r\n",
      "               (73,10): 0.887017, 0.94344, 0.528184, 0.835092, 0.955855,\r\n",
      "               (73,15): 0.556266, 0.905979, 0.119113, 0.178746, 0.588981,\r\n",
      "               (73,20): 0.721647, 0.156642, 0.546452, 0.0518157, 0.41761,\r\n",
      "               (73,25): 0.64187, 0.483095, 0.951798, 0.279055, 0.180982,\r\n",
      "               (73,30): 0.331214, 0.494011, 0.0959553, 0.00703487, 0.26611,\r\n",
      "               (73,35): 0.884129, 0.253131, 0.861937, 0.827811, 0.658686,\r\n",
      "               (73,40): 0.250173, 0.626431, 0.134863, 0.179934, 0.253035,\r\n",
      "               (73,45): 0.448302, 0.816872, 0.679286, 0.884026, 0.946135,\r\n",
      "               (74,0): 0.880344, 0.154736, 0.366609, 0.947403, 0.0748283,\r\n",
      "               (74,5): 0.90848, 0.0308269, 0.734634, 0.156381, 0.544447,\r\n",
      "               (74,10): 0.363098, 0.551183, 0.364736, 0.716858, 0.319065,\r\n",
      "               (74,15): 0.160271, 0.141087, 0.963706, 0.762275, 0.686197,\r\n",
      "               (74,20): 0.302424, 0.176724, 0.546098, 0.274912, 0.889712,\r\n",
      "               (74,25): 0.194497, 0.953556, 0.412247, 0.168762, 0.0184329,\r\n",
      "               (74,30): 0.0943809, 0.980332, 0.226704, 0.877939, 0.149687,\r\n",
      "               (74,35): 0.577644, 0.696967, 0.54657, 0.666217, 0.324607,\r\n",
      "               (74,40): 0.318142, 0.163221, 0.709355, 0.917104, 0.792668,\r\n",
      "               (74,45): 0.972526, 0.995387, 0.425953, 0.771823, 0.128564,\r\n",
      "               (75,0): 0.393462, 0.632636, 0.328886, 0.197986, 0.372816,\r\n",
      "               (75,5): 0.617959, 0.790207, 0.752003, 0.0970768, 0.759517,\r\n",
      "               (75,10): 0.949242, 0.84634, 0.354609, 0.882915, 0.731983,\r\n",
      "               (75,15): 0.400423, 0.725575, 0.650866, 0.37782, 0.639223,\r\n",
      "               (75,20): 0.430089, 0.852156, 0.880245, 0.402444, 0.396201,\r\n",
      "               (75,25): 0.498576, 0.438263, 0.0827588, 0.199291, 0.334237,\r\n",
      "               (75,30): 0.394854, 0.0694022, 0.329031, 0.122498, 0.0799312,\r\n",
      "               (75,35): 0.896969, 0.227308, 0.925168, 0.422106, 0.200462,\r\n",
      "               (75,40): 0.961413, 0.578519, 0.360223, 0.146053, 0.257409,\r\n",
      "               (75,45): 0.380614, 0.775105, 0.230475, 0.421291, 0.852642,\r\n",
      "               (76,0): 0.452736, 0.709035, 0.847408, 0.684939, 0.0950615,\r\n",
      "               (76,5): 0.986309, 0.414891, 0.123903, 0.687032, 0.639492,\r\n",
      "               (76,10): 0.794362, 0.835232, 0.9253, 0.614934, 0.942672,\r\n",
      "               (76,15): 0.684067, 0.348912, 0.866203, 0.631165, 0.435353,\r\n",
      "               (76,20): 0.633457, 0.796659, 0.324793, 0.838793, 0.416475,\r\n",
      "               (76,25): 0.933986, 0.848076, 0.822567, 0.831549, 0.931413,\r\n",
      "               (76,30): 0.143861, 0.77528, 0.72511, 0.424499, 0.916166,\r\n",
      "               (76,35): 0.858093, 0.875902, 0.823186, 0.87673, 0.913432,\r\n",
      "               (76,40): 0.708302, 0.0878693, 0.286545, 0.290982, 0.158527,\r\n",
      "               (76,45): 0.41155, 0.268883, 0.613232, 0.321925, 0.0183255,\r\n",
      "               (77,0): 0.288488, 0.185941, 0.265271, 0.600295, 0.106899,\r\n",
      "               (77,5): 0.622119, 0.464158, 0.480148, 0.0306525, 0.886799,\r\n",
      "               (77,10): 0.733832, 0.634157, 0.0179548, 0.331366, 0.0532037,\r\n",
      "               (77,15): 0.848195, 0.660792, 0.70728, 0.0874261, 0.485187,\r\n",
      "               (77,20): 0.736618, 0.758461, 0.248535, 0.0493322, 0.851103,\r\n",
      "               (77,25): 0.769593, 0.516604, 0.430974, 0.976792, 0.46942,\r\n",
      "               (77,30): 0.35356, 0.967773, 0.802792, 0.624939, 0.867984,\r\n",
      "               (77,35): 0.692197, 0.755113, 0.440796, 0.166871, 0.338162,\r\n",
      "               (77,40): 0.134266, 0.911716, 0.574796, 0.545591, 0.699158,\r\n",
      "               (77,45): 0.0558241, 0.57499, 0.138446, 0.505441, 0.755716,\r\n",
      "               (78,0): 0.913482, 0.921466, 0.10296, 0.214967, 0.724176,\r\n",
      "               (78,5): 0.486118, 0.92099, 0.177271, 0.717876, 0.715149,\r\n",
      "               (78,10): 0.215581, 0.160088, 0.493442, 0.41098, 0.949301,\r\n",
      "               (78,15): 0.275014, 0.910787, 0.0831285, 0.0776507, 0.497337,\r\n",
      "               (78,20): 0.716961, 0.842543, 0.900947, 0.489488, 0.238874,\r\n",
      "               (78,25): 0.604895, 0.672277, 0.765822, 0.266017, 0.79856,\r\n",
      "               (78,30): 0.608094, 0.500262, 0.882884, 0.0452482, 0.259093,\r\n",
      "               (78,35): 0.531473, 0.939234, 0.799948, 0.514605, 0.0298886,\r\n",
      "               (78,40): 0.714149, 0.455631, 0.668817, 0.495861, 0.179686,\r\n",
      "               (78,45): 0.834396, 0.220632, 0.635122, 0.166049, 0.308873,\r\n",
      "               (79,0): 0.128351, 0.433889, 0.28482, 0.289865, 0.22263,\r\n",
      "               (79,5): 0.685002, 0.839493, 0.163219, 0.414863, 0.693186,\r\n",
      "               (79,10): 0.211827, 0.464146, 0.562677, 0.700327, 0.961655,\r\n",
      "               (79,15): 0.380229, 0.375345, 0.788261, 0.318956, 0.664799,\r\n",
      "               (79,20): 0.488313, 0.62807, 0.699435, 0.411205, 0.321933,\r\n",
      "               (79,25): 0.525364, 0.63566, 0.816565, 0.128627, 0.779205,\r\n",
      "               (79,30): 0.805752, 0.346225, 0.713081, 0.691754, 0.919159,\r\n",
      "               (79,35): 0.882925, 0.497152, 0.679462, 0.255179, 0.363527,\r\n",
      "               (79,40): 0.88966, 0.44452, 0.0534409, 0.320224, 0.0104134,\r\n",
      "               (79,45): 0.72451, 0.35676, 0.820097, 0.515904, 0.194079,\r\n",
      "               (80,0): 0.718426, 0.0600723, 0.152464, 0.0880555, 0.612912,\r\n",
      "               (80,5): 0.671312, 0.229458, 0.562283, 0.0177565, 0.89484,\r\n",
      "               (80,10): 0.663602, 0.0714106, 0.850774, 0.0651593, 0.858227,\r\n",
      "               (80,15): 0.410543, 0.297146, 0.734513, 0.474723, 0.546553,\r\n",
      "               (80,20): 0.656924, 0.640139, 0.331069, 0.726499, 0.444933,\r\n",
      "               (80,25): 0.0213539, 0.470765, 0.618523, 0.0329298, 0.303132,\r\n",
      "               (80,30): 0.355346, 0.28015, 0.450676, 0.274356, 0.835039,\r\n",
      "               (80,35): 0.01579, 0.778636, 0.732815, 0.930391, 0.392503,\r\n",
      "               (80,40): 0.21698, 0.0553642, 0.0702526, 0.171091, 0.0263446,\r\n",
      "               (80,45): 0.190524, 0.675445, 0.643115, 0.125956, 0.741051,\r\n",
      "               (81,0): 0.683714, 0.905367, 0.470523, 0.194859, 0.71739,\r\n",
      "               (81,5): 0.392169, 0.183426, 0.939471, 0.988353, 0.52249,\r\n",
      "               (81,10): 0.810891, 0.360802, 0.0114211, 0.200813, 0.0175398,\r\n",
      "               (81,15): 0.336803, 0.571989, 0.400435, 0.491581, 0.473738,\r\n",
      "               (81,20): 0.000197017, 0.670235, 0.437206, 0.956202, 0.187917,\r\n",
      "               (81,25): 0.107343, 0.600073, 0.987046, 0.32201, 0.810695,\r\n",
      "               (81,30): 0.992419, 0.918878, 0.103909, 0.746424, 0.158444,\r\n",
      "               (81,35): 0.262067, 0.909571, 0.148564, 0.0885396, 0.916311,\r\n",
      "               (81,40): 0.931158, 0.656013, 0.0374089, 0.385817, 0.221257,\r\n",
      "               (81,45): 0.653996, 0.667822, 0.234121, 0.143734, 0.346263,\r\n",
      "               (82,0): 0.341455, 0.629599, 0.288564, 0.835037, 0.640812,\r\n",
      "               (82,5): 0.0576078, 0.0384925, 0.237539, 0.866893, 0.865374,\r\n",
      "               (82,10): 0.742753, 0.310094, 0.0485159, 0.139661, 0.890234,\r\n",
      "               (82,15): 0.458679, 0.927426, 0.728937, 0.0166303, 0.668733,\r\n",
      "               (82,20): 0.636023, 0.636472, 0.552383, 0.41227, 0.609553,\r\n",
      "               (82,25): 0.175699, 0.549402, 0.454382, 0.34463, 0.34029,\r\n",
      "               (82,30): 0.70594, 0.534271, 0.298187, 0.93707, 0.71977,\r\n",
      "               (82,35): 0.719012, 0.0691973, 0.335407, 0.849697, 0.128187,\r\n",
      "               (82,40): 0.979673, 0.563465, 0.598533, 0.938613, 0.660589,\r\n",
      "               (82,45): 0.895351, 0.741806, 0.629766, 0.0996557, 0.961869,\r\n",
      "               (83,0): 0.21722, 0.88065, 0.433613, 0.959765, 0.839689,\r\n",
      "               (83,5): 0.461346, 0.160031, 0.202952, 0.929311, 0.830348,\r\n",
      "               (83,10): 0.619697, 0.210098, 0.884107, 0.356311, 0.601595,\r\n",
      "               (83,15): 0.379727, 0.168259, 0.4371, 0.625017, 0.171897,\r\n",
      "               (83,20): 0.915804, 0.831319, 0.627835, 0.779949, 0.986723,\r\n",
      "               (83,25): 0.439064, 0.167119, 0.147054, 0.0530967, 0.990634,\r\n",
      "               (83,30): 0.670012, 0.167021, 0.134766, 0.260809, 0.642163,\r\n",
      "               (83,35): 0.629114, 0.277739, 0.591006, 0.352285, 0.174318,\r\n",
      "               (83,40): 0.855144, 0.506631, 0.0531865, 0.289271, 0.399905,\r\n",
      "               (83,45): 0.986903, 0.7212, 0.37207, 0.6092, 0.967815,\r\n",
      "               (84,0): 0.671536, 0.0865061, 0.459383, 0.084713, 0.160061,\r\n",
      "               (84,5): 0.640114, 0.465593, 0.885698, 0.362718, 0.334353,\r\n",
      "               (84,10): 0.397378, 0.392413, 0.633688, 0.899907, 0.487047,\r\n",
      "               (84,15): 0.170861, 0.460568, 0.768397, 0.103246, 0.697486,\r\n",
      "               (84,20): 0.778421, 0.72779, 0.691788, 0.439115, 0.562808,\r\n",
      "               (84,25): 0.968219, 0.0268475, 0.724208, 0.810283, 0.964463,\r\n",
      "               (84,30): 0.556609, 0.943414, 0.0182746, 0.803614, 0.00919253,\r\n",
      "               (84,35): 0.0640348, 0.832581, 0.377465, 0.497046, 0.236428,\r\n",
      "               (84,40): 0.208961, 0.143796, 0.578618, 0.383835, 0.101429,\r\n",
      "               (84,45): 0.335252, 0.134981, 0.674188, 0.0538994, 0.763176,\r\n",
      "               (85,0): 0.421147, 0.954145, 0.636088, 0.00582207, 0.839359,\r\n",
      "               (85,5): 0.454429, 0.157797, 0.089565, 0.407216, 0.400144,\r\n",
      "               (85,10): 0.921734, 0.332019, 0.600215, 0.963336, 0.875476,\r\n",
      "               (85,15): 0.426719, 0.167533, 0.307607, 0.786158, 0.848746,\r\n",
      "               (85,20): 0.824678, 0.740773, 0.652766, 0.425294, 0.478115,\r\n",
      "               (85,25): 0.670904, 0.962452, 0.316689, 0.1006, 0.608371,\r\n",
      "               (85,30): 0.432029, 0.225293, 0.887744, 0.97971, 0.0666776,\r\n",
      "               (85,35): 0.792628, 0.720658, 0.362901, 0.0955666, 0.423934,\r\n",
      "               (85,40): 0.539059, 0.969628, 0.102684, 0.341718, 0.846412,\r\n",
      "               (85,45): 0.203166, 0.0178244, 0.517437, 0.0135372, 0.209665,\r\n",
      "               (86,0): 0.162335, 0.227186, 0.404158, 0.175637, 0.248019,\r\n",
      "               (86,5): 0.225961, 0.485387, 0.516992, 0.34069, 0.285542,\r\n",
      "               (86,10): 0.400546, 0.28486, 0.459986, 0.548139, 0.371275,\r\n",
      "               (86,15): 0.718555, 0.873154, 0.946581, 0.934353, 0.274626,\r\n",
      "               (86,20): 0.395863, 0.518117, 0.456471, 0.94125, 0.576776,\r\n",
      "               (86,25): 0.432075, 0.476521, 0.540001, 0.140599, 0.775001,\r\n",
      "               (86,30): 0.0863827, 0.892432, 0.0561198, 0.659484, 0.893333,\r\n",
      "               (86,35): 0.207817, 0.164904, 0.43568, 0.497007, 0.977028,\r\n",
      "               (86,40): 0.602187, 0.837505, 0.379847, 0.059227, 0.754312,\r\n",
      "               (86,45): 0.953127, 0.409928, 0.0142678, 0.807852, 0.659148,\r\n",
      "               (87,0): 0.871859, 0.145547, 0.305009, 0.642541, 0.0162917,\r\n",
      "               (87,5): 0.387648, 0.872861, 0.628976, 0.839198, 0.55179,\r\n",
      "               (87,10): 0.669538, 0.888718, 0.189206, 0.321263, 0.194086,\r\n",
      "               (87,15): 0.258894, 0.128966, 0.916514, 0.983272, 0.34359,\r\n",
      "               (87,20): 0.569328, 0.439547, 0.775425, 0.157565, 0.826257,\r\n",
      "               (87,25): 0.0601298, 0.552629, 0.47775, 0.469911, 0.944741,\r\n",
      "               (87,30): 0.717067, 0.792017, 0.91116, 0.50876, 0.727619,\r\n",
      "               (87,35): 0.616282, 0.0835288, 0.557514, 0.0735197, 0.538831,\r\n",
      "               (87,40): 0.914701, 0.33659, 0.746836, 0.424359, 0.938901,\r\n",
      "               (87,45): 0.588832, 0.888301, 0.824015, 0.23815, 0.957618,\r\n",
      "               (88,0): 0.778435, 0.972659, 0.517327, 0.00541357, 0.842815,\r\n",
      "               (88,5): 0.389216, 0.573435, 0.509658, 0.940087, 0.662611,\r\n",
      "               (88,10): 0.428878, 0.877865, 0.650747, 0.22649, 0.37191,\r\n",
      "               (88,15): 0.557687, 0.0511006, 0.605042, 0.791003, 0.38644,\r\n",
      "               (88,20): 0.68813, 0.181764, 0.974798, 0.53345, 0.994483,\r\n",
      "               (88,25): 0.883372, 0.393541, 0.887165, 0.597665, 0.554518,\r\n",
      "               (88,30): 0.320966, 0.766997, 0.276569, 0.229106, 0.104085,\r\n",
      "               (88,35): 0.791712, 0.872655, 0.666475, 0.283499, 0.0119722,\r\n",
      "               (88,40): 0.791444, 0.986777, 0.209302, 0.846199, 0.187137,\r\n",
      "               (88,45): 0.899682, 0.0683599, 0.244709, 0.77038, 0.4874,\r\n",
      "               (89,0): 0.765347, 0.746185, 0.490591, 0.689557, 0.865781,\r\n",
      "               (89,5): 0.228792, 0.567363, 0.83334, 0.630012, 0.871742,\r\n",
      "               (89,10): 0.107833, 0.31951, 0.834908, 0.517991, 0.561956,\r\n",
      "               (89,15): 0.285605, 0.59018, 0.831105, 0.315224, 0.451843,\r\n",
      "               (89,20): 0.402384, 0.824803, 0.0877607, 0.749916, 0.712298,\r\n",
      "               (89,25): 0.573979, 0.530731, 0.248985, 0.698781, 0.277981,\r\n",
      "               (89,30): 0.595581, 0.0393166, 0.791436, 0.280487, 0.903721,\r\n",
      "               (89,35): 0.864083, 0.847919, 0.923141, 0.307162, 0.102935,\r\n",
      "               (89,40): 0.0555154, 0.793965, 0.421435, 0.216995, 0.228899,\r\n",
      "               (89,45): 0.725069, 0.969829, 0.242325, 0.23703, 0.425333,\r\n",
      "               (90,0): 0.460497, 0.453254, 0.394124, 0.27661, 0.324251,\r\n",
      "               (90,5): 0.536194, 0.784981, 0.326269, 0.690643, 0.768244,\r\n",
      "               (90,10): 0.739509, 0.723541, 0.823129, 0.52239, 0.765163,\r\n",
      "               (90,15): 0.858735, 0.925933, 0.364813, 0.47021, 0.405054,\r\n",
      "               (90,20): 0.311841, 0.31288, 0.00687096, 0.175615, 0.0496268,\r\n",
      "               (90,25): 0.302918, 0.250891, 0.513285, 0.264669, 0.493952,\r\n",
      "               (90,30): 0.8779, 0.474835, 0.477666, 0.934825, 0.746036,\r\n",
      "               (90,35): 0.543935, 0.211891, 0.487379, 0.118718, 0.450194,\r\n",
      "               (90,40): 0.501162, 0.864398, 0.559436, 0.437565, 0.893052,\r\n",
      "               (90,45): 0.722826, 0.370843, 0.311812, 0.98485, 0.319475,\r\n",
      "               (91,0): 0.625326, 0.783641, 0.96356, 0.159612, 0.383876,\r\n",
      "               (91,5): 0.462012, 0.402097, 0.869837, 0.153689, 0.477652,\r\n",
      "               (91,10): 0.861767, 0.736864, 0.747609, 0.163233, 0.297798,\r\n",
      "               (91,15): 0.0253568, 0.383109, 0.545335, 0.88498, 0.692074,\r\n",
      "               (91,20): 0.539843, 0.160525, 0.0036494, 0.694684, 0.487389,\r\n",
      "               (91,25): 0.585882, 0.7421, 0.863029, 0.488947, 0.950801,\r\n",
      "               (91,30): 0.847483, 0.695714, 0.00316722, 0.11087, 0.323211,\r\n",
      "               (91,35): 0.744223, 0.718282, 0.00105536, 0.849762, 0.808178,\r\n",
      "               (91,40): 0.854203, 0.014278, 0.885516, 0.362026, 0.192532,\r\n",
      "               (91,45): 0.234597, 0.631861, 0.338739, 0.25059, 0.418487,\r\n",
      "               (92,0): 0.883402, 0.533923, 0.340231, 0.460672, 0.648376,\r\n",
      "               (92,5): 0.313001, 0.0220965, 0.941521, 0.507864, 0.144195,\r\n",
      "               (92,10): 0.975483, 0.352059, 0.539786, 0.646735, 0.883208,\r\n",
      "               (92,15): 0.572519, 0.221057, 0.718069, 0.35652, 0.197437,\r\n",
      "               (92,20): 0.0202782, 0.584805, 0.858852, 0.16918, 0.270431,\r\n",
      "               (92,25): 0.00878502, 0.430942, 0.368504, 0.532057, 0.628749,\r\n",
      "               (92,30): 0.679982, 0.67896, 0.47024, 0.366216, 0.207504,\r\n",
      "               (92,35): 0.105857, 0.814725, 0.0931633, 0.265216, 0.424416,\r\n",
      "               (92,40): 0.795118, 0.140436, 0.36643, 0.374212, 0.677613,\r\n",
      "               (92,45): 0.411467, 0.0473647, 0.620842, 0.281809, 0.782655,\r\n",
      "               (93,0): 0.210662, 0.545803, 0.0684934, 0.0878176, 0.872235,\r\n",
      "               (93,5): 0.73512, 0.947424, 0.315449, 0.991422, 0.981891,\r\n",
      "               (93,10): 0.620094, 0.70775, 0.216905, 0.489551, 0.400512,\r\n",
      "               (93,15): 0.153041, 0.139232, 0.0497184, 0.0356499, 0.60669,\r\n",
      "               (93,20): 0.185971, 0.918414, 0.0762458, 0.827607, 0.603922,\r\n",
      "               (93,25): 0.0320739, 0.582053, 0.691314, 0.731379, 0.863945,\r\n",
      "               (93,30): 0.991274, 0.0604338, 0.57862, 0.382181, 0.0392549,\r\n",
      "               (93,35): 0.86558, 0.833711, 0.0660772, 0.726848, 0.560192,\r\n",
      "               (93,40): 0.520522, 0.803747, 0.078405, 0.923884, 0.670041,\r\n",
      "               (93,45): 0.820832, 0.990746, 0.0111189, 0.730247, 0.05635,\r\n",
      "               (94,0): 0.46137, 0.355119, 0.805237, 0.023645, 0.0257691,\r\n",
      "               (94,5): 0.66696, 0.00280717, 0.0534404, 0.981425, 0.1003,\r\n",
      "               (94,10): 0.800333, 0.50043, 0.322664, 0.863784, 0.836391,\r\n",
      "               (94,15): 0.282464, 0.488351, 0.759036, 0.836583, 0.917893,\r\n",
      "               (94,20): 0.785177, 0.00189538, 0.815554, 0.569161, 0.164959,\r\n",
      "               (94,25): 0.365913, 0.249172, 0.158791, 0.0924053, 0.642811,\r\n",
      "               (94,30): 0.983933, 0.132372, 0.149285, 0.531124, 0.955151,\r\n",
      "               (94,35): 0.580157, 0.272857, 0.872673, 0.194306, 0.0476891,\r\n",
      "               (94,40): 0.330094, 0.340834, 0.909378, 0.45369, 0.0850581,\r\n",
      "               (94,45): 0.0157019, 0.905476, 0.880396, 0.0182272, 0.587148,\r\n",
      "               (95,0): 0.189733, 0.665438, 0.373055, 0.782995, 0.630442,\r\n",
      "               (95,5): 0.959567, 0.697033, 0.311886, 0.206743, 0.0861951,\r\n",
      "               (95,10): 0.443886, 0.0393925, 0.486062, 0.119112, 0.911718,\r\n",
      "               (95,15): 0.21415, 0.261342, 0.360559, 0.340972, 0.619313,\r\n",
      "               (95,20): 0.401764, 0.585371, 0.928567, 0.0729851, 0.881742,\r\n",
      "               (95,25): 0.469383, 0.639563, 0.207333, 0.445265, 0.987051,\r\n",
      "               (95,30): 0.559807, 0.426406, 0.587031, 0.478001, 0.590031,\r\n",
      "               (95,35): 0.451665, 0.738427, 0.0117433, 0.361575, 0.584133,\r\n",
      "               (95,40): 0.922184, 0.0553427, 0.78554, 0.50499, 0.607675,\r\n",
      "               (95,45): 0.922431, 0.326886, 0.714306, 0.0607838, 0.643453,\r\n",
      "               (96,0): 0.453715, 0.163597, 0.759312, 0.770789, 0.762231,\r\n",
      "               (96,5): 0.794871, 0.204103, 0.584844, 0.73077, 0.300093,\r\n",
      "               (96,10): 0.694212, 0.846837, 0.899435, 0.0161827, 0.308042,\r\n",
      "               (96,15): 0.482585, 0.102232, 0.190059, 0.636698, 0.203631,\r\n",
      "               (96,20): 0.396891, 0.517217, 0.895578, 0.149378, 0.159757,\r\n",
      "               (96,25): 0.416159, 0.621771, 0.827129, 0.951323, 0.154945,\r\n",
      "               (96,30): 0.448571, 0.698585, 0.410036, 0.945081, 0.239323,\r\n",
      "               (96,35): 0.393372, 0.966175, 0.924005, 0.775468, 0.939023,\r\n",
      "               (96,40): 0.951524, 0.457303, 0.99585, 0.805117, 0.0826179,\r\n",
      "               (96,45): 0.095505, 0.648791, 0.569218, 0.322838, 0.165426,\r\n",
      "               (97,0): 0.437382, 0.0441681, 0.131477, 0.13437, 0.882127,\r\n",
      "               (97,5): 0.34402, 0.326633, 0.494445, 0.96841, 0.238308,\r\n",
      "               (97,10): 0.366645, 0.12493, 0.150704, 0.367972, 0.639161,\r\n",
      "               (97,15): 0.61279, 0.204682, 0.853718, 0.855535, 0.250119,\r\n",
      "               (97,20): 0.76287, 0.490025, 0.98719, 0.151532, 0.636814,\r\n",
      "               (97,25): 0.200294, 0.586642, 0.305929, 0.723357, 0.888526,\r\n",
      "               (97,30): 0.399275, 0.860784, 0.136696, 0.104632, 0.283001,\r\n",
      "               (97,35): 0.829421, 0.0790029, 0.565764, 0.128754, 0.76354,\r\n",
      "               (97,40): 0.236751, 0.00112337, 0.310004, 0.121902, 0.330509,\r\n",
      "               (97,45): 0.413012, 0.814903, 0.7114, 0.912197, 0.0328456,\r\n",
      "               (98,0): 0.506217, 0.674182, 0.66845, 0.243657, 0.159953,\r\n",
      "               (98,5): 0.0241905, 0.928572, 0.778793, 0.797211, 0.991436,\r\n",
      "               (98,10): 0.438475, 0.848213, 0.322601, 0.778862, 0.734095,\r\n",
      "               (98,15): 0.548775, 0.359023, 0.316938, 0.854281, 0.827972,\r\n",
      "               (98,20): 0.644346, 0.322192, 0.882689, 0.992088, 0.683584,\r\n",
      "               (98,25): 0.462696, 0.747925, 0.0655143, 0.404471, 0.772677,\r\n",
      "               (98,30): 0.419199, 0.69807, 0.0970014, 0.933546, 0.43075,\r\n",
      "               (98,35): 0.369162, 0.495627, 0.779657, 0.88185, 0.210269,\r\n",
      "               (98,40): 0.224592, 0.504555, 0.0725667, 0.654895, 0.231507,\r\n",
      "               (98,45): 0.603094, 0.269384, 0.75724, 0.994921, 0.932263,\r\n",
      "               (99,0): 0.439767, 0.161221, 0.735468, 0.292667, 0.0792507,\r\n",
      "               (99,5): 0.979472, 0.542194, 0.761288, 0.671933, 0.724902,\r\n",
      "               (99,10): 0.22297, 0.523802, 0.68122, 0.292553, 0.0667456,\r\n",
      "               (99,15): 0.470031, 0.194052, 0.576734, 0.83544, 0.490616,\r\n",
      "               (99,20): 0.612207, 0.173714, 0.789299, 0.300543, 0.0900892,\r\n",
      "               (99,25): 0.987674, 0.226166, 0.565747, 0.0382354, 0.665537,\r\n",
      "               (99,30): 0.50432, 0.311285, 0.434922, 0.142788, 0.962318,\r\n",
      "               (99,35): 0.843029, 0.257269, 0.927766, 0.512278, 0.622029,\r\n",
      "               (99,40): 0.303295, 0.727538, 0.974731, 0.847515, 0.203782,\r\n",
      "               (99,45): 0.146526, 0.832195, 0.687193, 0.261032, 0.51666\r\n",
      "               }\r\n",
      "               ATTRIBUTE \"Recorded on\" {\r\n",
      "                  DATATYPE  H5T_STRING {\r\n",
      "                     STRSIZE H5T_VARIABLE;\r\n",
      "                     STRPAD H5T_STR_NULLTERM;\r\n",
      "                     CSET H5T_CSET_UTF8;\r\n",
      "                     CTYPE H5T_C_S1;\r\n",
      "                  }\r\n",
      "                  DATASPACE  SCALAR\r\n",
      "                  DATA {\r\n",
      "                  (0): \"25th November 2017\"\r\n",
      "                  }\r\n",
      "               }\r\n",
      "               ATTRIBUTE \"Unit\" {\r\n",
      "                  DATATYPE  H5T_STRING {\r\n",
      "                     STRSIZE H5T_VARIABLE;\r\n",
      "                     STRPAD H5T_STR_NULLTERM;\r\n",
      "                     CSET H5T_CSET_UTF8;\r\n",
      "                     CTYPE H5T_C_S1;\r\n",
      "                  }\r\n",
      "                  DATASPACE  SCALAR\r\n",
      "                  DATA {\r\n",
      "                  (0): \"\\37777777702\\37777777660C\"\r\n",
      "                  }\r\n",
      "               }\r\n",
      "            }\r\n",
      "         }\r\n",
      "      }\r\n",
      "   }\r\n",
      "}\r\n",
      "}\r\n"
     ]
    }
   ],
   "source": [
    "!h5dump 'data/h5py-groups-datasets-attributes.h5'\n",
    "\n",
    "# -n stand for 'contents'\n",
    "# !h5dump -n 'data/h5py-groups-datasets-attributes.h5'\n",
    "\n",
    "# -H stand for 'header'\n",
    "# !h5dump -H 'data/h5py-groups-datasets-attributes.h5'"
   ]
  },
  {
   "cell_type": "code",
   "execution_count": 177,
   "metadata": {},
   "outputs": [
    {
     "name": "stdout",
     "output_type": "stream",
     "text": [
      "Filename: data/h5py-groups-datasets-attributes.h5\r\n",
      "File information\r\n",
      "\t# of unique groups: 4\r\n",
      "\t# of unique datasets: 2\r\n",
      "\t# of unique named datatypes: 0\r\n",
      "\t# of unique links: 0\r\n",
      "\t# of unique other: 0\r\n",
      "\tMax. # of links to object: 1\r\n",
      "\tMax. # of objects in group: 2\r\n",
      "File space information for file metadata (in bytes):\r\n",
      "\tSuperblock extension: 0\r\n",
      "\tUser block: 0\r\n",
      "\tObject headers: (total/unused)\r\n",
      "\t\tGroups: 384/48\r\n",
      "\t\tDatasets(exclude compact data): 752/104\r\n",
      "\t\tDatatypes: 0/0\r\n",
      "\tGroups:\r\n",
      "\t\tB-tree/List: 3488\r\n",
      "\t\tHeap: 480\r\n",
      "\tAttributes:\r\n",
      "\t\tB-tree/List: 0\r\n",
      "\t\tHeap: 0\r\n",
      "\tChunked datasets:\r\n",
      "\t\tIndex: 0\r\n",
      "\tDatasets:\r\n",
      "\t\tHeap: 0\r\n",
      "\tShared Messages:\r\n",
      "\t\tHeader: 0\r\n",
      "\t\tB-tree/List: 0\r\n",
      "\t\tHeap: 0\r\n",
      "Small groups (with 0 to 9 links):\r\n",
      "\t# of groups with 1 link(s): 3\r\n",
      "\t# of groups with 2 link(s): 1\r\n",
      "\tTotal # of small groups: 4\r\n",
      "Group bins:\r\n",
      "\t# of groups with 1 - 9 links: 4\r\n",
      "\tTotal # of groups: 4\r\n",
      "Dataset dimension information:\r\n",
      "\tMax. rank of datasets: 2\r\n",
      "\tDataset ranks:\r\n",
      "\t\t# of dataset with rank 1: 1\r\n",
      "\t\t# of dataset with rank 2: 1\r\n",
      "1-D Dataset information:\r\n",
      "\tMax. dimension size of 1-D datasets: 200\r\n",
      "\tSmall 1-D datasets (with dimension sizes 0 to 9):\r\n",
      "\t\tTotal # of small datasets: 0\r\n",
      "\t1-D Dataset dimension bins:\r\n",
      "\t\t# of datasets with dimension size 100 - 999: 1\r\n",
      "\t\tTotal # of datasets: 1\r\n",
      "Dataset storage information:\r\n",
      "\tTotal raw data size: 21600\r\n",
      "\tTotal external raw data size: 0\r\n",
      "Dataset layout information:\r\n",
      "\tDataset layout counts[COMPACT]: 0\r\n",
      "\tDataset layout counts[CONTIG]: 2\r\n",
      "\tDataset layout counts[CHUNKED]: 0\r\n",
      "\tNumber of external files : 0\r\n",
      "Dataset filters information:\r\n",
      "\tNumber of datasets with:\r\n",
      "\t\tNO filter: 2\r\n",
      "\t\tGZIP filter: 0\r\n",
      "\t\tSHUFFLE filter: 0\r\n",
      "\t\tFLETCHER32 filter: 0\r\n",
      "\t\tSZIP filter: 0\r\n",
      "\t\tNBIT filter: 0\r\n",
      "\t\tSCALEOFFSET filter: 0\r\n",
      "\t\tUSER-DEFINED filter: 0\r\n",
      "Dataset datatype information:\r\n",
      "\t# of unique datatypes used by datasets: 2\r\n",
      "\tDataset datatype #0:\r\n",
      "\t\tCount (total/named) = (1/0)\r\n",
      "\t\tSize (desc./elmt) = (22/8)\r\n",
      "\tDataset datatype #1:\r\n",
      "\t\tCount (total/named) = (1/0)\r\n",
      "\t\tSize (desc./elmt) = (22/4)\r\n",
      "\tTotal dataset datatype count: 2\r\n",
      "Small # of attributes (objects with 1 to 10 attributes):\r\n",
      "\t# of objects with 1 attributes: 2\r\n",
      "\t# of objects with 2 attributes: 2\r\n",
      "\tTotal # of objects with small # of attributes: 4\r\n",
      "Attribute bins:\r\n",
      "\t# of objects with 1 - 9 attributes: 4\r\n",
      "\tTotal # of objects with attributes: 4\r\n",
      "\tMax. # of attributes to objects: 2\r\n",
      "Summary of file space information:\r\n",
      "  File metadata: 5104 bytes\r\n",
      "  Raw data: 21600 bytes\r\n",
      "  Unaccounted space: 4208 bytes\r\n",
      "Total space: 30912 bytes\r\n"
     ]
    }
   ],
   "source": [
    "!h5stat 'data/h5py-groups-datasets-attributes.h5'"
   ]
  },
  {
   "cell_type": "markdown",
   "metadata": {},
   "source": [
    "# HDF5 viewers"
   ]
  },
  {
   "cell_type": "markdown",
   "metadata": {},
   "source": [
    "Open the `.h5` file with [HDF View](https://support.hdfgroup.org/products/java/hdfview/), [HDF Compass](https://support.hdfgroup.org/projects/compass/) or [ViTables](http://vitables.org/). I like HDF View."
   ]
  },
  {
   "cell_type": "markdown",
   "metadata": {},
   "source": [
    "# Reference"
   ]
  },
  {
   "cell_type": "markdown",
   "metadata": {},
   "source": [
    "- [Introduction to HDF5](https://www.youtube.com/watch?v=BAjsCldRMMc) by Quincey Koziol\n",
    "- [HDF5 is Eating the World](https://www.youtube.com/watch?v=nddj5OA8LJo) by Andrew Collette\n",
    "- [HDF5 take 2 - h5py & PyTables](https://www.youtube.com/watch?v=ofLFhQ9yxCw) by Tom Kooij\n",
    "- [h5py documentation](http://docs.h5py.org/en/latest/)\n",
    "- [PyTables documentation](http://www.pytables.org/index.html)"
   ]
  }
 ],
 "metadata": {
  "kernelspec": {
   "display_name": "Python 3",
   "language": "python",
   "name": "python3"
  },
  "language_info": {
   "codemirror_mode": {
    "name": "ipython",
    "version": 3
   },
   "file_extension": ".py",
   "mimetype": "text/x-python",
   "name": "python",
   "nbconvert_exporter": "python",
   "pygments_lexer": "ipython3",
   "version": "3.6.3"
  }
 },
 "nbformat": 4,
 "nbformat_minor": 1
}
