{
 "cells": [
  {
   "cell_type": "markdown",
   "metadata": {},
   "source": [
    "# HDF5 in Python"
   ]
  },
  {
   "cell_type": "code",
   "execution_count": 6,
   "metadata": {},
   "outputs": [],
   "source": [
    "%matplotlib inline"
   ]
  },
  {
   "cell_type": "code",
   "execution_count": 12,
   "metadata": {},
   "outputs": [],
   "source": [
    "import os\n",
    "import time\n",
    "import numpy as np\n",
    "import pandas as pd\n",
    "import h5py\n",
    "import tables as tb\n",
    "import matplotlib.pyplot as plt"
   ]
  },
  {
   "cell_type": "code",
   "execution_count": 10,
   "metadata": {},
   "outputs": [
    {
     "name": "stdout",
     "output_type": "stream",
     "text": [
      "/home/jack/Repos/hdf5-pydata-munich/data\n"
     ]
    }
   ],
   "source": [
    "data_dir = os.path.join(os.getcwd(), 'data')\n",
    "print(data_dir)"
   ]
  },
  {
   "cell_type": "markdown",
   "metadata": {},
   "source": [
    "# Data"
   ]
  },
  {
   "cell_type": "code",
   "execution_count": 2,
   "metadata": {},
   "outputs": [],
   "source": [
    "arr = np.random.normal(loc=0, scale=1, size=200)\n",
    "matrix = np.random.random((100, 50))"
   ]
  },
  {
   "cell_type": "markdown",
   "metadata": {},
   "source": [
    "# h5py"
   ]
  },
  {
   "cell_type": "markdown",
   "metadata": {},
   "source": [
    "The h5py library is very close to the HDF5 C API. It's a low-level wrapper."
   ]
  },
  {
   "cell_type": "markdown",
   "metadata": {},
   "source": [
    "### Write"
   ]
  },
  {
   "cell_type": "code",
   "execution_count": 15,
   "metadata": {},
   "outputs": [],
   "source": [
    "hdf = h5py.File('h5py-file.h5', 'w')\n",
    "hdf.create_dataset(name='MyDataset', shape=matrix.shape, dtype=matrix.dtype, data=matrix)\n",
    "hdf.close()"
   ]
  },
  {
   "cell_type": "markdown",
   "metadata": {},
   "source": [
    "### More pythonic approaches"
   ]
  },
  {
   "cell_type": "code",
   "execution_count": 16,
   "metadata": {},
   "outputs": [],
   "source": [
    "with h5py.File('h5py-context-manager0.h5', 'w') as hdf:\n",
    "    hdf.create_dataset('MyDataset', matrix.shape, matrix.dtype, matrix)"
   ]
  },
  {
   "cell_type": "code",
   "execution_count": 17,
   "metadata": {},
   "outputs": [],
   "source": [
    "with h5py.File('h5py-context-manager1.h5', 'w') as hdf:\n",
    "    # create the datasets first\n",
    "    ds0 = hdf.create_dataset('Dataset0', matrix.shape, matrix.dtype)\n",
    "    ds1 = hdf.create_dataset('Dataset1', matrix.shape, matrix.dtype)\n",
    "    # fill them up later. There are 2 syntaxes.\n",
    "    ds0[:] = matrix\n",
    "    ds1[...] = matrix"
   ]
  },
  {
   "cell_type": "markdown",
   "metadata": {},
   "source": [
    "### Pick the correct HDF5 datatype"
   ]
  },
  {
   "cell_type": "code",
   "execution_count": 19,
   "metadata": {},
   "outputs": [],
   "source": [
    "with h5py.File('h5py-different-datatypes.h5', 'w') as hdf:\n",
    "    hdf.create_dataset('numpy_dtype', arr.shape, arr.dtype, arr)\n",
    "    hdf.create_dataset('IEEE_F64_Big_Endian', arr.shape, h5py.h5t.IEEE_F64BE, arr)\n",
    "    # if we store floats as unsigned integers (8 bit) we end up with invalid data\n",
    "    hdf.create_dataset('Unsigned_8Bit_Big_Endian', arr.shape, h5py.h5t.STD_U8BE, arr)"
   ]
  },
  {
   "cell_type": "markdown",
   "metadata": {},
   "source": [
    "### Groups, Datasets, Attributes"
   ]
  },
  {
   "cell_type": "code",
   "execution_count": 24,
   "metadata": {
    "scrolled": true
   },
   "outputs": [
    {
     "name": "stdout",
     "output_type": "stream",
     "text": [
      "<HDF5 group \"/\" (2 members)>\n"
     ]
    }
   ],
   "source": [
    "with h5py.File('h5py-groups-datasets-attributes.h5', 'w') as hdf:\n",
    "    ds0 = hdf.create_dataset('MyDatasetInRoot', arr.shape, arr.dtype)\n",
    "    ds0[:] = arr\n",
    "    ds0.attrs['Unit'] = 'm/s'\n",
    "    # attributes can be numpy array too!\n",
    "    attr_data = np.zeros((2,), dtype='int32')\n",
    "    attr_data[0] = 100\n",
    "    attr_data[1] = 200\n",
    "    ds0.attrs.create(name='Speed', data=attr_data)\n",
    "    \n",
    "    # create a group by using an absolute path.\n",
    "    # Missing groups along the path will be created automatically.\n",
    "    path_to_group = '/SomeMissingGroup/MyGroup'\n",
    "    gr0 = hdf.create_group(path_to_group)\n",
    "    \n",
    "    # create a group by using a relative path\n",
    "    gr1 = gr0.create_group('MyOtherGroup')\n",
    "    \n",
    "    # access a group with an absolute path\n",
    "    my_group = hdf['/SomeMissingGroup/MyGroup']\n",
    "    \n",
    "    # access a group with a relative path\n",
    "    root_group = my_group.parent.parent\n",
    "\n",
    "    # set some attributes to the groups\n",
    "    gr0.attrs['Experiment ID'] = 123\n",
    "    gr1.attrs['Experiment ID'] = 456\n",
    "    \n",
    "    # create a dataset inside a group\n",
    "    ds_in_group = gr1.create_dataset('MyOtherDataset', matrix.shape, matrix.dtype)\n",
    "    # if you have a reference to the dataset, you can set the data with this syntax: \n",
    "    # ds_in_group[:] = matrix\n",
    "    # otherwise you have to know the absolute path to your dataset\n",
    "    path_to_dataset = '/SomeMissingGroup/MyGroup/MyOtherGroup/MyOtherDataset'\n",
    "    hdf[path_to_dataset][:] = matrix\n",
    "    \n",
    "    # set some attributes to this other dataset\n",
    "    ds_in_group.attrs['Unit'] = '°C'\n",
    "    ds_in_group.attrs['Recorded on'] = '25th November 2017'\n",
    "    \n",
    "    print(root_group)"
   ]
  },
  {
   "cell_type": "markdown",
   "metadata": {},
   "source": [
    "### View the HDF5 file"
   ]
  },
  {
   "cell_type": "markdown",
   "metadata": {},
   "source": [
    "Open the `.h5` file with [HDF View](https://support.hdfgroup.org/products/java/hdfview/), [HDF Compass](https://support.hdfgroup.org/projects/compass/) or [ViTables](http://vitables.org/). I use HDF View."
   ]
  },
  {
   "cell_type": "markdown",
   "metadata": {},
   "source": [
    "### Plot"
   ]
  },
  {
   "cell_type": "code",
   "execution_count": 32,
   "metadata": {},
   "outputs": [
    {
     "name": "stdout",
     "output_type": "stream",
     "text": [
      "<HDF5 dataset \"MyDatasetInRoot\": shape (200,), type \"<f8\">\n",
      "['Unit', 'Speed']\n",
      "['m/s', array([100, 200], dtype=int32)]\n",
      "[('Unit', 'm/s'), ('Speed', array([100, 200], dtype=int32))]\n"
     ]
    },
    {
     "data": {
      "image/png": "[encoded data removed]",
      "text/plain": [
       "<matplotlib.figure.Figure at 0x7ff7106e02b0>"
      ]
     },
     "metadata": {},
     "output_type": "display_data"
    }
   ],
   "source": [
    "with h5py.File('h5py-groups-datasets-attributes.h5', 'r') as hdf:\n",
    "    ds = hdf['MyDatasetInRoot']\n",
    "    print(ds)\n",
    "    print(list(ds.attrs.keys()))\n",
    "    print(list(ds.attrs.values()))\n",
    "    print(list(ds.attrs.items()))\n",
    "    plt.plot(ds[:])\n",
    "    # plt.plot(ds[...])"
   ]
  },
  {
   "cell_type": "markdown",
   "metadata": {},
   "source": [
    "# PyTables"
   ]
  },
  {
   "cell_type": "markdown",
   "metadata": {},
   "source": [
    "PyTables provides a higher abstraction over HDF5. This doesn't make it slower than h5py though.\n",
    "\n",
    "At the moment PyTables does NOT depend on h5py.\n",
    "\n",
    "Pandas uses PyTables when reading/writing HDF5 files."
   ]
  },
  {
   "cell_type": "markdown",
   "metadata": {},
   "source": [
    "### Write"
   ]
  },
  {
   "cell_type": "markdown",
   "metadata": {},
   "source": [
    "In PyTables the HDF5 Dataset object is implemented by four higher level abstractions:\n",
    "\n",
    "- **Array**: homogeneous dataset\n",
    "- **CArray**: homogeneous dataset, chunked storage\n",
    "- **EArray**: homogeneous dataset, extendable (append)\n",
    "- **Table**: compound dataset, extendable (append)\n",
    "\n",
    "Well, there is also the **Unimplemented** class, to indicate an HDF5 dataset not supported by PyTables."
   ]
  },
  {
   "cell_type": "code",
   "execution_count": 33,
   "metadata": {},
   "outputs": [],
   "source": [
    "with tb.open_file('pytables-file.h5', 'w') as hdf:\n",
    "    hdf.create_array(where='/', name='Array0', obj=data)\n",
    "    hdf.create_array(where=hdf.root, name='Array1', obj=data, title='My Title')"
   ]
  },
  {
   "cell_type": "markdown",
   "metadata": {},
   "source": [
    "### Read"
   ]
  },
  {
   "cell_type": "markdown",
   "metadata": {},
   "source": [
    "PyTables has a feature called \"Natural Naming\": nodes can be accessed with the dot notation."
   ]
  },
  {
   "cell_type": "code",
   "execution_count": 34,
   "metadata": {},
   "outputs": [
    {
     "name": "stdout",
     "output_type": "stream",
     "text": [
      "/Array0 (Array(100, 50)) ''\n",
      "[[ 0.71380494  0.44584969  0.6794647  ...,  0.89219519  0.71395159\n",
      "   0.78997027]\n",
      " [ 0.51435576  0.72341283  0.45315476 ...,  0.39504408  0.36547297\n",
      "   0.44215131]\n",
      " [ 0.00407737  0.2784139   0.81908976 ...,  0.74263128  0.2164956\n",
      "   0.93955435]\n",
      " ..., \n",
      " [ 0.77200192  0.9773762   0.16806772 ...,  0.88629928  0.85947854\n",
      "   0.60734443]\n",
      " [ 0.38418314  0.45741326  0.57958015 ...,  0.10333209  0.00428363\n",
      "   0.41583694]\n",
      " [ 0.38663118  0.15884985  0.11684016 ...,  0.75791181  0.85694484\n",
      "   0.53966956]]\n"
     ]
    }
   ],
   "source": [
    "with tb.open_file('pytables-file.h5', 'r') as hdf:\n",
    "    # the array is just a proxy object\n",
    "    print(hdf.root.Array0)\n",
    "    # the actual data can be accessed with these 2 syntaxes\n",
    "    print(hdf.root.Array0[:])\n",
    "    # print(hdf.root.Array0[...])"
   ]
  },
  {
   "cell_type": "markdown",
   "metadata": {},
   "source": [
    "### In-memory Read/Write"
   ]
  },
  {
   "cell_type": "markdown",
   "metadata": {},
   "source": [
    "See also the PyTables documentation on [in-memory HDF5 files](http://www.pytables.org/cookbook/inmemory_hdf5_files.html)."
   ]
  },
  {
   "cell_type": "code",
   "execution_count": 35,
   "metadata": {},
   "outputs": [],
   "source": [
    "# open file in-memory, save to disk\n",
    "with tb.open_file('pytables-in-memory.h5', 'w', driver='H5FD_CORE') as hdf:\n",
    "    hdf.create_array(where='/', name='Array', obj=data)"
   ]
  },
  {
   "cell_type": "code",
   "execution_count": 36,
   "metadata": {},
   "outputs": [],
   "source": [
    "# open file in-memory, DO NOT save to disk\n",
    "with tb.open_file('pytables-in-memory.h5', 'w', driver='H5FD_CORE', \n",
    "                  driver_core_backing_store=0) as hdf:\n",
    "    hdf.create_array(where='/', name='Array', obj=data)"
   ]
  },
  {
   "cell_type": "code",
   "execution_count": 37,
   "metadata": {},
   "outputs": [
    {
     "name": "stdout",
     "output_type": "stream",
     "text": [
      "[[ 0.71380494  0.44584969  0.6794647  ...,  0.89219519  0.71395159\n",
      "   0.78997027]\n",
      " [ 0.51435576  0.72341283  0.45315476 ...,  0.39504408  0.36547297\n",
      "   0.44215131]\n",
      " [ 0.00407737  0.2784139   0.81908976 ...,  0.74263128  0.2164956\n",
      "   0.93955435]\n",
      " ..., \n",
      " [ 0.77200192  0.9773762   0.16806772 ...,  0.88629928  0.85947854\n",
      "   0.60734443]\n",
      " [ 0.38418314  0.45741326  0.57958015 ...,  0.10333209  0.00428363\n",
      "   0.41583694]\n",
      " [ 0.38663118  0.15884985  0.11684016 ...,  0.75791181  0.85694484\n",
      "   0.53966956]]\n"
     ]
    }
   ],
   "source": [
    "with tb.open_file('pytables-in-memory.h5', 'r', driver='H5FD_CORE') as hdf:\n",
    "    print(hdf.root.Array[...])"
   ]
  },
  {
   "cell_type": "markdown",
   "metadata": {},
   "source": [
    "### TODO: learn how to use ptdump (and h5dump)"
   ]
  },
  {
   "cell_type": "code",
   "execution_count": 39,
   "metadata": {},
   "outputs": [
    {
     "name": "stdout",
     "output_type": "stream",
     "text": [
      "/ (RootGroup) ''\r\n",
      "/Array0 (Array(100, 50)) ''\r\n",
      "/Array1 (Array(100, 50)) 'My Title'\r\n"
     ]
    }
   ],
   "source": [
    "FILENAME = 'pytables-file.h5'\n",
    "!ptdump {FILENAME}"
   ]
  },
  {
   "cell_type": "markdown",
   "metadata": {},
   "source": [
    "### Attributes"
   ]
  },
  {
   "cell_type": "code",
   "execution_count": 40,
   "metadata": {},
   "outputs": [],
   "source": [
    "with tb.open_file('pytables-attributes.h5', 'w') as hdf:\n",
    "    hdf.create_array(where=hdf.root, name='Array', obj=data, title='My Title')\n",
    "    hdf.set_node_attr(where='/Array', attrname='SomeAttribute', attrvalue='SomeValue')\n",
    "    hdf.create_group('/', 'Group')\n",
    "    hdf.set_node_attr('/Group', attrname='MyAttribute', attrvalue='MyValue')"
   ]
  },
  {
   "cell_type": "markdown",
   "metadata": {},
   "source": [
    "### Array\n"
   ]
  },
  {
   "cell_type": "code",
   "execution_count": 39,
   "metadata": {},
   "outputs": [],
   "source": [
    "# TODO"
   ]
  },
  {
   "cell_type": "markdown",
   "metadata": {},
   "source": [
    "### CArray"
   ]
  },
  {
   "cell_type": "code",
   "execution_count": null,
   "metadata": {},
   "outputs": [],
   "source": [
    "# TODO"
   ]
  },
  {
   "cell_type": "markdown",
   "metadata": {},
   "source": [
    "### EArray"
   ]
  },
  {
   "cell_type": "code",
   "execution_count": null,
   "metadata": {},
   "outputs": [],
   "source": [
    "# TODO"
   ]
  },
  {
   "cell_type": "markdown",
   "metadata": {},
   "source": [
    "### Tables"
   ]
  },
  {
   "cell_type": "markdown",
   "metadata": {},
   "source": [
    "In order to emulate in Python records mapped to HDF5 C structs PyTables implements a special class so as to easily define all its fields and other properties."
   ]
  },
  {
   "cell_type": "code",
   "execution_count": 41,
   "metadata": {},
   "outputs": [],
   "source": [
    "class Particle(tb.IsDescription):\n",
    "    identity = tb.StringCol(itemsize=22, dflt=\" \", pos=0)  # character String\n",
    "    idnumber = tb.Int16Col(dflt=1, pos=1)  # short integer\n",
    "    speed = tb.Float32Col(dflt=1, pos=2)  # single-precision\n",
    "    \n",
    "with tb.open_file('pytables-tables.h5', 'w') as hdf:\n",
    "    table =hdf.create_table(where='/', name='MyTable', description=Particle)\n",
    "    num_records = 100\n",
    "    # Get the record object associated with the table:\n",
    "    row = table.row\n",
    "    for i in range(num_records):\n",
    "        row['identity'] = 'This is particle: {}'.format(i)\n",
    "        row['idnumber'] = i\n",
    "        row['speed'] = i * 2.0\n",
    "        # inject the Record values into the table\n",
    "        row.append()\n",
    "    # Flush the table buffers\n",
    "    table.flush()\n",
    "    \n",
    "    # We can set some attributes for the table\n",
    "    hdf.set_node_attr('/MyTable', attrname='MyAttribute', attrvalue='MyValue')\n",
    "    hdf.set_node_attr('/MyTable', attrname='CreatedOn', attrvalue='2017-11-25')"
   ]
  },
  {
   "cell_type": "markdown",
   "metadata": {},
   "source": [
    "A description can be nested inside another description (this will look weird...)"
   ]
  },
  {
   "cell_type": "code",
   "execution_count": 42,
   "metadata": {},
   "outputs": [],
   "source": [
    "class Particle(tb.IsDescription):\n",
    "    # 16-character String\n",
    "    name = tb.StringCol(16)\n",
    "    # signed 64-bit integer\n",
    "    idnumber = tb.Int64Col()\n",
    "    # unsigned short integer\n",
    "    ADCcount = tb.UInt16Col()\n",
    "    # unsigned byte\n",
    "    TDCcount = tb.UInt8Col()\n",
    "    # integer\n",
    "    grid_i = tb.Int32Col()\n",
    "    # integer\n",
    "    grid_j = tb.Int32Col()\n",
    "\n",
    "    # A sub-structure (nested data-type)\n",
    "    class Properties(tb.IsDescription):\n",
    "        # 2-D float array (single-precision)\n",
    "        pressure = tb.Float32Col(shape=(2, 3))\n",
    "        # 3-D float array (double-precision)\n",
    "        energy = tb.Float64Col(shape=(2, 3, 4))\n",
    "        \n",
    "        \n",
    "with tb.open_file('pytables-tables-nested.h5', 'w') as hdf:\n",
    "    table = hdf.create_table(where='/', name='MyTable', description=Particle)\n",
    "    num_records = 100\n",
    "    row = table.row\n",
    "    for i in range(num_records):\n",
    "        # First, assign the values to the Particle record\n",
    "        row['name'] = np.random.choice(['Superman', 'Spider-Man', 'Batman'])\n",
    "        row['idnumber'] = np.random.randint(0, 100, dtype='int64')\n",
    "        row['ADCcount'] = i * 2.0\n",
    "        row['TDCcount'] = np.random.randint(0, 255, dtype='uint8')\n",
    "        row['grid_i'] = np.random.randint(0, 100, dtype='int32')\n",
    "        row['grid_j'] = np.random.randint(0, 100, dtype='int32')\n",
    "\n",
    "        # Fill the nested data-type Properties\n",
    "        row['Properties/pressure'] = np.random.random((2, 3))\n",
    "        row['Properties/energy'] = np.random.random((2, 3, 4))\n",
    "\n",
    "        row.append()\n",
    "\n",
    "    table.flush()"
   ]
  },
  {
   "cell_type": "markdown",
   "metadata": {},
   "source": [
    "### Create HDF5 file from CSV"
   ]
  },
  {
   "cell_type": "markdown",
   "metadata": {},
   "source": [
    "### Create HDF5 file from Parquet"
   ]
  },
  {
   "cell_type": "markdown",
   "metadata": {},
   "source": [
    "### Becnhmark with where, read_where, other syntaxes..."
   ]
  },
  {
   "cell_type": "markdown",
   "metadata": {},
   "source": [
    "### Big Data!"
   ]
  },
  {
   "cell_type": "markdown",
   "metadata": {},
   "source": [
    "Load an HDF5 file bigger than 10 GB (the RAM on my machine). 15-20 GB should be enough."
   ]
  },
  {
   "cell_type": "code",
   "execution_count": 22,
   "metadata": {},
   "outputs": [
    {
     "name": "stdout",
     "output_type": "stream",
     "text": [
      "Creating the data took 0.09s\n",
      "Creating the HDF5 file took 32.49s\n"
     ]
    }
   ],
   "source": [
    "big_file_path = os.path.join(data_dir, 'big_file.h5')\n",
    "\n",
    "t0 = time.time()\n",
    "# create a big array from a normal distribution\n",
    "gaussian_arr = np.random.normal(loc=0, scale=1, size=1000000)\n",
    "# create a big array from a uniform distribution\n",
    "uniform_arr = np.random.uniform(low=6, high=7, size=1000000)\n",
    "t1 = time.time()\n",
    "print('Creating the data took {:.2f}s'.format(t1 - t0))\n",
    "\n",
    "t_start = time.time()\n",
    "with h5py.File(big_file_path, 'w') as hdf:\n",
    "    num_datasets = 200  # 200 dataset -> a bit more than 3GB\n",
    "\n",
    "    gr_gaussian = hdf.create_group('GaussianGroup')\n",
    "    for i in range(num_datasets):\n",
    "        dataset_name = 'GaussianDataset_{0:03}'.format(i)\n",
    "        gr_gaussian.create_dataset(dataset_name, dtype=gaussian_arr.dtype, data=gaussian_arr)\n",
    "\n",
    "    gr_uniform = hdf.create_group('UniformGroup')\n",
    "    for i in range(num_datasets):\n",
    "        dataset_name = 'UniformDataset_{0:03}'.format(i)\n",
    "        gr_uniform.create_dataset(dataset_name, dtype=uniform_arr.dtype, data=uniform_arr)\n",
    "\n",
    "t_stop = time.time()\n",
    "print('Creating the HDF5 file took {:.2f}s'.format(t_stop - t_start))"
   ]
  },
  {
   "cell_type": "code",
   "execution_count": 23,
   "metadata": {},
   "outputs": [
    {
     "name": "stdout",
     "output_type": "stream",
     "text": [
      "/ (RootGroup) ''\n",
      "/GaussianGroup (Group) ''\n",
      "/GaussianGroup/GaussianDataset_000 (Array(1000000,)) ''\n",
      "/GaussianGroup/GaussianDataset_001 (Array(1000000,)) ''\n",
      "/GaussianGroup/GaussianDataset_002 (Array(1000000,)) ''\n",
      "/GaussianGroup/GaussianDataset_003 (Array(1000000,)) ''\n",
      "/GaussianGroup/GaussianDataset_004 (Array(1000000,)) ''\n",
      "/GaussianGroup/GaussianDataset_005 (Array(1000000,)) ''\n",
      "/GaussianGroup/GaussianDataset_006 (Array(1000000,)) ''\n",
      "/GaussianGroup/GaussianDataset_007 (Array(1000000,)) ''\n",
      "/GaussianGroup/GaussianDataset_008 (Array(1000000,)) ''\n",
      "/GaussianGroup/GaussianDataset_009 (Array(1000000,)) ''\n",
      "/GaussianGroup/GaussianDataset_010 (Array(1000000,)) ''\n",
      "/GaussianGroup/GaussianDataset_011 (Array(1000000,)) ''\n",
      "/GaussianGroup/GaussianDataset_012 (Array(1000000,)) ''\n",
      "/GaussianGroup/GaussianDataset_013 (Array(1000000,)) ''\n",
      "/GaussianGroup/GaussianDataset_014 (Array(1000000,)) ''\n",
      "/GaussianGroup/GaussianDataset_015 (Array(1000000,)) ''\n",
      "/GaussianGroup/GaussianDataset_016 (Array(1000000,)) ''\n",
      "/GaussianGroup/GaussianDataset_017 (Array(1000000,)) ''\n",
      "/GaussianGroup/GaussianDataset_018 (Array(1000000,)) ''\n",
      "/GaussianGroup/GaussianDataset_019 (Array(1000000,)) ''\n",
      "/GaussianGroup/GaussianDataset_020 (Array(1000000,)) ''\n",
      "/GaussianGroup/GaussianDataset_021 (Array(1000000,)) ''\n",
      "/GaussianGroup/GaussianDataset_022 (Array(1000000,)) ''\n",
      "/GaussianGroup/GaussianDataset_023 (Array(1000000,)) ''\n",
      "/GaussianGroup/GaussianDataset_024 (Array(1000000,)) ''\n",
      "/GaussianGroup/GaussianDataset_025 (Array(1000000,)) ''\n",
      "/GaussianGroup/GaussianDataset_026 (Array(1000000,)) ''\n",
      "/GaussianGroup/GaussianDataset_027 (Array(1000000,)) ''\n",
      "/GaussianGroup/GaussianDataset_028 (Array(1000000,)) ''\n",
      "/GaussianGroup/GaussianDataset_029 (Array(1000000,)) ''\n",
      "/GaussianGroup/GaussianDataset_030 (Array(1000000,)) ''\n",
      "/GaussianGroup/GaussianDataset_031 (Array(1000000,)) ''\n",
      "/GaussianGroup/GaussianDataset_032 (Array(1000000,)) ''\n",
      "/GaussianGroup/GaussianDataset_033 (Array(1000000,)) ''\n",
      "/GaussianGroup/GaussianDataset_034 (Array(1000000,)) ''\n",
      "/GaussianGroup/GaussianDataset_035 (Array(1000000,)) ''\n",
      "/GaussianGroup/GaussianDataset_036 (Array(1000000,)) ''\n",
      "/GaussianGroup/GaussianDataset_037 (Array(1000000,)) ''\n",
      "/GaussianGroup/GaussianDataset_038 (Array(1000000,)) ''\n",
      "/GaussianGroup/GaussianDataset_039 (Array(1000000,)) ''\n",
      "/GaussianGroup/GaussianDataset_040 (Array(1000000,)) ''\n",
      "/GaussianGroup/GaussianDataset_041 (Array(1000000,)) ''\n",
      "/GaussianGroup/GaussianDataset_042 (Array(1000000,)) ''\n",
      "/GaussianGroup/GaussianDataset_043 (Array(1000000,)) ''\n",
      "/GaussianGroup/GaussianDataset_044 (Array(1000000,)) ''\n",
      "/GaussianGroup/GaussianDataset_045 (Array(1000000,)) ''\n",
      "/GaussianGroup/GaussianDataset_046 (Array(1000000,)) ''\n",
      "/GaussianGroup/GaussianDataset_047 (Array(1000000,)) ''\n",
      "/GaussianGroup/GaussianDataset_048 (Array(1000000,)) ''\n",
      "/GaussianGroup/GaussianDataset_049 (Array(1000000,)) ''\n",
      "/GaussianGroup/GaussianDataset_050 (Array(1000000,)) ''\n",
      "/GaussianGroup/GaussianDataset_051 (Array(1000000,)) ''\n",
      "/GaussianGroup/GaussianDataset_052 (Array(1000000,)) ''\n",
      "/GaussianGroup/GaussianDataset_053 (Array(1000000,)) ''\n",
      "/GaussianGroup/GaussianDataset_054 (Array(1000000,)) ''\n",
      "/GaussianGroup/GaussianDataset_055 (Array(1000000,)) ''\n",
      "/GaussianGroup/GaussianDataset_056 (Array(1000000,)) ''\n",
      "/GaussianGroup/GaussianDataset_057 (Array(1000000,)) ''\n",
      "/GaussianGroup/GaussianDataset_058 (Array(1000000,)) ''\n",
      "/GaussianGroup/GaussianDataset_059 (Array(1000000,)) ''\n",
      "/GaussianGroup/GaussianDataset_060 (Array(1000000,)) ''\n",
      "/GaussianGroup/GaussianDataset_061 (Array(1000000,)) ''\n",
      "/GaussianGroup/GaussianDataset_062 (Array(1000000,)) ''\n",
      "/GaussianGroup/GaussianDataset_063 (Array(1000000,)) ''\n",
      "/GaussianGroup/GaussianDataset_064 (Array(1000000,)) ''\n",
      "/GaussianGroup/GaussianDataset_065 (Array(1000000,)) ''\n",
      "/GaussianGroup/GaussianDataset_066 (Array(1000000,)) ''\n",
      "/GaussianGroup/GaussianDataset_067 (Array(1000000,)) ''\n",
      "/GaussianGroup/GaussianDataset_068 (Array(1000000,)) ''\n",
      "/GaussianGroup/GaussianDataset_069 (Array(1000000,)) ''\n",
      "/GaussianGroup/GaussianDataset_070 (Array(1000000,)) ''\n",
      "/GaussianGroup/GaussianDataset_071 (Array(1000000,)) ''\n",
      "/GaussianGroup/GaussianDataset_072 (Array(1000000,)) ''\n",
      "/GaussianGroup/GaussianDataset_073 (Array(1000000,)) ''\n",
      "/GaussianGroup/GaussianDataset_074 (Array(1000000,)) ''\n",
      "/GaussianGroup/GaussianDataset_075 (Array(1000000,)) ''\n",
      "/GaussianGroup/GaussianDataset_076 (Array(1000000,)) ''\n",
      "/GaussianGroup/GaussianDataset_077 (Array(1000000,)) ''\n",
      "/GaussianGroup/GaussianDataset_078 (Array(1000000,)) ''\n",
      "/GaussianGroup/GaussianDataset_079 (Array(1000000,)) ''\n",
      "/GaussianGroup/GaussianDataset_080 (Array(1000000,)) ''\n",
      "/GaussianGroup/GaussianDataset_081 (Array(1000000,)) ''\n",
      "/GaussianGroup/GaussianDataset_082 (Array(1000000,)) ''\n",
      "/GaussianGroup/GaussianDataset_083 (Array(1000000,)) ''\n",
      "/GaussianGroup/GaussianDataset_084 (Array(1000000,)) ''\n",
      "/GaussianGroup/GaussianDataset_085 (Array(1000000,)) ''\n",
      "/GaussianGroup/GaussianDataset_086 (Array(1000000,)) ''\n",
      "/GaussianGroup/GaussianDataset_087 (Array(1000000,)) ''\n",
      "/GaussianGroup/GaussianDataset_088 (Array(1000000,)) ''\n",
      "/GaussianGroup/GaussianDataset_089 (Array(1000000,)) ''\n",
      "/GaussianGroup/GaussianDataset_090 (Array(1000000,)) ''\n",
      "/GaussianGroup/GaussianDataset_091 (Array(1000000,)) ''\n",
      "/GaussianGroup/GaussianDataset_092 (Array(1000000,)) ''\n",
      "/GaussianGroup/GaussianDataset_093 (Array(1000000,)) ''\n",
      "/GaussianGroup/GaussianDataset_094 (Array(1000000,)) ''\n",
      "/GaussianGroup/GaussianDataset_095 (Array(1000000,)) ''\n",
      "/GaussianGroup/GaussianDataset_096 (Array(1000000,)) ''\n",
      "/GaussianGroup/GaussianDataset_097 (Array(1000000,)) ''\n",
      "/GaussianGroup/GaussianDataset_098 (Array(1000000,)) ''\n",
      "/GaussianGroup/GaussianDataset_099 (Array(1000000,)) ''\n",
      "/GaussianGroup/GaussianDataset_100 (Array(1000000,)) ''\n",
      "/GaussianGroup/GaussianDataset_101 (Array(1000000,)) ''\n",
      "/GaussianGroup/GaussianDataset_102 (Array(1000000,)) ''\n",
      "/GaussianGroup/GaussianDataset_103 (Array(1000000,)) ''\n",
      "/GaussianGroup/GaussianDataset_104 (Array(1000000,)) ''\n",
      "/GaussianGroup/GaussianDataset_105 (Array(1000000,)) ''\n",
      "/GaussianGroup/GaussianDataset_106 (Array(1000000,)) ''\n",
      "/GaussianGroup/GaussianDataset_107 (Array(1000000,)) ''\n",
      "/GaussianGroup/GaussianDataset_108 (Array(1000000,)) ''\n",
      "/GaussianGroup/GaussianDataset_109 (Array(1000000,)) ''\n",
      "/GaussianGroup/GaussianDataset_110 (Array(1000000,)) ''\n",
      "/GaussianGroup/GaussianDataset_111 (Array(1000000,)) ''\n",
      "/GaussianGroup/GaussianDataset_112 (Array(1000000,)) ''\n",
      "/GaussianGroup/GaussianDataset_113 (Array(1000000,)) ''\n",
      "/GaussianGroup/GaussianDataset_114 (Array(1000000,)) ''\n",
      "/GaussianGroup/GaussianDataset_115 (Array(1000000,)) ''\n",
      "/GaussianGroup/GaussianDataset_116 (Array(1000000,)) ''\n",
      "/GaussianGroup/GaussianDataset_117 (Array(1000000,)) ''\n",
      "/GaussianGroup/GaussianDataset_118 (Array(1000000,)) ''\n",
      "/GaussianGroup/GaussianDataset_119 (Array(1000000,)) ''\n",
      "/GaussianGroup/GaussianDataset_120 (Array(1000000,)) ''\n",
      "/GaussianGroup/GaussianDataset_121 (Array(1000000,)) ''\n",
      "/GaussianGroup/GaussianDataset_122 (Array(1000000,)) ''\n",
      "/GaussianGroup/GaussianDataset_123 (Array(1000000,)) ''\n",
      "/GaussianGroup/GaussianDataset_124 (Array(1000000,)) ''\n",
      "/GaussianGroup/GaussianDataset_125 (Array(1000000,)) ''\n",
      "/GaussianGroup/GaussianDataset_126 (Array(1000000,)) ''\n",
      "/GaussianGroup/GaussianDataset_127 (Array(1000000,)) ''\n",
      "/GaussianGroup/GaussianDataset_128 (Array(1000000,)) ''\n",
      "/GaussianGroup/GaussianDataset_129 (Array(1000000,)) ''\n",
      "/GaussianGroup/GaussianDataset_130 (Array(1000000,)) ''\n",
      "/GaussianGroup/GaussianDataset_131 (Array(1000000,)) ''\n",
      "/GaussianGroup/GaussianDataset_132 (Array(1000000,)) ''\n",
      "/GaussianGroup/GaussianDataset_133 (Array(1000000,)) ''\n",
      "/GaussianGroup/GaussianDataset_134 (Array(1000000,)) ''\n",
      "/GaussianGroup/GaussianDataset_135 (Array(1000000,)) ''\n",
      "/GaussianGroup/GaussianDataset_136 (Array(1000000,)) ''\n",
      "/GaussianGroup/GaussianDataset_137 (Array(1000000,)) ''\n",
      "/GaussianGroup/GaussianDataset_138 (Array(1000000,)) ''\n",
      "/GaussianGroup/GaussianDataset_139 (Array(1000000,)) ''\n",
      "/GaussianGroup/GaussianDataset_140 (Array(1000000,)) ''\n",
      "/GaussianGroup/GaussianDataset_141 (Array(1000000,)) ''\n",
      "/GaussianGroup/GaussianDataset_142 (Array(1000000,)) ''\n",
      "/GaussianGroup/GaussianDataset_143 (Array(1000000,)) ''\n",
      "/GaussianGroup/GaussianDataset_144 (Array(1000000,)) ''\n",
      "/GaussianGroup/GaussianDataset_145 (Array(1000000,)) ''\n",
      "/GaussianGroup/GaussianDataset_146 (Array(1000000,)) ''\n",
      "/GaussianGroup/GaussianDataset_147 (Array(1000000,)) ''\n",
      "/GaussianGroup/GaussianDataset_148 (Array(1000000,)) ''\n",
      "/GaussianGroup/GaussianDataset_149 (Array(1000000,)) ''\n",
      "/GaussianGroup/GaussianDataset_150 (Array(1000000,)) ''\n",
      "/GaussianGroup/GaussianDataset_151 (Array(1000000,)) ''\n",
      "/GaussianGroup/GaussianDataset_152 (Array(1000000,)) ''\n",
      "/GaussianGroup/GaussianDataset_153 (Array(1000000,)) ''\n",
      "/GaussianGroup/GaussianDataset_154 (Array(1000000,)) ''\n",
      "/GaussianGroup/GaussianDataset_155 (Array(1000000,)) ''\n",
      "/GaussianGroup/GaussianDataset_156 (Array(1000000,)) ''\n",
      "/GaussianGroup/GaussianDataset_157 (Array(1000000,)) ''\n",
      "/GaussianGroup/GaussianDataset_158 (Array(1000000,)) ''\n",
      "/GaussianGroup/GaussianDataset_159 (Array(1000000,)) ''\n",
      "/GaussianGroup/GaussianDataset_160 (Array(1000000,)) ''\n",
      "/GaussianGroup/GaussianDataset_161 (Array(1000000,)) ''\n",
      "/GaussianGroup/GaussianDataset_162 (Array(1000000,)) ''\n",
      "/GaussianGroup/GaussianDataset_163 (Array(1000000,)) ''\n",
      "/GaussianGroup/GaussianDataset_164 (Array(1000000,)) ''\n",
      "/GaussianGroup/GaussianDataset_165 (Array(1000000,)) ''\n",
      "/GaussianGroup/GaussianDataset_166 (Array(1000000,)) ''\n",
      "/GaussianGroup/GaussianDataset_167 (Array(1000000,)) ''\n",
      "/GaussianGroup/GaussianDataset_168 (Array(1000000,)) ''\n",
      "/GaussianGroup/GaussianDataset_169 (Array(1000000,)) ''\n",
      "/GaussianGroup/GaussianDataset_170 (Array(1000000,)) ''\n",
      "/GaussianGroup/GaussianDataset_171 (Array(1000000,)) ''\n",
      "/GaussianGroup/GaussianDataset_172 (Array(1000000,)) ''\n",
      "/GaussianGroup/GaussianDataset_173 (Array(1000000,)) ''\n",
      "/GaussianGroup/GaussianDataset_174 (Array(1000000,)) ''\n",
      "/GaussianGroup/GaussianDataset_175 (Array(1000000,)) ''\n",
      "/GaussianGroup/GaussianDataset_176 (Array(1000000,)) ''\n",
      "/GaussianGroup/GaussianDataset_177 (Array(1000000,)) ''\n",
      "/GaussianGroup/GaussianDataset_178 (Array(1000000,)) ''\n",
      "/GaussianGroup/GaussianDataset_179 (Array(1000000,)) ''\n",
      "/GaussianGroup/GaussianDataset_180 (Array(1000000,)) ''\n",
      "/GaussianGroup/GaussianDataset_181 (Array(1000000,)) ''\n",
      "/GaussianGroup/GaussianDataset_182 (Array(1000000,)) ''\n",
      "/GaussianGroup/GaussianDataset_183 (Array(1000000,)) ''\n",
      "/GaussianGroup/GaussianDataset_184 (Array(1000000,)) ''\n",
      "/GaussianGroup/GaussianDataset_185 (Array(1000000,)) ''\n",
      "/GaussianGroup/GaussianDataset_186 (Array(1000000,)) ''\n",
      "/GaussianGroup/GaussianDataset_187 (Array(1000000,)) ''\n",
      "/GaussianGroup/GaussianDataset_188 (Array(1000000,)) ''\n",
      "/GaussianGroup/GaussianDataset_189 (Array(1000000,)) ''\n",
      "/GaussianGroup/GaussianDataset_190 (Array(1000000,)) ''\n",
      "/GaussianGroup/GaussianDataset_191 (Array(1000000,)) ''\n",
      "/GaussianGroup/GaussianDataset_192 (Array(1000000,)) ''\n",
      "/GaussianGroup/GaussianDataset_193 (Array(1000000,)) ''\n",
      "/GaussianGroup/GaussianDataset_194 (Array(1000000,)) ''\n",
      "/GaussianGroup/GaussianDataset_195 (Array(1000000,)) ''\n",
      "/GaussianGroup/GaussianDataset_196 (Array(1000000,)) ''\n",
      "/GaussianGroup/GaussianDataset_197 (Array(1000000,)) ''\n",
      "/GaussianGroup/GaussianDataset_198 (Array(1000000,)) ''\n",
      "/GaussianGroup/GaussianDataset_199 (Array(1000000,)) ''\n"
     ]
    },
    {
     "name": "stdout",
     "output_type": "stream",
     "text": [
      "/UniformGroup (Group) ''\n",
      "/UniformGroup/UniformDataset_000 (Array(1000000,)) ''\n",
      "/UniformGroup/UniformDataset_001 (Array(1000000,)) ''\n",
      "/UniformGroup/UniformDataset_002 (Array(1000000,)) ''\n",
      "/UniformGroup/UniformDataset_003 (Array(1000000,)) ''\n",
      "/UniformGroup/UniformDataset_004 (Array(1000000,)) ''\n",
      "/UniformGroup/UniformDataset_005 (Array(1000000,)) ''\n",
      "/UniformGroup/UniformDataset_006 (Array(1000000,)) ''\n",
      "/UniformGroup/UniformDataset_007 (Array(1000000,)) ''\n",
      "/UniformGroup/UniformDataset_008 (Array(1000000,)) ''\n",
      "/UniformGroup/UniformDataset_009 (Array(1000000,)) ''\n",
      "/UniformGroup/UniformDataset_010 (Array(1000000,)) ''\n",
      "/UniformGroup/UniformDataset_011 (Array(1000000,)) ''\n",
      "/UniformGroup/UniformDataset_012 (Array(1000000,)) ''\n",
      "/UniformGroup/UniformDataset_013 (Array(1000000,)) ''\n",
      "/UniformGroup/UniformDataset_014 (Array(1000000,)) ''\n",
      "/UniformGroup/UniformDataset_015 (Array(1000000,)) ''\n",
      "/UniformGroup/UniformDataset_016 (Array(1000000,)) ''\n",
      "/UniformGroup/UniformDataset_017 (Array(1000000,)) ''\n",
      "/UniformGroup/UniformDataset_018 (Array(1000000,)) ''\n",
      "/UniformGroup/UniformDataset_019 (Array(1000000,)) ''\n",
      "/UniformGroup/UniformDataset_020 (Array(1000000,)) ''\n",
      "/UniformGroup/UniformDataset_021 (Array(1000000,)) ''\n",
      "/UniformGroup/UniformDataset_022 (Array(1000000,)) ''\n",
      "/UniformGroup/UniformDataset_023 (Array(1000000,)) ''\n",
      "/UniformGroup/UniformDataset_024 (Array(1000000,)) ''\n",
      "/UniformGroup/UniformDataset_025 (Array(1000000,)) ''\n",
      "/UniformGroup/UniformDataset_026 (Array(1000000,)) ''\n",
      "/UniformGroup/UniformDataset_027 (Array(1000000,)) ''\n",
      "/UniformGroup/UniformDataset_028 (Array(1000000,)) ''\n",
      "/UniformGroup/UniformDataset_029 (Array(1000000,)) ''\n",
      "/UniformGroup/UniformDataset_030 (Array(1000000,)) ''\n",
      "/UniformGroup/UniformDataset_031 (Array(1000000,)) ''\n",
      "/UniformGroup/UniformDataset_032 (Array(1000000,)) ''\n",
      "/UniformGroup/UniformDataset_033 (Array(1000000,)) ''\n",
      "/UniformGroup/UniformDataset_034 (Array(1000000,)) ''\n",
      "/UniformGroup/UniformDataset_035 (Array(1000000,)) ''\n",
      "/UniformGroup/UniformDataset_036 (Array(1000000,)) ''\n",
      "/UniformGroup/UniformDataset_037 (Array(1000000,)) ''\n",
      "/UniformGroup/UniformDataset_038 (Array(1000000,)) ''\n",
      "/UniformGroup/UniformDataset_039 (Array(1000000,)) ''\n",
      "/UniformGroup/UniformDataset_040 (Array(1000000,)) ''\n",
      "/UniformGroup/UniformDataset_041 (Array(1000000,)) ''\n",
      "/UniformGroup/UniformDataset_042 (Array(1000000,)) ''\n",
      "/UniformGroup/UniformDataset_043 (Array(1000000,)) ''\n",
      "/UniformGroup/UniformDataset_044 (Array(1000000,)) ''\n",
      "/UniformGroup/UniformDataset_045 (Array(1000000,)) ''\n",
      "/UniformGroup/UniformDataset_046 (Array(1000000,)) ''\n",
      "/UniformGroup/UniformDataset_047 (Array(1000000,)) ''\n",
      "/UniformGroup/UniformDataset_048 (Array(1000000,)) ''\n",
      "/UniformGroup/UniformDataset_049 (Array(1000000,)) ''\n",
      "/UniformGroup/UniformDataset_050 (Array(1000000,)) ''\n",
      "/UniformGroup/UniformDataset_051 (Array(1000000,)) ''\n",
      "/UniformGroup/UniformDataset_052 (Array(1000000,)) ''\n",
      "/UniformGroup/UniformDataset_053 (Array(1000000,)) ''\n",
      "/UniformGroup/UniformDataset_054 (Array(1000000,)) ''\n",
      "/UniformGroup/UniformDataset_055 (Array(1000000,)) ''\n",
      "/UniformGroup/UniformDataset_056 (Array(1000000,)) ''\n",
      "/UniformGroup/UniformDataset_057 (Array(1000000,)) ''\n",
      "/UniformGroup/UniformDataset_058 (Array(1000000,)) ''\n",
      "/UniformGroup/UniformDataset_059 (Array(1000000,)) ''\n",
      "/UniformGroup/UniformDataset_060 (Array(1000000,)) ''\n",
      "/UniformGroup/UniformDataset_061 (Array(1000000,)) ''\n",
      "/UniformGroup/UniformDataset_062 (Array(1000000,)) ''\n",
      "/UniformGroup/UniformDataset_063 (Array(1000000,)) ''\n",
      "/UniformGroup/UniformDataset_064 (Array(1000000,)) ''\n",
      "/UniformGroup/UniformDataset_065 (Array(1000000,)) ''\n",
      "/UniformGroup/UniformDataset_066 (Array(1000000,)) ''\n",
      "/UniformGroup/UniformDataset_067 (Array(1000000,)) ''\n",
      "/UniformGroup/UniformDataset_068 (Array(1000000,)) ''\n",
      "/UniformGroup/UniformDataset_069 (Array(1000000,)) ''\n",
      "/UniformGroup/UniformDataset_070 (Array(1000000,)) ''\n",
      "/UniformGroup/UniformDataset_071 (Array(1000000,)) ''\n",
      "/UniformGroup/UniformDataset_072 (Array(1000000,)) ''\n",
      "/UniformGroup/UniformDataset_073 (Array(1000000,)) ''\n",
      "/UniformGroup/UniformDataset_074 (Array(1000000,)) ''\n",
      "/UniformGroup/UniformDataset_075 (Array(1000000,)) ''\n",
      "/UniformGroup/UniformDataset_076 (Array(1000000,)) ''\n",
      "/UniformGroup/UniformDataset_077 (Array(1000000,)) ''\n",
      "/UniformGroup/UniformDataset_078 (Array(1000000,)) ''\n",
      "/UniformGroup/UniformDataset_079 (Array(1000000,)) ''\n",
      "/UniformGroup/UniformDataset_080 (Array(1000000,)) ''\n",
      "/UniformGroup/UniformDataset_081 (Array(1000000,)) ''\n",
      "/UniformGroup/UniformDataset_082 (Array(1000000,)) ''\n",
      "/UniformGroup/UniformDataset_083 (Array(1000000,)) ''\n",
      "/UniformGroup/UniformDataset_084 (Array(1000000,)) ''\n",
      "/UniformGroup/UniformDataset_085 (Array(1000000,)) ''\n",
      "/UniformGroup/UniformDataset_086 (Array(1000000,)) ''\n",
      "/UniformGroup/UniformDataset_087 (Array(1000000,)) ''\n",
      "/UniformGroup/UniformDataset_088 (Array(1000000,)) ''\n",
      "/UniformGroup/UniformDataset_089 (Array(1000000,)) ''\n",
      "/UniformGroup/UniformDataset_090 (Array(1000000,)) ''\n",
      "/UniformGroup/UniformDataset_091 (Array(1000000,)) ''\n",
      "/UniformGroup/UniformDataset_092 (Array(1000000,)) ''\n",
      "/UniformGroup/UniformDataset_093 (Array(1000000,)) ''\n",
      "/UniformGroup/UniformDataset_094 (Array(1000000,)) ''\n",
      "/UniformGroup/UniformDataset_095 (Array(1000000,)) ''\n",
      "/UniformGroup/UniformDataset_096 (Array(1000000,)) ''\n",
      "/UniformGroup/UniformDataset_097 (Array(1000000,)) ''\n",
      "/UniformGroup/UniformDataset_098 (Array(1000000,)) ''\n",
      "/UniformGroup/UniformDataset_099 (Array(1000000,)) ''\n",
      "/UniformGroup/UniformDataset_100 (Array(1000000,)) ''\n",
      "/UniformGroup/UniformDataset_101 (Array(1000000,)) ''\n",
      "/UniformGroup/UniformDataset_102 (Array(1000000,)) ''\n",
      "/UniformGroup/UniformDataset_103 (Array(1000000,)) ''\n",
      "/UniformGroup/UniformDataset_104 (Array(1000000,)) ''\n",
      "/UniformGroup/UniformDataset_105 (Array(1000000,)) ''\n",
      "/UniformGroup/UniformDataset_106 (Array(1000000,)) ''\n",
      "/UniformGroup/UniformDataset_107 (Array(1000000,)) ''\n",
      "/UniformGroup/UniformDataset_108 (Array(1000000,)) ''\n",
      "/UniformGroup/UniformDataset_109 (Array(1000000,)) ''\n",
      "/UniformGroup/UniformDataset_110 (Array(1000000,)) ''\n",
      "/UniformGroup/UniformDataset_111 (Array(1000000,)) ''\n",
      "/UniformGroup/UniformDataset_112 (Array(1000000,)) ''\n",
      "/UniformGroup/UniformDataset_113 (Array(1000000,)) ''\n",
      "/UniformGroup/UniformDataset_114 (Array(1000000,)) ''\n",
      "/UniformGroup/UniformDataset_115 (Array(1000000,)) ''\n",
      "/UniformGroup/UniformDataset_116 (Array(1000000,)) ''\n",
      "/UniformGroup/UniformDataset_117 (Array(1000000,)) ''\n",
      "/UniformGroup/UniformDataset_118 (Array(1000000,)) ''\n",
      "/UniformGroup/UniformDataset_119 (Array(1000000,)) ''\n",
      "/UniformGroup/UniformDataset_120 (Array(1000000,)) ''\n",
      "/UniformGroup/UniformDataset_121 (Array(1000000,)) ''\n",
      "/UniformGroup/UniformDataset_122 (Array(1000000,)) ''\n",
      "/UniformGroup/UniformDataset_123 (Array(1000000,)) ''\n",
      "/UniformGroup/UniformDataset_124 (Array(1000000,)) ''\n",
      "/UniformGroup/UniformDataset_125 (Array(1000000,)) ''\n",
      "/UniformGroup/UniformDataset_126 (Array(1000000,)) ''\n",
      "/UniformGroup/UniformDataset_127 (Array(1000000,)) ''\n",
      "/UniformGroup/UniformDataset_128 (Array(1000000,)) ''\n",
      "/UniformGroup/UniformDataset_129 (Array(1000000,)) ''\n",
      "/UniformGroup/UniformDataset_130 (Array(1000000,)) ''\n",
      "/UniformGroup/UniformDataset_131 (Array(1000000,)) ''\n",
      "/UniformGroup/UniformDataset_132 (Array(1000000,)) ''\n",
      "/UniformGroup/UniformDataset_133 (Array(1000000,)) ''\n",
      "/UniformGroup/UniformDataset_134 (Array(1000000,)) ''\n",
      "/UniformGroup/UniformDataset_135 (Array(1000000,)) ''\n",
      "/UniformGroup/UniformDataset_136 (Array(1000000,)) ''\n",
      "/UniformGroup/UniformDataset_137 (Array(1000000,)) ''\n",
      "/UniformGroup/UniformDataset_138 (Array(1000000,)) ''\n",
      "/UniformGroup/UniformDataset_139 (Array(1000000,)) ''\n",
      "/UniformGroup/UniformDataset_140 (Array(1000000,)) ''\n",
      "/UniformGroup/UniformDataset_141 (Array(1000000,)) ''\n",
      "/UniformGroup/UniformDataset_142 (Array(1000000,)) ''\n",
      "/UniformGroup/UniformDataset_143 (Array(1000000,)) ''\n",
      "/UniformGroup/UniformDataset_144 (Array(1000000,)) ''\n",
      "/UniformGroup/UniformDataset_145 (Array(1000000,)) ''\n",
      "/UniformGroup/UniformDataset_146 (Array(1000000,)) ''\n",
      "/UniformGroup/UniformDataset_147 (Array(1000000,)) ''\n",
      "/UniformGroup/UniformDataset_148 (Array(1000000,)) ''\n",
      "/UniformGroup/UniformDataset_149 (Array(1000000,)) ''\n",
      "/UniformGroup/UniformDataset_150 (Array(1000000,)) ''\n",
      "/UniformGroup/UniformDataset_151 (Array(1000000,)) ''\n",
      "/UniformGroup/UniformDataset_152 (Array(1000000,)) ''\n",
      "/UniformGroup/UniformDataset_153 (Array(1000000,)) ''\n",
      "/UniformGroup/UniformDataset_154 (Array(1000000,)) ''\n",
      "/UniformGroup/UniformDataset_155 (Array(1000000,)) ''\n",
      "/UniformGroup/UniformDataset_156 (Array(1000000,)) ''\n",
      "/UniformGroup/UniformDataset_157 (Array(1000000,)) ''\n",
      "/UniformGroup/UniformDataset_158 (Array(1000000,)) ''\n",
      "/UniformGroup/UniformDataset_159 (Array(1000000,)) ''\n",
      "/UniformGroup/UniformDataset_160 (Array(1000000,)) ''\n",
      "/UniformGroup/UniformDataset_161 (Array(1000000,)) ''\n",
      "/UniformGroup/UniformDataset_162 (Array(1000000,)) ''\n",
      "/UniformGroup/UniformDataset_163 (Array(1000000,)) ''\n",
      "/UniformGroup/UniformDataset_164 (Array(1000000,)) ''\n",
      "/UniformGroup/UniformDataset_165 (Array(1000000,)) ''\n",
      "/UniformGroup/UniformDataset_166 (Array(1000000,)) ''\n",
      "/UniformGroup/UniformDataset_167 (Array(1000000,)) ''\n",
      "/UniformGroup/UniformDataset_168 (Array(1000000,)) ''\n",
      "/UniformGroup/UniformDataset_169 (Array(1000000,)) ''\n",
      "/UniformGroup/UniformDataset_170 (Array(1000000,)) ''\n",
      "/UniformGroup/UniformDataset_171 (Array(1000000,)) ''\n",
      "/UniformGroup/UniformDataset_172 (Array(1000000,)) ''\n",
      "/UniformGroup/UniformDataset_173 (Array(1000000,)) ''\n",
      "/UniformGroup/UniformDataset_174 (Array(1000000,)) ''\n",
      "/UniformGroup/UniformDataset_175 (Array(1000000,)) ''\n",
      "/UniformGroup/UniformDataset_176 (Array(1000000,)) ''\n",
      "/UniformGroup/UniformDataset_177 (Array(1000000,)) ''\n",
      "/UniformGroup/UniformDataset_178 (Array(1000000,)) ''\n",
      "/UniformGroup/UniformDataset_179 (Array(1000000,)) ''\n",
      "/UniformGroup/UniformDataset_180 (Array(1000000,)) ''\n",
      "/UniformGroup/UniformDataset_181 (Array(1000000,)) ''\n",
      "/UniformGroup/UniformDataset_182 (Array(1000000,)) ''\n",
      "/UniformGroup/UniformDataset_183 (Array(1000000,)) ''\n",
      "/UniformGroup/UniformDataset_184 (Array(1000000,)) ''\n",
      "/UniformGroup/UniformDataset_185 (Array(1000000,)) ''\n",
      "/UniformGroup/UniformDataset_186 (Array(1000000,)) ''\n",
      "/UniformGroup/UniformDataset_187 (Array(1000000,)) ''\n",
      "/UniformGroup/UniformDataset_188 (Array(1000000,)) ''\n",
      "/UniformGroup/UniformDataset_189 (Array(1000000,)) ''\n",
      "/UniformGroup/UniformDataset_190 (Array(1000000,)) ''\n",
      "/UniformGroup/UniformDataset_191 (Array(1000000,)) ''\n",
      "/UniformGroup/UniformDataset_192 (Array(1000000,)) ''\n",
      "/UniformGroup/UniformDataset_193 (Array(1000000,)) ''\n",
      "/UniformGroup/UniformDataset_194 (Array(1000000,)) ''\n",
      "/UniformGroup/UniformDataset_195 (Array(1000000,)) ''\n",
      "/UniformGroup/UniformDataset_196 (Array(1000000,)) ''\n",
      "/UniformGroup/UniformDataset_197 (Array(1000000,)) ''\n",
      "/UniformGroup/UniformDataset_198 (Array(1000000,)) ''\n",
      "/UniformGroup/UniformDataset_199 (Array(1000000,)) ''\n"
     ]
    }
   ],
   "source": [
    "!ptdump {big_file_path}"
   ]
  },
  {
   "cell_type": "markdown",
   "metadata": {},
   "source": [
    "Instead of `ptdump` we can walk the groups from the root node."
   ]
  },
  {
   "cell_type": "code",
   "execution_count": 25,
   "metadata": {},
   "outputs": [
    {
     "name": "stdout",
     "output_type": "stream",
     "text": [
      "/GaussianGroup/GaussianDataset_000 (Array(1000000,)) ''\n",
      "/GaussianGroup/GaussianDataset_001 (Array(1000000,)) ''\n",
      "/GaussianGroup/GaussianDataset_002 (Array(1000000,)) ''\n",
      "/GaussianGroup/GaussianDataset_003 (Array(1000000,)) ''\n",
      "/GaussianGroup/GaussianDataset_004 (Array(1000000,)) ''\n",
      "/GaussianGroup/GaussianDataset_005 (Array(1000000,)) ''\n",
      "/GaussianGroup/GaussianDataset_006 (Array(1000000,)) ''\n",
      "/GaussianGroup/GaussianDataset_007 (Array(1000000,)) ''\n",
      "/GaussianGroup/GaussianDataset_008 (Array(1000000,)) ''\n",
      "/GaussianGroup/GaussianDataset_009 (Array(1000000,)) ''\n",
      "/GaussianGroup/GaussianDataset_010 (Array(1000000,)) ''\n",
      "/GaussianGroup/GaussianDataset_011 (Array(1000000,)) ''\n",
      "/GaussianGroup/GaussianDataset_012 (Array(1000000,)) ''\n",
      "/GaussianGroup/GaussianDataset_013 (Array(1000000,)) ''\n",
      "/GaussianGroup/GaussianDataset_014 (Array(1000000,)) ''\n",
      "/GaussianGroup/GaussianDataset_015 (Array(1000000,)) ''\n",
      "/GaussianGroup/GaussianDataset_016 (Array(1000000,)) ''\n",
      "/GaussianGroup/GaussianDataset_017 (Array(1000000,)) ''\n",
      "/GaussianGroup/GaussianDataset_018 (Array(1000000,)) ''\n",
      "/GaussianGroup/GaussianDataset_019 (Array(1000000,)) ''\n",
      "/GaussianGroup/GaussianDataset_020 (Array(1000000,)) ''\n",
      "/GaussianGroup/GaussianDataset_021 (Array(1000000,)) ''\n",
      "/GaussianGroup/GaussianDataset_022 (Array(1000000,)) ''\n",
      "/GaussianGroup/GaussianDataset_023 (Array(1000000,)) ''\n",
      "/GaussianGroup/GaussianDataset_024 (Array(1000000,)) ''\n",
      "/GaussianGroup/GaussianDataset_025 (Array(1000000,)) ''\n",
      "/GaussianGroup/GaussianDataset_026 (Array(1000000,)) ''\n",
      "/GaussianGroup/GaussianDataset_027 (Array(1000000,)) ''\n",
      "/GaussianGroup/GaussianDataset_028 (Array(1000000,)) ''\n",
      "/GaussianGroup/GaussianDataset_029 (Array(1000000,)) ''\n",
      "/GaussianGroup/GaussianDataset_030 (Array(1000000,)) ''\n",
      "/GaussianGroup/GaussianDataset_031 (Array(1000000,)) ''\n",
      "/GaussianGroup/GaussianDataset_032 (Array(1000000,)) ''\n",
      "/GaussianGroup/GaussianDataset_033 (Array(1000000,)) ''\n",
      "/GaussianGroup/GaussianDataset_034 (Array(1000000,)) ''\n",
      "/GaussianGroup/GaussianDataset_035 (Array(1000000,)) ''\n",
      "/GaussianGroup/GaussianDataset_036 (Array(1000000,)) ''\n",
      "/GaussianGroup/GaussianDataset_037 (Array(1000000,)) ''\n",
      "/GaussianGroup/GaussianDataset_038 (Array(1000000,)) ''\n",
      "/GaussianGroup/GaussianDataset_039 (Array(1000000,)) ''\n",
      "/GaussianGroup/GaussianDataset_040 (Array(1000000,)) ''\n",
      "/GaussianGroup/GaussianDataset_041 (Array(1000000,)) ''\n",
      "/GaussianGroup/GaussianDataset_042 (Array(1000000,)) ''\n",
      "/GaussianGroup/GaussianDataset_043 (Array(1000000,)) ''\n",
      "/GaussianGroup/GaussianDataset_044 (Array(1000000,)) ''\n",
      "/GaussianGroup/GaussianDataset_045 (Array(1000000,)) ''\n",
      "/GaussianGroup/GaussianDataset_046 (Array(1000000,)) ''\n",
      "/GaussianGroup/GaussianDataset_047 (Array(1000000,)) ''\n",
      "/GaussianGroup/GaussianDataset_048 (Array(1000000,)) ''\n",
      "/GaussianGroup/GaussianDataset_049 (Array(1000000,)) ''\n",
      "/GaussianGroup/GaussianDataset_050 (Array(1000000,)) ''\n",
      "/GaussianGroup/GaussianDataset_051 (Array(1000000,)) ''\n",
      "/GaussianGroup/GaussianDataset_052 (Array(1000000,)) ''\n",
      "/GaussianGroup/GaussianDataset_053 (Array(1000000,)) ''\n",
      "/GaussianGroup/GaussianDataset_054 (Array(1000000,)) ''\n",
      "/GaussianGroup/GaussianDataset_055 (Array(1000000,)) ''\n",
      "/GaussianGroup/GaussianDataset_056 (Array(1000000,)) ''\n",
      "/GaussianGroup/GaussianDataset_057 (Array(1000000,)) ''\n",
      "/GaussianGroup/GaussianDataset_058 (Array(1000000,)) ''\n",
      "/GaussianGroup/GaussianDataset_059 (Array(1000000,)) ''\n",
      "/GaussianGroup/GaussianDataset_060 (Array(1000000,)) ''\n",
      "/GaussianGroup/GaussianDataset_061 (Array(1000000,)) ''\n",
      "/GaussianGroup/GaussianDataset_062 (Array(1000000,)) ''\n",
      "/GaussianGroup/GaussianDataset_063 (Array(1000000,)) ''\n",
      "/GaussianGroup/GaussianDataset_064 (Array(1000000,)) ''\n",
      "/GaussianGroup/GaussianDataset_065 (Array(1000000,)) ''\n",
      "/GaussianGroup/GaussianDataset_066 (Array(1000000,)) ''\n",
      "/GaussianGroup/GaussianDataset_067 (Array(1000000,)) ''\n",
      "/GaussianGroup/GaussianDataset_068 (Array(1000000,)) ''\n",
      "/GaussianGroup/GaussianDataset_069 (Array(1000000,)) ''\n",
      "/GaussianGroup/GaussianDataset_070 (Array(1000000,)) ''\n",
      "/GaussianGroup/GaussianDataset_071 (Array(1000000,)) ''\n",
      "/GaussianGroup/GaussianDataset_072 (Array(1000000,)) ''\n",
      "/GaussianGroup/GaussianDataset_073 (Array(1000000,)) ''\n",
      "/GaussianGroup/GaussianDataset_074 (Array(1000000,)) ''\n",
      "/GaussianGroup/GaussianDataset_075 (Array(1000000,)) ''\n",
      "/GaussianGroup/GaussianDataset_076 (Array(1000000,)) ''\n",
      "/GaussianGroup/GaussianDataset_077 (Array(1000000,)) ''\n",
      "/GaussianGroup/GaussianDataset_078 (Array(1000000,)) ''\n",
      "/GaussianGroup/GaussianDataset_079 (Array(1000000,)) ''\n",
      "/GaussianGroup/GaussianDataset_080 (Array(1000000,)) ''\n",
      "/GaussianGroup/GaussianDataset_081 (Array(1000000,)) ''\n",
      "/GaussianGroup/GaussianDataset_082 (Array(1000000,)) ''\n",
      "/GaussianGroup/GaussianDataset_083 (Array(1000000,)) ''\n",
      "/GaussianGroup/GaussianDataset_084 (Array(1000000,)) ''\n",
      "/GaussianGroup/GaussianDataset_085 (Array(1000000,)) ''\n",
      "/GaussianGroup/GaussianDataset_086 (Array(1000000,)) ''\n",
      "/GaussianGroup/GaussianDataset_087 (Array(1000000,)) ''\n",
      "/GaussianGroup/GaussianDataset_088 (Array(1000000,)) ''\n",
      "/GaussianGroup/GaussianDataset_089 (Array(1000000,)) ''\n",
      "/GaussianGroup/GaussianDataset_090 (Array(1000000,)) ''\n",
      "/GaussianGroup/GaussianDataset_091 (Array(1000000,)) ''\n",
      "/GaussianGroup/GaussianDataset_092 (Array(1000000,)) ''\n",
      "/GaussianGroup/GaussianDataset_093 (Array(1000000,)) ''\n",
      "/GaussianGroup/GaussianDataset_094 (Array(1000000,)) ''\n",
      "/GaussianGroup/GaussianDataset_095 (Array(1000000,)) ''\n",
      "/GaussianGroup/GaussianDataset_096 (Array(1000000,)) ''\n",
      "/GaussianGroup/GaussianDataset_097 (Array(1000000,)) ''\n",
      "/GaussianGroup/GaussianDataset_098 (Array(1000000,)) ''\n",
      "/GaussianGroup/GaussianDataset_099 (Array(1000000,)) ''\n",
      "/GaussianGroup/GaussianDataset_100 (Array(1000000,)) ''\n",
      "/GaussianGroup/GaussianDataset_101 (Array(1000000,)) ''\n",
      "/GaussianGroup/GaussianDataset_102 (Array(1000000,)) ''\n",
      "/GaussianGroup/GaussianDataset_103 (Array(1000000,)) ''\n",
      "/GaussianGroup/GaussianDataset_104 (Array(1000000,)) ''\n",
      "/GaussianGroup/GaussianDataset_105 (Array(1000000,)) ''\n",
      "/GaussianGroup/GaussianDataset_106 (Array(1000000,)) ''\n",
      "/GaussianGroup/GaussianDataset_107 (Array(1000000,)) ''\n",
      "/GaussianGroup/GaussianDataset_108 (Array(1000000,)) ''\n",
      "/GaussianGroup/GaussianDataset_109 (Array(1000000,)) ''\n",
      "/GaussianGroup/GaussianDataset_110 (Array(1000000,)) ''\n",
      "/GaussianGroup/GaussianDataset_111 (Array(1000000,)) ''\n",
      "/GaussianGroup/GaussianDataset_112 (Array(1000000,)) ''\n",
      "/GaussianGroup/GaussianDataset_113 (Array(1000000,)) ''\n",
      "/GaussianGroup/GaussianDataset_114 (Array(1000000,)) ''\n",
      "/GaussianGroup/GaussianDataset_115 (Array(1000000,)) ''\n",
      "/GaussianGroup/GaussianDataset_116 (Array(1000000,)) ''\n",
      "/GaussianGroup/GaussianDataset_117 (Array(1000000,)) ''\n",
      "/GaussianGroup/GaussianDataset_118 (Array(1000000,)) ''\n",
      "/GaussianGroup/GaussianDataset_119 (Array(1000000,)) ''\n",
      "/GaussianGroup/GaussianDataset_120 (Array(1000000,)) ''\n",
      "/GaussianGroup/GaussianDataset_121 (Array(1000000,)) ''\n",
      "/GaussianGroup/GaussianDataset_122 (Array(1000000,)) ''\n",
      "/GaussianGroup/GaussianDataset_123 (Array(1000000,)) ''\n",
      "/GaussianGroup/GaussianDataset_124 (Array(1000000,)) ''\n",
      "/GaussianGroup/GaussianDataset_125 (Array(1000000,)) ''\n",
      "/GaussianGroup/GaussianDataset_126 (Array(1000000,)) ''\n",
      "/GaussianGroup/GaussianDataset_127 (Array(1000000,)) ''\n",
      "/GaussianGroup/GaussianDataset_128 (Array(1000000,)) ''\n",
      "/GaussianGroup/GaussianDataset_129 (Array(1000000,)) ''\n",
      "/GaussianGroup/GaussianDataset_130 (Array(1000000,)) ''\n",
      "/GaussianGroup/GaussianDataset_131 (Array(1000000,)) ''\n",
      "/GaussianGroup/GaussianDataset_132 (Array(1000000,)) ''\n",
      "/GaussianGroup/GaussianDataset_133 (Array(1000000,)) ''\n",
      "/GaussianGroup/GaussianDataset_134 (Array(1000000,)) ''\n",
      "/GaussianGroup/GaussianDataset_135 (Array(1000000,)) ''\n",
      "/GaussianGroup/GaussianDataset_136 (Array(1000000,)) ''\n",
      "/GaussianGroup/GaussianDataset_137 (Array(1000000,)) ''\n",
      "/GaussianGroup/GaussianDataset_138 (Array(1000000,)) ''\n",
      "/GaussianGroup/GaussianDataset_139 (Array(1000000,)) ''\n",
      "/GaussianGroup/GaussianDataset_140 (Array(1000000,)) ''\n",
      "/GaussianGroup/GaussianDataset_141 (Array(1000000,)) ''\n",
      "/GaussianGroup/GaussianDataset_142 (Array(1000000,)) ''\n",
      "/GaussianGroup/GaussianDataset_143 (Array(1000000,)) ''\n",
      "/GaussianGroup/GaussianDataset_144 (Array(1000000,)) ''\n",
      "/GaussianGroup/GaussianDataset_145 (Array(1000000,)) ''\n",
      "/GaussianGroup/GaussianDataset_146 (Array(1000000,)) ''\n",
      "/GaussianGroup/GaussianDataset_147 (Array(1000000,)) ''\n",
      "/GaussianGroup/GaussianDataset_148 (Array(1000000,)) ''\n",
      "/GaussianGroup/GaussianDataset_149 (Array(1000000,)) ''\n",
      "/GaussianGroup/GaussianDataset_150 (Array(1000000,)) ''\n",
      "/GaussianGroup/GaussianDataset_151 (Array(1000000,)) ''\n",
      "/GaussianGroup/GaussianDataset_152 (Array(1000000,)) ''\n",
      "/GaussianGroup/GaussianDataset_153 (Array(1000000,)) ''\n",
      "/GaussianGroup/GaussianDataset_154 (Array(1000000,)) ''\n",
      "/GaussianGroup/GaussianDataset_155 (Array(1000000,)) ''\n",
      "/GaussianGroup/GaussianDataset_156 (Array(1000000,)) ''\n",
      "/GaussianGroup/GaussianDataset_157 (Array(1000000,)) ''\n",
      "/GaussianGroup/GaussianDataset_158 (Array(1000000,)) ''\n",
      "/GaussianGroup/GaussianDataset_159 (Array(1000000,)) ''\n",
      "/GaussianGroup/GaussianDataset_160 (Array(1000000,)) ''\n",
      "/GaussianGroup/GaussianDataset_161 (Array(1000000,)) ''\n",
      "/GaussianGroup/GaussianDataset_162 (Array(1000000,)) ''\n",
      "/GaussianGroup/GaussianDataset_163 (Array(1000000,)) ''\n",
      "/GaussianGroup/GaussianDataset_164 (Array(1000000,)) ''\n",
      "/GaussianGroup/GaussianDataset_165 (Array(1000000,)) ''\n",
      "/GaussianGroup/GaussianDataset_166 (Array(1000000,)) ''\n",
      "/GaussianGroup/GaussianDataset_167 (Array(1000000,)) ''\n",
      "/GaussianGroup/GaussianDataset_168 (Array(1000000,)) ''\n",
      "/GaussianGroup/GaussianDataset_169 (Array(1000000,)) ''\n",
      "/GaussianGroup/GaussianDataset_170 (Array(1000000,)) ''\n",
      "/GaussianGroup/GaussianDataset_171 (Array(1000000,)) ''\n",
      "/GaussianGroup/GaussianDataset_172 (Array(1000000,)) ''\n",
      "/GaussianGroup/GaussianDataset_173 (Array(1000000,)) ''\n",
      "/GaussianGroup/GaussianDataset_174 (Array(1000000,)) ''\n",
      "/GaussianGroup/GaussianDataset_175 (Array(1000000,)) ''\n",
      "/GaussianGroup/GaussianDataset_176 (Array(1000000,)) ''\n",
      "/GaussianGroup/GaussianDataset_177 (Array(1000000,)) ''\n",
      "/GaussianGroup/GaussianDataset_178 (Array(1000000,)) ''\n",
      "/GaussianGroup/GaussianDataset_179 (Array(1000000,)) ''\n",
      "/GaussianGroup/GaussianDataset_180 (Array(1000000,)) ''\n",
      "/GaussianGroup/GaussianDataset_181 (Array(1000000,)) ''\n",
      "/GaussianGroup/GaussianDataset_182 (Array(1000000,)) ''\n",
      "/GaussianGroup/GaussianDataset_183 (Array(1000000,)) ''\n",
      "/GaussianGroup/GaussianDataset_184 (Array(1000000,)) ''\n",
      "/GaussianGroup/GaussianDataset_185 (Array(1000000,)) ''\n",
      "/GaussianGroup/GaussianDataset_186 (Array(1000000,)) ''\n",
      "/GaussianGroup/GaussianDataset_187 (Array(1000000,)) ''\n",
      "/GaussianGroup/GaussianDataset_188 (Array(1000000,)) ''\n",
      "/GaussianGroup/GaussianDataset_189 (Array(1000000,)) ''\n",
      "/GaussianGroup/GaussianDataset_190 (Array(1000000,)) ''\n",
      "/GaussianGroup/GaussianDataset_191 (Array(1000000,)) ''\n",
      "/GaussianGroup/GaussianDataset_192 (Array(1000000,)) ''\n",
      "/GaussianGroup/GaussianDataset_193 (Array(1000000,)) ''\n",
      "/GaussianGroup/GaussianDataset_194 (Array(1000000,)) ''\n",
      "/GaussianGroup/GaussianDataset_195 (Array(1000000,)) ''\n",
      "/GaussianGroup/GaussianDataset_196 (Array(1000000,)) ''\n",
      "/GaussianGroup/GaussianDataset_197 (Array(1000000,)) ''\n",
      "/GaussianGroup/GaussianDataset_198 (Array(1000000,)) ''\n",
      "/GaussianGroup/GaussianDataset_199 (Array(1000000,)) ''\n",
      "/UniformGroup/UniformDataset_000 (Array(1000000,)) ''\n",
      "/UniformGroup/UniformDataset_001 (Array(1000000,)) ''\n",
      "/UniformGroup/UniformDataset_002 (Array(1000000,)) ''\n",
      "/UniformGroup/UniformDataset_003 (Array(1000000,)) ''\n",
      "/UniformGroup/UniformDataset_004 (Array(1000000,)) ''\n",
      "/UniformGroup/UniformDataset_005 (Array(1000000,)) ''\n",
      "/UniformGroup/UniformDataset_006 (Array(1000000,)) ''\n",
      "/UniformGroup/UniformDataset_007 (Array(1000000,)) ''\n",
      "/UniformGroup/UniformDataset_008 (Array(1000000,)) ''\n",
      "/UniformGroup/UniformDataset_009 (Array(1000000,)) ''\n",
      "/UniformGroup/UniformDataset_010 (Array(1000000,)) ''\n",
      "/UniformGroup/UniformDataset_011 (Array(1000000,)) ''\n",
      "/UniformGroup/UniformDataset_012 (Array(1000000,)) ''\n",
      "/UniformGroup/UniformDataset_013 (Array(1000000,)) ''\n",
      "/UniformGroup/UniformDataset_014 (Array(1000000,)) ''\n",
      "/UniformGroup/UniformDataset_015 (Array(1000000,)) ''\n",
      "/UniformGroup/UniformDataset_016 (Array(1000000,)) ''\n",
      "/UniformGroup/UniformDataset_017 (Array(1000000,)) ''\n",
      "/UniformGroup/UniformDataset_018 (Array(1000000,)) ''\n",
      "/UniformGroup/UniformDataset_019 (Array(1000000,)) ''\n",
      "/UniformGroup/UniformDataset_020 (Array(1000000,)) ''\n",
      "/UniformGroup/UniformDataset_021 (Array(1000000,)) ''\n",
      "/UniformGroup/UniformDataset_022 (Array(1000000,)) ''\n",
      "/UniformGroup/UniformDataset_023 (Array(1000000,)) ''\n",
      "/UniformGroup/UniformDataset_024 (Array(1000000,)) ''\n",
      "/UniformGroup/UniformDataset_025 (Array(1000000,)) ''\n",
      "/UniformGroup/UniformDataset_026 (Array(1000000,)) ''\n",
      "/UniformGroup/UniformDataset_027 (Array(1000000,)) ''\n",
      "/UniformGroup/UniformDataset_028 (Array(1000000,)) ''\n",
      "/UniformGroup/UniformDataset_029 (Array(1000000,)) ''\n",
      "/UniformGroup/UniformDataset_030 (Array(1000000,)) ''\n",
      "/UniformGroup/UniformDataset_031 (Array(1000000,)) ''\n",
      "/UniformGroup/UniformDataset_032 (Array(1000000,)) ''\n",
      "/UniformGroup/UniformDataset_033 (Array(1000000,)) ''\n",
      "/UniformGroup/UniformDataset_034 (Array(1000000,)) ''\n",
      "/UniformGroup/UniformDataset_035 (Array(1000000,)) ''\n",
      "/UniformGroup/UniformDataset_036 (Array(1000000,)) ''\n",
      "/UniformGroup/UniformDataset_037 (Array(1000000,)) ''\n",
      "/UniformGroup/UniformDataset_038 (Array(1000000,)) ''\n",
      "/UniformGroup/UniformDataset_039 (Array(1000000,)) ''\n",
      "/UniformGroup/UniformDataset_040 (Array(1000000,)) ''\n",
      "/UniformGroup/UniformDataset_041 (Array(1000000,)) ''\n",
      "/UniformGroup/UniformDataset_042 (Array(1000000,)) ''\n",
      "/UniformGroup/UniformDataset_043 (Array(1000000,)) ''\n",
      "/UniformGroup/UniformDataset_044 (Array(1000000,)) ''\n",
      "/UniformGroup/UniformDataset_045 (Array(1000000,)) ''\n",
      "/UniformGroup/UniformDataset_046 (Array(1000000,)) ''\n",
      "/UniformGroup/UniformDataset_047 (Array(1000000,)) ''\n",
      "/UniformGroup/UniformDataset_048 (Array(1000000,)) ''\n",
      "/UniformGroup/UniformDataset_049 (Array(1000000,)) ''\n",
      "/UniformGroup/UniformDataset_050 (Array(1000000,)) ''\n",
      "/UniformGroup/UniformDataset_051 (Array(1000000,)) ''\n",
      "/UniformGroup/UniformDataset_052 (Array(1000000,)) ''\n",
      "/UniformGroup/UniformDataset_053 (Array(1000000,)) ''\n",
      "/UniformGroup/UniformDataset_054 (Array(1000000,)) ''\n",
      "/UniformGroup/UniformDataset_055 (Array(1000000,)) ''\n",
      "/UniformGroup/UniformDataset_056 (Array(1000000,)) ''\n",
      "/UniformGroup/UniformDataset_057 (Array(1000000,)) ''\n",
      "/UniformGroup/UniformDataset_058 (Array(1000000,)) ''\n",
      "/UniformGroup/UniformDataset_059 (Array(1000000,)) ''\n",
      "/UniformGroup/UniformDataset_060 (Array(1000000,)) ''\n",
      "/UniformGroup/UniformDataset_061 (Array(1000000,)) ''\n",
      "/UniformGroup/UniformDataset_062 (Array(1000000,)) ''\n",
      "/UniformGroup/UniformDataset_063 (Array(1000000,)) ''\n",
      "/UniformGroup/UniformDataset_064 (Array(1000000,)) ''\n",
      "/UniformGroup/UniformDataset_065 (Array(1000000,)) ''\n",
      "/UniformGroup/UniformDataset_066 (Array(1000000,)) ''\n",
      "/UniformGroup/UniformDataset_067 (Array(1000000,)) ''\n",
      "/UniformGroup/UniformDataset_068 (Array(1000000,)) ''\n",
      "/UniformGroup/UniformDataset_069 (Array(1000000,)) ''\n",
      "/UniformGroup/UniformDataset_070 (Array(1000000,)) ''\n",
      "/UniformGroup/UniformDataset_071 (Array(1000000,)) ''\n",
      "/UniformGroup/UniformDataset_072 (Array(1000000,)) ''\n",
      "/UniformGroup/UniformDataset_073 (Array(1000000,)) ''\n",
      "/UniformGroup/UniformDataset_074 (Array(1000000,)) ''\n",
      "/UniformGroup/UniformDataset_075 (Array(1000000,)) ''\n",
      "/UniformGroup/UniformDataset_076 (Array(1000000,)) ''\n",
      "/UniformGroup/UniformDataset_077 (Array(1000000,)) ''\n",
      "/UniformGroup/UniformDataset_078 (Array(1000000,)) ''\n",
      "/UniformGroup/UniformDataset_079 (Array(1000000,)) ''\n",
      "/UniformGroup/UniformDataset_080 (Array(1000000,)) ''\n",
      "/UniformGroup/UniformDataset_081 (Array(1000000,)) ''\n",
      "/UniformGroup/UniformDataset_082 (Array(1000000,)) ''\n",
      "/UniformGroup/UniformDataset_083 (Array(1000000,)) ''\n",
      "/UniformGroup/UniformDataset_084 (Array(1000000,)) ''\n",
      "/UniformGroup/UniformDataset_085 (Array(1000000,)) ''\n",
      "/UniformGroup/UniformDataset_086 (Array(1000000,)) ''\n",
      "/UniformGroup/UniformDataset_087 (Array(1000000,)) ''\n",
      "/UniformGroup/UniformDataset_088 (Array(1000000,)) ''\n",
      "/UniformGroup/UniformDataset_089 (Array(1000000,)) ''\n",
      "/UniformGroup/UniformDataset_090 (Array(1000000,)) ''\n",
      "/UniformGroup/UniformDataset_091 (Array(1000000,)) ''\n",
      "/UniformGroup/UniformDataset_092 (Array(1000000,)) ''\n",
      "/UniformGroup/UniformDataset_093 (Array(1000000,)) ''\n",
      "/UniformGroup/UniformDataset_094 (Array(1000000,)) ''\n",
      "/UniformGroup/UniformDataset_095 (Array(1000000,)) ''\n",
      "/UniformGroup/UniformDataset_096 (Array(1000000,)) ''\n",
      "/UniformGroup/UniformDataset_097 (Array(1000000,)) ''\n",
      "/UniformGroup/UniformDataset_098 (Array(1000000,)) ''\n",
      "/UniformGroup/UniformDataset_099 (Array(1000000,)) ''\n",
      "/UniformGroup/UniformDataset_100 (Array(1000000,)) ''\n",
      "/UniformGroup/UniformDataset_101 (Array(1000000,)) ''\n",
      "/UniformGroup/UniformDataset_102 (Array(1000000,)) ''\n",
      "/UniformGroup/UniformDataset_103 (Array(1000000,)) ''\n",
      "/UniformGroup/UniformDataset_104 (Array(1000000,)) ''\n",
      "/UniformGroup/UniformDataset_105 (Array(1000000,)) ''\n",
      "/UniformGroup/UniformDataset_106 (Array(1000000,)) ''\n",
      "/UniformGroup/UniformDataset_107 (Array(1000000,)) ''\n",
      "/UniformGroup/UniformDataset_108 (Array(1000000,)) ''\n",
      "/UniformGroup/UniformDataset_109 (Array(1000000,)) ''\n",
      "/UniformGroup/UniformDataset_110 (Array(1000000,)) ''\n",
      "/UniformGroup/UniformDataset_111 (Array(1000000,)) ''\n",
      "/UniformGroup/UniformDataset_112 (Array(1000000,)) ''\n",
      "/UniformGroup/UniformDataset_113 (Array(1000000,)) ''\n",
      "/UniformGroup/UniformDataset_114 (Array(1000000,)) ''\n",
      "/UniformGroup/UniformDataset_115 (Array(1000000,)) ''\n",
      "/UniformGroup/UniformDataset_116 (Array(1000000,)) ''\n",
      "/UniformGroup/UniformDataset_117 (Array(1000000,)) ''\n",
      "/UniformGroup/UniformDataset_118 (Array(1000000,)) ''\n",
      "/UniformGroup/UniformDataset_119 (Array(1000000,)) ''\n",
      "/UniformGroup/UniformDataset_120 (Array(1000000,)) ''\n",
      "/UniformGroup/UniformDataset_121 (Array(1000000,)) ''\n",
      "/UniformGroup/UniformDataset_122 (Array(1000000,)) ''\n",
      "/UniformGroup/UniformDataset_123 (Array(1000000,)) ''\n",
      "/UniformGroup/UniformDataset_124 (Array(1000000,)) ''\n",
      "/UniformGroup/UniformDataset_125 (Array(1000000,)) ''\n",
      "/UniformGroup/UniformDataset_126 (Array(1000000,)) ''\n",
      "/UniformGroup/UniformDataset_127 (Array(1000000,)) ''\n",
      "/UniformGroup/UniformDataset_128 (Array(1000000,)) ''\n",
      "/UniformGroup/UniformDataset_129 (Array(1000000,)) ''\n",
      "/UniformGroup/UniformDataset_130 (Array(1000000,)) ''\n",
      "/UniformGroup/UniformDataset_131 (Array(1000000,)) ''\n",
      "/UniformGroup/UniformDataset_132 (Array(1000000,)) ''\n",
      "/UniformGroup/UniformDataset_133 (Array(1000000,)) ''\n",
      "/UniformGroup/UniformDataset_134 (Array(1000000,)) ''\n",
      "/UniformGroup/UniformDataset_135 (Array(1000000,)) ''\n",
      "/UniformGroup/UniformDataset_136 (Array(1000000,)) ''\n",
      "/UniformGroup/UniformDataset_137 (Array(1000000,)) ''\n",
      "/UniformGroup/UniformDataset_138 (Array(1000000,)) ''\n",
      "/UniformGroup/UniformDataset_139 (Array(1000000,)) ''\n",
      "/UniformGroup/UniformDataset_140 (Array(1000000,)) ''\n",
      "/UniformGroup/UniformDataset_141 (Array(1000000,)) ''\n",
      "/UniformGroup/UniformDataset_142 (Array(1000000,)) ''\n",
      "/UniformGroup/UniformDataset_143 (Array(1000000,)) ''\n",
      "/UniformGroup/UniformDataset_144 (Array(1000000,)) ''\n",
      "/UniformGroup/UniformDataset_145 (Array(1000000,)) ''\n",
      "/UniformGroup/UniformDataset_146 (Array(1000000,)) ''\n",
      "/UniformGroup/UniformDataset_147 (Array(1000000,)) ''\n",
      "/UniformGroup/UniformDataset_148 (Array(1000000,)) ''\n",
      "/UniformGroup/UniformDataset_149 (Array(1000000,)) ''\n",
      "/UniformGroup/UniformDataset_150 (Array(1000000,)) ''\n",
      "/UniformGroup/UniformDataset_151 (Array(1000000,)) ''\n",
      "/UniformGroup/UniformDataset_152 (Array(1000000,)) ''\n",
      "/UniformGroup/UniformDataset_153 (Array(1000000,)) ''\n",
      "/UniformGroup/UniformDataset_154 (Array(1000000,)) ''\n",
      "/UniformGroup/UniformDataset_155 (Array(1000000,)) ''\n",
      "/UniformGroup/UniformDataset_156 (Array(1000000,)) ''\n",
      "/UniformGroup/UniformDataset_157 (Array(1000000,)) ''\n",
      "/UniformGroup/UniformDataset_158 (Array(1000000,)) ''\n",
      "/UniformGroup/UniformDataset_159 (Array(1000000,)) ''\n",
      "/UniformGroup/UniformDataset_160 (Array(1000000,)) ''\n",
      "/UniformGroup/UniformDataset_161 (Array(1000000,)) ''\n",
      "/UniformGroup/UniformDataset_162 (Array(1000000,)) ''\n",
      "/UniformGroup/UniformDataset_163 (Array(1000000,)) ''\n",
      "/UniformGroup/UniformDataset_164 (Array(1000000,)) ''\n",
      "/UniformGroup/UniformDataset_165 (Array(1000000,)) ''\n",
      "/UniformGroup/UniformDataset_166 (Array(1000000,)) ''\n",
      "/UniformGroup/UniformDataset_167 (Array(1000000,)) ''\n",
      "/UniformGroup/UniformDataset_168 (Array(1000000,)) ''\n",
      "/UniformGroup/UniformDataset_169 (Array(1000000,)) ''\n",
      "/UniformGroup/UniformDataset_170 (Array(1000000,)) ''\n",
      "/UniformGroup/UniformDataset_171 (Array(1000000,)) ''\n",
      "/UniformGroup/UniformDataset_172 (Array(1000000,)) ''\n",
      "/UniformGroup/UniformDataset_173 (Array(1000000,)) ''\n",
      "/UniformGroup/UniformDataset_174 (Array(1000000,)) ''\n",
      "/UniformGroup/UniformDataset_175 (Array(1000000,)) ''\n",
      "/UniformGroup/UniformDataset_176 (Array(1000000,)) ''\n",
      "/UniformGroup/UniformDataset_177 (Array(1000000,)) ''\n",
      "/UniformGroup/UniformDataset_178 (Array(1000000,)) ''\n",
      "/UniformGroup/UniformDataset_179 (Array(1000000,)) ''\n",
      "/UniformGroup/UniformDataset_180 (Array(1000000,)) ''\n",
      "/UniformGroup/UniformDataset_181 (Array(1000000,)) ''\n",
      "/UniformGroup/UniformDataset_182 (Array(1000000,)) ''\n",
      "/UniformGroup/UniformDataset_183 (Array(1000000,)) ''\n",
      "/UniformGroup/UniformDataset_184 (Array(1000000,)) ''\n",
      "/UniformGroup/UniformDataset_185 (Array(1000000,)) ''\n",
      "/UniformGroup/UniformDataset_186 (Array(1000000,)) ''\n",
      "/UniformGroup/UniformDataset_187 (Array(1000000,)) ''\n",
      "/UniformGroup/UniformDataset_188 (Array(1000000,)) ''\n",
      "/UniformGroup/UniformDataset_189 (Array(1000000,)) ''\n",
      "/UniformGroup/UniformDataset_190 (Array(1000000,)) ''\n",
      "/UniformGroup/UniformDataset_191 (Array(1000000,)) ''\n",
      "/UniformGroup/UniformDataset_192 (Array(1000000,)) ''\n",
      "/UniformGroup/UniformDataset_193 (Array(1000000,)) ''\n",
      "/UniformGroup/UniformDataset_194 (Array(1000000,)) ''\n",
      "/UniformGroup/UniformDataset_195 (Array(1000000,)) ''\n",
      "/UniformGroup/UniformDataset_196 (Array(1000000,)) ''\n",
      "/UniformGroup/UniformDataset_197 (Array(1000000,)) ''\n",
      "/UniformGroup/UniformDataset_198 (Array(1000000,)) ''\n",
      "/UniformGroup/UniformDataset_199 (Array(1000000,)) ''\n"
     ]
    }
   ],
   "source": [
    "with tb.open_file(big_file_path, 'r') as hdf:\n",
    "    for group in hdf.walk_groups('/'):\n",
    "        for array in hdf.list_nodes(group, classname='Array'):\n",
    "            print(array)"
   ]
  },
  {
   "cell_type": "markdown",
   "metadata": {},
   "source": [
    "### Read that big data!"
   ]
  },
  {
   "cell_type": "code",
   "execution_count": 24,
   "metadata": {},
   "outputs": [
    {
     "name": "stdout",
     "output_type": "stream",
     "text": [
      "/GaussianGroup/GaussianDataset_004 (Array(1000000,)) ''\n"
     ]
    }
   ],
   "source": [
    "with tb.open_file(big_file_path, 'r') as hdf:\n",
    "    # the array is just a proxy object\n",
    "    print(hdf.root.GaussianGroup.GaussianDataset_004)"
   ]
  },
  {
   "cell_type": "markdown",
   "metadata": {},
   "source": [
    "### Benchmark with/without numepr"
   ]
  },
  {
   "cell_type": "markdown",
   "metadata": {},
   "source": [
    "### Becnhmark with where, read_where, other syntaxes..."
   ]
  },
  {
   "cell_type": "markdown",
   "metadata": {},
   "source": [
    "### Critics to HDF5 and other formats"
   ]
  },
  {
   "cell_type": "markdown",
   "metadata": {},
   "source": [
    "Brief info on zarr, feather and others..."
   ]
  },
  {
   "cell_type": "markdown",
   "metadata": {},
   "source": [
    "### Reference"
   ]
  },
  {
   "cell_type": "markdown",
   "metadata": {},
   "source": [
    "- [Introduction to HDF5](https://www.youtube.com/watch?v=BAjsCldRMMc) by Quincey Koziol\n",
    "- [HDF5 is Eating the World](https://www.youtube.com/watch?v=nddj5OA8LJo) by Andrew Collette\n",
    "- [HDF5 take 2 - h5py & PyTables](https://www.youtube.com/watch?v=ofLFhQ9yxCw) by Tom Kooij"
   ]
  }
 ],
 "metadata": {
  "kernelspec": {
   "display_name": "Python 3",
   "language": "python",
   "name": "python3"
  },
  "language_info": {
   "codemirror_mode": {
    "name": "ipython",
    "version": 3
   },
   "file_extension": ".py",
   "mimetype": "text/x-python",
   "name": "python",
   "nbconvert_exporter": "python",
   "pygments_lexer": "ipython3",
   "version": "3.6.3"
  }
 },
 "nbformat": 4,
 "nbformat_minor": 1
}
