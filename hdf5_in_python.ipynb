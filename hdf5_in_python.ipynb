{
 "cells": [
  {
   "cell_type": "markdown",
   "metadata": {},
   "source": [
    "# HDF5 in Python"
   ]
  },
  {
   "cell_type": "code",
   "execution_count": 1,
   "metadata": {},
   "outputs": [
    {
     "data": {
      "application/json": {
       "cell": {
        "!": "OSMagics",
        "HTML": "Other",
        "SVG": "Other",
        "bash": "Other",
        "capture": "ExecutionMagics",
        "debug": "ExecutionMagics",
        "file": "Other",
        "html": "DisplayMagics",
        "javascript": "DisplayMagics",
        "js": "DisplayMagics",
        "latex": "DisplayMagics",
        "markdown": "DisplayMagics",
        "perl": "Other",
        "prun": "ExecutionMagics",
        "pypy": "Other",
        "python": "Other",
        "python2": "Other",
        "python3": "Other",
        "ruby": "Other",
        "script": "ScriptMagics",
        "sh": "Other",
        "svg": "DisplayMagics",
        "sx": "OSMagics",
        "system": "OSMagics",
        "time": "ExecutionMagics",
        "timeit": "ExecutionMagics",
        "writefile": "OSMagics"
       },
       "line": {
        "alias": "OSMagics",
        "alias_magic": "BasicMagics",
        "autocall": "AutoMagics",
        "automagic": "AutoMagics",
        "autosave": "KernelMagics",
        "bookmark": "OSMagics",
        "cat": "Other",
        "cd": "OSMagics",
        "clear": "KernelMagics",
        "colors": "BasicMagics",
        "config": "ConfigMagics",
        "connect_info": "KernelMagics",
        "cp": "Other",
        "debug": "ExecutionMagics",
        "dhist": "OSMagics",
        "dirs": "OSMagics",
        "doctest_mode": "BasicMagics",
        "ed": "Other",
        "edit": "KernelMagics",
        "env": "OSMagics",
        "gui": "BasicMagics",
        "hist": "Other",
        "history": "HistoryMagics",
        "killbgscripts": "ScriptMagics",
        "ldir": "Other",
        "less": "KernelMagics",
        "lf": "Other",
        "lk": "Other",
        "ll": "Other",
        "load": "CodeMagics",
        "load_ext": "ExtensionMagics",
        "loadpy": "CodeMagics",
        "logoff": "LoggingMagics",
        "logon": "LoggingMagics",
        "logstart": "LoggingMagics",
        "logstate": "LoggingMagics",
        "logstop": "LoggingMagics",
        "ls": "Other",
        "lsmagic": "BasicMagics",
        "lx": "Other",
        "macro": "ExecutionMagics",
        "magic": "BasicMagics",
        "man": "KernelMagics",
        "matplotlib": "PylabMagics",
        "mkdir": "Other",
        "more": "KernelMagics",
        "mv": "Other",
        "notebook": "BasicMagics",
        "page": "BasicMagics",
        "pastebin": "CodeMagics",
        "pdb": "ExecutionMagics",
        "pdef": "NamespaceMagics",
        "pdoc": "NamespaceMagics",
        "pfile": "NamespaceMagics",
        "pinfo": "NamespaceMagics",
        "pinfo2": "NamespaceMagics",
        "pip": "BasicMagics",
        "popd": "OSMagics",
        "pprint": "BasicMagics",
        "precision": "BasicMagics",
        "profile": "BasicMagics",
        "prun": "ExecutionMagics",
        "psearch": "NamespaceMagics",
        "psource": "NamespaceMagics",
        "pushd": "OSMagics",
        "pwd": "OSMagics",
        "pycat": "OSMagics",
        "pylab": "PylabMagics",
        "qtconsole": "KernelMagics",
        "quickref": "BasicMagics",
        "recall": "HistoryMagics",
        "rehashx": "OSMagics",
        "reload_ext": "ExtensionMagics",
        "rep": "Other",
        "rerun": "HistoryMagics",
        "reset": "NamespaceMagics",
        "reset_selective": "NamespaceMagics",
        "rm": "Other",
        "rmdir": "Other",
        "run": "ExecutionMagics",
        "save": "CodeMagics",
        "sc": "OSMagics",
        "set_env": "OSMagics",
        "store": "StoreMagics",
        "sx": "OSMagics",
        "system": "OSMagics",
        "tb": "ExecutionMagics",
        "time": "ExecutionMagics",
        "timeit": "ExecutionMagics",
        "unalias": "OSMagics",
        "unload_ext": "ExtensionMagics",
        "who": "NamespaceMagics",
        "who_ls": "NamespaceMagics",
        "whos": "NamespaceMagics",
        "xdel": "NamespaceMagics",
        "xmode": "BasicMagics"
       }
      },
      "text/plain": [
       "Available line magics:\n",
       "%alias  %alias_magic  %autocall  %automagic  %autosave  %bookmark  %cat  %cd  %clear  %colors  %config  %connect_info  %cp  %debug  %dhist  %dirs  %doctest_mode  %ed  %edit  %env  %gui  %hist  %history  %killbgscripts  %ldir  %less  %lf  %lk  %ll  %load  %load_ext  %loadpy  %logoff  %logon  %logstart  %logstate  %logstop  %ls  %lsmagic  %lx  %macro  %magic  %man  %matplotlib  %mkdir  %more  %mv  %notebook  %page  %pastebin  %pdb  %pdef  %pdoc  %pfile  %pinfo  %pinfo2  %popd  %pprint  %precision  %profile  %prun  %psearch  %psource  %pushd  %pwd  %pycat  %pylab  %qtconsole  %quickref  %recall  %rehashx  %reload_ext  %rep  %rerun  %reset  %reset_selective  %rm  %rmdir  %run  %save  %sc  %set_env  %store  %sx  %system  %tb  %time  %timeit  %unalias  %unload_ext  %who  %who_ls  %whos  %xdel  %xmode\n",
       "\n",
       "Available cell magics:\n",
       "%%!  %%HTML  %%SVG  %%bash  %%capture  %%debug  %%file  %%html  %%javascript  %%js  %%latex  %%markdown  %%perl  %%prun  %%pypy  %%python  %%python2  %%python3  %%ruby  %%script  %%sh  %%svg  %%sx  %%system  %%time  %%timeit  %%writefile\n",
       "\n",
       "Automagic is ON, % prefix IS NOT needed for line magics."
      ]
     },
     "execution_count": 1,
     "metadata": {},
     "output_type": "execute_result"
    }
   ],
   "source": [
    "%lsmagic"
   ]
  },
  {
   "cell_type": "code",
   "execution_count": 2,
   "metadata": {},
   "outputs": [],
   "source": [
    "import os\n",
    "import time\n",
    "import datetime\n",
    "import numpy as np\n",
    "import pandas as pd\n",
    "import h5py\n",
    "import tables as tb\n",
    "import matplotlib.pyplot as plt"
   ]
  },
  {
   "cell_type": "code",
   "execution_count": 3,
   "metadata": {},
   "outputs": [],
   "source": [
    "%matplotlib inline"
   ]
  },
  {
   "cell_type": "code",
   "execution_count": 4,
   "metadata": {},
   "outputs": [],
   "source": [
    "# tab-completion for groups and attributes\n",
    "?h5py.enable_ipython_completer\n",
    "h5py.enable_ipython_completer()"
   ]
  },
  {
   "cell_type": "markdown",
   "metadata": {},
   "source": [
    "# Data"
   ]
  },
  {
   "cell_type": "code",
   "execution_count": 5,
   "metadata": {},
   "outputs": [
    {
     "name": "stdout",
     "output_type": "stream",
     "text": [
      "/home/jack/Repos/hdf5-pydata-munich/data\n"
     ]
    }
   ],
   "source": [
    "data_dir = os.path.join(os.getcwd(), 'data')\n",
    "print(data_dir)"
   ]
  },
  {
   "cell_type": "code",
   "execution_count": 6,
   "metadata": {},
   "outputs": [
    {
     "name": "stdout",
     "output_type": "stream",
     "text": [
      "arr: (200,) - float64\n",
      "matrix: (100, 50) - float32\n"
     ]
    }
   ],
   "source": [
    "arr = np.random.normal(loc=0, scale=1, size=200)\n",
    "matrix = np.random.random((100, 50)).astype('float32')\n",
    "print('arr: {} - {}'.format(arr.shape, arr.dtype))\n",
    "print('matrix: {} - {}'.format(matrix.shape, matrix.dtype))"
   ]
  },
  {
   "cell_type": "markdown",
   "metadata": {},
   "source": [
    "# h5py"
   ]
  },
  {
   "cell_type": "markdown",
   "metadata": {},
   "source": [
    "The h5py library is a thin, pythonic wrapper around the HDF5 C API.\n",
    "\n",
    "It tries to expose most of the functionality that the HDF5 library provides."
   ]
  },
  {
   "cell_type": "markdown",
   "metadata": {},
   "source": [
    "### Write"
   ]
  },
  {
   "cell_type": "code",
   "execution_count": 7,
   "metadata": {},
   "outputs": [],
   "source": [
    "file_path = os.path.join(data_dir, 'h5py-file.h5')\n",
    "\n",
    "f = h5py.File(file_path, 'w')\n",
    "f.create_dataset(name='MyDataset', shape=matrix.shape, dtype=matrix.dtype, data=matrix)\n",
    "f.close()"
   ]
  },
  {
   "cell_type": "markdown",
   "metadata": {},
   "source": [
    "### More pythonic approaches"
   ]
  },
  {
   "cell_type": "code",
   "execution_count": 8,
   "metadata": {},
   "outputs": [],
   "source": [
    "file_path = os.path.join(data_dir, 'h5py-context-manager0.h5')\n",
    "\n",
    "with h5py.File(file_path, 'w') as f:\n",
    "    f.create_dataset('MyDataset', matrix.shape, matrix.dtype, matrix)"
   ]
  },
  {
   "cell_type": "code",
   "execution_count": 9,
   "metadata": {},
   "outputs": [],
   "source": [
    "file_path = os.path.join(data_dir, 'h5py-context-manager1.h5')\n",
    "\n",
    "with h5py.File(file_path, 'w') as f:\n",
    "    # create the datasets first\n",
    "    ds0 = f.create_dataset('Dataset0', matrix.shape, matrix.dtype)\n",
    "    ds1 = f.create_dataset('Dataset1', matrix.shape, matrix.dtype)\n",
    "    # fill them up later. There are 2 syntaxes.\n",
    "    ds0[:] = matrix\n",
    "    ds1[...] = matrix"
   ]
  },
  {
   "cell_type": "markdown",
   "metadata": {},
   "source": [
    "### Pick the correct HDF5 datatype"
   ]
  },
  {
   "cell_type": "code",
   "execution_count": 10,
   "metadata": {},
   "outputs": [
    {
     "name": "stdout",
     "output_type": "stream",
     "text": [
      "Original data\n",
      "[ 1.97213028 -1.62173594 -0.6657597   0.2317699  -1.37513809 -0.88045196\n",
      "  0.46400286  1.31128856 -0.13658558  0.02042798]\n",
      "Saved as...\n",
      "[1 0 0 0 0 0 0 1 0 0]\n"
     ]
    }
   ],
   "source": [
    "file_path = os.path.join(data_dir, 'h5py-different-datatypes.h5')\n",
    "\n",
    "with h5py.File(file_path, 'w') as f:\n",
    "    f.create_dataset('numpy_dtype', arr.shape, arr.dtype, arr)\n",
    "    f.create_dataset('IEEE_F64_Big_Endian', arr.shape, h5py.h5t.IEEE_F64BE, arr)\n",
    "    # if we store floats as unsigned integers (8 bit) we end up with invalid data\n",
    "    f.create_dataset('Unsigned_8Bit_Big_Endian', arr.shape, h5py.h5t.STD_U8BE, arr)\n",
    "    \n",
    "with h5py.File(file_path, 'r') as f:\n",
    "    print('Original data')\n",
    "    print(arr[:10])\n",
    "    print('Saved as...')\n",
    "    print(f['Unsigned_8Bit_Big_Endian'][:10])"
   ]
  },
  {
   "cell_type": "markdown",
   "metadata": {},
   "source": [
    "### Groups, Datasets, Attributes"
   ]
  },
  {
   "cell_type": "code",
   "execution_count": 11,
   "metadata": {
    "scrolled": true
   },
   "outputs": [],
   "source": [
    "file_path = os.path.join(data_dir, 'h5py-groups-datasets-attributes.h5')\n",
    "\n",
    "with h5py.File(file_path, 'w') as f:\n",
    "    ds0 = f.create_dataset('MyDatasetInRoot', arr.shape, arr.dtype)\n",
    "    ds0[:] = arr\n",
    "    ds0.attrs['Unit'] = 'm/s'\n",
    "    # attributes can be numpy array too!\n",
    "    attr_data = np.zeros((2,), dtype='int32')\n",
    "    attr_data[0] = 100\n",
    "    attr_data[1] = 200\n",
    "    ds0.attrs.create(name='Speed', data=attr_data)\n",
    "    \n",
    "    # create a group by using an absolute path.\n",
    "    # Missing groups along the path will be created automatically.\n",
    "    path_to_group = '/SomeMissingGroup/MyGroup'\n",
    "    gr0 = f.create_group(path_to_group)\n",
    "    \n",
    "    # create a group by using a relative path\n",
    "    gr1 = gr0.create_group('MyOtherGroup')\n",
    "    \n",
    "    # access a group with an absolute path\n",
    "    my_group = f['/SomeMissingGroup/MyGroup']\n",
    "    \n",
    "    # access a group with a relative path\n",
    "    root_group = my_group.parent.parent\n",
    "\n",
    "    # set some attributes to the groups\n",
    "    gr0.attrs['Experiment ID'] = 123\n",
    "    gr1.attrs['Experiment ID'] = 456\n",
    "    \n",
    "    # create a dataset inside a group\n",
    "    ds_in_group = gr1.create_dataset('MyOtherDataset', matrix.shape, matrix.dtype)\n",
    "    # if you have a reference to the dataset, you can set the data with this syntax: \n",
    "    # ds_in_group[:] = matrix\n",
    "    # otherwise you have to know the absolute path to your dataset\n",
    "    path_to_dataset = '/SomeMissingGroup/MyGroup/MyOtherGroup/MyOtherDataset'\n",
    "    f[path_to_dataset][:] = matrix\n",
    "    \n",
    "    # set some attributes to this other dataset\n",
    "    ds_in_group.attrs['Unit'] = '°C'\n",
    "    ds_in_group.attrs['Recorded on'] = '25th November 2017'"
   ]
  },
  {
   "cell_type": "markdown",
   "metadata": {},
   "source": [
    "### Traverse a HDF5 file with h5py"
   ]
  },
  {
   "cell_type": "markdown",
   "metadata": {},
   "source": [
    "The last file we created has several datasets and groups.\n",
    "\n",
    "Let's see how we can traverse a HDF5 file and display its structure."
   ]
  },
  {
   "cell_type": "code",
   "execution_count": 12,
   "metadata": {},
   "outputs": [
    {
     "name": "stdout",
     "output_type": "stream",
     "text": [
      "Help on method visit in module h5py._hl.group:\n",
      "\n",
      "visit(func) method of h5py._hl.files.File instance\n",
      "    Recursively visit all names in this group and subgroups (HDF5 1.8).\n",
      "    \n",
      "    You supply a callable (function, method or callable object); it\n",
      "    will be called exactly once for each link in this group and every\n",
      "    group below it. Your callable must conform to the signature:\n",
      "    \n",
      "        func(<member name>) => <None or return value>\n",
      "    \n",
      "    Returning None continues iteration, returning anything else stops\n",
      "    and immediately returns that value from the visit method.  No\n",
      "    particular order of iteration within groups is guranteed.\n",
      "    \n",
      "    Example:\n",
      "    \n",
      "    >>> # List the entire contents of the file\n",
      "    >>> f = File(\"foo.hdf5\")\n",
      "    >>> list_of_names = []\n",
      "    >>> f.visit(list_of_names.append)\n",
      "\n"
     ]
    }
   ],
   "source": [
    "help(f.visit)"
   ]
  },
  {
   "cell_type": "code",
   "execution_count": 13,
   "metadata": {},
   "outputs": [
    {
     "name": "stdout",
     "output_type": "stream",
     "text": [
      "MyDatasetInRoot\n",
      "SomeMissingGroup\n",
      "SomeMissingGroup/MyGroup\n",
      "SomeMissingGroup/MyGroup/MyOtherGroup\n",
      "SomeMissingGroup/MyGroup/MyOtherGroup/MyOtherDataset\n"
     ]
    }
   ],
   "source": [
    "def print_name(name):\n",
    "    print(name)\n",
    "\n",
    "file_path = os.path.join(data_dir, 'h5py-groups-datasets-attributes.h5')\n",
    "\n",
    "with h5py.File(file_path, 'r') as f:\n",
    "    # the callable to supply to visit has <member name>\n",
    "    f.visit(print_name)"
   ]
  },
  {
   "cell_type": "code",
   "execution_count": 14,
   "metadata": {},
   "outputs": [
    {
     "name": "stdout",
     "output_type": "stream",
     "text": [
      "Help on method visititems in module h5py._hl.group:\n",
      "\n",
      "visititems(func) method of h5py._hl.files.File instance\n",
      "    Recursively visit names and objects in this group (HDF5 1.8).\n",
      "    \n",
      "    You supply a callable (function, method or callable object); it\n",
      "    will be called exactly once for each link in this group and every\n",
      "    group below it. Your callable must conform to the signature:\n",
      "    \n",
      "        func(<member name>, <object>) => <None or return value>\n",
      "    \n",
      "    Returning None continues iteration, returning anything else stops\n",
      "    and immediately returns that value from the visit method.  No\n",
      "    particular order of iteration within groups is guranteed.\n",
      "    \n",
      "    Example:\n",
      "    \n",
      "    # Get a list of all datasets in the file\n",
      "    >>> mylist = []\n",
      "    >>> def func(name, obj):\n",
      "    ...     if isinstance(obj, Dataset):\n",
      "    ...         mylist.append(name)\n",
      "    ...\n",
      "    >>> f = File('foo.hdf5')\n",
      "    >>> f.visititems(func)\n",
      "\n"
     ]
    }
   ],
   "source": [
    "help(f.visititems)"
   ]
  },
  {
   "cell_type": "code",
   "execution_count": 15,
   "metadata": {},
   "outputs": [
    {
     "name": "stdout",
     "output_type": "stream",
     "text": [
      "MyDatasetInRoot is a Dataset\n",
      "MyDatasetInRoot has these attributes: [('Unit', 'm/s'), ('Speed', array([100, 200], dtype=int32))]\n",
      "\n",
      "SomeMissingGroup is a Group\n",
      "SomeMissingGroup has these attributes: []\n",
      "\n",
      "SomeMissingGroup/MyGroup is a Group\n",
      "SomeMissingGroup/MyGroup has these attributes: [('Experiment ID', 123)]\n",
      "\n",
      "SomeMissingGroup/MyGroup/MyOtherGroup is a Group\n",
      "SomeMissingGroup/MyGroup/MyOtherGroup has these attributes: [('Experiment ID', 456)]\n",
      "\n",
      "SomeMissingGroup/MyGroup/MyOtherGroup/MyOtherDataset is a Dataset\n",
      "SomeMissingGroup/MyGroup/MyOtherGroup/MyOtherDataset has these attributes: [('Unit', '°C'), ('Recorded on', '25th November 2017')]\n",
      "\n"
     ]
    }
   ],
   "source": [
    "def print_name_and_type(name, obj):\n",
    "    class_name = obj.__class__.__name__\n",
    "    print('{} is a {}'.format(name, class_name))\n",
    "    attributes =list(obj.attrs.items())\n",
    "    print('{} has these attributes: {}\\n'.format(name, attributes))\n",
    "\n",
    "file_path = os.path.join(data_dir, 'h5py-groups-datasets-attributes.h5')\n",
    "\n",
    "with h5py.File(file_path, 'r') as f:\n",
    "    # the callable to supply to visititems has <member name>, <object>\n",
    "    f.visititems(print_name_and_type)"
   ]
  },
  {
   "cell_type": "markdown",
   "metadata": {},
   "source": [
    "### Plot"
   ]
  },
  {
   "cell_type": "code",
   "execution_count": 16,
   "metadata": {},
   "outputs": [
    {
     "name": "stdout",
     "output_type": "stream",
     "text": [
      "<HDF5 dataset \"MyDatasetInRoot\": shape (200,), type \"<f8\">\n",
      "['Unit', 'Speed']\n",
      "['m/s', array([100, 200], dtype=int32)]\n",
      "[('Unit', 'm/s'), ('Speed', array([100, 200], dtype=int32))]\n"
     ]
    },
    {
     "data": {
      "image/png": "[encoded data removed]",
      "text/plain": [
       "<matplotlib.figure.Figure at 0x7f81fefd87f0>"
      ]
     },
     "metadata": {},
     "output_type": "display_data"
    }
   ],
   "source": [
    "file_path = os.path.join(data_dir, 'h5py-groups-datasets-attributes.h5')\n",
    "\n",
    "with h5py.File(file_path, 'r') as f:\n",
    "    ds = f['MyDatasetInRoot']\n",
    "    print(ds)\n",
    "    print(list(ds.attrs.keys()))\n",
    "    print(list(ds.attrs.values()))\n",
    "    print(list(ds.attrs.items()))\n",
    "    fig = plt.figure(figsize=(14, 8), dpi= 80, facecolor='w', edgecolor='k')\n",
    "    ax = fig.add_subplot(1, 1, 1)\n",
    "    ax.set(title=ds.name, xlabel='samples', ylabel=ds.attrs['Unit'])\n",
    "    ax.plot(ds[:])\n",
    "    # plt.plot(ds[...])"
   ]
  },
  {
   "cell_type": "markdown",
   "metadata": {},
   "source": [
    "---"
   ]
  },
  {
   "cell_type": "markdown",
   "metadata": {},
   "source": [
    "# PyTables"
   ]
  },
  {
   "cell_type": "markdown",
   "metadata": {},
   "source": [
    "PyTables provides a higher abstraction over HDF5. This doesn't make it slower than h5py though.\n",
    "\n",
    "At the moment PyTables does **not** depend on h5py."
   ]
  },
  {
   "cell_type": "markdown",
   "metadata": {},
   "source": [
    "In PyTables the HDF5 **Dataset** object is implemented by the following higher level abstractions:\n",
    "\n",
    "- **Array**\n",
    "- **CArray**\n",
    "- **EArray**\n",
    "- **VLArray**\n",
    "- **Table**\n",
    "\n",
    "There is also the **Unimplemented** class, to indicate an HDF5 dataset not supported by PyTables."
   ]
  },
  {
   "cell_type": "markdown",
   "metadata": {},
   "source": [
    "### Array\n"
   ]
  },
  {
   "cell_type": "markdown",
   "metadata": {},
   "source": [
    "[Docs](http://www.pytables.org/usersguide/libref/homogenous_storage.html#the-array-class)\n",
    "\n",
    "- Fastest I/O speed\n",
    "- Homogeneous (i.e. data has same `dtype`)\n",
    "- Must fit in memory\n",
    "- Not compressible\n",
    "- Not enlargeable"
   ]
  },
  {
   "cell_type": "code",
   "execution_count": 17,
   "metadata": {},
   "outputs": [
    {
     "name": "stdout",
     "output_type": "stream",
     "text": [
      "5.01 ms ± 856 µs per loop (mean ± std. dev. of 7 runs, 1 loop each)\n"
     ]
    }
   ],
   "source": [
    "%%timeit\n",
    "\n",
    "file_path = os.path.join(data_dir, 'pytables-array.h5')\n",
    "\n",
    "# An Array contains homogeneous data. Every atomic object (i.e. every single element) has the same type and shape.\n",
    "atom = tb.Float32Atom()\n",
    "# we need to fill all the data in one go. The data must be consistent with the atomic element.\n",
    "data = np.random.random((200, 300)).astype('float32')\n",
    "\n",
    "with tb.open_file(file_path, 'w') as f:\n",
    "    f.create_array(where='/', name='Array0', obj=data, atom=atom, title='My Array')"
   ]
  },
  {
   "cell_type": "markdown",
   "metadata": {},
   "source": [
    "Before having a look at the other dataset classes, let's see how to save attributes (i.e. metadata) and read a HDF5 file with PyTables."
   ]
  },
  {
   "cell_type": "markdown",
   "metadata": {},
   "source": [
    "### Attributes"
   ]
  },
  {
   "cell_type": "code",
   "execution_count": 18,
   "metadata": {},
   "outputs": [],
   "source": [
    "file_path = os.path.join(data_dir, 'pytables-attributes.h5')\n",
    "\n",
    "with tb.open_file(file_path, 'w') as f:\n",
    "    f.create_array(where=f.root, name='Array', obj=arr, title='My Title')\n",
    "    f.set_node_attr(where='/Array', attrname='SomeAttribute', attrvalue='SomeValue')\n",
    "    f.create_group('/', 'Group')\n",
    "    f.set_node_attr('/Group', attrname='MyAttribute', attrvalue='MyValue')"
   ]
  },
  {
   "cell_type": "markdown",
   "metadata": {},
   "source": [
    "### Read"
   ]
  },
  {
   "cell_type": "markdown",
   "metadata": {},
   "source": [
    "PyTables has a feature called \"Natural Naming\": nodes can be accessed with the dot notation."
   ]
  },
  {
   "cell_type": "code",
   "execution_count": 19,
   "metadata": {},
   "outputs": [
    {
     "name": "stdout",
     "output_type": "stream",
     "text": [
      "/Array0 (Array(200, 300)) 'My Array'\n",
      "[[ 0.34025341  0.56138951  0.57334113 ...,  0.8305468   0.29585636\n",
      "   0.45177752]\n",
      " [ 0.31614745  0.71491098  0.81805968 ...,  0.64617485  0.73260313\n",
      "   0.67658842]\n",
      " [ 0.64969647  0.59707463  0.24987569 ...,  0.70312434  0.22527067\n",
      "   0.88455069]\n",
      " ..., \n",
      " [ 0.21201216  0.04200223  0.8039065  ...,  0.24223275  0.45909321\n",
      "   0.957039  ]\n",
      " [ 0.73044193  0.8519696   0.83953357 ...,  0.0989644   0.37998608\n",
      "   0.75364155]\n",
      " [ 0.69506592  0.03426314  0.7147367  ...,  0.22727412  0.83087456\n",
      "   0.90052062]]\n"
     ]
    }
   ],
   "source": [
    "file_path = os.path.join(data_dir, 'pytables-array.h5')\n",
    "\n",
    "with tb.open_file(file_path, 'r') as f:\n",
    "    # the array is just a proxy object\n",
    "    print(f.root.Array0)\n",
    "    # the actual data can be accessed with these 2 syntaxes\n",
    "    print(f.root.Array0[:])\n",
    "    # print(f.root.Array0[...])"
   ]
  },
  {
   "cell_type": "markdown",
   "metadata": {},
   "source": [
    "### In-memory Read/Write"
   ]
  },
  {
   "cell_type": "markdown",
   "metadata": {},
   "source": [
    "See also the PyTables documentation on [in-memory HDF5 files](http://www.pytables.org/cookbook/inmemory_hdf5_files.html)."
   ]
  },
  {
   "cell_type": "code",
   "execution_count": 20,
   "metadata": {},
   "outputs": [],
   "source": [
    "file_path = os.path.join(data_dir, 'pytables-in-memory.h5')\n",
    "\n",
    "# open file in-memory, save to disk\n",
    "with tb.open_file(file_path, 'w', driver='H5FD_CORE') as f:\n",
    "    f.create_array(where='/', name='Array', obj=matrix)"
   ]
  },
  {
   "cell_type": "code",
   "execution_count": 21,
   "metadata": {},
   "outputs": [],
   "source": [
    "file_path = os.path.join(data_dir, 'pytables-in-memory.h5')\n",
    "\n",
    "# open file in-memory, DO NOT save to disk\n",
    "with tb.open_file(file_path, 'w', driver='H5FD_CORE', driver_core_backing_store=0) as f:\n",
    "    f.create_array(where='/', name='Array', obj=matrix)"
   ]
  },
  {
   "cell_type": "code",
   "execution_count": 22,
   "metadata": {},
   "outputs": [
    {
     "name": "stdout",
     "output_type": "stream",
     "text": [
      "[[ 0.49495196  0.6540193   0.34441105 ...,  0.02946016  0.24901071\n",
      "   0.25877815]\n",
      " [ 0.25819817  0.49034348  0.76384717 ...,  0.42154902  0.18546963\n",
      "   0.68313408]\n",
      " [ 0.92711586  0.50302839  0.52968001 ...,  0.64109093  0.58492678\n",
      "   0.84029704]\n",
      " ..., \n",
      " [ 0.28941357  0.75506878  0.71536589 ...,  0.69494814  0.39505583\n",
      "   0.03906623]\n",
      " [ 0.7609846   0.0145723   0.57237893 ...,  0.51801383  0.83313912\n",
      "   0.02262403]\n",
      " [ 0.5496344   0.49771166  0.90337288 ...,  0.80809915  0.60357934\n",
      "   0.22541319]]\n"
     ]
    }
   ],
   "source": [
    "file_path = os.path.join(data_dir, 'pytables-in-memory.h5')\n",
    "\n",
    "with tb.open_file(file_path, 'r', driver='H5FD_CORE') as f:\n",
    "    print(f.root.Array[...])"
   ]
  },
  {
   "cell_type": "markdown",
   "metadata": {},
   "source": [
    "### CArray"
   ]
  },
  {
   "cell_type": "markdown",
   "metadata": {},
   "source": [
    "[Docs](http://www.pytables.org/usersguide/libref/homogenous_storage.html#carrayclassdescr)\n",
    "\n",
    "- Chunked storage\n",
    "- Data must be homogeneous\n",
    "- Good speed when reading/writing\n",
    "- Compressible\n",
    "- Not enlargeable"
   ]
  },
  {
   "cell_type": "code",
   "execution_count": 23,
   "metadata": {},
   "outputs": [
    {
     "name": "stdout",
     "output_type": "stream",
     "text": [
      "7.11 ms ± 908 µs per loop (mean ± std. dev. of 7 runs, 1 loop each)\n"
     ]
    }
   ],
   "source": [
    "%%timeit\n",
    "\n",
    "file_path = os.path.join(data_dir, 'pytables-carray.h5')\n",
    "\n",
    "# A CArray is not enlargeable: we define its shape here and we cannot enlarge the array later.\n",
    "shape = (200, 300)\n",
    "\n",
    "# A CArray contains homogeneous data. Every atomic object (i.e. every single element) has the same type and shape.\n",
    "atom = tb.Float32Atom()\n",
    "\n",
    "# A CArray supports compression\n",
    "filters = tb.Filters(complevel=5, complib='zlib')\n",
    "\n",
    "with tb.open_file(file_path, 'w') as f:\n",
    "    # create an empty CArray\n",
    "    carray = f.create_carray(where='/', name='Array0', atom=atom, shape=shape, title='My CArray', filters=filters)\n",
    "    \n",
    "    # define some data\n",
    "    n_rows = 50\n",
    "    n_cols = 20\n",
    "    data = np.ones((n_rows, n_cols))\n",
    "\n",
    "    # fill a hyperslab (i.e. a region in the array) with the data\n",
    "    i_row = 10\n",
    "    i_col = 5\n",
    "    carray[i_row:i_row + n_rows, i_col:i_col + n_cols] = data\n",
    "\n",
    "    # define some other data\n",
    "    n_rows = 100\n",
    "    n_cols = 100\n",
    "    data = 100 * np.random.random((n_rows, n_cols))\n",
    "\n",
    "    # fill another hyperslab\n",
    "    i_row = 50\n",
    "    i_col = 120\n",
    "    carray[i_row:i_row + n_rows, i_col:i_col + n_cols] = data"
   ]
  },
  {
   "cell_type": "markdown",
   "metadata": {},
   "source": [
    "> Open the file in HDF View and view it as an image.\n",
    "\n",
    "![CArray generated](img/CArray.png)"
   ]
  },
  {
   "cell_type": "markdown",
   "metadata": {},
   "source": [
    "### EArray"
   ]
  },
  {
   "cell_type": "markdown",
   "metadata": {},
   "source": [
    "[Docs](http://www.pytables.org/usersguide/libref/homogenous_storage.html#earrayclassdescr)\n",
    "\n",
    "- Enlargeable on **one** dimension (append)\n",
    "- Pretty fast at extending, very good at reading\n",
    "- Data must be homogeneous\n",
    "- Compressible"
   ]
  },
  {
   "cell_type": "code",
   "execution_count": 24,
   "metadata": {},
   "outputs": [
    {
     "name": "stdout",
     "output_type": "stream",
     "text": [
      "379 ms ± 61.8 ms per loop (mean ± std. dev. of 7 runs, 1 loop each)\n"
     ]
    }
   ],
   "source": [
    "%%timeit\n",
    "\n",
    "file_path = os.path.join(data_dir, 'pytables-earray.h5')\n",
    "\n",
    "# One (and only one) of the shape dimensions *must* be 0.\n",
    "# The dimension being 0 means that the resulting EArray object can be extended along it.\n",
    "# Multiple enlargeable dimensions are not supported right now.\n",
    "shape = (0, 300)\n",
    "\n",
    "# An EArray contains homogeneous data. Every atomic object (i.e. every single element) has the same type and shape.\n",
    "atom = tb.Float32Atom()\n",
    "# An EArray supports compression\n",
    "filters = tb.Filters(complevel=5, complib='zlib')\n",
    "\n",
    "with tb.open_file(file_path, 'w') as f:\n",
    "    # create an empty EArray\n",
    "    earray = f.create_earray(where='/', name='Array0', atom=atom, shape=shape, title='My EArray', filters=filters)\n",
    "\n",
    "    # number of times that we need to write some data\n",
    "    num = 100\n",
    "    for i in range(num):\n",
    "        rows = np.random.randint(low=10, high=100)\n",
    "        cols = shape[1]\n",
    "        # define some data\n",
    "        sequence = np.random.random((rows, cols)).astype('float32')\n",
    "        # append the data to the EArray\n",
    "        earray.append(sequence=sequence)"
   ]
  },
  {
   "cell_type": "markdown",
   "metadata": {},
   "source": [
    "### VLArray"
   ]
  },
  {
   "cell_type": "markdown",
   "metadata": {},
   "source": [
    "[Docs](http://www.pytables.org/usersguide/libref/homogenous_storage.html#the-vlarray-class)\n",
    "\n",
    "- Supports collections of homogeneous data with a variable number of entries\n",
    "- Compressible\n",
    "- Enlargeable (append)\n",
    "- I/O is not very fast\n",
    "- Like Table datasets, variable length arrays can have only one dimension, and the elements (atoms) of their rows can be fully multidimensional"
   ]
  },
  {
   "cell_type": "code",
   "execution_count": 25,
   "metadata": {},
   "outputs": [
    {
     "name": "stdout",
     "output_type": "stream",
     "text": [
      "6.42 ms ± 588 µs per loop (mean ± std. dev. of 7 runs, 100 loops each)\n"
     ]
    }
   ],
   "source": [
    "%%timeit\n",
    "\n",
    "file_path = os.path.join(data_dir, 'pytables-vlarray.h5')\n",
    "\n",
    "atom = tb.Float32Atom()\n",
    "filters = tb.Filters(complevel=5, complib='zlib')\n",
    "\n",
    "with tb.open_file(file_path, 'w') as f:\n",
    "    # Create a VLArray\n",
    "    vlarray = f.create_vlarray(where=f.root, name='Array0', atom=atom, title='My VLArray', filters=filters)\n",
    "    # Append some rows of variable length\n",
    "    for i in range(10):\n",
    "        length = np.random.randint(low=1, high=5)\n",
    "        data = np.ones(length).astype('float32')\n",
    "        vlarray.append(data)"
   ]
  },
  {
   "cell_type": "markdown",
   "metadata": {},
   "source": [
    "### Table"
   ]
  },
  {
   "cell_type": "markdown",
   "metadata": {},
   "source": [
    "[Docs](http://www.pytables.org/usersguide/libref/structured_storage.html?highlight=table#tableclassdescr)\n",
    "\n",
    "- Data can be heterogeneous (i.e. different shapes and different dtypes)\n",
    "- The structure of a table is declared by its description\n",
    "- It supports *in-kernel* searches with `Table.where`\n",
    "- It supports multi-column searches\n",
    "- Non-nested columns can be *indexed*"
   ]
  },
  {
   "cell_type": "markdown",
   "metadata": {},
   "source": [
    "In order to emulate in Python records mapped to HDF5 C structs PyTables implements a special class so as to easily define all its fields and other properties."
   ]
  },
  {
   "cell_type": "code",
   "execution_count": 26,
   "metadata": {},
   "outputs": [
    {
     "name": "stdout",
     "output_type": "stream",
     "text": [
      "4.21 ms ± 158 µs per loop (mean ± std. dev. of 7 runs, 100 loops each)\n"
     ]
    }
   ],
   "source": [
    "%%timeit\n",
    "\n",
    "class Particle(tb.IsDescription):\n",
    "    identity = tb.StringCol(itemsize=22, dflt=' ', pos=0)  # character String\n",
    "    idnumber = tb.Int16Col(dflt=1, pos=1)  # short integer\n",
    "    speed = tb.Float32Col(dflt=1, pos=2)  # single-precision\n",
    "\n",
    "file_path = os.path.join(data_dir, 'pytables-tables.h5')\n",
    "\n",
    "with tb.open_file(file_path, 'w') as f:\n",
    "    table =f.create_table(where='/', name='MyTable', description=Particle)\n",
    "    num_records = 100\n",
    "    # Get the record object associated with the table:\n",
    "    row = table.row\n",
    "    for i in range(num_records):\n",
    "        row['identity'] = 'This is particle: {}'.format(i)\n",
    "        row['idnumber'] = i\n",
    "        row['speed'] = i * 2.0\n",
    "        # inject the Record values into the table\n",
    "        row.append()\n",
    "    # Flush the table buffers\n",
    "    table.flush()\n",
    "    \n",
    "    # We can set some attributes for the table\n",
    "    f.set_node_attr('/MyTable', attrname='MyAttribute', attrvalue='MyValue')\n",
    "    f.set_node_attr('/MyTable', attrname='CreatedOn', attrvalue='2017-11-25')"
   ]
  },
  {
   "cell_type": "markdown",
   "metadata": {},
   "source": [
    "A description can be nested inside another description (this will look weird...)"
   ]
  },
  {
   "cell_type": "code",
   "execution_count": 27,
   "metadata": {},
   "outputs": [
    {
     "name": "stdout",
     "output_type": "stream",
     "text": [
      "13.7 ms ± 2.62 ms per loop (mean ± std. dev. of 7 runs, 1 loop each)\n"
     ]
    }
   ],
   "source": [
    "%%timeit\n",
    "\n",
    "class Particle(tb.IsDescription):\n",
    "    # 16-character String\n",
    "    name = tb.StringCol(16)\n",
    "    # signed 64-bit integer\n",
    "    idnumber = tb.Int64Col()\n",
    "    # unsigned short integer\n",
    "    ADCcount = tb.UInt16Col()\n",
    "    # unsigned byte\n",
    "    TDCcount = tb.UInt8Col()\n",
    "    # integer\n",
    "    grid_i = tb.Int32Col()\n",
    "    # integer\n",
    "    grid_j = tb.Int32Col()\n",
    "\n",
    "    # A sub-structure (nested data-type)\n",
    "    class Properties(tb.IsDescription):\n",
    "        # 2-D float array (single-precision)\n",
    "        pressure = tb.Float32Col(shape=(2, 3))\n",
    "        # 3-D float array (double-precision)\n",
    "        energy = tb.Float64Col(shape=(2, 3, 4))\n",
    "       \n",
    "    \n",
    "file_path = os.path.join(data_dir, 'pytables-tables-nested.h5')\n",
    "        \n",
    "with tb.open_file(file_path, 'w') as f:\n",
    "    table = f.create_table(where='/', name='MyTable', description=Particle)\n",
    "    num_records = 100\n",
    "    row = table.row\n",
    "    for i in range(num_records):\n",
    "        # First, assign the values to the Particle record\n",
    "        row['name'] = np.random.choice(['Superman', 'Spider-Man', 'Batman'])\n",
    "        row['idnumber'] = np.random.randint(0, 100, dtype='int64')\n",
    "        row['ADCcount'] = i * 2.0\n",
    "        row['TDCcount'] = np.random.randint(0, 255, dtype='uint8')\n",
    "        row['grid_i'] = np.random.randint(0, 100, dtype='int32')\n",
    "        row['grid_j'] = np.random.randint(0, 100, dtype='int32')\n",
    "\n",
    "        # Fill the nested data-type Properties\n",
    "        row['Properties/pressure'] = np.random.random((2, 3))\n",
    "        row['Properties/energy'] = np.random.random((2, 3, 4))\n",
    "\n",
    "        row.append()\n",
    "\n",
    "    table.flush()"
   ]
  },
  {
   "cell_type": "markdown",
   "metadata": {},
   "source": [
    "### The UnImplemented class"
   ]
  },
  {
   "cell_type": "markdown",
   "metadata": {},
   "source": [
    "When reading a HDF5 file that has not been created with PyTables, chances are that the specific combination of datatypes or dataspaces in some dataset might not be supported by PyTables yet. In such a case, this dataset will be mapped into an `UnImplemented` instance and the user will still be able to access the complete object tree of the generic HDF5 file.\n",
    "\n",
    "The user will also be able to read and write the attributes of the dataset, access some of its metadata, and perform certain hierarchy manipulation operations like deleting or moving (but not copying) the node. Of course, the user will not be able to read the actual data on it."
   ]
  },
  {
   "cell_type": "markdown",
   "metadata": {},
   "source": [
    "### PyTables utils (CLI)"
   ]
  },
  {
   "cell_type": "markdown",
   "metadata": {},
   "source": [
    "PyTables is shipped with some useful command line utilities. These CLI utils are in `tables/utils`.\n",
    "\n",
    "You can use them if you are working in a python environment where you installed PyTables (these CLI utils cause your python interpreter to execute a python script in `tables/scripts`)."
   ]
  },
  {
   "cell_type": "code",
   "execution_count": 28,
   "metadata": {},
   "outputs": [
    {
     "name": "stdout",
     "output_type": "stream",
     "text": [
      "/ (RootGroup) ''\r\n",
      "/Array0 (Array(200, 300)) 'My Array'\r\n",
      "  atom := Float32Atom(shape=(), dflt=0.0)\r\n",
      "  maindim := 0\r\n",
      "  flavor := 'numpy'\r\n",
      "  byteorder := 'little'\r\n",
      "  chunkshape := None\r\n"
     ]
    }
   ],
   "source": [
    "# -v stands for 'verbose'\n",
    "!ptdump -v 'data/pytables-array.h5'"
   ]
  },
  {
   "cell_type": "code",
   "execution_count": 29,
   "metadata": {},
   "outputs": [
    {
     "name": "stdout",
     "output_type": "stream",
     "text": [
      "\r\n",
      "------------------------------------------------------------\r\n",
      "\r\n",
      "/ (RootGroup)\r\n",
      "`--Array0 (Array)\r\n",
      "      mem=240.0kB, disk=240.0kB [100.0%]\r\n",
      "\r\n",
      "------------------------------------------------------------\r\n",
      "Total branch leaves:    1\r\n",
      "Total branch size:      240.0kB in memory, 240.0kB on disk\r\n",
      "Mean compression ratio: 1.00\r\n",
      "HDF5 file size:         242.1kB\r\n",
      "------------------------------------------------------------\r\n",
      "\r\n"
     ]
    }
   ],
   "source": [
    "!pttree --use-si-units --sort-by 'size' 'data/pytables-array.h5'"
   ]
  },
  {
   "cell_type": "markdown",
   "metadata": {},
   "source": [
    "### Traverse a HDF5 file with PyTables"
   ]
  },
  {
   "cell_type": "code",
   "execution_count": 30,
   "metadata": {},
   "outputs": [
    {
     "name": "stdout",
     "output_type": "stream",
     "text": [
      "walk_groups + iter_nodes\n",
      "/MyDatasetInRoot\n",
      "/SomeMissingGroup/MyGroup/MyOtherGroup/MyOtherDataset\n",
      "\n",
      "walk_nodes\n",
      "/MyDatasetInRoot\n",
      "/SomeMissingGroup/MyGroup/MyOtherGroup/MyOtherDataset\n"
     ]
    }
   ],
   "source": [
    "file_path = os.path.join(data_dir, 'h5py-groups-datasets-attributes.h5')\n",
    "\n",
    "print('walk_groups + iter_nodes')\n",
    "with tb.open_file(file_path, 'r') as f:\n",
    "    for group in f.walk_groups('/'):\n",
    "        # list_nodes or iter_nodes\n",
    "        for array in f.iter_nodes(group, classname='Array'):\n",
    "            print(array._v_pathname)\n",
    "\n",
    "print('\\nwalk_nodes')\n",
    "with tb.open_file(file_path, 'r') as f:\n",
    "    for node in f.walk_nodes('/', classname='Array'):\n",
    "        print('{}'.format(node._v_pathname))"
   ]
  },
  {
   "cell_type": "markdown",
   "metadata": {},
   "source": [
    "### Big Data!"
   ]
  },
  {
   "cell_type": "markdown",
   "metadata": {},
   "source": [
    "![Big data, big deal](https://marktortorici.files.wordpress.com/2013/10/ron-burgundy-big-deal.jpg)"
   ]
  },
  {
   "cell_type": "markdown",
   "metadata": {},
   "source": [
    "Let's create some \"big data\"."
   ]
  },
  {
   "cell_type": "code",
   "execution_count": 31,
   "metadata": {},
   "outputs": [
    {
     "name": "stdout",
     "output_type": "stream",
     "text": [
      "CPU times: user 952 ms, sys: 348 ms, total: 1.3 s\n",
      "Wall time: 1.32 s\n"
     ]
    }
   ],
   "source": [
    "%%time\n",
    "\n",
    "size = int(10e6)\n",
    "big_data = {\n",
    "    'uintegers': np.random.randint(0, 255, size, dtype='uint8'),\n",
    "    'integers': np.random.randint(low=-123, high=456, size=size, dtype='int32'),\n",
    "    'floats': np.random.normal(loc=0, scale=1, size=size).astype(np.float32),\n",
    "    'booleans': np.random.choice([True, False], size=size),\n",
    "}"
   ]
  },
  {
   "cell_type": "code",
   "execution_count": 32,
   "metadata": {},
   "outputs": [
    {
     "name": "stdout",
     "output_type": "stream",
     "text": [
      "Fill up the table with 10000000 records\n",
      "CPU times: user 15.4 s, sys: 564 ms, total: 16 s\n",
      "Wall time: 16.2 s\n"
     ]
    }
   ],
   "source": [
    "%%time\n",
    "\n",
    "class SyntheticDataDescription(tb.IsDescription):\n",
    "    unsigned_int_field = tb.UInt8Col(pos=0)\n",
    "    int_field = tb.Int32Col(pos=1)\n",
    "    float_field = tb.Float32Col(pos=2)\n",
    "    bool_field = tb.BoolCol(pos=3)\n",
    "\n",
    "\n",
    "def fill_table(table, data):\n",
    "    num_records = len(data['integers'])\n",
    "    print('Fill up the table with {} records'.format(num_records))\n",
    "    # Get the record object associated with the table:\n",
    "    row = table.row\n",
    "    for i in range(num_records):\n",
    "        row['unsigned_int_field'] = data['uintegers'][i]\n",
    "        row['int_field'] = data['integers'][i]\n",
    "        row['float_field'] = data['floats'][i]\n",
    "        row['bool_field'] = data['booleans'][i]\n",
    "        row.append()\n",
    "    # Flush the table buffers\n",
    "    table.flush()\n",
    "\n",
    "file_path = os.path.join(data_dir, 'pytables-synthetic-data.h5')\n",
    "filters = tb.Filters(complevel=5, complib='zlib')\n",
    "\n",
    "with tb.open_file(file_path, 'w') as f:\n",
    "    table = f.create_table(\n",
    "        where='/', name='data_table', description=SyntheticDataDescription,\n",
    "        title='Synthetic data', filters=filters)\n",
    "\n",
    "    fill_table(table, big_data)"
   ]
  },
  {
   "cell_type": "markdown",
   "metadata": {},
   "source": [
    "Querying with numpy is possible only it the table fits in memory. How big is this table?"
   ]
  },
  {
   "cell_type": "code",
   "execution_count": 33,
   "metadata": {},
   "outputs": [
    {
     "name": "stdout",
     "output_type": "stream",
     "text": [
      "\r\n",
      "------------------------------------------------------------\r\n",
      "\r\n",
      "/ (RootGroup)\r\n",
      "`--data_table (Table)\r\n",
      "      mem=100.0MB, disk=65.1MB [100.0%]\r\n",
      "\r\n",
      "------------------------------------------------------------\r\n",
      "Total branch leaves:    1\r\n",
      "Total branch size:      100.0MB in memory, 65.1MB on disk\r\n",
      "Mean compression ratio: 0.65\r\n",
      "HDF5 file size:         65.2MB\r\n",
      "------------------------------------------------------------\r\n",
      "\r\n"
     ]
    }
   ],
   "source": [
    "!pttree --use-si-units 'data/pytables-synthetic-data.h5'"
   ]
  },
  {
   "cell_type": "code",
   "execution_count": 74,
   "metadata": {},
   "outputs": [
    {
     "name": "stdout",
     "output_type": "stream",
     "text": [
      "Rows that match the condition: 1060367\n",
      "CPU times: user 1min 27s, sys: 804 ms, total: 1min 28s\n",
      "Wall time: 1min 28s\n"
     ]
    }
   ],
   "source": [
    "%%time\n",
    "\n",
    "file_path = os.path.join(data_dir, 'pytables-synthetic-data.h5')\n",
    "\n",
    "with tb.open_file(file_path, 'r') as f:\n",
    "    table = f.root.data_table\n",
    "    results = [x['bool_field'] for x in table.read() \n",
    "               if -100 < x['int_field'] < 100 and x['float_field'] > 0.5]\n",
    "    print('Rows that match the condition: {}'.format(len(results)))"
   ]
  },
  {
   "cell_type": "markdown",
   "metadata": {},
   "source": [
    "`table.iterrows()` returns an iterator that iterates over all rows.\n",
    "This allow us to avoid loading the entire table in memory."
   ]
  },
  {
   "cell_type": "code",
   "execution_count": 34,
   "metadata": {},
   "outputs": [
    {
     "name": "stdout",
     "output_type": "stream",
     "text": [
      "Rows that match the condition: 1058427\n",
      "CPU times: user 2.73 s, sys: 40 ms, total: 2.77 s\n",
      "Wall time: 2.84 s\n"
     ]
    }
   ],
   "source": [
    "%%time\n",
    "\n",
    "file_path = os.path.join(data_dir, 'pytables-synthetic-data.h5')\n",
    "\n",
    "with tb.open_file(file_path, 'r') as f:\n",
    "    table = f.root.data_table\n",
    "    results = [x['bool_field'] for x in table.iterrows()\n",
    "               if -100 < x['int_field'] < 100 and x['float_field'] > 0.5]\n",
    "    print('Rows that match the condition: {}'.format(len(results)))"
   ]
  },
  {
   "cell_type": "markdown",
   "metadata": {},
   "source": [
    "`table.where()` uses numepr to make a *in-kernel* query."
   ]
  },
  {
   "cell_type": "code",
   "execution_count": 35,
   "metadata": {},
   "outputs": [
    {
     "name": "stdout",
     "output_type": "stream",
     "text": [
      "Rows that match the condition: 1058427\n",
      "CPU times: user 800 ms, sys: 56 ms, total: 856 ms\n",
      "Wall time: 907 ms\n"
     ]
    }
   ],
   "source": [
    "%%time\n",
    "\n",
    "file_path = os.path.join(data_dir, 'pytables-synthetic-data.h5')\n",
    "\n",
    "with tb.open_file(file_path, 'r') as f:\n",
    "    table = f.root.data_table\n",
    "    results = [x['bool_field'] for x in table.where(\n",
    "            \"\"\"((-100 < int_field) & (int_field < 100)) & (float_field > 0.5)\"\"\")]\n",
    "    print('Rows that match the condition: {}'.format(len(results)))"
   ]
  },
  {
   "cell_type": "markdown",
   "metadata": {},
   "source": [
    "Have a look at the huge difference in the CPU time!\n",
    "\n",
    "[The starving CPU problem (Francesc Alted)](https://python.g-node.org/python-summerschool-2013/_media/starving_cpu/starvingcpus.pdf)"
   ]
  },
  {
   "cell_type": "markdown",
   "metadata": {},
   "source": [
    "Caveats with the condition in `table.where`!"
   ]
  },
  {
   "cell_type": "code",
   "execution_count": 36,
   "metadata": {},
   "outputs": [],
   "source": [
    "# This won't work: you can't use Python's standard boolean operators in NumExpr expressions\n",
    "condition = \"\"\"(-100 < int_field < 100) & (float_field > 0.5)\"\"\"\n",
    "\n",
    "# This one works\n",
    "condition = \"\"\"((-100 < int_field) & (int_field < 100)) & (float_field > 0.5)\"\"\"\n",
    "\n",
    "# Of course you can make it more readable\n",
    "cond0 = '((-100 < int_field) & (int_field < 100))'\n",
    "cond1 = '(float_field > 0.5)'\n",
    "condition = '{} & {}'.format(cond0, cond1)"
   ]
  },
  {
   "cell_type": "markdown",
   "metadata": {},
   "source": [
    "# NYC Yellow taxi dataset (2015-2016)"
   ]
  },
  {
   "cell_type": "markdown",
   "metadata": {},
   "source": [
    "Define a PyTables *description* (i.e. the table structure) and some functions that we will use to populate the table with the data from the CSV files provided by [NYC Taxi and Limousine Commission (TLC)](http://www.nyc.gov/html/tlc/html/about/trip_record_data.shtml)."
   ]
  },
  {
   "cell_type": "code",
   "execution_count": 37,
   "metadata": {},
   "outputs": [],
   "source": [
    "class TaxiTableDescription(tb.IsDescription):\n",
    "    vendor_id = tb.UInt8Col(pos=0)\n",
    "    pickup_timestamp_ms = tb.Int64Col(pos=1)\n",
    "    dropoff_timestamp_ms = tb.Int64Col(pos=2)\n",
    "    passenger_count = tb.UInt8Col(pos=3)\n",
    "    trip_distance = tb.Float32Col(pos=4)\n",
    "    pickup_longitude = tb.Float32Col(pos=5)\n",
    "    pickup_latitude = tb.Float32Col(pos=6)\n",
    "    dropoff_longitude = tb.Float32Col(pos=7)\n",
    "    dropoff_latitude = tb.Float32Col(pos=8)\n",
    "    fare_amount = tb.Float32Col(pos=9)\n",
    "    tip_amount = tb.Float32Col(pos=10)\n",
    "    total_amount = tb.Float32Col(pos=11)\n",
    "    # store_and_fwd_flag = tb.Float32Col(pos=12)\n",
    "\n",
    "\n",
    "def date_to_timestamp_ms(date_obj):\n",
    "    timestamp_in_nanoseconds = date_obj.astype('int64')\n",
    "    timestamp_in_ms = (timestamp_in_nanoseconds / 1000000).astype('int64')\n",
    "    return timestamp_in_ms\n",
    "\n",
    "\n",
    "def fill_taxi_table(table, df):\n",
    "    num_records = df.shape[0]  # it's equal to the chunksize used in read_csv\n",
    "    row = table.row\n",
    "    for i in range(num_records):\n",
    "        row['vendor_id'] = df['VendorID'].values[i]\n",
    "\n",
    "        pickup_ms = date_to_timestamp_ms(df['tpep_pickup_datetime'].values[i])\n",
    "        row['pickup_timestamp_ms'] = pickup_ms\n",
    "        dropoff_ms = date_to_timestamp_ms(df['tpep_dropoff_datetime'].values[i])\n",
    "        row['dropoff_timestamp_ms'] = dropoff_ms\n",
    "\n",
    "        row['passenger_count'] = df['passenger_count'].values[i]\n",
    "        row['trip_distance'] = df['trip_distance'].values[i]\n",
    "\n",
    "        row['pickup_longitude'] = df['pickup_longitude'].values[i]\n",
    "        row['pickup_latitude'] = df['pickup_latitude'].values[i]\n",
    "        row['dropoff_longitude'] = df['dropoff_longitude'].values[i]\n",
    "        row['dropoff_latitude'] = df['dropoff_latitude'].values[i]\n",
    "\n",
    "        row['fare_amount'] = df['fare_amount'].values[i]\n",
    "        row['tip_amount'] = df['tip_amount'].values[i]\n",
    "        row['total_amount'] = df['total_amount'].values[i]\n",
    "        \n",
    "        row.append()\n",
    "    table.flush()"
   ]
  },
  {
   "cell_type": "markdown",
   "metadata": {},
   "source": [
    "Create the HDF5 file with an empty table."
   ]
  },
  {
   "cell_type": "code",
   "execution_count": 39,
   "metadata": {},
   "outputs": [],
   "source": [
    "h5_file_path = os.path.join(data_dir, 'pytables-ny-taxis.h5')\n",
    "\n",
    "nyc_dir = os.path.join(data_dir, 'nyctaxi')\n",
    "# years = os.listdir(nyc_dir)\n",
    "years = ['2016']\n",
    "\n",
    "# data dictionary for NY yellow taxi CSV files\n",
    "# http://www.nyc.gov/html/tlc/downloads/pdf/data_dictionary_trip_records_yellow.pdf\n",
    "# ATTENTION: the data dictionary changes from year to year! This data dictionary is only valid for 2016 data\n",
    "dtype = {\n",
    "    'VendorID': 'uint8',\n",
    "    'store_and_fwd_flag': 'category',\n",
    "}\n",
    "\n",
    "filters = tb.Filters(complevel=5, complib='zlib')\n",
    "\n",
    "# create a table that we will fill later on\n",
    "with tb.open_file(h5_file_path, 'w') as f:\n",
    "    f.create_table(\n",
    "        where='/', name='TaxiTable', description=TaxiTableDescription,\n",
    "        title='NY Yellow Taxi data', filters=filters)"
   ]
  },
  {
   "cell_type": "code",
   "execution_count": 40,
   "metadata": {},
   "outputs": [
    {
     "name": "stdout",
     "output_type": "stream",
     "text": [
      "/ (RootGroup) ''\r\n",
      "/TaxiTable (Table(0,), shuffle, zlib(5)) 'NY Yellow Taxi data'\r\n",
      "  description := {\r\n",
      "  \"vendor_id\": UInt8Col(shape=(), dflt=0, pos=0),\r\n",
      "  \"pickup_timestamp_ms\": Int64Col(shape=(), dflt=0, pos=1),\r\n",
      "  \"dropoff_timestamp_ms\": Int64Col(shape=(), dflt=0, pos=2),\r\n",
      "  \"passenger_count\": UInt8Col(shape=(), dflt=0, pos=3),\r\n",
      "  \"trip_distance\": Float32Col(shape=(), dflt=0.0, pos=4),\r\n",
      "  \"pickup_longitude\": Float32Col(shape=(), dflt=0.0, pos=5),\r\n",
      "  \"pickup_latitude\": Float32Col(shape=(), dflt=0.0, pos=6),\r\n",
      "  \"dropoff_longitude\": Float32Col(shape=(), dflt=0.0, pos=7),\r\n",
      "  \"dropoff_latitude\": Float32Col(shape=(), dflt=0.0, pos=8),\r\n",
      "  \"fare_amount\": Float32Col(shape=(), dflt=0.0, pos=9),\r\n",
      "  \"tip_amount\": Float32Col(shape=(), dflt=0.0, pos=10),\r\n",
      "  \"total_amount\": Float32Col(shape=(), dflt=0.0, pos=11)}\r\n",
      "  byteorder := 'little'\r\n",
      "  chunkshape := (1310,)\r\n"
     ]
    }
   ],
   "source": [
    "!ptdump -v 'data/pytables-ny-taxis.h5'"
   ]
  },
  {
   "cell_type": "markdown",
   "metadata": {},
   "source": [
    "Populate the table with all CSV files."
   ]
  },
  {
   "cell_type": "markdown",
   "metadata": {},
   "source": [
    "<img src=\"https://i.imgflip.com/20fb1g.jpg\" title=\"made at imgflip.com\"/>"
   ]
  },
  {
   "cell_type": "markdown",
   "metadata": {},
   "source": [
    "```python\n",
    "# populate the table with data from CSV files\n",
    "with tb.open_file(h5_file_path, 'a') as f:\n",
    "    table = f.root.TaxiTable\n",
    "    # or, in alternative\n",
    "    # table = list(f.walk_nodes('/', classname='Table'))[0]\n",
    "\n",
    "    for year in years:\n",
    "        year_dir = os.path.join(data_dir, 'nyctaxi', year)\n",
    "        csv_files = os.listdir(year_dir)\n",
    "\n",
    "        # read in chunks because these CSV files are too big\n",
    "        for csv_file in csv_files:\n",
    "            print('Processing {}'.format(csv_file))\n",
    "            csv_file_path = os.path.join(year_dir, csv_file)\n",
    "            chunksize = 1000\n",
    "            for chunk in pd.read_csv(\n",
    "                csv_file_path, dtype=dtype, chunksize=chunksize, \n",
    "                parse_dates=['tpep_pickup_datetime', 'tpep_dropoff_datetime']):\n",
    "                \n",
    "                df = chunk.reset_index()\n",
    "                fill_taxi_table(table, df)\n",
    "```"
   ]
  },
  {
   "cell_type": "markdown",
   "metadata": {},
   "source": [
    "![He Man I have the data](https://www.storegrowers.com/wp-content/uploads/2016/02/analytics-meme-sword-guy.png)"
   ]
  },
  {
   "cell_type": "markdown",
   "metadata": {},
   "source": [
    "---"
   ]
  },
  {
   "cell_type": "markdown",
   "metadata": {},
   "source": [
    "# HDF5 command line tools"
   ]
  },
  {
   "cell_type": "markdown",
   "metadata": {},
   "source": [
    "[Here](https://support.hdfgroup.org/products/hdf5_tools/#h5dist) you can find the command line tools developed by the HDF Group. These are HDF5 tools, you don't need h5py or PyTables to use them."
   ]
  },
  {
   "cell_type": "markdown",
   "metadata": {},
   "source": [
    "If you are on Ubuntu, you can install them with `sudo apt install hdf5-tools`"
   ]
  },
  {
   "cell_type": "code",
   "execution_count": 41,
   "metadata": {},
   "outputs": [
    {
     "name": "stdout",
     "output_type": "stream",
     "text": [
      "/                        Group\r\n",
      "/MyDatasetInRoot         Dataset {200}\r\n",
      "/SomeMissingGroup        Group\r\n",
      "/SomeMissingGroup/MyGroup Group\r\n",
      "/SomeMissingGroup/MyGroup/MyOtherGroup Group\r\n",
      "/SomeMissingGroup/MyGroup/MyOtherGroup/MyOtherDataset Dataset {100, 50}\r\n"
     ]
    }
   ],
   "source": [
    "# -r stands for 'recursive'\n",
    "!h5ls -r 'data/h5py-groups-datasets-attributes.h5'"
   ]
  },
  {
   "cell_type": "code",
   "execution_count": 42,
   "metadata": {},
   "outputs": [
    {
     "name": "stdout",
     "output_type": "stream",
     "text": [
      "HDF5 \"data/h5py-groups-datasets-attributes.h5\" {\n",
      "GROUP \"/\" {\n",
      "   DATASET \"MyDatasetInRoot\" {\n",
      "      DATATYPE  H5T_IEEE_F64LE\n",
      "      DATASPACE  SIMPLE { ( 200 ) / ( 200 ) }\n",
      "      DATA {\n",
      "      (0): 1.97213, -1.62174, -0.66576, 0.23177, -1.37514, -0.880452,\n",
      "      (6): 0.464003, 1.31129, -0.136586, 0.020428, 0.432063, -0.101766,\n",
      "      (12): -0.61765, 0.23029, 0.185126, -1.04019, -0.764128, 0.22221,\n",
      "      (18): -0.349884, -3.01073, -0.456104, 0.239906, -0.105271, 0.604767,\n",
      "      (24): 0.47893, 1.31881, 1.10521, 0.640107, -0.0372719, 0.071626,\n",
      "      (30): -0.580788, -0.872015, 1.56593, 0.799425, 0.724295, 0.168604,\n",
      "      (36): -0.401721, -0.237675, -0.877579, 0.483252, 0.74469, -0.589226,\n",
      "      (42): -1.30429, 1.08012, 0.510117, -1.48511, 0.239167, 0.465756,\n",
      "      (48): 0.727476, -0.175811, -1.51954, 0.145122, 0.47923, 0.187813,\n",
      "      (54): -0.766984, 3.08616, 1.96194, 0.250941, 0.181197, 1.34273,\n",
      "      (60): -1.60962, -0.0925934, 1.11741, 0.156501, -0.331552, -0.276815,\n",
      "      (66): -0.693664, -0.868783, -0.206756, 0.225469, 0.108675, -0.537657,\n",
      "      (72): 1.80559, -0.694131, -1.25114, -1.58003, -1.27459, 0.143542,\n",
      "      (78): 0.0878709, 0.41324, -0.792721, -1.46046, 1.21794, 0.898962,\n",
      "      (84): -0.789832, 0.675404, -1.35688, 2.882, 0.141894, 0.106181,\n",
      "      (90): -0.978121, 0.445934, 0.639699, 0.0934689, -0.274181, 1.91339,\n",
      "      (96): 0.0611445, -0.462556, 0.110073, 0.505742, 1.96242, -0.602108,\n",
      "      (102): 1.75742, -0.478963, 0.3919, -0.670443, 0.411998, 0.789511,\n",
      "      (108): 1.66064, 0.114739, 1.20572, 1.08951, -0.286403, -0.105114,\n",
      "      (114): 2.65066, 0.516472, 1.29396, 0.469348, 2.08322, -0.548253,\n",
      "      (120): -0.600385, 1.06615, 1.1926, -1.33365, 0.186567, -2.15173,\n",
      "      (126): 0.62649, -1.4214, 0.259506, 0.364952, -0.309467, 1.05313,\n",
      "      (132): -0.336088, -1.17572, -1.03358, 1.34824, 0.133308, -0.903933,\n",
      "      (138): -0.31551, 0.0305348, -0.304567, -1.66147, -0.640805, 0.912685,\n",
      "      (144): -0.551841, 0.542289, -0.983919, 0.72242, 2.2296, 1.05786,\n",
      "      (150): 0.176666, -0.338566, -0.630063, -0.0822903, -1.1098, 0.63881,\n",
      "      (156): -0.0344546, 0.62656, -1.66291, 1.313, 0.122933, 0.72463,\n",
      "      (162): 0.238502, -0.198698, 0.0296656, -0.72646, 0.979553, -1.41659,\n",
      "      (168): -0.397735, -0.152757, 0.483975, 0.389659, 0.748392, -0.338857,\n",
      "      (174): -0.32954, 0.434923, 0.679441, -0.703389, -0.664947, 1.17566,\n",
      "      (180): 0.435305, 0.0413535, 0.122962, -1.63454, -0.217201, -0.366607,\n",
      "      (186): 0.214486, -1.3446, 1.10891, 0.213159, -0.229576, 0.768034,\n",
      "      (192): 0.0951204, 1.292, 0.482057, -1.14959, -0.269055, -0.543314,\n",
      "      (198): -1.04198, 0.61052\n",
      "      }\n",
      "      ATTRIBUTE \"Speed\" {\n",
      "         DATATYPE  H5T_STD_I32LE\n",
      "         DATASPACE  SIMPLE { ( 2 ) / ( 2 ) }\n",
      "         DATA {\n",
      "         (0): 100, 200\n",
      "         }\n",
      "      }\n",
      "      ATTRIBUTE \"Unit\" {\n",
      "         DATATYPE  H5T_STRING {\n",
      "            STRSIZE H5T_VARIABLE;\n",
      "            STRPAD H5T_STR_NULLTERM;\n",
      "            CSET H5T_CSET_UTF8;\n",
      "            CTYPE H5T_C_S1;\n",
      "         }\n",
      "         DATASPACE  SCALAR\n",
      "         DATA {\n",
      "         (0): \"m/s\"\n",
      "         }\n",
      "      }\n",
      "   }\n",
      "   GROUP \"SomeMissingGroup\" {\n",
      "      GROUP \"MyGroup\" {\n",
      "         ATTRIBUTE \"Experiment ID\" {\n",
      "            DATATYPE  H5T_STD_I64LE\n",
      "            DATASPACE  SCALAR\n",
      "            DATA {\n",
      "            (0): 123\n",
      "            }\n",
      "         }\n",
      "         GROUP \"MyOtherGroup\" {\n",
      "            ATTRIBUTE \"Experiment ID\" {\n",
      "               DATATYPE  H5T_STD_I64LE\n",
      "               DATASPACE  SCALAR\n",
      "               DATA {\n",
      "               (0): 456\n",
      "               }\n",
      "            }\n",
      "            DATASET \"MyOtherDataset\" {\n",
      "               DATATYPE  H5T_IEEE_F32LE\n",
      "               DATASPACE  SIMPLE { ( 100, 50 ) / ( 100, 50 ) }\n",
      "               DATA {\n",
      "               (0,0): 0.494952, 0.654019, 0.344411, 0.332594, 0.970506,\n",
      "               (0,5): 0.0220699, 0.459656, 0.692981, 0.422912, 0.820192,\n",
      "               (0,10): 0.748112, 0.33453, 0.927598, 0.84739, 0.373641,\n",
      "               (0,15): 0.432771, 0.333133, 0.923923, 0.686758, 0.103582,\n",
      "               (0,20): 0.239651, 0.632069, 0.419385, 0.583819, 0.172779,\n",
      "               (0,25): 0.986341, 0.0913464, 0.316145, 0.818694, 0.179078,\n",
      "               (0,30): 0.919921, 0.882901, 0.783598, 0.571226, 0.711572,\n",
      "               (0,35): 0.677073, 0.728885, 0.905886, 0.307077, 0.757422,\n",
      "               (0,40): 0.151003, 0.517786, 0.633378, 0.455439, 0.159528,\n",
      "               (0,45): 0.887571, 0.165906, 0.0294602, 0.249011, 0.258778,\n",
      "               (1,0): 0.258198, 0.490343, 0.763847, 0.560345, 0.780115,\n",
      "               (1,5): 0.970632, 0.0261534, 0.825059, 0.69938, 0.884117,\n",
      "               (1,10): 0.359652, 0.0783395, 0.480683, 0.695381, 0.933169,\n",
      "               (1,15): 0.686426, 0.641496, 0.780392, 0.305585, 0.220832,\n",
      "               (1,20): 0.826553, 0.133601, 0.953231, 0.925702, 0.432348,\n",
      "               (1,25): 0.748923, 0.651235, 0.32225, 0.62072, 0.335573,\n",
      "               (1,30): 0.36153, 0.530321, 0.912903, 0.268504, 0.0334437,\n",
      "               (1,35): 0.794279, 0.71983, 0.145791, 0.0874853, 0.341344,\n",
      "               (1,40): 0.897928, 0.258456, 0.0319032, 0.231217, 0.336779,\n",
      "               (1,45): 0.119653, 0.160552, 0.421549, 0.18547, 0.683134,\n",
      "               (2,0): 0.927116, 0.503028, 0.52968, 0.0622878, 0.888071,\n",
      "               (2,5): 0.475804, 0.649998, 0.948647, 0.877241, 0.22564,\n",
      "               (2,10): 0.184782, 0.524366, 0.328775, 0.450293, 0.404478,\n",
      "               (2,15): 0.181188, 0.422671, 0.831928, 0.650693, 0.16966,\n",
      "               (2,20): 0.363446, 0.909586, 0.402728, 0.246877, 0.685269,\n",
      "               (2,25): 0.472571, 0.184324, 0.00839383, 0.97991, 0.844992,\n",
      "               (2,30): 0.159376, 0.173682, 0.278958, 0.863212, 0.257926,\n",
      "               (2,35): 0.684304, 0.711427, 0.235641, 0.330406, 0.583167,\n",
      "               (2,40): 0.437309, 0.236633, 0.79446, 0.98003, 0.934709,\n",
      "               (2,45): 0.960559, 0.935711, 0.641091, 0.584927, 0.840297,\n",
      "               (3,0): 0.456463, 0.44219, 0.495025, 0.540516, 0.433972,\n",
      "               (3,5): 0.623197, 0.660886, 0.283856, 0.51131, 0.943084,\n",
      "               (3,10): 0.244512, 0.32909, 0.748379, 0.991867, 0.72569,\n",
      "               (3,15): 0.298421, 0.401196, 0.109621, 0.55246, 0.909788,\n",
      "               (3,20): 0.681403, 0.419074, 0.498283, 0.795955, 0.93334,\n",
      "               (3,25): 0.0342862, 0.652285, 0.678892, 0.549197, 0.92018,\n",
      "               (3,30): 0.889873, 0.883211, 0.154319, 0.918784, 0.590011,\n",
      "               (3,35): 0.537864, 0.947722, 0.63483, 0.959324, 0.165986,\n",
      "               (3,40): 0.795987, 0.952299, 0.785782, 0.184262, 0.527328,\n",
      "               (3,45): 0.881095, 0.508332, 0.200616, 0.759031, 0.825031,\n",
      "               (4,0): 0.505305, 0.80407, 0.514273, 0.719773, 0.0836995,\n",
      "               (4,5): 0.154547, 0.432389, 0.45216, 0.462485, 0.557014,\n",
      "               (4,10): 0.124227, 0.16993, 0.517115, 0.57262, 0.654827,\n",
      "               (4,15): 0.186363, 0.989042, 0.0977839, 0.115401, 0.51176,\n",
      "               (4,20): 0.587454, 0.869187, 0.542374, 0.98013, 0.335449,\n",
      "               (4,25): 0.889, 0.252095, 0.541963, 0.0421612, 0.310685,\n",
      "               (4,30): 0.181362, 0.727305, 0.826704, 0.921362, 0.978445,\n",
      "               (4,35): 0.799763, 0.569397, 0.960358, 0.204028, 0.800162,\n",
      "               (4,40): 0.894546, 0.23947, 0.894763, 0.862249, 0.159531,\n",
      "               (4,45): 0.512167, 0.648096, 0.447528, 0.553925, 0.182586,\n",
      "               (5,0): 0.125784, 0.197173, 0.992514, 0.118825, 0.0203081,\n",
      "               (5,5): 0.883126, 0.031106, 0.849369, 0.500893, 0.372167,\n",
      "               (5,10): 0.367462, 0.838519, 0.0128906, 0.809575, 0.00625755,\n",
      "               (5,15): 0.69322, 0.0127578, 0.42876, 0.710902, 0.295143,\n",
      "               (5,20): 0.979014, 0.949844, 0.630232, 0.602482, 0.310417,\n",
      "               (5,25): 0.0338517, 0.162426, 0.38354, 0.37782, 0.26652,\n",
      "               (5,30): 0.14471, 0.316055, 0.299139, 0.809291, 0.045389,\n",
      "               (5,35): 0.786474, 0.253074, 0.906035, 0.693063, 0.435029,\n",
      "               (5,40): 0.27575, 0.437128, 0.865479, 0.913275, 0.424393,\n",
      "               (5,45): 0.394219, 0.69961, 0.344535, 0.0227957, 0.651247,\n",
      "               (6,0): 0.153659, 0.133187, 0.485523, 0.642122, 0.930334,\n",
      "               (6,5): 0.139507, 0.750918, 0.736486, 0.205788, 0.935401,\n",
      "               (6,10): 0.101309, 0.422377, 0.453557, 0.87294, 0.398847,\n",
      "               (6,15): 0.686274, 0.163675, 0.964223, 0.828903, 0.335762,\n",
      "               (6,20): 0.217679, 0.0372298, 0.489829, 0.347423, 0.689031,\n",
      "               (6,25): 0.828478, 0.919844, 0.707073, 0.714994, 0.0660967,\n",
      "               (6,30): 0.158638, 0.888977, 0.276959, 0.0813181, 0.980969,\n",
      "               (6,35): 0.759571, 0.652254, 0.0725651, 0.354347, 0.475487,\n",
      "               (6,40): 0.297543, 0.308993, 0.0655859, 0.724961, 0.113055,\n",
      "               (6,45): 0.275528, 0.695, 0.62178, 0.609139, 0.794437,\n",
      "               (7,0): 0.109493, 0.0623124, 0.0571908, 0.0146448, 0.0668613,\n",
      "               (7,5): 0.0575076, 0.303981, 0.372678, 0.812275, 0.611487,\n",
      "               (7,10): 0.640804, 0.814329, 0.601189, 0.0645025, 0.679458,\n",
      "               (7,15): 0.440691, 0.117641, 0.84912, 0.135413, 0.442804,\n",
      "               (7,20): 0.671071, 0.400186, 0.630098, 0.567527, 0.173309,\n",
      "               (7,25): 0.168562, 0.398586, 0.884385, 0.98461, 0.386673,\n",
      "               (7,30): 0.147574, 0.123522, 0.786741, 0.379129, 0.681596,\n",
      "               (7,35): 0.260636, 0.369458, 0.294136, 0.946899, 0.633371,\n",
      "               (7,40): 0.505823, 0.1835, 0.643833, 0.808096, 0.668324,\n",
      "               (7,45): 0.062265, 0.278693, 0.115987, 0.0554758, 0.210225,\n",
      "               (8,0): 0.0703923, 0.175049, 0.595895, 0.0452373, 0.614616,\n",
      "               (8,5): 0.588096, 0.253633, 0.453515, 0.166732, 0.649138,\n",
      "               (8,10): 0.392436, 0.0957155, 0.706757, 0.766944, 0.66902,\n",
      "               (8,15): 0.861604, 0.707364, 0.387395, 0.975206, 0.561288,\n",
      "               (8,20): 0.323848, 0.0879109, 0.288179, 0.144757, 0.941103,\n",
      "               (8,25): 0.822193, 0.190028, 0.957809, 0.419434, 0.40362,\n",
      "               (8,30): 0.102042, 0.798462, 0.41038, 0.216876, 0.92628,\n",
      "               (8,35): 0.210131, 0.386157, 0.881714, 0.883754, 0.00719061,\n",
      "               (8,40): 0.00971993, 0.678461, 0.789219, 0.767469, 0.450373,\n",
      "               (8,45): 0.218727, 0.0196093, 0.838772, 0.315549, 0.506308,\n",
      "               (9,0): 0.0183966, 0.824634, 0.552701, 0.786, 0.522132,\n",
      "               (9,5): 0.918829, 0.211027, 0.0149939, 0.882595, 0.559481,\n",
      "               (9,10): 0.0343491, 0.311272, 0.825405, 0.956687, 0.131085,\n",
      "               (9,15): 0.814561, 0.981003, 0.964168, 0.619944, 0.0807266,\n",
      "               (9,20): 0.429897, 0.4906, 0.0131846, 0.107978, 0.347072,\n",
      "               (9,25): 0.12933, 0.667125, 0.795387, 0.305634, 0.57385,\n",
      "               (9,30): 0.0927565, 0.945355, 0.017508, 0.472094, 0.888144,\n",
      "               (9,35): 0.991647, 0.655942, 0.978206, 0.229228, 0.150604,\n",
      "               (9,40): 0.653379, 0.596422, 0.317134, 0.168773, 0.146018,\n",
      "               (9,45): 0.871455, 0.323849, 0.641811, 0.0426316, 0.972887,\n",
      "               (10,0): 0.529943, 0.643766, 0.277125, 0.112615, 0.493484,\n",
      "               (10,5): 0.462425, 0.230327, 0.0501254, 0.501716, 0.759808,\n",
      "               (10,10): 0.873668, 0.447343, 0.165682, 0.190009, 0.495815,\n",
      "               (10,15): 0.0449462, 0.354816, 0.295921, 0.787628, 0.41653,\n",
      "               (10,20): 0.596786, 0.357634, 0.0770304, 0.290812, 0.20163,\n",
      "               (10,25): 0.307317, 0.750595, 0.655304, 0.80184, 0.842706,\n",
      "               (10,30): 0.853794, 0.948611, 0.797025, 0.208401, 0.106264,\n",
      "               (10,35): 0.298136, 0.248365, 0.713315, 0.49504, 0.291151,\n",
      "               (10,40): 0.341736, 0.173619, 0.404348, 0.327077, 0.930676,\n",
      "               (10,45): 0.420669, 0.070946, 0.0597763, 0.574293, 0.291437,\n",
      "               (11,0): 0.423169, 0.319748, 0.329627, 0.118194, 0.273613,\n",
      "               (11,5): 0.665745, 0.640122, 0.901263, 0.0336402, 0.985686,\n",
      "               (11,10): 0.163579, 0.484856, 0.562595, 0.21437, 0.674463,\n",
      "               (11,15): 0.246708, 0.884668, 0.867751, 0.259509, 0.752448,\n",
      "               (11,20): 0.883207, 0.967983, 0.685462, 0.844131, 0.442254,\n",
      "               (11,25): 0.576366, 0.0369845, 0.0991245, 0.664585, 0.355756,\n",
      "               (11,30): 0.252334, 0.0556575, 0.0788115, 0.12114, 0.0106062,\n",
      "               (11,35): 0.152463, 0.36802, 0.806683, 0.917126, 0.210849,\n",
      "               (11,40): 0.763761, 0.408185, 0.190626, 0.788222, 0.877583,\n",
      "               (11,45): 0.403681, 0.915536, 0.822805, 0.636014, 0.0995248,\n",
      "               (12,0): 0.714371, 0.485821, 0.0822988, 0.955005, 0.0432607,\n",
      "               (12,5): 0.158915, 0.62459, 0.595552, 0.748782, 0.436281,\n",
      "               (12,10): 0.746259, 0.642511, 0.946867, 0.567615, 0.723358,\n",
      "               (12,15): 0.973564, 0.994955, 0.494063, 0.0616737, 0.263015,\n",
      "               (12,20): 0.750181, 0.37588, 0.548428, 0.682488, 0.22385,\n",
      "               (12,25): 0.765179, 0.640537, 0.0456001, 0.690908, 0.289062,\n",
      "               (12,30): 0.907945, 0.387465, 0.39071, 0.943693, 0.161788,\n",
      "               (12,35): 0.460971, 0.167328, 0.2519, 0.731289, 0.059382,\n",
      "               (12,40): 0.140814, 0.0235905, 0.00696379, 0.0330442, 0.554915,\n",
      "               (12,45): 0.823954, 0.559015, 0.0888556, 0.599347, 0.307805,\n",
      "               (13,0): 0.514749, 0.0666451, 0.110268, 0.699038, 0.703763,\n",
      "               (13,5): 0.111484, 0.336311, 0.804843, 0.56647, 0.796383,\n",
      "               (13,10): 0.175415, 0.601563, 0.597608, 0.62193, 0.891101,\n",
      "               (13,15): 0.352941, 0.995563, 0.412417, 0.70824, 0.418217,\n",
      "               (13,20): 0.392414, 0.787293, 0.992406, 0.493909, 0.107331,\n",
      "               (13,25): 0.0449009, 0.618371, 0.661689, 0.515148, 0.0370942,\n",
      "               (13,30): 0.902459, 0.356609, 0.901228, 0.289988, 0.350683,\n",
      "               (13,35): 0.472039, 0.120633, 0.15106, 0.0560591, 0.887491,\n",
      "               (13,40): 0.715066, 0.0559539, 0.262458, 0.916065, 0.836571,\n",
      "               (13,45): 0.782407, 0.91912, 0.517122, 0.413768, 0.627299,\n",
      "               (14,0): 0.228259, 0.366584, 0.423863, 0.797001, 0.852974,\n",
      "               (14,5): 0.550409, 0.21631, 0.233639, 0.891745, 0.930603,\n",
      "               (14,10): 0.530123, 0.563362, 0.451393, 0.216733, 0.00758801,\n",
      "               (14,15): 0.317719, 0.789171, 0.0793252, 0.487916, 0.860575,\n",
      "               (14,20): 0.896964, 0.810695, 0.23439, 0.72754, 0.617166,\n",
      "               (14,25): 0.636655, 0.607621, 0.191736, 0.174988, 0.363769,\n",
      "               (14,30): 0.218101, 0.803396, 0.3057, 0.0639091, 0.405813,\n",
      "               (14,35): 0.779573, 0.79406, 0.945405, 0.324547, 0.909524,\n",
      "               (14,40): 0.605886, 0.600559, 0.298671, 0.579132, 0.537478,\n",
      "               (14,45): 0.0363823, 0.649083, 0.324723, 0.903506, 0.645165,\n",
      "               (15,0): 0.67714, 0.256887, 0.524177, 0.470944, 0.246658,\n",
      "               (15,5): 0.935588, 0.341772, 0.622923, 0.659058, 0.852853,\n",
      "               (15,10): 0.814034, 0.839884, 0.427679, 0.0661939, 0.227001,\n",
      "               (15,15): 0.423627, 0.830088, 0.713562, 0.816314, 0.710435,\n",
      "               (15,20): 0.953294, 0.714157, 0.856262, 0.0377343, 0.926692,\n",
      "               (15,25): 0.552383, 0.905013, 0.765011, 0.916228, 0.527595,\n",
      "               (15,30): 0.116845, 0.717838, 0.937267, 0.889652, 0.753905,\n",
      "               (15,35): 0.661376, 0.240374, 0.30307, 0.588931, 0.990869,\n",
      "               (15,40): 0.872968, 0.971404, 0.588616, 0.81952, 0.625525,\n",
      "               (15,45): 0.108482, 0.76323, 0.891184, 0.0685637, 0.93372,\n",
      "               (16,0): 0.257636, 0.997191, 0.553356, 0.454006, 0.984346,\n",
      "               (16,5): 0.115234, 0.306671, 0.487959, 0.819449, 0.352728,\n",
      "               (16,10): 0.589907, 0.827194, 0.731528, 0.600408, 0.197362,\n",
      "               (16,15): 0.873658, 0.623386, 0.165784, 0.740783, 0.0437902,\n",
      "               (16,20): 0.0723721, 0.826258, 0.531311, 0.29561, 0.102906,\n",
      "               (16,25): 0.316248, 0.0925583, 0.695943, 0.91213, 0.0549829,\n",
      "               (16,30): 0.884778, 0.307178, 0.828001, 0.219288, 0.606051,\n",
      "               (16,35): 0.37992, 0.112278, 0.774642, 0.769662, 0.400242,\n",
      "               (16,40): 0.416337, 0.630178, 0.0651244, 0.791905, 0.623869,\n",
      "               (16,45): 0.138134, 0.664805, 0.290449, 0.890774, 0.288311,\n",
      "               (17,0): 0.446506, 0.161742, 0.0221511, 0.283159, 0.87236,\n",
      "               (17,5): 0.424551, 0.188941, 0.566933, 0.24856, 0.651087,\n",
      "               (17,10): 0.1859, 0.429541, 0.355388, 0.148222, 0.0593358,\n",
      "               (17,15): 0.146757, 0.985265, 0.430685, 0.307484, 0.867201,\n",
      "               (17,20): 0.143366, 0.211332, 0.875299, 0.228118, 0.487637,\n",
      "               (17,25): 0.769097, 0.135209, 0.0477415, 0.675891, 0.859781,\n",
      "               (17,30): 0.560783, 0.64272, 0.677918, 0.336344, 0.843994,\n",
      "               (17,35): 0.0216824, 0.756836, 0.516071, 0.301186, 0.0600085,\n",
      "               (17,40): 0.904057, 0.825226, 0.228336, 0.845232, 0.263545,\n",
      "               (17,45): 0.758652, 0.204611, 0.87783, 0.575984, 0.327855,\n",
      "               (18,0): 0.168688, 0.689321, 0.686891, 0.461056, 0.352761,\n",
      "               (18,5): 0.0900781, 0.637288, 0.551218, 0.226668, 0.891946,\n",
      "               (18,10): 0.979693, 0.768584, 0.219727, 0.851219, 0.998666,\n",
      "               (18,15): 0.254046, 0.345546, 0.20344, 0.894802, 0.540313,\n",
      "               (18,20): 0.138623, 0.727366, 0.403884, 0.125092, 0.559669,\n",
      "               (18,25): 0.213969, 0.09858, 0.393714, 0.308327, 0.12539,\n",
      "               (18,30): 0.399084, 0.134237, 0.0864923, 0.383527, 0.654901,\n",
      "               (18,35): 0.601806, 0.0388951, 0.240513, 0.47547, 0.194176,\n",
      "               (18,40): 0.0644892, 0.917484, 0.390421, 0.178216, 0.876552,\n",
      "               (18,45): 0.869387, 0.738774, 0.913539, 0.962795, 0.285538,\n",
      "               (19,0): 0.846508, 0.242254, 0.650805, 0.998401, 0.777866,\n",
      "               (19,5): 0.480043, 0.744886, 0.690547, 0.636576, 0.358746,\n",
      "               (19,10): 0.886521, 0.777074, 0.845534, 0.52489, 0.0778083,\n",
      "               (19,15): 0.805793, 0.0657064, 0.185515, 0.883538, 0.0726929,\n",
      "               (19,20): 0.965386, 0.131901, 0.490716, 0.744399, 0.344214,\n",
      "               (19,25): 0.230233, 0.477993, 0.0855922, 0.625669, 0.893822,\n",
      "               (19,30): 0.557134, 0.291663, 0.4914, 0.187608, 0.246962,\n",
      "               (19,35): 0.979365, 0.576722, 0.571589, 0.114275, 0.262421,\n",
      "               (19,40): 0.362335, 0.236972, 0.0130222, 0.91711, 0.516416,\n",
      "               (19,45): 0.757391, 0.595887, 0.912799, 0.0585898, 0.31105,\n",
      "               (20,0): 0.11959, 0.837252, 0.728946, 0.265557, 0.276163,\n",
      "               (20,5): 0.540564, 0.51437, 0.470997, 0.492523, 0.284657,\n",
      "               (20,10): 0.542849, 0.0515816, 0.581582, 0.0683375, 0.736045,\n",
      "               (20,15): 0.38601, 0.372313, 0.818634, 0.15015, 0.586149,\n",
      "               (20,20): 0.116496, 0.573441, 0.152556, 0.30952, 0.752901,\n",
      "               (20,25): 0.187356, 0.323642, 0.599797, 0.342703, 0.76738,\n",
      "               (20,30): 0.841326, 0.398259, 0.29601, 0.642675, 0.120159,\n",
      "               (20,35): 0.915633, 0.832393, 0.158367, 0.994998, 0.409998,\n",
      "               (20,40): 0.667062, 0.377835, 0.498254, 0.0241147, 0.751575,\n",
      "               (20,45): 0.496647, 0.966688, 0.877381, 0.18757, 0.873525,\n",
      "               (21,0): 0.577725, 0.0819174, 0.0104191, 0.68881, 0.524102,\n",
      "               (21,5): 0.937307, 0.241403, 0.354574, 0.485823, 0.246563,\n",
      "               (21,10): 0.607752, 0.62444, 0.243938, 0.556892, 0.0514215,\n",
      "               (21,15): 0.677076, 0.554268, 0.916994, 0.0893651, 0.577748,\n",
      "               (21,20): 0.641723, 0.257486, 0.786765, 0.163825, 0.299311,\n",
      "               (21,25): 0.160492, 0.3885, 0.0220636, 0.189585, 0.16961,\n",
      "               (21,30): 0.911611, 0.81621, 0.199014, 0.734609, 0.679939,\n",
      "               (21,35): 0.450604, 0.56293, 0.218798, 0.644558, 0.0701015,\n",
      "               (21,40): 0.60328, 0.747409, 0.234521, 0.316738, 0.955224,\n",
      "               (21,45): 0.202729, 0.0661707, 0.017883, 0.625584, 0.735156,\n",
      "               (22,0): 0.384036, 0.44552, 0.102921, 0.27716, 0.77525,\n",
      "               (22,5): 0.470295, 0.101733, 0.475846, 0.16023, 0.853996,\n",
      "               (22,10): 0.982868, 0.128123, 0.67678, 0.562214, 0.0921084,\n",
      "               (22,15): 0.383372, 0.241773, 0.354465, 0.413839, 0.005395,\n",
      "               (22,20): 0.490101, 0.669563, 0.955804, 0.767674, 0.272128,\n",
      "               (22,25): 0.407787, 0.486185, 0.223396, 0.742586, 0.523436,\n",
      "               (22,30): 0.253446, 0.689811, 0.911867, 0.894695, 0.195665,\n",
      "               (22,35): 0.114178, 0.993927, 0.43848, 0.606378, 0.049477,\n",
      "               (22,40): 0.45296, 0.109972, 0.424527, 0.0986159, 0.702494,\n",
      "               (22,45): 0.0484626, 0.579163, 0.123861, 0.249478, 0.0617828,\n",
      "               (23,0): 0.720916, 0.407236, 0.551681, 0.375008, 0.677442,\n",
      "               (23,5): 0.251373, 0.796747, 0.558509, 0.729014, 0.00533647,\n",
      "               (23,10): 0.665067, 0.95199, 0.47623, 0.573334, 0.798532,\n",
      "               (23,15): 0.304817, 0.712352, 0.547604, 0.539797, 0.1119,\n",
      "               (23,20): 0.708498, 0.884893, 0.184906, 0.284078, 0.773171,\n",
      "               (23,25): 0.285272, 0.00490433, 0.505467, 0.700355, 0.604811,\n",
      "               (23,30): 0.0615845, 0.793717, 0.263885, 0.371654, 0.307341,\n",
      "               (23,35): 0.216168, 0.0214269, 0.0980511, 0.804426, 0.408401,\n",
      "               (23,40): 0.520395, 0.942396, 0.36691, 0.594088, 0.977679,\n",
      "               (23,45): 0.64824, 0.547422, 0.687197, 0.0280284, 0.119578,\n",
      "               (24,0): 0.461041, 0.524702, 0.683922, 0.886945, 0.525094,\n",
      "               (24,5): 0.762844, 0.0784528, 0.375262, 0.634917, 0.359064,\n",
      "               (24,10): 0.236723, 0.871802, 0.280164, 0.620883, 0.300205,\n",
      "               (24,15): 0.969583, 0.527031, 0.668285, 0.0791599, 0.156583,\n",
      "               (24,20): 0.913643, 0.332078, 0.892177, 0.158511, 0.708154,\n",
      "               (24,25): 0.397046, 0.487602, 0.276893, 0.465552, 0.235242,\n",
      "               (24,30): 0.18522, 0.122828, 0.883995, 0.962348, 0.0963425,\n",
      "               (24,35): 0.183672, 0.929976, 0.0755379, 0.194751, 0.0751338,\n",
      "               (24,40): 0.635942, 0.424808, 0.112856, 0.844729, 0.177084,\n",
      "               (24,45): 0.203916, 0.575007, 0.991356, 0.669921, 0.206032,\n",
      "               (25,0): 0.836465, 0.692923, 0.00850984, 0.234161, 4.75078e-05,\n",
      "               (25,5): 0.884332, 0.95415, 0.621273, 0.901503, 0.0994714,\n",
      "               (25,10): 0.454701, 0.884025, 0.662767, 0.664313, 0.726598,\n",
      "               (25,15): 0.924778, 0.177121, 0.305695, 0.976262, 0.951089,\n",
      "               (25,20): 0.283604, 0.219974, 0.701461, 0.27337, 0.884139,\n",
      "               (25,25): 0.0162458, 0.584458, 0.930739, 0.527282, 0.748887,\n",
      "               (25,30): 0.418021, 0.237224, 0.445379, 0.141184, 0.348741,\n",
      "               (25,35): 0.295271, 0.481911, 0.37165, 0.266749, 0.130348,\n",
      "               (25,40): 0.839331, 0.228309, 0.419128, 0.853323, 0.646343,\n",
      "               (25,45): 0.447044, 0.527273, 0.239582, 0.90905, 0.913643,\n",
      "               (26,0): 0.946683, 0.775136, 0.967941, 0.955768, 0.668922,\n",
      "               (26,5): 0.623606, 0.284687, 0.770727, 0.0610063, 0.788099,\n",
      "               (26,10): 0.263745, 0.432589, 0.511723, 0.293249, 0.149348,\n",
      "               (26,15): 0.783963, 0.546189, 0.594989, 0.05889, 0.915308,\n",
      "               (26,20): 0.0833758, 0.869376, 0.128756, 0.735289, 0.749715,\n",
      "               (26,25): 0.208319, 0.812377, 0.276709, 0.105469, 0.0781078,\n",
      "               (26,30): 0.971523, 0.289936, 0.604268, 0.238432, 0.889267,\n",
      "               (26,35): 0.477505, 0.215274, 0.345509, 0.467918, 0.00909881,\n",
      "               (26,40): 0.245276, 0.63339, 0.815604, 0.379503, 0.611107,\n",
      "               (26,45): 0.660391, 0.883642, 0.558416, 0.554032, 0.523637,\n",
      "               (27,0): 0.85456, 0.370187, 0.111462, 0.1667, 0.597006,\n",
      "               (27,5): 0.630471, 0.469251, 0.633246, 0.886115, 0.788897,\n",
      "               (27,10): 0.444631, 0.323528, 0.953933, 0.120937, 0.770239,\n",
      "               (27,15): 0.21537, 0.747231, 0.00910453, 0.994345, 0.551223,\n",
      "               (27,20): 0.502657, 0.296148, 0.919423, 0.537125, 0.177698,\n",
      "               (27,25): 0.850963, 0.740378, 0.720098, 0.949261, 0.184887,\n",
      "               (27,30): 0.881444, 0.174305, 0.55426, 0.142231, 0.303221,\n",
      "               (27,35): 0.159098, 0.891534, 0.0971414, 0.116095, 0.789237,\n",
      "               (27,40): 0.53071, 0.941305, 0.174697, 0.751624, 0.40484,\n",
      "               (27,45): 0.332526, 0.0552097, 0.437042, 0.258955, 0.935229,\n",
      "               (28,0): 0.326232, 0.442274, 0.71815, 0.637751, 0.798414,\n",
      "               (28,5): 0.507649, 0.0111705, 0.191738, 0.371202, 0.967233,\n",
      "               (28,10): 0.0977875, 0.456951, 0.0660306, 0.802276, 0.452056,\n",
      "               (28,15): 0.734412, 0.68982, 0.958074, 0.713036, 0.230161,\n",
      "               (28,20): 0.437015, 0.410717, 0.855946, 0.933205, 0.847166,\n",
      "               (28,25): 0.184433, 0.0439841, 0.974838, 0.582282, 0.505528,\n",
      "               (28,30): 0.842701, 0.459201, 0.250001, 0.651216, 0.928729,\n",
      "               (28,35): 0.545132, 0.229607, 0.876892, 0.155263, 0.282338,\n",
      "               (28,40): 0.726682, 0.985431, 0.292807, 0.678993, 0.440938,\n",
      "               (28,45): 0.532021, 0.567497, 0.273198, 0.334548, 0.285125,\n",
      "               (29,0): 0.455921, 0.242319, 0.0796402, 0.751792, 0.745511,\n",
      "               (29,5): 0.875239, 0.151181, 0.48506, 0.895325, 0.752495,\n",
      "               (29,10): 0.424922, 0.653586, 0.852895, 0.446721, 0.403461,\n",
      "               (29,15): 0.750823, 0.844273, 0.543297, 0.847006, 0.813529,\n",
      "               (29,20): 0.150187, 0.610013, 0.0863253, 0.727306, 0.137743,\n",
      "               (29,25): 0.809866, 0.572118, 0.364114, 0.021963, 0.251379,\n",
      "               (29,30): 0.219091, 0.163634, 0.973728, 0.810092, 0.211138,\n",
      "               (29,35): 0.0278341, 0.0982102, 0.236686, 0.647263, 0.153873,\n",
      "               (29,40): 0.732619, 0.905122, 0.772603, 0.214763, 0.0453245,\n",
      "               (29,45): 0.68449, 0.568851, 0.530616, 0.593291, 0.928223,\n",
      "               (30,0): 0.353618, 0.594977, 0.536457, 0.0897589, 0.115041,\n",
      "               (30,5): 0.683578, 0.97877, 0.988392, 0.337056, 0.310334,\n",
      "               (30,10): 0.216511, 0.0295863, 0.795797, 0.743392, 0.0407277,\n",
      "               (30,15): 0.0154178, 0.829918, 0.734578, 0.213908, 0.714013,\n",
      "               (30,20): 0.0602087, 0.282754, 0.0602871, 0.963466, 0.96382,\n",
      "               (30,25): 0.547414, 0.722103, 0.827129, 0.559331, 0.899878,\n",
      "               (30,30): 0.211016, 0.444803, 0.838472, 0.908998, 0.0994454,\n",
      "               (30,35): 0.907358, 0.62115, 0.0725694, 0.837979, 0.792479,\n",
      "               (30,40): 0.368673, 0.94887, 0.117447, 0.0997524, 0.6316,\n",
      "               (30,45): 0.477181, 0.797439, 0.39826, 0.0708343, 0.808168,\n",
      "               (31,0): 0.11678, 0.376435, 0.691412, 0.76012, 0.869493,\n",
      "               (31,5): 0.17029, 0.406688, 0.744729, 0.199354, 0.895719,\n",
      "               (31,10): 0.262926, 0.0480814, 0.174384, 0.607548, 0.665575,\n",
      "               (31,15): 0.983138, 0.155944, 0.162431, 0.844544, 0.172452,\n",
      "               (31,20): 0.0504985, 0.398375, 0.874749, 0.587841, 0.862977,\n",
      "               (31,25): 0.0286623, 0.455043, 0.327123, 0.95275, 0.711121,\n",
      "               (31,30): 0.24263, 0.383266, 0.288019, 0.391117, 0.75276,\n",
      "               (31,35): 0.0920963, 0.790779, 0.636589, 0.326144, 0.670135,\n",
      "               (31,40): 0.625847, 0.628719, 0.0540971, 0.443894, 0.427668,\n",
      "               (31,45): 0.350841, 0.265974, 0.417792, 0.795424, 0.281862,\n",
      "               (32,0): 0.23946, 0.237019, 0.738371, 0.498677, 0.834171,\n",
      "               (32,5): 0.01499, 0.575453, 0.646293, 0.728698, 0.2055,\n",
      "               (32,10): 0.429638, 0.440528, 0.414528, 0.89138, 0.964252,\n",
      "               (32,15): 0.057495, 0.458049, 0.179757, 0.856108, 0.342964,\n",
      "               (32,20): 0.778731, 0.449919, 0.726989, 0.827104, 0.832439,\n",
      "               (32,25): 0.801838, 0.00679212, 0.222958, 0.346765, 0.373698,\n",
      "               (32,30): 0.559616, 0.103985, 0.220279, 0.707812, 0.799459,\n",
      "               (32,35): 0.40523, 0.572692, 0.467854, 0.43545, 0.518592,\n",
      "               (32,40): 0.249577, 0.706593, 0.434711, 0.403711, 0.824315,\n",
      "               (32,45): 0.787672, 0.329589, 0.0844721, 0.813607, 0.814641,\n",
      "               (33,0): 0.9176, 0.496872, 0.58952, 0.0324327, 0.585074,\n",
      "               (33,5): 0.313822, 0.817631, 0.473659, 0.612918, 0.487712,\n",
      "               (33,10): 0.848998, 0.765166, 0.846059, 0.550539, 0.718386,\n",
      "               (33,15): 0.375166, 0.856159, 0.858586, 0.324833, 0.389509,\n",
      "               (33,20): 0.0954103, 0.134643, 0.634404, 0.704186, 0.265098,\n",
      "               (33,25): 0.662441, 0.873142, 0.252808, 0.287562, 0.607514,\n",
      "               (33,30): 0.776648, 0.732993, 0.637506, 0.731155, 0.977214,\n",
      "               (33,35): 0.130968, 0.565999, 0.850116, 0.279456, 0.748457,\n",
      "               (33,40): 0.694827, 0.936881, 0.98693, 0.276951, 0.138358,\n",
      "               (33,45): 0.686312, 0.842544, 0.486473, 0.228957, 0.220479,\n",
      "               (34,0): 0.867604, 0.816807, 0.320093, 0.867163, 0.0317285,\n",
      "               (34,5): 0.893166, 0.164455, 0.47416, 0.726409, 0.57564,\n",
      "               (34,10): 0.817909, 0.795592, 0.265334, 0.998243, 0.912153,\n",
      "               (34,15): 0.965471, 0.223499, 0.204253, 0.133511, 0.649539,\n",
      "               (34,20): 0.4161, 0.807705, 0.173367, 0.981082, 0.566099,\n",
      "               (34,25): 0.180069, 0.130535, 0.635244, 0.472359, 0.916362,\n",
      "               (34,30): 0.29927, 0.0637881, 0.742438, 0.115396, 0.549684,\n",
      "               (34,35): 0.932175, 0.74398, 0.878938, 0.543392, 0.94564,\n",
      "               (34,40): 0.473638, 0.732698, 0.687025, 0.182514, 0.84747,\n",
      "               (34,45): 0.110372, 0.841367, 0.541563, 0.69452, 0.307996,\n",
      "               (35,0): 0.158218, 0.773631, 0.181367, 0.171332, 0.649516,\n",
      "               (35,5): 0.278674, 0.366087, 0.494211, 0.352177, 0.0837625,\n",
      "               (35,10): 0.615465, 0.153949, 0.625955, 0.438578, 0.312849,\n",
      "               (35,15): 0.907778, 0.399554, 0.665407, 0.94295, 0.856436,\n",
      "               (35,20): 0.158934, 0.277992, 0.885549, 0.833612, 0.242457,\n",
      "               (35,25): 0.0955288, 0.495394, 0.413821, 0.522313, 0.421367,\n",
      "               (35,30): 0.578994, 0.663252, 0.871416, 0.0730112, 0.0331195,\n",
      "               (35,35): 0.295067, 0.832035, 0.892097, 0.653162, 0.0743004,\n",
      "               (35,40): 0.149412, 0.781772, 0.567365, 0.89256, 0.761989,\n",
      "               (35,45): 0.0115336, 0.686103, 0.543196, 0.208753, 0.10514,\n",
      "               (36,0): 0.747747, 0.839051, 0.419992, 0.421988, 0.772842,\n",
      "               (36,5): 0.0816862, 0.316105, 0.944445, 0.848457, 0.802222,\n",
      "               (36,10): 0.0502081, 0.780651, 0.636873, 0.964871, 0.476032,\n",
      "               (36,15): 0.1872, 0.991786, 0.941967, 0.439669, 0.346621,\n",
      "               (36,20): 0.0707211, 0.282655, 0.965434, 0.612223, 0.980764,\n",
      "               (36,25): 0.977484, 0.650991, 0.464166, 0.272366, 0.513662,\n",
      "               (36,30): 0.549625, 0.105679, 0.827903, 0.515241, 0.842548,\n",
      "               (36,35): 0.883676, 0.349142, 0.762792, 0.220838, 0.0264618,\n",
      "               (36,40): 0.917447, 0.421039, 0.822674, 0.767826, 0.326966,\n",
      "               (36,45): 0.229743, 0.356632, 0.0229589, 0.975776, 0.62575,\n",
      "               (37,0): 0.700154, 0.264169, 0.915307, 0.814597, 0.300124,\n",
      "               (37,5): 0.730286, 0.242561, 0.0839332, 0.913629, 0.927711,\n",
      "               (37,10): 0.506198, 0.557584, 0.431345, 0.298165, 0.947218,\n",
      "               (37,15): 0.420713, 0.188687, 0.640791, 0.412664, 0.576163,\n",
      "               (37,20): 0.297848, 0.00616935, 0.7919, 0.93128, 0.730366,\n",
      "               (37,25): 0.11353, 0.457467, 0.62542, 0.0362336, 0.985994,\n",
      "               (37,30): 0.951084, 0.0634145, 0.845899, 0.820482, 0.998896,\n",
      "               (37,35): 0.030958, 0.767464, 0.765945, 0.591643, 0.747127,\n",
      "               (37,40): 0.450394, 0.326474, 0.253358, 0.603537, 0.992944,\n",
      "               (37,45): 0.00572854, 0.365331, 0.141279, 0.996311, 0.525101,\n",
      "               (38,0): 0.280137, 0.979641, 0.676303, 0.732902, 0.234789,\n",
      "               (38,5): 0.0146254, 0.331636, 0.908698, 0.0424867, 0.581241,\n",
      "               (38,10): 0.894002, 0.393333, 0.855106, 0.51722, 0.0107619,\n",
      "               (38,15): 0.815814, 0.607689, 0.906395, 0.314724, 0.150354,\n",
      "               (38,20): 0.201016, 0.679362, 0.159305, 0.438663, 0.430673,\n",
      "               (38,25): 0.753898, 0.601722, 0.0862528, 0.45849, 0.310219,\n",
      "               (38,30): 0.648614, 0.348092, 0.365487, 0.347984, 0.598907,\n",
      "               (38,35): 0.414903, 0.454412, 0.768853, 0.757093, 0.51721,\n",
      "               (38,40): 0.0775519, 0.914666, 0.494774, 0.0889143, 0.933439,\n",
      "               (38,45): 0.740323, 0.853615, 0.382077, 0.283133, 0.435073,\n",
      "               (39,0): 0.187765, 0.756411, 0.748856, 0.425858, 0.661166,\n",
      "               (39,5): 0.691653, 0.699597, 0.41612, 0.162362, 0.177312,\n",
      "               (39,10): 0.00078596, 0.480204, 0.122723, 0.716735, 0.766013,\n",
      "               (39,15): 0.518131, 0.753479, 0.910762, 0.878408, 0.819423,\n",
      "               (39,20): 0.768151, 0.441134, 0.646908, 0.000525768, 0.0493452,\n",
      "               (39,25): 0.232708, 0.00532048, 0.471415, 0.453474, 0.549252,\n",
      "               (39,30): 0.989766, 0.965774, 0.573044, 0.0449582, 0.0978785,\n",
      "               (39,35): 0.0451797, 0.738029, 0.0721538, 0.66273, 0.420885,\n",
      "               (39,40): 0.78951, 0.985341, 0.119228, 0.35145, 0.304995,\n",
      "               (39,45): 0.162721, 0.25992, 0.487742, 0.0399353, 0.742661,\n",
      "               (40,0): 0.0405912, 0.0170485, 0.62579, 0.930692, 0.157386,\n",
      "               (40,5): 0.187151, 0.718652, 0.558759, 0.097457, 0.451961,\n",
      "               (40,10): 0.0571873, 0.598429, 0.54008, 0.127096, 0.761146,\n",
      "               (40,15): 0.81089, 0.593276, 0.99495, 0.884124, 0.820718,\n",
      "               (40,20): 0.625519, 0.626387, 0.386285, 0.421526, 0.206145,\n",
      "               (40,25): 0.269615, 0.706673, 0.864906, 0.44601, 0.232144,\n",
      "               (40,30): 0.159509, 0.580509, 0.220342, 0.68504, 0.53174,\n",
      "               (40,35): 0.279038, 0.743477, 0.404142, 0.428074, 0.842222,\n",
      "               (40,40): 0.458426, 0.118309, 0.855901, 0.17864, 0.772394,\n",
      "               (40,45): 0.0685556, 0.895462, 0.992227, 0.625459, 0.78938,\n",
      "               (41,0): 0.956959, 0.580673, 0.525921, 0.745045, 0.766283,\n",
      "               (41,5): 0.24141, 0.173694, 0.683189, 0.0593094, 0.561885,\n",
      "               (41,10): 0.0209615, 0.838877, 0.343685, 0.862126, 0.236934,\n",
      "               (41,15): 0.909228, 0.920137, 0.912118, 0.910208, 0.0440499,\n",
      "               (41,20): 0.800397, 0.0726418, 0.465023, 0.0079878, 0.644416,\n",
      "               (41,25): 0.980475, 0.830978, 0.279836, 0.60262, 0.232525,\n",
      "               (41,30): 0.0519899, 0.181746, 0.936523, 0.216222, 0.241004,\n",
      "               (41,35): 0.350596, 0.987021, 0.535628, 0.0757869, 0.575537,\n",
      "               (41,40): 0.242009, 0.17981, 0.814067, 0.014564, 0.136462,\n",
      "               (41,45): 0.571623, 0.0308285, 0.473178, 0.735918, 0.643204,\n",
      "               (42,0): 0.111415, 0.740029, 0.9135, 0.220169, 0.190016,\n",
      "               (42,5): 0.946011, 0.984616, 0.14767, 0.201473, 0.130668,\n",
      "               (42,10): 0.649246, 0.15618, 0.35648, 0.368439, 0.664985,\n",
      "               (42,15): 0.186708, 0.908002, 0.946331, 0.0704976, 0.637522,\n",
      "               (42,20): 0.793627, 0.475942, 0.452775, 0.959938, 0.498431,\n",
      "               (42,25): 0.18231, 0.0539725, 0.482057, 0.236133, 0.0502914,\n",
      "               (42,30): 0.598201, 0.294196, 0.377811, 0.898772, 0.951608,\n",
      "               (42,35): 0.803789, 0.862974, 0.714314, 0.765123, 0.107627,\n",
      "               (42,40): 0.51741, 0.638505, 0.0186336, 0.21499, 0.608951,\n",
      "               (42,45): 0.526342, 0.00163476, 0.959112, 0.0927125, 0.323408,\n",
      "               (43,0): 0.911476, 0.078554, 0.27792, 0.861799, 0.265219,\n",
      "               (43,5): 0.425351, 0.558527, 0.0590238, 0.177864, 0.591547,\n",
      "               (43,10): 0.843475, 0.776464, 0.868555, 0.59116, 0.744034,\n",
      "               (43,15): 0.760617, 0.373928, 0.997504, 0.15847, 0.992884,\n",
      "               (43,20): 0.914794, 0.469695, 0.932789, 0.958401, 0.945133,\n",
      "               (43,25): 0.890611, 0.754873, 0.568653, 0.0663802, 0.324075,\n",
      "               (43,30): 0.821374, 0.0825677, 0.821408, 0.983944, 0.460378,\n",
      "               (43,35): 0.412309, 0.96664, 0.891314, 0.236161, 0.52504,\n",
      "               (43,40): 0.956599, 0.29688, 0.0828699, 0.747013, 0.344142,\n",
      "               (43,45): 0.0149361, 0.282967, 0.00648837, 0.911531, 0.672348,\n",
      "               (44,0): 0.427985, 0.357737, 0.492897, 0.613639, 0.898601,\n",
      "               (44,5): 0.669577, 0.893896, 0.13849, 0.410175, 0.329082,\n",
      "               (44,10): 0.724977, 0.159855, 0.964161, 0.710586, 0.58414,\n",
      "               (44,15): 0.588347, 0.547111, 0.39248, 0.945925, 0.0195008,\n",
      "               (44,20): 0.401739, 0.201249, 0.550406, 0.218714, 0.45893,\n",
      "               (44,25): 0.692785, 0.951569, 0.712797, 0.334878, 0.574698,\n",
      "               (44,30): 0.308876, 0.376691, 0.798132, 0.0605328, 0.669755,\n",
      "               (44,35): 0.62681, 0.720647, 0.201311, 0.74067, 0.589543,\n",
      "               (44,40): 0.831023, 0.0769448, 0.441904, 0.00160431, 0.870745,\n",
      "               (44,45): 0.987706, 0.100177, 0.0211267, 0.541196, 0.900397,\n",
      "               (45,0): 0.500149, 0.436917, 0.867035, 0.220114, 0.734113,\n",
      "               (45,5): 0.721791, 0.318601, 0.522559, 0.916274, 0.260992,\n",
      "               (45,10): 0.794163, 0.00314875, 0.222073, 0.00232981, 0.834998,\n",
      "               (45,15): 0.521356, 0.165915, 0.54321, 0.513008, 0.09956,\n",
      "               (45,20): 0.231319, 0.214685, 0.532177, 0.914361, 0.0971385,\n",
      "               (45,25): 0.90779, 0.540496, 0.762082, 0.201675, 0.749427,\n",
      "               (45,30): 0.639091, 0.304475, 0.5085, 0.928637, 0.910364,\n",
      "               (45,35): 0.877336, 0.000652599, 0.490612, 0.396788, 0.866338,\n",
      "               (45,40): 0.147192, 0.847813, 0.201206, 0.124212, 0.994548,\n",
      "               (45,45): 0.749271, 0.883363, 0.542084, 0.96065, 0.398617,\n",
      "               (46,0): 0.655308, 0.627432, 0.131601, 0.84077, 0.110444,\n",
      "               (46,5): 0.324918, 0.337591, 0.140232, 0.422251, 0.67573,\n",
      "               (46,10): 0.556235, 0.0148874, 0.368909, 0.179627, 0.615741,\n",
      "               (46,15): 0.0557422, 0.121656, 0.882778, 0.884466, 0.177531,\n",
      "               (46,20): 0.780322, 0.0470291, 0.305578, 0.840447, 0.218645,\n",
      "               (46,25): 0.784257, 0.797142, 0.855503, 0.175889, 0.641506,\n",
      "               (46,30): 0.667629, 0.376719, 0.207662, 0.826157, 0.582157,\n",
      "               (46,35): 0.618789, 0.114996, 0.0409832, 0.585469, 0.376165,\n",
      "               (46,40): 0.159221, 0.991932, 0.721626, 0.071107, 0.52604,\n",
      "               (46,45): 0.622668, 0.459218, 0.0754491, 0.411657, 0.668153,\n",
      "               (47,0): 0.847592, 0.217115, 0.713021, 0.449864, 0.079839,\n",
      "               (47,5): 0.920049, 0.994411, 0.5591, 0.492422, 0.043761,\n",
      "               (47,10): 0.0929546, 0.13318, 0.496958, 0.37432, 0.619599,\n",
      "               (47,15): 0.738746, 0.253963, 0.31574, 0.635057, 0.663432,\n",
      "               (47,20): 0.940148, 0.328655, 0.289128, 0.076519, 0.460947,\n",
      "               (47,25): 0.0655952, 0.390901, 0.765068, 0.923472, 0.98766,\n",
      "               (47,30): 0.792043, 0.37042, 0.459339, 0.665908, 0.101253,\n",
      "               (47,35): 0.214566, 0.0131013, 0.469583, 0.640089, 0.353159,\n",
      "               (47,40): 0.18594, 0.996216, 0.702908, 0.13701, 0.933949,\n",
      "               (47,45): 0.750372, 0.119193, 0.465822, 0.489023, 0.595604,\n",
      "               (48,0): 0.929677, 0.122785, 0.625697, 0.139622, 0.549597,\n",
      "               (48,5): 0.418119, 0.868214, 0.840384, 0.235787, 0.213981,\n",
      "               (48,10): 0.657055, 0.512436, 0.720325, 0.161986, 0.583641,\n",
      "               (48,15): 0.628621, 0.49141, 0.330222, 0.533353, 0.518651,\n",
      "               (48,20): 0.762856, 0.781321, 0.0243464, 0.648727, 0.54382,\n",
      "               (48,25): 0.14494, 0.595711, 0.17276, 0.696519, 0.649393,\n",
      "               (48,30): 0.563773, 0.68817, 0.139573, 0.142565, 0.550859,\n",
      "               (48,35): 0.5579, 0.234345, 0.829442, 0.0690393, 0.649073,\n",
      "               (48,40): 0.572678, 0.755289, 0.96859, 0.891523, 0.750796,\n",
      "               (48,45): 0.785233, 0.734617, 0.00894054, 0.130758, 0.511245,\n",
      "               (49,0): 0.370535, 0.90969, 0.395905, 0.00136036, 0.963828,\n",
      "               (49,5): 0.0653765, 0.457937, 0.745507, 0.795137, 0.198405,\n",
      "               (49,10): 0.974476, 0.945239, 0.983905, 0.89543, 0.832514,\n",
      "               (49,15): 0.606354, 0.263771, 0.0648436, 0.60235, 0.867619,\n",
      "               (49,20): 0.377168, 0.0236485, 0.0610911, 0.811874, 0.732221,\n",
      "               (49,25): 0.889281, 0.371072, 0.525422, 0.434629, 0.630325,\n",
      "               (49,30): 0.819571, 0.863056, 0.751143, 0.893249, 0.198818,\n",
      "               (49,35): 0.956788, 0.20199, 0.894152, 0.616845, 0.596192,\n",
      "               (49,40): 0.743637, 0.218683, 0.718506, 0.0928052, 0.40224,\n",
      "               (49,45): 0.45847, 0.634073, 0.975626, 0.332322, 0.216293,\n",
      "               (50,0): 0.915129, 0.459608, 0.749847, 0.326073, 0.725788,\n",
      "               (50,5): 0.576815, 0.819502, 0.308524, 0.677227, 0.674186,\n",
      "               (50,10): 0.268123, 0.642989, 0.785606, 0.498604, 0.971927,\n",
      "               (50,15): 0.655629, 0.407329, 0.331846, 0.621167, 0.976549,\n",
      "               (50,20): 0.0571274, 0.892917, 0.0860561, 0.125727, 0.726813,\n",
      "               (50,25): 0.508197, 0.24519, 0.243735, 0.650167, 0.960818,\n",
      "               (50,30): 0.618561, 0.433217, 0.530936, 0.869342, 0.129713,\n",
      "               (50,35): 0.604787, 0.384914, 0.359606, 0.0623203, 0.424293,\n",
      "               (50,40): 0.464209, 0.164157, 0.670781, 0.388759, 0.209475,\n",
      "               (50,45): 0.671611, 0.257248, 0.313476, 0.141584, 0.0955887,\n",
      "               (51,0): 0.175618, 0.909648, 0.312818, 0.823236, 0.540213,\n",
      "               (51,5): 0.309661, 0.69276, 0.779177, 0.986576, 0.541144,\n",
      "               (51,10): 0.0566757, 0.99352, 0.163321, 0.437558, 0.330847,\n",
      "               (51,15): 0.622758, 0.889377, 0.579814, 0.00984213, 0.704733,\n",
      "               (51,20): 0.337089, 0.638699, 0.984671, 0.341134, 0.884187,\n",
      "               (51,25): 0.626643, 0.113617, 0.654554, 0.866637, 0.235513,\n",
      "               (51,30): 0.291103, 0.123455, 0.0359331, 0.656595, 0.266795,\n",
      "               (51,35): 0.871613, 0.384648, 0.535499, 0.310704, 0.426198,\n",
      "               (51,40): 0.633251, 0.940804, 0.234706, 0.191476, 0.852794,\n",
      "               (51,45): 0.171293, 0.869491, 0.466821, 0.970257, 0.511013,\n",
      "               (52,0): 0.0437796, 0.945211, 0.765782, 0.835003, 0.0631833,\n",
      "               (52,5): 0.416723, 0.510751, 0.803321, 0.388774, 0.89952,\n",
      "               (52,10): 0.774965, 0.959078, 0.483152, 0.0273225, 0.513061,\n",
      "               (52,15): 0.543952, 0.109471, 0.219575, 0.709043, 0.781183,\n",
      "               (52,20): 0.292262, 0.588398, 0.770565, 0.369337, 0.334978,\n",
      "               (52,25): 0.850205, 0.771805, 0.502244, 0.947333, 0.0863103,\n",
      "               (52,30): 0.504662, 0.0898982, 0.788448, 0.244252, 0.265831,\n",
      "               (52,35): 0.413532, 0.215266, 0.783152, 0.328206, 0.19075,\n",
      "               (52,40): 0.193294, 0.794515, 0.407063, 0.49489, 0.819214,\n",
      "               (52,45): 0.917857, 0.041725, 0.00866819, 0.785343, 0.0304927,\n",
      "               (53,0): 0.937981, 0.187063, 0.277019, 0.815528, 0.895248,\n",
      "               (53,5): 0.00482081, 0.870876, 0.162281, 0.0133877, 0.377979,\n",
      "               (53,10): 0.0613296, 0.403914, 0.360239, 0.842223, 0.327424,\n",
      "               (53,15): 0.369054, 0.967102, 0.390909, 0.280083, 0.145748,\n",
      "               (53,20): 0.845637, 0.984356, 0.828952, 0.960168, 0.900927,\n",
      "               (53,25): 0.224231, 0.095293, 0.242995, 0.98379, 0.309422,\n",
      "               (53,30): 0.516115, 0.915235, 0.975286, 0.765506, 0.302236,\n",
      "               (53,35): 0.268032, 0.261737, 0.380625, 0.243469, 0.143582,\n",
      "               (53,40): 0.486796, 0.789374, 0.0330915, 0.486787, 0.512113,\n",
      "               (53,45): 0.00272801, 0.888845, 0.119863, 0.448117, 0.990799,\n",
      "               (54,0): 0.131056, 0.851969, 0.298369, 0.814697, 0.133679,\n",
      "               (54,5): 0.987093, 0.672232, 0.738895, 0.835972, 0.0135747,\n",
      "               (54,10): 0.0216094, 0.748928, 0.493788, 0.651607, 0.756172,\n",
      "               (54,15): 0.175951, 0.251414, 0.695259, 0.271254, 0.724713,\n",
      "               (54,20): 0.383741, 0.715925, 0.285568, 0.814732, 0.943526,\n",
      "               (54,25): 0.532686, 0.657564, 0.0614193, 0.140057, 0.699995,\n",
      "               (54,30): 0.730785, 0.283007, 0.0687349, 0.67163, 0.640596,\n",
      "               (54,35): 0.838453, 0.476389, 0.0141475, 0.340516, 0.94901,\n",
      "               (54,40): 0.640657, 0.970572, 0.966422, 0.148757, 0.544399,\n",
      "               (54,45): 0.793447, 0.0887612, 0.118404, 0.297729, 0.776592,\n",
      "               (55,0): 0.967565, 0.474172, 0.0949478, 0.282874, 0.219436,\n",
      "               (55,5): 0.363055, 0.293792, 0.195116, 0.326607, 0.909551,\n",
      "               (55,10): 0.647701, 0.973655, 0.522656, 0.666783, 0.373941,\n",
      "               (55,15): 0.259775, 0.0602392, 0.734426, 0.0136485, 0.207758,\n",
      "               (55,20): 0.199576, 0.613756, 0.359466, 0.511289, 0.869763,\n",
      "               (55,25): 0.844856, 0.093269, 0.454828, 0.531915, 0.144791,\n",
      "               (55,30): 0.91802, 0.831675, 0.664566, 0.393063, 0.581542,\n",
      "               (55,35): 0.278058, 0.900748, 0.0718972, 0.500183, 0.259247,\n",
      "               (55,40): 0.721923, 0.594703, 0.368447, 0.234576, 0.284312,\n",
      "               (55,45): 0.908836, 0.301854, 0.551458, 0.017073, 0.273555,\n",
      "               (56,0): 0.493253, 0.954351, 0.660948, 0.16005, 0.543015,\n",
      "               (56,5): 0.712949, 0.416488, 0.989606, 0.853227, 0.311234,\n",
      "               (56,10): 0.990795, 0.0892208, 0.53624, 0.906559, 0.535537,\n",
      "               (56,15): 0.446142, 0.695758, 0.745713, 0.169144, 0.653486,\n",
      "               (56,20): 0.33645, 0.611004, 0.440903, 0.0769516, 0.79532,\n",
      "               (56,25): 0.370584, 0.232073, 0.799358, 0.399547, 0.897858,\n",
      "               (56,30): 0.825945, 0.321621, 0.335871, 0.89679, 0.524562,\n",
      "               (56,35): 0.355067, 0.375845, 0.529927, 0.87768, 0.771258,\n",
      "               (56,40): 0.811001, 0.24603, 0.0459688, 0.978377, 0.782428,\n",
      "               (56,45): 0.905397, 0.246342, 0.32061, 0.946247, 0.930283,\n",
      "               (57,0): 0.950298, 0.65755, 0.154552, 0.95116, 0.40255,\n",
      "               (57,5): 0.849399, 0.549984, 0.779858, 0.163611, 0.616708,\n",
      "               (57,10): 0.342946, 0.941696, 0.350848, 0.129667, 0.402089,\n",
      "               (57,15): 0.271396, 0.0175725, 0.484569, 0.0835834, 0.0399595,\n",
      "               (57,20): 0.9731, 0.553937, 0.825606, 0.08344, 0.685819,\n",
      "               (57,25): 0.233977, 0.944763, 0.757038, 0.0651214, 0.616188,\n",
      "               (57,30): 0.720515, 0.504713, 0.180399, 0.25846, 0.496777,\n",
      "               (57,35): 0.68479, 0.644767, 0.53651, 0.745073, 0.366915,\n",
      "               (57,40): 0.480044, 0.380275, 0.358219, 0.02601, 0.0739155,\n",
      "               (57,45): 0.78635, 0.638446, 0.336919, 0.705045, 0.302816,\n",
      "               (58,0): 0.565933, 0.0296729, 0.88155, 0.610693, 0.884393,\n",
      "               (58,5): 0.348446, 0.774879, 0.856047, 0.584169, 0.10907,\n",
      "               (58,10): 0.114253, 0.00923028, 0.362401, 0.270782, 0.791623,\n",
      "               (58,15): 0.596747, 0.841934, 0.362794, 0.547568, 0.105499,\n",
      "               (58,20): 0.893786, 0.699926, 0.0546784, 0.372257, 0.498483,\n",
      "               (58,25): 0.453208, 0.31774, 0.437705, 0.674723, 0.664564,\n",
      "               (58,30): 0.869215, 0.302516, 0.861457, 0.671687, 0.86673,\n",
      "               (58,35): 0.789507, 0.0876082, 0.350501, 0.104898, 0.287178,\n",
      "               (58,40): 0.6065, 0.481305, 0.98137, 0.671949, 0.406057,\n",
      "               (58,45): 0.258285, 0.374177, 0.0315251, 0.949444, 0.274652,\n",
      "               (59,0): 0.85993, 0.800929, 0.616895, 0.53783, 0.992213,\n",
      "               (59,5): 0.344488, 0.0324511, 0.0192321, 0.394131, 0.446569,\n",
      "               (59,10): 0.555349, 0.836353, 0.612988, 0.780571, 0.0516766,\n",
      "               (59,15): 0.866217, 0.0528979, 0.159074, 0.294305, 0.540569,\n",
      "               (59,20): 0.172968, 0.710436, 0.529576, 0.115372, 0.0481876,\n",
      "               (59,25): 0.593933, 0.805885, 0.379385, 0.509936, 0.360318,\n",
      "               (59,30): 0.234919, 0.182616, 0.503077, 0.295781, 0.527554,\n",
      "               (59,35): 0.548616, 0.992016, 0.967356, 0.381997, 0.805636,\n",
      "               (59,40): 0.993596, 0.713779, 0.556396, 0.345526, 0.672973,\n",
      "               (59,45): 0.244266, 0.272615, 0.826804, 0.0123077, 0.46342,\n",
      "               (60,0): 0.0713432, 0.904498, 0.264758, 0.145156, 0.430662,\n",
      "               (60,5): 0.0605159, 0.132329, 0.322111, 0.314235, 0.109123,\n",
      "               (60,10): 0.131885, 0.164469, 0.591455, 0.0536423, 0.508736,\n",
      "               (60,15): 0.518319, 0.193108, 0.960102, 0.0559368, 0.529979,\n",
      "               (60,20): 0.500517, 0.987181, 0.976759, 0.436967, 0.485895,\n",
      "               (60,25): 0.413462, 0.546118, 0.064783, 0.90755, 0.894577,\n",
      "               (60,30): 0.0976529, 0.158009, 0.327072, 0.426438, 0.213062,\n",
      "               (60,35): 0.398029, 0.098116, 0.0711209, 0.895699, 0.910516,\n",
      "               (60,40): 0.768781, 0.667726, 0.778081, 0.861379, 0.317841,\n",
      "               (60,45): 0.611475, 0.987393, 0.164935, 0.811924, 0.676984,\n",
      "               (61,0): 0.590876, 0.841078, 0.360423, 0.150177, 0.722093,\n",
      "               (61,5): 0.884576, 0.378169, 0.668529, 0.452139, 0.385471,\n",
      "               (61,10): 0.328609, 0.0230504, 0.889259, 0.480583, 0.422341,\n",
      "               (61,15): 0.0475001, 0.69941, 0.453151, 0.668277, 0.148462,\n",
      "               (61,20): 0.397602, 0.620047, 0.313096, 0.339471, 0.841436,\n",
      "               (61,25): 0.257495, 0.560568, 0.975105, 0.0914647, 0.386435,\n",
      "               (61,30): 0.528886, 0.177519, 0.574631, 0.649992, 0.788766,\n",
      "               (61,35): 0.0713032, 0.925074, 0.0422393, 0.779145, 0.253642,\n",
      "               (61,40): 0.130248, 0.250083, 0.64917, 0.148082, 0.878684,\n",
      "               (61,45): 0.929988, 0.0437663, 0.039692, 0.850584, 0.0775716,\n",
      "               (62,0): 0.774856, 0.232522, 0.633533, 0.506664, 0.0594957,\n",
      "               (62,5): 0.521711, 0.866799, 0.140937, 0.984348, 0.497351,\n",
      "               (62,10): 0.0508532, 0.495776, 0.901265, 0.589788, 0.773355,\n",
      "               (62,15): 0.788718, 0.404179, 0.0714715, 0.802979, 0.648742,\n",
      "               (62,20): 0.0620185, 0.160003, 0.445976, 0.648438, 0.730546,\n",
      "               (62,25): 0.355447, 0.156251, 0.516532, 0.10507, 0.202355,\n",
      "               (62,30): 0.767096, 0.570704, 0.632144, 0.444809, 0.44339,\n",
      "               (62,35): 0.0764034, 0.0384657, 0.386062, 0.213461, 0.378662,\n",
      "               (62,40): 0.811099, 0.96371, 0.796194, 0.230414, 0.232408,\n",
      "               (62,45): 0.27383, 0.618163, 0.0687387, 0.633329, 0.169556,\n",
      "               (63,0): 0.477377, 0.188755, 0.766057, 0.252816, 0.750393,\n",
      "               (63,5): 0.183, 0.908867, 0.629987, 0.802575, 0.626183,\n",
      "               (63,10): 0.00209059, 0.823117, 0.0982761, 0.517548, 0.328872,\n",
      "               (63,15): 0.610038, 0.0467294, 0.242092, 0.114379, 0.855838,\n",
      "               (63,20): 0.256276, 0.221972, 0.99275, 0.220574, 0.548578,\n",
      "               (63,25): 0.156503, 0.811943, 0.827572, 0.494661, 0.730892,\n",
      "               (63,30): 0.094861, 0.942459, 0.263764, 0.013102, 0.0376395,\n",
      "               (63,35): 0.0759776, 0.806398, 0.991311, 0.43138, 0.839094,\n",
      "               (63,40): 0.308599, 0.983354, 0.716835, 0.335406, 0.805242,\n",
      "               (63,45): 0.712826, 0.989334, 0.577692, 0.945039, 0.950614,\n",
      "               (64,0): 0.736767, 0.554085, 0.724588, 0.583272, 0.64984,\n",
      "               (64,5): 0.0618651, 0.275359, 0.091626, 0.0631438, 0.032364,\n",
      "               (64,10): 0.32538, 0.670896, 0.573594, 0.565677, 0.141895,\n",
      "               (64,15): 0.0668054, 0.316265, 0.0630853, 0.247535, 0.864492,\n",
      "               (64,20): 0.842269, 0.452724, 0.952963, 0.896179, 0.0436712,\n",
      "               (64,25): 0.714931, 0.959564, 0.521089, 0.172967, 0.235325,\n",
      "               (64,30): 0.00795266, 0.280121, 0.704871, 0.866207, 0.41791,\n",
      "               (64,35): 0.605739, 0.149187, 0.685053, 0.237155, 0.68208,\n",
      "               (64,40): 0.571191, 0.831688, 0.908274, 0.175182, 0.678023,\n",
      "               (64,45): 0.882978, 0.601384, 0.547746, 0.121984, 0.0312403,\n",
      "               (65,0): 0.768154, 0.19191, 0.0250171, 0.951914, 0.593202,\n",
      "               (65,5): 0.41009, 0.926777, 0.0453771, 0.144873, 0.0689698,\n",
      "               (65,10): 0.246212, 0.321468, 0.557231, 0.889449, 0.554361,\n",
      "               (65,15): 0.138034, 0.91517, 0.375717, 0.14055, 0.0678657,\n",
      "               (65,20): 0.448528, 0.7503, 0.129204, 0.150473, 0.812066,\n",
      "               (65,25): 0.305157, 0.274832, 0.111834, 0.234461, 0.237004,\n",
      "               (65,30): 0.997968, 0.492522, 0.586538, 0.405791, 0.4261,\n",
      "               (65,35): 0.624527, 0.652834, 0.243255, 0.602787, 0.520941,\n",
      "               (65,40): 0.191018, 0.396539, 0.962635, 0.163384, 0.653735,\n",
      "               (65,45): 0.329278, 0.344808, 0.843748, 0.576984, 0.294308,\n",
      "               (66,0): 0.887025, 0.136669, 0.0714338, 0.0479929, 0.959694,\n",
      "               (66,5): 0.414581, 0.211039, 0.318922, 0.788347, 0.561742,\n",
      "               (66,10): 0.949, 0.25397, 0.991718, 0.991296, 0.555124,\n",
      "               (66,15): 0.840145, 0.145408, 0.527645, 0.262421, 0.172213,\n",
      "               (66,20): 0.720098, 0.597105, 0.220843, 0.122164, 0.223262,\n",
      "               (66,25): 0.588883, 0.277803, 0.925625, 0.104444, 0.310644,\n",
      "               (66,30): 0.861586, 0.460454, 0.592426, 0.824697, 0.969202,\n",
      "               (66,35): 0.114458, 0.54068, 0.0982163, 0.992994, 0.337788,\n",
      "               (66,40): 0.319885, 0.313451, 0.0369484, 0.538514, 0.792168,\n",
      "               (66,45): 0.206259, 0.899852, 0.00832024, 0.0153575, 0.948514,\n",
      "               (67,0): 0.896158, 0.0807615, 0.818673, 0.767262, 0.631152,\n",
      "               (67,5): 0.223832, 0.952542, 0.309579, 0.145872, 0.0923455,\n",
      "               (67,10): 0.17874, 0.132335, 0.182624, 0.905117, 0.999993,\n",
      "               (67,15): 0.671102, 0.360384, 0.0590968, 0.200063, 0.964443,\n",
      "               (67,20): 0.599113, 0.27743, 0.31588, 0.286831, 0.890837,\n",
      "               (67,25): 0.596509, 0.714324, 0.733511, 0.88753, 0.397444,\n",
      "               (67,30): 0.606234, 0.586814, 0.0606511, 0.407667, 0.95887,\n",
      "               (67,35): 0.0516451, 0.980076, 0.175636, 0.0175136, 0.362368,\n",
      "               (67,40): 0.625204, 0.900711, 0.355269, 0.193714, 0.577878,\n",
      "               (67,45): 0.482129, 0.890805, 0.283842, 0.78168, 0.643429,\n",
      "               (68,0): 0.399276, 0.00386234, 0.0436124, 0.644886, 0.313276,\n",
      "               (68,5): 0.720995, 0.131725, 0.396804, 0.592484, 0.824595,\n",
      "               (68,10): 0.551994, 0.986998, 0.364903, 0.788622, 0.257808,\n",
      "               (68,15): 0.142568, 0.00131039, 0.234546, 0.640993, 0.816074,\n",
      "               (68,20): 0.45153, 0.418668, 0.676508, 0.210019, 0.798583,\n",
      "               (68,25): 0.824012, 0.869563, 0.308362, 0.490861, 0.0392574,\n",
      "               (68,30): 0.144593, 0.380288, 0.588387, 0.232731, 0.58528,\n",
      "               (68,35): 0.270102, 0.693374, 0.672768, 0.865885, 0.723553,\n",
      "               (68,40): 0.771236, 0.758439, 0.143678, 0.789775, 0.89214,\n",
      "               (68,45): 0.065803, 0.550839, 0.850639, 0.0114073, 0.535064,\n",
      "               (69,0): 0.363211, 0.235122, 0.555205, 0.970543, 0.686492,\n",
      "               (69,5): 0.0592795, 0.928858, 0.790497, 0.633709, 0.226391,\n",
      "               (69,10): 0.428696, 0.66317, 0.244519, 0.937885, 0.398246,\n",
      "               (69,15): 0.775478, 0.963328, 0.94859, 0.606531, 0.0407765,\n",
      "               (69,20): 0.266173, 0.138036, 0.787226, 0.145341, 0.108633,\n",
      "               (69,25): 0.449572, 0.7125, 0.942339, 0.902422, 0.136387,\n",
      "               (69,30): 0.470881, 0.227, 0.590544, 0.123123, 0.565205,\n",
      "               (69,35): 0.794475, 0.825035, 0.158182, 0.368049, 0.610386,\n",
      "               (69,40): 0.0235171, 0.96818, 0.887126, 0.338976, 0.911057,\n",
      "               (69,45): 0.0470619, 0.511583, 0.852973, 0.0284413, 0.638912,\n",
      "               (70,0): 0.687568, 0.855114, 0.364087, 0.345654, 0.820735,\n",
      "               (70,5): 0.385912, 0.304788, 0.678431, 0.747178, 0.905043,\n",
      "               (70,10): 0.683367, 0.715714, 0.695637, 0.303846, 0.130933,\n",
      "               (70,15): 0.49488, 0.371752, 0.713546, 0.049691, 0.848861,\n",
      "               (70,20): 0.000627039, 0.370012, 0.669868, 0.468135, 0.339764,\n",
      "               (70,25): 0.305139, 0.33365, 0.0599757, 0.88517, 0.750181,\n",
      "               (70,30): 0.0817893, 0.449869, 0.837174, 0.74359, 0.384404,\n",
      "               (70,35): 0.161895, 0.498772, 0.488021, 0.0521923, 0.46662,\n",
      "               (70,40): 0.806753, 0.822313, 0.0803713, 0.690942, 0.869616,\n",
      "               (70,45): 0.837482, 0.915425, 0.310109, 0.0804198, 0.0381883,\n",
      "               (71,0): 0.747899, 0.520514, 0.740309, 0.945569, 0.989585,\n",
      "               (71,5): 0.138359, 0.711118, 0.516189, 0.905959, 0.78598,\n",
      "               (71,10): 0.282924, 0.722928, 0.451923, 0.274301, 0.919822,\n",
      "               (71,15): 0.891847, 0.230746, 0.497656, 0.305393, 0.94603,\n",
      "               (71,20): 0.377146, 0.612195, 0.851904, 0.561247, 0.163413,\n",
      "               (71,25): 0.0705354, 0.696633, 0.0557334, 0.638842, 0.973678,\n",
      "               (71,30): 0.541947, 0.0284752, 0.353333, 0.596811, 0.414181,\n",
      "               (71,35): 0.653788, 0.485745, 0.666602, 0.44551, 0.537116,\n",
      "               (71,40): 0.30952, 0.496518, 0.513167, 0.188594, 0.0698547,\n",
      "               (71,45): 0.206365, 0.565132, 0.938156, 0.861213, 0.612933,\n",
      "               (72,0): 0.645568, 0.187376, 0.348412, 0.527073, 0.450308,\n",
      "               (72,5): 0.639936, 0.948099, 0.739651, 0.0338519, 0.221644,\n",
      "               (72,10): 0.220867, 0.107884, 0.918276, 0.845619, 0.906785,\n",
      "               (72,15): 0.849141, 0.458957, 0.612476, 0.476542, 0.601524,\n",
      "               (72,20): 0.816228, 0.349511, 0.199328, 0.720116, 0.502122,\n",
      "               (72,25): 0.0133594, 0.862648, 0.925735, 0.481078, 0.171222,\n",
      "               (72,30): 0.322203, 0.42747, 0.0846614, 0.773507, 0.287457,\n",
      "               (72,35): 0.858816, 0.704008, 0.876266, 0.29159, 0.619397,\n",
      "               (72,40): 0.461163, 0.614818, 0.713346, 0.600147, 0.994915,\n",
      "               (72,45): 0.750651, 0.0459755, 0.952322, 0.790918, 0.54223,\n",
      "               (73,0): 0.537023, 0.10933, 0.296381, 0.954129, 0.864764,\n",
      "               (73,5): 0.821237, 0.368929, 0.222345, 0.57471, 0.721524,\n",
      "               (73,10): 0.78851, 0.571001, 0.11055, 0.61215, 0.982144,\n",
      "               (73,15): 0.251914, 0.494899, 0.923731, 0.849994, 0.195581,\n",
      "               (73,20): 0.440958, 0.0827092, 0.896094, 0.486036, 0.0362882,\n",
      "               (73,25): 0.159636, 0.88664, 0.626817, 0.662696, 0.587571,\n",
      "               (73,30): 0.879174, 0.681327, 0.69013, 0.493785, 0.679105,\n",
      "               (73,35): 0.41104, 0.816325, 0.403101, 0.0813954, 0.821607,\n",
      "               (73,40): 0.512714, 0.832067, 0.209251, 0.366188, 0.61575,\n",
      "               (73,45): 0.820237, 0.988558, 0.8131, 0.744753, 0.183297,\n",
      "               (74,0): 0.621928, 0.141883, 0.745996, 0.756853, 0.0933055,\n",
      "               (74,5): 0.174585, 0.116922, 0.960437, 0.655357, 0.119364,\n",
      "               (74,10): 0.977543, 0.593721, 0.855973, 0.833538, 0.0394844,\n",
      "               (74,15): 0.00923407, 0.155919, 0.468817, 0.782148, 0.0857745,\n",
      "               (74,20): 0.728447, 0.682544, 0.322056, 0.167702, 0.654129,\n",
      "               (74,25): 0.753407, 0.0517003, 0.178006, 0.427757, 0.683975,\n",
      "               (74,30): 0.254393, 0.636725, 0.745767, 0.106105, 0.501555,\n",
      "               (74,35): 0.200221, 0.288135, 0.0626279, 0.595852, 0.971569,\n",
      "               (74,40): 0.999623, 0.717899, 0.679305, 0.486537, 0.197616,\n",
      "               (74,45): 0.60942, 0.692393, 0.509737, 0.463998, 0.163774,\n",
      "               (75,0): 0.59216, 0.501462, 0.224731, 0.227838, 0.761804,\n",
      "               (75,5): 0.809075, 0.404648, 0.708991, 0.695543, 0.4689,\n",
      "               (75,10): 0.304274, 0.453892, 0.961256, 0.0755472, 0.616476,\n",
      "               (75,15): 0.274528, 0.632486, 0.562256, 0.0191013, 0.055818,\n",
      "               (75,20): 0.538894, 0.613824, 0.438748, 0.520764, 0.97998,\n",
      "               (75,25): 0.836812, 0.138638, 0.925753, 0.69948, 0.886387,\n",
      "               (75,30): 0.0216462, 0.0108401, 0.541109, 0.653039, 0.640737,\n",
      "               (75,35): 0.222007, 0.106275, 0.931831, 0.489532, 0.793466,\n",
      "               (75,40): 0.207717, 0.928967, 0.812791, 0.55314, 0.84337,\n",
      "               (75,45): 0.901919, 0.241838, 0.964874, 0.423542, 0.935942,\n",
      "               (76,0): 0.00828076, 0.621194, 0.0333965, 0.415639, 0.8457,\n",
      "               (76,5): 0.320946, 0.761109, 0.142106, 0.448887, 0.381002,\n",
      "               (76,10): 0.919894, 0.98388, 0.170446, 0.22313, 0.87046,\n",
      "               (76,15): 0.644804, 0.185754, 0.663411, 0.117682, 0.622543,\n",
      "               (76,20): 0.617984, 0.674901, 0.76565, 0.379162, 0.937547,\n",
      "               (76,25): 0.876947, 0.672451, 0.933599, 0.845687, 0.810998,\n",
      "               (76,30): 0.103997, 0.496458, 0.717115, 0.154588, 0.6682,\n",
      "               (76,35): 0.00614953, 0.54036, 0.416851, 0.0752952, 0.0700072,\n",
      "               (76,40): 0.392195, 0.719109, 0.0587348, 0.278679, 0.992016,\n",
      "               (76,45): 0.304794, 0.455961, 0.283779, 0.924555, 0.669998,\n",
      "               (77,0): 0.258358, 0.465669, 0.64255, 0.602014, 0.828264,\n",
      "               (77,5): 0.31797, 0.0467456, 0.660549, 0.0159848, 0.738419,\n",
      "               (77,10): 0.83964, 0.34593, 0.801801, 0.152648, 0.9013,\n",
      "               (77,15): 0.835177, 0.334263, 0.404261, 0.107414, 0.649728,\n",
      "               (77,20): 0.966097, 0.461003, 0.282701, 0.110065, 0.506118,\n",
      "               (77,25): 0.0544436, 0.00364761, 0.959222, 0.436046, 0.806704,\n",
      "               (77,30): 0.642108, 0.657085, 0.892, 0.974348, 0.431342,\n",
      "               (77,35): 0.89264, 0.225666, 0.524952, 0.677418, 0.949929,\n",
      "               (77,40): 0.0465345, 0.269183, 0.113991, 0.570639, 0.789873,\n",
      "               (77,45): 0.362848, 0.0102979, 0.545194, 0.408451, 0.616954,\n",
      "               (78,0): 0.0131047, 0.796207, 0.811067, 0.501613, 0.860751,\n",
      "               (78,5): 0.631748, 0.486875, 0.317033, 0.765598, 0.954972,\n",
      "               (78,10): 0.785957, 0.633023, 0.500009, 0.793755, 0.513426,\n",
      "               (78,15): 0.835483, 0.864517, 0.310636, 0.8165, 0.265438,\n",
      "               (78,20): 0.053131, 0.799927, 0.742339, 0.68079, 0.128678,\n",
      "               (78,25): 0.674331, 0.0228704, 0.0543132, 0.196904, 0.0853014,\n",
      "               (78,30): 0.934988, 0.618537, 0.578659, 0.901985, 0.244366,\n",
      "               (78,35): 0.759571, 0.199872, 0.37018, 0.125416, 0.501009,\n",
      "               (78,40): 0.779356, 0.573774, 0.288524, 0.656467, 0.080536,\n",
      "               (78,45): 0.343574, 0.977205, 0.426415, 0.757849, 0.0906945,\n",
      "               (79,0): 0.655774, 0.103166, 0.795534, 0.776092, 0.195202,\n",
      "               (79,5): 0.214293, 0.502465, 0.660459, 0.18966, 0.0784935,\n",
      "               (79,10): 0.522388, 0.96282, 0.210602, 0.511482, 0.511411,\n",
      "               (79,15): 0.58733, 0.456204, 0.76885, 0.807697, 0.336021,\n",
      "               (79,20): 0.656198, 0.355082, 0.698945, 0.0160177, 0.971708,\n",
      "               (79,25): 0.284537, 0.579887, 0.725023, 0.709035, 0.555167,\n",
      "               (79,30): 0.560418, 0.588268, 0.431466, 0.708653, 0.186179,\n",
      "               (79,35): 0.938313, 0.586461, 0.330788, 0.721151, 0.260652,\n",
      "               (79,40): 0.234608, 0.909748, 0.714637, 0.272682, 0.351522,\n",
      "               (79,45): 0.759877, 0.613343, 0.516099, 0.546534, 0.368987,\n",
      "               (80,0): 0.873941, 0.224138, 0.513229, 0.240449, 0.151524,\n",
      "               (80,5): 0.366885, 0.118184, 0.921594, 0.395151, 0.426028,\n",
      "               (80,10): 0.660848, 0.822329, 0.764279, 0.889143, 0.862639,\n",
      "               (80,15): 0.680435, 0.0339388, 0.524588, 0.0466019, 0.325684,\n",
      "               (80,20): 0.759329, 0.254432, 0.177916, 0.0161662, 0.475865,\n",
      "               (80,25): 0.501881, 0.444098, 0.951449, 0.984132, 0.0792852,\n",
      "               (80,30): 0.361609, 0.73922, 0.300245, 0.139956, 0.851799,\n",
      "               (80,35): 0.380538, 0.552119, 0.52504, 0.519024, 0.595378,\n",
      "               (80,40): 0.773714, 0.753268, 0.850804, 0.747917, 0.90264,\n",
      "               (80,45): 0.0905037, 0.474238, 0.181915, 0.451567, 0.559419,\n",
      "               (81,0): 0.547483, 0.0202848, 0.517048, 0.146112, 0.578247,\n",
      "               (81,5): 0.607847, 0.286247, 0.801197, 0.921288, 0.57817,\n",
      "               (81,10): 0.232821, 0.991838, 0.639691, 0.924311, 0.649538,\n",
      "               (81,15): 0.744831, 0.934977, 0.245842, 0.840479, 0.0716222,\n",
      "               (81,20): 0.202554, 0.929194, 0.909817, 0.772247, 0.33556,\n",
      "               (81,25): 0.424504, 0.118111, 0.979658, 0.398842, 0.58666,\n",
      "               (81,30): 0.97444, 0.344478, 0.555758, 0.276166, 0.850756,\n",
      "               (81,35): 0.130874, 0.97877, 0.393633, 0.34373, 0.159162,\n",
      "               (81,40): 0.643157, 0.964621, 0.571884, 0.799921, 0.218337,\n",
      "               (81,45): 0.591498, 0.918873, 0.0106135, 0.366719, 0.00525038,\n",
      "               (82,0): 0.208663, 0.0655141, 0.0592388, 0.641485, 0.12063,\n",
      "               (82,5): 0.137196, 0.0882748, 0.946861, 0.89763, 0.556193,\n",
      "               (82,10): 0.352337, 0.974656, 0.558358, 0.842184, 0.597704,\n",
      "               (82,15): 0.372495, 0.287375, 0.582245, 0.616601, 0.802756,\n",
      "               (82,20): 0.423036, 0.278322, 0.629541, 0.499133, 0.306501,\n",
      "               (82,25): 0.11024, 0.667332, 0.142562, 0.576132, 0.338342,\n",
      "               (82,30): 0.0173753, 0.158826, 0.0583714, 0.839908, 0.687167,\n",
      "               (82,35): 0.0259459, 0.176807, 0.158294, 0.675333, 0.648488,\n",
      "               (82,40): 0.629871, 0.302097, 0.659567, 0.121412, 0.984912,\n",
      "               (82,45): 0.5833, 0.322973, 0.225529, 0.746695, 0.48937,\n",
      "               (83,0): 0.0278179, 0.805458, 0.347221, 0.58536, 0.2038,\n",
      "               (83,5): 0.107233, 0.943962, 0.423582, 0.97043, 0.954973,\n",
      "               (83,10): 0.227619, 0.606685, 0.605263, 0.816421, 0.1172,\n",
      "               (83,15): 0.388146, 0.444298, 0.383391, 0.823789, 0.322734,\n",
      "               (83,20): 0.46866, 0.176313, 0.141023, 0.164865, 0.997093,\n",
      "               (83,25): 0.0095925, 0.937707, 0.164153, 0.794308, 0.471031,\n",
      "               (83,30): 0.231396, 0.472525, 0.379732, 0.623972, 0.958919,\n",
      "               (83,35): 0.223771, 0.229627, 0.168325, 0.940618, 0.76259,\n",
      "               (83,40): 0.319975, 0.191611, 0.461029, 0.675363, 0.418199,\n",
      "               (83,45): 0.676501, 0.0679824, 0.980424, 0.518061, 0.894386,\n",
      "               (84,0): 0.969425, 0.00743847, 0.530619, 0.46888, 0.615162,\n",
      "               (84,5): 0.762728, 0.616121, 0.969858, 0.796773, 0.710272,\n",
      "               (84,10): 0.272423, 0.397569, 0.749162, 0.38694, 0.488772,\n",
      "               (84,15): 0.927228, 0.243018, 0.0125467, 0.840929, 0.99025,\n",
      "               (84,20): 0.755668, 0.0535403, 0.459159, 0.564666, 0.371538,\n",
      "               (84,25): 0.986078, 0.351414, 0.973324, 0.669808, 0.443145,\n",
      "               (84,30): 0.881837, 0.944555, 0.580627, 0.0624839, 0.120794,\n",
      "               (84,35): 0.439774, 0.421341, 0.0129382, 0.530406, 0.481555,\n",
      "               (84,40): 0.813773, 0.903096, 0.360168, 0.805044, 0.670704,\n",
      "               (84,45): 0.768264, 0.665164, 0.0923099, 0.82577, 0.707484,\n",
      "               (85,0): 0.53012, 0.793687, 0.131849, 0.634673, 0.344115,\n",
      "               (85,5): 0.436405, 0.174174, 0.363098, 0.454204, 0.986907,\n",
      "               (85,10): 0.700373, 0.0173341, 0.871535, 0.184199, 0.365605,\n",
      "               (85,15): 0.664878, 0.43068, 0.850384, 0.551794, 0.695146,\n",
      "               (85,20): 0.120283, 0.964613, 0.273677, 0.34066, 0.495436,\n",
      "               (85,25): 0.943164, 0.389135, 0.0534666, 0.224336, 0.207517,\n",
      "               (85,30): 0.103221, 0.0737653, 0.317789, 0.237836, 0.392658,\n",
      "               (85,35): 0.586027, 0.676251, 0.920077, 0.0312063, 0.401634,\n",
      "               (85,40): 0.664159, 0.52493, 0.838949, 0.771843, 0.278579,\n",
      "               (85,45): 0.810113, 0.373869, 0.295122, 0.712331, 0.264335,\n",
      "               (86,0): 0.399477, 0.0523273, 0.614283, 0.292979, 0.804944,\n",
      "               (86,5): 0.552236, 0.686263, 0.834776, 0.833541, 0.989335,\n",
      "               (86,10): 0.655919, 0.117424, 0.0141883, 0.144136, 0.807505,\n",
      "               (86,15): 0.0453059, 0.980306, 0.223099, 0.502768, 0.0939042,\n",
      "               (86,20): 0.8271, 0.115757, 0.784811, 0.441941, 0.925055,\n",
      "               (86,25): 0.949362, 0.953437, 0.823882, 0.0469733, 0.910687,\n",
      "               (86,30): 0.564053, 0.899986, 0.662328, 0.322886, 0.763778,\n",
      "               (86,35): 0.296382, 0.0834602, 0.228987, 0.470324, 0.186202,\n",
      "               (86,40): 0.970561, 0.0755967, 0.344582, 0.606448, 0.555323,\n",
      "               (86,45): 0.680589, 0.407672, 0.366979, 0.0603717, 0.510328,\n",
      "               (87,0): 0.231389, 0.734999, 0.723855, 0.4134, 0.141264,\n",
      "               (87,5): 0.717332, 0.168968, 0.492303, 0.958032, 0.294838,\n",
      "               (87,10): 0.424219, 0.0046997, 0.986952, 0.61957, 0.166347,\n",
      "               (87,15): 0.580615, 0.542563, 0.564543, 0.528934, 0.661219,\n",
      "               (87,20): 0.810317, 0.0679577, 0.102872, 0.479763, 0.207577,\n",
      "               (87,25): 0.364054, 0.378421, 0.414196, 0.249963, 0.418312,\n",
      "               (87,30): 0.612575, 0.394039, 0.218874, 0.605341, 0.859723,\n",
      "               (87,35): 0.703693, 0.0905982, 0.34971, 0.933825, 0.977052,\n",
      "               (87,40): 0.680049, 0.976666, 0.73733, 0.332889, 0.498452,\n",
      "               (87,45): 0.889526, 0.866942, 0.72339, 0.165623, 0.114685,\n",
      "               (88,0): 0.292134, 0.123365, 0.332138, 0.472073, 0.925042,\n",
      "               (88,5): 0.288074, 0.503217, 0.781179, 0.679387, 0.807717,\n",
      "               (88,10): 0.141109, 0.644262, 0.991841, 0.892674, 0.947195,\n",
      "               (88,15): 0.473968, 0.684219, 0.61991, 0.992307, 0.512551,\n",
      "               (88,20): 0.325845, 0.181925, 0.319061, 0.191974, 0.848529,\n",
      "               (88,25): 0.91166, 0.951671, 0.750353, 0.270257, 0.387185,\n",
      "               (88,30): 0.990191, 0.581376, 0.262042, 0.620782, 0.542809,\n",
      "               (88,35): 0.512555, 0.611322, 0.522248, 0.331348, 0.293379,\n",
      "               (88,40): 0.323075, 0.760999, 0.842937, 0.579805, 0.763733,\n",
      "               (88,45): 0.644735, 0.046845, 0.565002, 0.959462, 0.660705,\n",
      "               (89,0): 0.429922, 0.182101, 0.344369, 0.786066, 0.922125,\n",
      "               (89,5): 0.660305, 0.690667, 0.636041, 0.507387, 0.432481,\n",
      "               (89,10): 0.590259, 0.129251, 0.773915, 0.605148, 0.0547371,\n",
      "               (89,15): 0.0914577, 0.00524216, 0.250174, 0.312826, 0.556757,\n",
      "               (89,20): 0.451672, 0.864924, 0.668974, 0.964726, 0.575488,\n",
      "               (89,25): 0.753401, 0.611539, 0.344918, 0.755837, 0.332153,\n",
      "               (89,30): 0.736589, 0.748535, 0.93944, 0.70483, 0.219169,\n",
      "               (89,35): 0.883376, 0.896584, 0.311217, 0.865928, 0.307035,\n",
      "               (89,40): 0.538512, 0.820804, 0.578938, 0.934834, 0.313911,\n",
      "               (89,45): 0.86936, 0.0475843, 0.654542, 0.131752, 0.535996,\n",
      "               (90,0): 0.990218, 0.10264, 0.527332, 0.14914, 0.770514,\n",
      "               (90,5): 0.279505, 0.817449, 0.355232, 0.352697, 0.790351,\n",
      "               (90,10): 0.190248, 0.834932, 0.893386, 0.0737853, 0.0691315,\n",
      "               (90,15): 0.431741, 0.122116, 0.314891, 0.458505, 0.000507469,\n",
      "               (90,20): 0.0916635, 0.795777, 0.630157, 0.929516, 0.160661,\n",
      "               (90,25): 0.816201, 0.423177, 0.0481503, 0.276499, 0.804138,\n",
      "               (90,30): 0.240738, 0.461135, 0.556229, 0.348684, 0.608851,\n",
      "               (90,35): 0.572946, 0.389432, 0.927727, 0.761997, 0.528821,\n",
      "               (90,40): 0.207652, 0.835945, 0.816089, 0.0564195, 0.37099,\n",
      "               (90,45): 0.700357, 0.312402, 0.281597, 0.0820733, 0.370725,\n",
      "               (91,0): 0.674079, 0.712824, 0.0463545, 0.164968, 0.623984,\n",
      "               (91,5): 0.0873574, 0.219064, 0.350602, 0.454244, 0.96158,\n",
      "               (91,10): 0.525022, 0.831438, 0.674146, 0.919551, 0.987127,\n",
      "               (91,15): 0.000448059, 0.0879086, 0.451325, 0.199658, 0.435693,\n",
      "               (91,20): 0.695885, 0.844377, 0.0404644, 0.68526, 0.0564164,\n",
      "               (91,25): 0.352822, 0.606409, 0.0852382, 0.0385737, 0.402764,\n",
      "               (91,30): 0.576482, 0.898898, 0.239048, 0.0454973, 0.59996,\n",
      "               (91,35): 0.284703, 0.0894612, 0.558869, 0.0892367, 0.925114,\n",
      "               (91,40): 0.22926, 0.539963, 0.387312, 0.446026, 0.482412,\n",
      "               (91,45): 0.0872358, 0.90308, 0.489788, 0.294696, 0.125065,\n",
      "               (92,0): 0.410803, 0.769852, 0.129576, 0.810896, 0.943224,\n",
      "               (92,5): 0.745206, 0.363426, 0.508694, 0.646711, 0.642542,\n",
      "               (92,10): 0.340503, 0.44768, 0.283583, 0.42071, 0.298261,\n",
      "               (92,15): 0.776949, 0.798535, 0.62337, 0.985051, 0.234574,\n",
      "               (92,20): 0.536167, 0.270549, 0.569592, 0.766386, 0.63952,\n",
      "               (92,25): 0.407264, 0.417685, 0.882349, 0.258926, 0.32672,\n",
      "               (92,30): 0.797108, 0.930148, 0.722199, 0.337547, 0.193652,\n",
      "               (92,35): 0.479711, 0.218468, 0.990288, 0.122262, 0.765558,\n",
      "               (92,40): 0.32189, 0.381613, 0.170891, 0.887145, 0.563538,\n",
      "               (92,45): 0.185365, 0.812153, 0.804931, 0.222519, 0.428263,\n",
      "               (93,0): 0.178889, 0.954009, 0.947569, 0.84421, 0.201741,\n",
      "               (93,5): 0.370539, 0.96014, 0.760262, 0.583568, 0.282448,\n",
      "               (93,10): 0.064445, 0.26764, 0.28053, 0.190119, 0.00523642,\n",
      "               (93,15): 0.479625, 0.875259, 0.944373, 0.228607, 0.541081,\n",
      "               (93,20): 0.405714, 0.430247, 0.478905, 0.104327, 0.621032,\n",
      "               (93,25): 0.649788, 0.0636748, 0.688797, 0.217988, 0.383656,\n",
      "               (93,30): 0.597025, 0.101779, 0.43782, 0.359007, 0.706166,\n",
      "               (93,35): 0.709323, 0.490858, 0.0894132, 0.443528, 0.595703,\n",
      "               (93,40): 0.44142, 0.559774, 0.420665, 0.529386, 0.100288,\n",
      "               (93,45): 0.885377, 0.62018, 0.868541, 0.969574, 0.834788,\n",
      "               (94,0): 0.578322, 0.942572, 0.757166, 0.454827, 0.6041,\n",
      "               (94,5): 0.978219, 0.179043, 0.174582, 0.80621, 0.968361,\n",
      "               (94,10): 0.304757, 0.998039, 0.63857, 0.465118, 0.678707,\n",
      "               (94,15): 0.207964, 0.423159, 0.15414, 0.547656, 0.866487,\n",
      "               (94,20): 0.734857, 0.182658, 0.598679, 0.393135, 0.0597462,\n",
      "               (94,25): 0.719921, 0.962793, 0.708058, 0.909948, 0.25377,\n",
      "               (94,30): 0.739322, 0.190777, 0.251131, 0.978961, 0.25669,\n",
      "               (94,35): 0.472735, 0.677578, 0.233446, 0.500881, 0.417114,\n",
      "               (94,40): 0.332554, 0.758787, 0.904273, 0.206075, 0.0769491,\n",
      "               (94,45): 0.875375, 0.433324, 0.0378134, 0.602858, 0.241966,\n",
      "               (95,0): 0.0499489, 0.146294, 0.902144, 0.950886, 0.792581,\n",
      "               (95,5): 0.360227, 0.393584, 0.623029, 0.403537, 0.184489,\n",
      "               (95,10): 0.210994, 0.886068, 0.388975, 0.30301, 0.777075,\n",
      "               (95,15): 0.86172, 0.596179, 0.629778, 0.751041, 0.00311388,\n",
      "               (95,20): 0.861472, 0.486003, 0.900156, 0.491178, 0.680934,\n",
      "               (95,25): 0.557525, 0.760654, 0.919451, 0.537813, 0.867872,\n",
      "               (95,30): 0.791116, 0.341204, 0.813693, 0.425423, 0.759744,\n",
      "               (95,35): 0.863764, 0.873834, 0.441486, 0.393078, 0.964168,\n",
      "               (95,40): 0.114135, 0.0138085, 0.147922, 0.577954, 0.904638,\n",
      "               (95,45): 0.970644, 0.358829, 0.633126, 0.129696, 0.424949,\n",
      "               (96,0): 0.521528, 0.393097, 0.32123, 0.236399, 0.45912,\n",
      "               (96,5): 0.450534, 0.41955, 0.765376, 0.685531, 0.259637,\n",
      "               (96,10): 0.268623, 0.651637, 0.164109, 0.591372, 0.926427,\n",
      "               (96,15): 0.164365, 0.900676, 0.609501, 0.491855, 0.254617,\n",
      "               (96,20): 0.926783, 0.977837, 0.319932, 0.211563, 0.843197,\n",
      "               (96,25): 0.354425, 0.711704, 0.585378, 0.0726654, 0.748804,\n",
      "               (96,30): 0.107067, 0.616451, 0.442047, 0.691819, 0.606838,\n",
      "               (96,35): 0.523287, 0.934891, 0.0282043, 0.791366, 0.839625,\n",
      "               (96,40): 0.709984, 0.887271, 0.670532, 0.371592, 0.266165,\n",
      "               (96,45): 0.858388, 0.69429, 0.925335, 0.440362, 0.830884,\n",
      "               (97,0): 0.289414, 0.755069, 0.715366, 0.569024, 0.99187,\n",
      "               (97,5): 0.342841, 0.154466, 0.984586, 0.699058, 0.156531,\n",
      "               (97,10): 0.932952, 0.744743, 0.278936, 0.736575, 0.366159,\n",
      "               (97,15): 0.766534, 0.254364, 0.223293, 0.912299, 0.105545,\n",
      "               (97,20): 0.798054, 0.473509, 0.869259, 0.63748, 0.548569,\n",
      "               (97,25): 0.597662, 0.314129, 0.616455, 0.391302, 0.518797,\n",
      "               (97,30): 0.438715, 0.672947, 0.919071, 0.00730122, 0.630021,\n",
      "               (97,35): 0.380485, 0.574873, 0.121623, 0.0962573, 0.387311,\n",
      "               (97,40): 0.362775, 0.394493, 0.113704, 0.718552, 0.0671767,\n",
      "               (97,45): 0.469239, 0.695242, 0.694948, 0.395056, 0.0390662,\n",
      "               (98,0): 0.760985, 0.0145723, 0.572379, 0.586112, 0.852688,\n",
      "               (98,5): 0.394533, 0.773553, 0.131246, 0.531295, 0.659606,\n",
      "               (98,10): 0.32923, 0.0288845, 0.086479, 0.768781, 0.0899073,\n",
      "               (98,15): 0.820373, 0.467948, 0.477478, 0.177392, 0.886364,\n",
      "               (98,20): 0.932019, 0.794898, 0.207694, 0.297289, 0.17951,\n",
      "               (98,25): 0.211524, 0.579366, 0.816059, 0.859286, 0.798317,\n",
      "               (98,30): 0.212008, 0.846878, 0.977361, 0.902773, 0.832531,\n",
      "               (98,35): 0.152226, 0.653245, 0.129322, 0.0384235, 0.956586,\n",
      "               (98,40): 0.425765, 0.103003, 0.334376, 0.0816081, 0.693211,\n",
      "               (98,45): 0.249292, 0.443793, 0.518014, 0.833139, 0.022624,\n",
      "               (99,0): 0.549634, 0.497712, 0.903373, 0.42688, 0.131637,\n",
      "               (99,5): 0.154172, 0.90271, 0.546968, 0.198988, 0.378995,\n",
      "               (99,10): 0.40417, 0.517758, 0.196843, 0.221878, 0.40624,\n",
      "               (99,15): 0.175841, 0.697676, 0.759934, 0.373396, 0.902904,\n",
      "               (99,20): 0.0418491, 0.787642, 0.102116, 0.392125, 0.389375,\n",
      "               (99,25): 0.814321, 0.64489, 0.698455, 0.630424, 0.842848,\n",
      "               (99,30): 0.835926, 0.341493, 0.219133, 0.0532729, 0.809348,\n",
      "               (99,35): 0.332441, 0.556442, 0.0937201, 0.862896, 0.360447,\n",
      "               (99,40): 0.479804, 0.87606, 0.064398, 0.408565, 0.608627,\n",
      "               (99,45): 0.638211, 0.606488, 0.808099, 0.603579, 0.225413\n",
      "               }\n",
      "               ATTRIBUTE \"Recorded on\" {\n",
      "                  DATATYPE  H5T_STRING {\n",
      "                     STRSIZE H5T_VARIABLE;\n",
      "                     STRPAD H5T_STR_NULLTERM;\n",
      "                     CSET H5T_CSET_UTF8;\n",
      "                     CTYPE H5T_C_S1;\n",
      "                  }\n",
      "                  DATASPACE  SCALAR\n",
      "                  DATA {\n",
      "                  (0): \"25th November 2017\"\n",
      "                  }\n",
      "               }\n",
      "               ATTRIBUTE \"Unit\" {\n",
      "                  DATATYPE  H5T_STRING {\n",
      "                     STRSIZE H5T_VARIABLE;\n",
      "                     STRPAD H5T_STR_NULLTERM;\n",
      "                     CSET H5T_CSET_UTF8;\n",
      "                     CTYPE H5T_C_S1;\n",
      "                  }\n",
      "                  DATASPACE  SCALAR\n",
      "                  DATA {\n",
      "                  (0): \"\\37777777702\\37777777660C\"\n",
      "                  }\n",
      "               }\n",
      "            }\n",
      "         }\n",
      "      }\n",
      "   }\n",
      "}\n",
      "}\n"
     ]
    }
   ],
   "source": [
    "!h5dump 'data/h5py-groups-datasets-attributes.h5'\n",
    "\n",
    "# -n stand for 'contents'\n",
    "# !h5dump -n 'data/h5py-groups-datasets-attributes.h5'\n",
    "\n",
    "# -H stand for 'header'\n",
    "# !h5dump -H 'data/h5py-groups-datasets-attributes.h5'"
   ]
  },
  {
   "cell_type": "code",
   "execution_count": 43,
   "metadata": {},
   "outputs": [
    {
     "name": "stdout",
     "output_type": "stream",
     "text": [
      "Filename: data/h5py-groups-datasets-attributes.h5\r\n",
      "File information\r\n",
      "\t# of unique groups: 4\r\n",
      "\t# of unique datasets: 2\r\n",
      "\t# of unique named datatypes: 0\r\n",
      "\t# of unique links: 0\r\n",
      "\t# of unique other: 0\r\n",
      "\tMax. # of links to object: 1\r\n",
      "\tMax. # of objects in group: 2\r\n",
      "File space information for file metadata (in bytes):\r\n",
      "\tSuperblock extension: 0\r\n",
      "\tUser block: 0\r\n",
      "\tObject headers: (total/unused)\r\n",
      "\t\tGroups: 384/48\r\n",
      "\t\tDatasets(exclude compact data): 752/104\r\n",
      "\t\tDatatypes: 0/0\r\n",
      "\tGroups:\r\n",
      "\t\tB-tree/List: 3488\r\n",
      "\t\tHeap: 480\r\n",
      "\tAttributes:\r\n",
      "\t\tB-tree/List: 0\r\n",
      "\t\tHeap: 0\r\n",
      "\tChunked datasets:\r\n",
      "\t\tIndex: 0\r\n",
      "\tDatasets:\r\n",
      "\t\tHeap: 0\r\n",
      "\tShared Messages:\r\n",
      "\t\tHeader: 0\r\n",
      "\t\tB-tree/List: 0\r\n",
      "\t\tHeap: 0\r\n",
      "Small groups (with 0 to 9 links):\r\n",
      "\t# of groups with 1 link(s): 3\r\n",
      "\t# of groups with 2 link(s): 1\r\n",
      "\tTotal # of small groups: 4\r\n",
      "Group bins:\r\n",
      "\t# of groups with 1 - 9 links: 4\r\n",
      "\tTotal # of groups: 4\r\n",
      "Dataset dimension information:\r\n",
      "\tMax. rank of datasets: 2\r\n",
      "\tDataset ranks:\r\n",
      "\t\t# of dataset with rank 1: 1\r\n",
      "\t\t# of dataset with rank 2: 1\r\n",
      "1-D Dataset information:\r\n",
      "\tMax. dimension size of 1-D datasets: 200\r\n",
      "\tSmall 1-D datasets (with dimension sizes 0 to 9):\r\n",
      "\t\tTotal # of small datasets: 0\r\n",
      "\t1-D Dataset dimension bins:\r\n",
      "\t\t# of datasets with dimension size 100 - 999: 1\r\n",
      "\t\tTotal # of datasets: 1\r\n",
      "Dataset storage information:\r\n",
      "\tTotal raw data size: 21600\r\n",
      "\tTotal external raw data size: 0\r\n",
      "Dataset layout information:\r\n",
      "\tDataset layout counts[COMPACT]: 0\r\n",
      "\tDataset layout counts[CONTIG]: 2\r\n",
      "\tDataset layout counts[CHUNKED]: 0\r\n",
      "\tNumber of external files : 0\r\n",
      "Dataset filters information:\r\n",
      "\tNumber of datasets with:\r\n",
      "\t\tNO filter: 2\r\n",
      "\t\tGZIP filter: 0\r\n",
      "\t\tSHUFFLE filter: 0\r\n",
      "\t\tFLETCHER32 filter: 0\r\n",
      "\t\tSZIP filter: 0\r\n",
      "\t\tNBIT filter: 0\r\n",
      "\t\tSCALEOFFSET filter: 0\r\n",
      "\t\tUSER-DEFINED filter: 0\r\n",
      "Dataset datatype information:\r\n",
      "\t# of unique datatypes used by datasets: 2\r\n",
      "\tDataset datatype #0:\r\n",
      "\t\tCount (total/named) = (1/0)\r\n",
      "\t\tSize (desc./elmt) = (22/8)\r\n",
      "\tDataset datatype #1:\r\n",
      "\t\tCount (total/named) = (1/0)\r\n",
      "\t\tSize (desc./elmt) = (22/4)\r\n",
      "\tTotal dataset datatype count: 2\r\n",
      "Small # of attributes (objects with 1 to 10 attributes):\r\n",
      "\t# of objects with 1 attributes: 2\r\n",
      "\t# of objects with 2 attributes: 2\r\n",
      "\tTotal # of objects with small # of attributes: 4\r\n",
      "Attribute bins:\r\n",
      "\t# of objects with 1 - 9 attributes: 4\r\n",
      "\tTotal # of objects with attributes: 4\r\n",
      "\tMax. # of attributes to objects: 2\r\n",
      "Summary of file space information:\r\n",
      "  File metadata: 5104 bytes\r\n",
      "  Raw data: 21600 bytes\r\n",
      "  Unaccounted space: 4208 bytes\r\n",
      "Total space: 30912 bytes\r\n"
     ]
    }
   ],
   "source": [
    "!h5stat 'data/h5py-groups-datasets-attributes.h5'"
   ]
  },
  {
   "cell_type": "markdown",
   "metadata": {},
   "source": [
    "# HDF5 viewers"
   ]
  },
  {
   "cell_type": "markdown",
   "metadata": {},
   "source": [
    "Open the `.h5` file with [HDF View](https://support.hdfgroup.org/products/java/hdfview/), [HDF Compass](https://support.hdfgroup.org/projects/compass/) or [ViTables](http://vitables.org/). I like HDF View."
   ]
  },
  {
   "cell_type": "markdown",
   "metadata": {},
   "source": [
    "# Reference"
   ]
  },
  {
   "cell_type": "markdown",
   "metadata": {},
   "source": [
    "- [Introduction to HDF5](https://www.youtube.com/watch?v=BAjsCldRMMc) by Quincey Koziol\n",
    "- [HDF5 is Eating the World](https://www.youtube.com/watch?v=nddj5OA8LJo) by Andrew Collette\n",
    "- [HDF5 take 2 - h5py & PyTables](https://www.youtube.com/watch?v=ofLFhQ9yxCw) by Tom Kooij\n",
    "- [h5py documentation](http://docs.h5py.org/en/latest/)\n",
    "- [PyTables documentation](http://www.pytables.org/index.html)"
   ]
  }
 ],
 "metadata": {
  "kernelspec": {
   "display_name": "Python 3",
   "language": "python",
   "name": "python3"
  },
  "language_info": {
   "codemirror_mode": {
    "name": "ipython",
    "version": 3
   },
   "file_extension": ".py",
   "mimetype": "text/x-python",
   "name": "python",
   "nbconvert_exporter": "python",
   "pygments_lexer": "ipython3",
   "version": "3.6.3"
  }
 },
 "nbformat": 4,
 "nbformat_minor": 1
}
